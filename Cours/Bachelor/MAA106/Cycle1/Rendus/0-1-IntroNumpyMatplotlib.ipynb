{
 "cells": [
  {
   "cell_type": "markdown",
   "metadata": {},
   "source": [
    "<img src='./figures/logo-ecole-polytechnique-ve.jpg' style='position:absolute; top:0; right:0;' width='100px' height='' alt='' />\n",
    "\n",
    "<center><b>Bachelor of Ecole Polytechnique</b></center>\n",
    "<center>Computational Mathematics, year 1, semester 2</center>\n",
    "<center>Author: Aline Lefebvre-Lepot</center>\n",
    "\n",
    "# Introduction to Numpy and Matplotlib\n",
    "\n",
    "\n",
    "&nbsp;\n",
    "<center>\n",
    "<img src=\"./figures/numpy.jpeg\" alt=\"Numpy_logo\" style=\"display:inline-block;\"/> &nbsp; &nbsp; &nbsp; &nbsp;&nbsp; &nbsp; &nbsp; &nbsp;\n",
    "<img src=\"./figures/matplotlib.png\" alt=\"Matplotlib_logo\" style=\"display:inline-block;\"/>\n",
    "</center>\n",
    "&nbsp;"
   ]
  },
  {
   "cell_type": "markdown",
   "metadata": {},
   "source": [
    "<div markdown=1 class=Abstract>\n",
    "This tutorial gives a quick overview on how to use the python packages Numpy and Matplotlib."
   ]
  },
  {
   "cell_type": "markdown",
   "metadata": {},
   "source": [
    "## Table of contents\n",
    "\n",
    "- [Numpy](#Numpy)\n",
    "- [Matplotlib](#Matplotlib)\n"
   ]
  },
  {
   "cell_type": "markdown",
   "metadata": {},
   "source": [
    "<a id=\"Numpy\"></a>\n",
    "## Numpy"
   ]
  },
  {
   "cell_type": "markdown",
   "metadata": {},
   "source": [
    "**NumPy** is the fundamental package for scientific computing with Python (see http://www.numpy.org/). It contains powerful N-dimensional array objects, linear algebra, fourier transform, random numbers and also sofisticated tools for integrating C++ and Fortran code.\n",
    "\n",
    "In this class, we are going to use this package essentially to manipulate arrays. Lot of documentations about numpy can be found on the web, we give below basic examples that will be usefull in the following.\n",
    "\n",
    "First, you need to import the numpy package:"
   ]
  },
  {
   "cell_type": "code",
   "execution_count": 2,
   "metadata": {},
   "outputs": [],
   "source": [
    "import numpy as np\n",
    "import time\n",
    "import timeit"
   ]
  },
  {
   "cell_type": "markdown",
   "metadata": {},
   "source": [
    "### Creating arrays"
   ]
  },
  {
   "cell_type": "code",
   "execution_count": 3,
   "metadata": {},
   "outputs": [
    {
     "name": "stdout",
     "output_type": "stream",
     "text": [
      "a = [0 1 2 3]\n",
      "a.shape = (4,)\n",
      "a.size = 4\n"
     ]
    }
   ],
   "source": [
    "# One-dimensional arrays\n",
    "a = np.array([0, 1, 2, 3])\n",
    "print('a =',a)\n",
    "print('a.shape =',a.shape)\n",
    "print('a.size =',a.size)"
   ]
  },
  {
   "cell_type": "code",
   "execution_count": 4,
   "metadata": {},
   "outputs": [
    {
     "name": "stdout",
     "output_type": "stream",
     "text": [
      "a = [[0 1 2 3]\n",
      " [4 5 6 7]]\n",
      "a.shape = (2, 4)\n",
      "a.size = 8\n"
     ]
    }
   ],
   "source": [
    "# Two-dimensional arrays\n",
    "L1 = [0, 1, 2, 3]\n",
    "L2 = [4, 5, 6, 7]\n",
    "a = np.array([L1, L2])\n",
    "print('a =', a)\n",
    "print('a.shape =', a.shape)\n",
    "print('a.size =', a.size)"
   ]
  },
  {
   "cell_type": "markdown",
   "metadata": {},
   "source": [
    "You can use tabulation in notebooks for autocompletion or to obtain the list of possible completions. You can also obtain interactive help:"
   ]
  },
  {
   "cell_type": "code",
   "execution_count": 7,
   "metadata": {},
   "outputs": [
    {
     "data": {
      "text/plain": [
       "<function numpy.core.multiarray.array>"
      ]
     },
     "execution_count": 7,
     "metadata": {},
     "output_type": "execute_result"
    }
   ],
   "source": [
    "np.array"
   ]
  },
  {
   "cell_type": "markdown",
   "metadata": {},
   "source": [
    "There exists several functions to create arrays:"
   ]
  },
  {
   "cell_type": "code",
   "execution_count": 8,
   "metadata": {},
   "outputs": [
    {
     "name": "stdout",
     "output_type": "stream",
     "text": [
      "c = [0.  0.2 0.4 0.6 0.8 1. ]\n"
     ]
    }
   ],
   "source": [
    "# imposing the number of elements\n",
    "c = np.linspace(0, 1, 6)   # start, end, num-points\n",
    "print('c =', c)"
   ]
  },
  {
   "cell_type": "code",
   "execution_count": 9,
   "metadata": {},
   "outputs": [
    {
     "name": "stdout",
     "output_type": "stream",
     "text": [
      "a = [0 1 2 3 4 5 6 7 8 9]\n",
      "b = [1 3 5 7]\n",
      "c = [1.  1.1 1.2 1.3 1.4 1.5 1.6 1.7 1.8 1.9]\n"
     ]
    }
   ],
   "source": [
    "# imposing the step between the elements\n",
    "a = np.arange(10) # 0 .. n-1  (!) step=1\n",
    "b = np.arange(1, 9, 2) # start, end (exclusive), step\n",
    "c = np.arange(1, 2, 0.1) # start, end (exclusive), step\n",
    "print('a =', a)\n",
    "print('b =', b)\n",
    "print('c =', c)"
   ]
  },
  {
   "cell_type": "code",
   "execution_count": 10,
   "metadata": {},
   "outputs": [
    {
     "name": "stdout",
     "output_type": "stream",
     "text": [
      "a = [0. 0.]\n",
      "b = [1. 1. 1.]\n",
      "c = [[0. 0. 0.]\n",
      " [0. 0. 0.]]\n"
     ]
    }
   ],
   "source": [
    "# classical array with given size\n",
    "a = np.zeros(2) # 1 dimensional, num-elements\n",
    "b = np.ones(3) # 1 dimensional, num-elements\n",
    "c = np.zeros((2, 3)) # 2-dimensional, tuple (num-lines, num-columns)\n",
    "print('a =', a)\n",
    "print('b =', b)\n",
    "print('c =', c)"
   ]
  },
  {
   "cell_type": "code",
   "execution_count": 14,
   "metadata": {},
   "outputs": [
    {
     "name": "stdout",
     "output_type": "stream",
     "text": [
      "a = [0.9368484  0.85306723 0.49921362 0.8807206 ]\n",
      "b = [ 0.68940239 -0.91236343 -0.32971745  1.13402723]\n"
     ]
    }
   ],
   "source": [
    "# random initialization\n",
    "a = np.random.rand(4) # uniform in [0,1]\n",
    "b = np.random.randn(4) # gaussian\n",
    "print('a =', a)\n",
    "print('b =', b)"
   ]
  },
  {
   "cell_type": "markdown",
   "metadata": {},
   "source": [
    "<div markdown=1 class=DoIt>\n",
    "\n",
    "- Create a null vector of size 10.\n",
    "- Create a vector with values ranging from 10 to 49.\n",
    "- create a vector with values ranging from 0 to 1 with 100 points. \n",
    "- Create a 3x3 random matrix.\n",
    "- print the shape of the previous arrays."
   ]
  },
  {
   "cell_type": "code",
   "execution_count": 41,
   "metadata": {},
   "outputs": [
    {
     "name": "stdout",
     "output_type": "stream",
     "text": [
      "[0. 0. 0. 0. 0. 0. 0. 0. 0. 0.]\n",
      "[0 0 0 0 0 0 0 0 0 0]\n",
      "[10 11 12 13 14 15 16 17 18 19 20 21 22 23 24 25 26 27 28 29 30 31 32 33\n",
      " 34 35 36 37 38 39 40 41 42 43 44 45 46 47 48 49]\n",
      "[0.         0.01010101 0.02020202 0.03030303 0.04040404 0.05050505\n",
      " 0.06060606 0.07070707 0.08080808 0.09090909 0.1010101  0.11111111\n",
      " 0.12121212 0.13131313 0.14141414 0.15151515 0.16161616 0.17171717\n",
      " 0.18181818 0.19191919 0.2020202  0.21212121 0.22222222 0.23232323\n",
      " 0.24242424 0.25252525 0.26262626 0.27272727 0.28282828 0.29292929\n",
      " 0.3030303  0.31313131 0.32323232 0.33333333 0.34343434 0.35353535\n",
      " 0.36363636 0.37373737 0.38383838 0.39393939 0.4040404  0.41414141\n",
      " 0.42424242 0.43434343 0.44444444 0.45454545 0.46464646 0.47474747\n",
      " 0.48484848 0.49494949 0.50505051 0.51515152 0.52525253 0.53535354\n",
      " 0.54545455 0.55555556 0.56565657 0.57575758 0.58585859 0.5959596\n",
      " 0.60606061 0.61616162 0.62626263 0.63636364 0.64646465 0.65656566\n",
      " 0.66666667 0.67676768 0.68686869 0.6969697  0.70707071 0.71717172\n",
      " 0.72727273 0.73737374 0.74747475 0.75757576 0.76767677 0.77777778\n",
      " 0.78787879 0.7979798  0.80808081 0.81818182 0.82828283 0.83838384\n",
      " 0.84848485 0.85858586 0.86868687 0.87878788 0.88888889 0.8989899\n",
      " 0.90909091 0.91919192 0.92929293 0.93939394 0.94949495 0.95959596\n",
      " 0.96969697 0.97979798 0.98989899 1.        ]\n",
      "[[0.01821099 0.42442742 0.36928887]\n",
      " [0.59093243 0.12764247 0.78882612]\n",
      " [0.21488231 0.2717873  0.11141023]]\n",
      "[[-0.9125897   1.6280237  -0.58779911]\n",
      " [-0.0185351  -0.16140196 -1.27317743]\n",
      " [ 1.2134055  -0.92378947 -0.54340843]]\n",
      "9\n",
      "9\n"
     ]
    }
   ],
   "source": [
    "#1\n",
    "print(np.zeros(10))\n",
    "print(np.array([0,0,0,0,0,0,0,0,0,0]))\n",
    "#2\n",
    "print(np.arange(10, 50))\n",
    "#3\n",
    "print(np.linspace(0,1,100))\n",
    "#4\n",
    "mat1 = np.random.rand(3,3)\n",
    "mat2 = np.random.randn(3,3)    #Gaussian/normal distribution\n",
    "print(mat1)\n",
    "print(mat2)\n",
    "#5\n",
    "print(np.size(mat1))\n",
    "print(np.size(mat2))"
   ]
  },
  {
   "cell_type": "markdown",
   "metadata": {},
   "source": [
    "### Indexing of arrays"
   ]
  },
  {
   "cell_type": "markdown",
   "metadata": {},
   "source": [
    "The elements are indexed from 0:\n",
    "- the first element has index 0\n",
    "- the second element has index 1 etc...\n",
    "\n",
    "The elements can also been indexed from the end:\n",
    "- the last element can be obtained using index -1\n",
    "- the second to last can be obtained using index -2 etc..."
   ]
  },
  {
   "cell_type": "code",
   "execution_count": 15,
   "metadata": {},
   "outputs": [
    {
     "name": "stdout",
     "output_type": "stream",
     "text": [
      "a = [0 1 2 3 4 5 6 7]\n",
      "elements = 0 4 7 5\n"
     ]
    }
   ],
   "source": [
    "# One dimensional arrays\n",
    "a = np.arange(8)\n",
    "print('a =', a)\n",
    "print('elements =', a[0], a[4], a[-1], a[-3])  # extract an elements, 0 = first, 1 = second..., -1 = last"
   ]
  },
  {
   "cell_type": "code",
   "execution_count": 16,
   "metadata": {},
   "outputs": [
    {
     "name": "stdout",
     "output_type": "stream",
     "text": [
      "[[ 0  1  2  3  4  5]\n",
      " [10 11 12 13 14 15]]\n",
      "element = 13\n",
      "column = [ 2 12]\n",
      "line = [10 11 12 13 14 15]\n"
     ]
    }
   ],
   "source": [
    "# Two dimensional arrays\n",
    "L1 = [0, 1, 2, 3, 4, 5]\n",
    "L2 = [10, 11, 12, 13, 14, 15]\n",
    "a = np.array([L1, L2])\n",
    "print(a)\n",
    "print('element =', a[1, 3]) # extract an element, 0 = beginning, -1 = end (2nd line, 4th column) \n",
    "print('column =', a[:, 2]) # extract a column, 0 = beginning, -1 = end\n",
    "print('line =', a[1, :]) # extract a line, 0 = beginning, -1 = end"
   ]
  },
  {
   "cell_type": "markdown",
   "metadata": {},
   "source": [
    "### Slicing of arrays"
   ]
  },
  {
   "cell_type": "markdown",
   "metadata": {},
   "source": [
    "Slicing of arrays is based on the following indexing where [: is the default start and :] the default end. Except if using the default end, the last element is excluded from the selection.\n",
    "\n",
    "<center>\n",
    "<img src=\"figures/accesElem.png\" style=\"width: 30%;\" />\n",
    "</center>\n",
    "\n"
   ]
  },
  {
   "cell_type": "code",
   "execution_count": null,
   "metadata": {},
   "outputs": [],
   "source": [
    "# Slicing one dimensional arrays\n",
    "a = np.arange(10)\n",
    "print('a =', a)\n",
    "#print('extract 1 =', a[1:7:2])   # start, end (exclusive), step\n",
    "#print('extract 2 =', a[1:7:])    # default step = 1\n",
    "#print('extract 3 =', a[:7:2])    # default start = first element (= 0)\n",
    "#print('extract 4 =', a[3::1])    # default end = until last element \n",
    "#print('extract 5 =', a[3:-1:1])  # !!! if end = -1, the last element is excluded (see figure)\n",
    "#print('extract 6 =', a[6:2:-1])  # negative step\n",
    "\n",
    "# short commands:\n",
    "#print('extract 7 =', a[1:7])     # same result that extract 2: default step=1\n",
    "#print('extract 8 =', a[3:])      # same result that extract 4: default step=1, default end=last element\n",
    "#print('extract 9 =', a[:3])      # default step=1, default start=1st element"
   ]
  },
  {
   "cell_type": "code",
   "execution_count": null,
   "metadata": {},
   "outputs": [],
   "source": [
    "# Slicing two dimensional arrays\n",
    "L1 = [0, 1, 2, 3, 4, 5]\n",
    "L2 = [10, 11, 12, 13, 14, 15]\n",
    "a = np.array([L1, L2])\n",
    "print('extract =', a[0, ::2])"
   ]
  },
  {
   "cell_type": "code",
   "execution_count": null,
   "metadata": {},
   "outputs": [],
   "source": [
    "# slicing can be used for affectation\n",
    "a = np.zeros(10)\n",
    "a[::2] = 1\n",
    "print('a =', a)"
   ]
  },
  {
   "cell_type": "markdown",
   "metadata": {},
   "source": [
    "<div markdown=1 class=DoIt>\n",
    "\n",
    "- Create a 2-d array of size 10x10, with 1 on the borders and 0 inside."
   ]
  },
  {
   "cell_type": "code",
   "execution_count": 52,
   "metadata": {},
   "outputs": [
    {
     "name": "stdout",
     "output_type": "stream",
     "text": [
      "[[1. 1. 1. 1. 1. 1. 1. 1. 1. 1.]\n",
      " [1. 0. 0. 0. 0. 0. 0. 0. 0. 1.]\n",
      " [1. 0. 0. 0. 0. 0. 0. 0. 0. 1.]\n",
      " [1. 0. 0. 0. 0. 0. 0. 0. 0. 1.]\n",
      " [1. 0. 0. 0. 0. 0. 0. 0. 0. 1.]\n",
      " [1. 0. 0. 0. 0. 0. 0. 0. 0. 1.]\n",
      " [1. 0. 0. 0. 0. 0. 0. 0. 0. 1.]\n",
      " [1. 0. 0. 0. 0. 0. 0. 0. 0. 1.]\n",
      " [1. 0. 0. 0. 0. 0. 0. 0. 0. 1.]\n",
      " [1. 1. 1. 1. 1. 1. 1. 1. 1. 1.]]\n"
     ]
    }
   ],
   "source": [
    "mat3 = np.ones((10,10))\n",
    "mat3[1:-1, 1:-1] = 0\n",
    "print(mat3)"
   ]
  },
  {
   "cell_type": "markdown",
   "metadata": {},
   "source": [
    "<div markdown=1 class=DoIt>\n",
    "\n",
    "- Create a 8x8 matrix and fill it with a checkerboard pattern."
   ]
  },
  {
   "cell_type": "code",
   "execution_count": 36,
   "metadata": {},
   "outputs": [
    {
     "name": "stdout",
     "output_type": "stream",
     "text": [
      "[[1. 0. 1. 0. 1. 0. 1. 0.]\n",
      " [0. 1. 0. 1. 0. 1. 0. 1.]\n",
      " [1. 0. 1. 0. 1. 0. 1. 0.]\n",
      " [0. 1. 0. 1. 0. 1. 0. 1.]\n",
      " [1. 0. 1. 0. 1. 0. 1. 0.]\n",
      " [0. 1. 0. 1. 0. 1. 0. 1.]\n",
      " [1. 0. 1. 0. 1. 0. 1. 0.]\n",
      " [0. 1. 0. 1. 0. 1. 0. 1.]]\n"
     ]
    }
   ],
   "source": [
    "mat4 = np.zeros((8,8))\n",
    "mat4[::2,::2] = 1\n",
    "mat4[1::2,1::2] = 1\n",
    "print(mat4)"
   ]
  },
  {
   "cell_type": "markdown",
   "metadata": {},
   "source": [
    "<div markdown=1 class=DoIt>\n",
    "\n",
    "- Create a random vector of size 5 and exchange the max and min values"
   ]
  },
  {
   "cell_type": "code",
   "execution_count": 19,
   "metadata": {},
   "outputs": [
    {
     "name": "stdout",
     "output_type": "stream",
     "text": [
      "88 22\n",
      "[[0.42704507 0.09542414 0.50950759 0.40739575 0.9655101  0.87489187\n",
      "  0.58702053 0.28966797 0.30688109 0.12385162]\n",
      " [0.28555993 0.88167531 0.24411876 0.80856029 0.82368307 0.7582012\n",
      "  0.28567623 0.39998852 0.75352936 0.23375588]\n",
      " [0.81415811 0.26994289 0.01543711 0.09810134 0.45417877 0.55093993\n",
      "  0.0549641  0.68197143 0.57941226 0.74512954]\n",
      " [0.45648186 0.75174271 0.80955284 0.75638423 0.65755789 0.60388529\n",
      "  0.12936056 0.32198766 0.01668602 0.93159428]\n",
      " [0.24410105 0.30670914 0.18559528 0.89577132 0.21637861 0.37755607\n",
      "  0.5468734  0.65134629 0.70440007 0.47234006]\n",
      " [0.70741101 0.92987425 0.19027045 0.66398943 0.02484438 0.547236\n",
      "  0.23079649 0.5020875  0.35849472 0.33800169]\n",
      " [0.63707129 0.31793589 0.42444407 0.71874194 0.45122723 0.3282205\n",
      "  0.76176955 0.16774774 0.25585361 0.03965122]\n",
      " [0.13438606 0.97523781 0.87344037 0.6750279  0.95972642 0.22523005\n",
      "  0.28258513 0.85095812 0.90916366 0.73265138]\n",
      " [0.84927306 0.03458817 0.15632388 0.14037884 0.17630872 0.72901046\n",
      "  0.50408757 0.31280683 0.98930196 0.41372909]\n",
      " [0.82971509 0.06359386 0.73629993 0.98207336 0.87967984 0.98250212\n",
      "  0.39711451 0.70252133 0.2862408  0.43173889]]\n",
      "624 ns ± 12.3 ns per loop (mean ± std. dev. of 7 runs, 1000000 loops each)\n",
      "1.29 µs ± 19.6 ns per loop (mean ± std. dev. of 7 runs, 1000000 loops each)\n",
      "663 ns ± 5.33 ns per loop (mean ± std. dev. of 7 runs, 1000000 loops each)\n",
      "[[0.42704507 0.09542414 0.50950759 0.40739575 0.9655101  0.87489187\n",
      "  0.58702053 0.28966797 0.30688109 0.12385162]\n",
      " [0.28555993 0.88167531 0.24411876 0.80856029 0.82368307 0.7582012\n",
      "  0.28567623 0.39998852 0.75352936 0.23375588]\n",
      " [0.81415811 0.26994289 0.99390825 0.09810134 0.45417877 0.55093993\n",
      "  0.0549641  0.68197143 0.57941226 0.74512954]\n",
      " [0.45648186 0.75174271 0.80955284 0.75638423 0.65755789 0.60388529\n",
      "  0.12936056 0.32198766 0.01668602 0.93159428]\n",
      " [0.24410105 0.30670914 0.18559528 0.89577132 0.21637861 0.37755607\n",
      "  0.5468734  0.65134629 0.70440007 0.47234006]\n",
      " [0.70741101 0.92987425 0.19027045 0.66398943 0.02484438 0.547236\n",
      "  0.23079649 0.5020875  0.35849472 0.33800169]\n",
      " [0.63707129 0.31793589 0.42444407 0.71874194 0.45122723 0.3282205\n",
      "  0.76176955 0.16774774 0.25585361 0.03965122]\n",
      " [0.13438606 0.97523781 0.87344037 0.6750279  0.95972642 0.22523005\n",
      "  0.28258513 0.85095812 0.90916366 0.73265138]\n",
      " [0.84927306 0.03458817 0.15632388 0.14037884 0.17630872 0.72901046\n",
      "  0.50408757 0.31280683 0.01543711 0.41372909]\n",
      " [0.82971509 0.06359386 0.73629993 0.98207336 0.87967984 0.98250212\n",
      "  0.39711451 0.70252133 0.2862408  0.43173889]]\n"
     ]
    }
   ],
   "source": [
    "mat5 = np.random.rand(10,10)\n",
    "pos_max, pos_min = mat5.argmax(), mat5.argmin()  #可set axis=0来取行方向上的最值；axis=1列方向\n",
    "print(pos_max, pos_min)\n",
    "print(mat5)\n",
    "%timeit maxi = mat5[pos_max//10][pos_max%10]\n",
    "%timeit mat5[pos_max//10][pos_max%10] = mat5[pos_min//10][pos_min%10]\n",
    "%timeit mat5[pos_min//10][pos_min%10] = maxi\n",
    "print(mat5)"
   ]
  },
  {
   "cell_type": "markdown",
   "metadata": {},
   "source": [
    "### Loops and computations on arrays"
   ]
  },
  {
   "cell_type": "markdown",
   "metadata": {},
   "source": [
    "<div markdown=1 class=DoIt>\n",
    "\n",
    "- Save your notebook..."
   ]
  },
  {
   "cell_type": "markdown",
   "metadata": {},
   "source": [
    "Saved."
   ]
  },
  {
   "cell_type": "markdown",
   "metadata": {},
   "source": [
    "Loop counters are designed so that one can scan an array using a.shape:"
   ]
  },
  {
   "cell_type": "code",
   "execution_count": 3,
   "metadata": {},
   "outputs": [
    {
     "name": "stdout",
     "output_type": "stream",
     "text": [
      "a = [[1. 2. 3.]\n",
      " [2. 4. 6.]]\n"
     ]
    }
   ],
   "source": [
    "a = np.zeros((2, 3)) \n",
    "for i in range(a.shape[0]):\n",
    "    for j in range(a.shape[1]):\n",
    "        a[i, j] = (i + 1)*(j + 1)\n",
    "print('a =', a)"
   ]
  },
  {
   "cell_type": "markdown",
   "metadata": {},
   "source": [
    "When possible, computations has to be achieved using arrays instead of loops:"
   ]
  },
  {
   "cell_type": "code",
   "execution_count": 4,
   "metadata": {},
   "outputs": [
    {
     "name": "stdout",
     "output_type": "stream",
     "text": [
      "Done\n"
     ]
    }
   ],
   "source": [
    "a = np.linspace(0, 1, 10000000)\n",
    "b = np.zeros(10000000)\n",
    "for i in range(a.size): b[i] = 3*a[i] - 1\n",
    "print(\"Done\")"
   ]
  },
  {
   "cell_type": "code",
   "execution_count": 5,
   "metadata": {},
   "outputs": [
    {
     "name": "stdout",
     "output_type": "stream",
     "text": [
      "Done\n"
     ]
    }
   ],
   "source": [
    "a = np.linspace(0, 1, 10000000)\n",
    "b = np.zeros(10000000)\n",
    "b[:] = 3*a - 1\n",
    "print(\"Done\")"
   ]
  },
  {
   "cell_type": "code",
   "execution_count": 8,
   "metadata": {},
   "outputs": [
    {
     "name": "stdout",
     "output_type": "stream",
     "text": [
      "60.6 ms ± 3.37 ms per loop (mean ± std. dev. of 7 runs, 10 loops each)\n"
     ]
    }
   ],
   "source": [
    "# b = 3a-1 with a loop\n",
    "a = np.linspace(0, 1, 100000)\n",
    "b = np.zeros(100000)\n",
    "%timeit for i in range(a.size): b[i] = 3*a[i] - 1"
   ]
  },
  {
   "cell_type": "code",
   "execution_count": 9,
   "metadata": {},
   "outputs": [
    {
     "name": "stdout",
     "output_type": "stream",
     "text": [
      "182 µs ± 10.9 µs per loop (mean ± std. dev. of 7 runs, 10000 loops each)\n"
     ]
    }
   ],
   "source": [
    "# b = 3a-1 with arrays\n",
    "a = np.linspace(0, 1, 100000)\n",
    "b = np.zeros(100000)\n",
    "%timeit b[:] = 3*a - 1"
   ]
  },
  {
   "cell_type": "markdown",
   "metadata": {},
   "source": [
    "Numpy provides various optimized functions as sin, exp... for arrays"
   ]
  },
  {
   "cell_type": "code",
   "execution_count": 10,
   "metadata": {},
   "outputs": [
    {
     "name": "stdout",
     "output_type": "stream",
     "text": [
      "test 1\n",
      "408 ms ± 51.1 ms per loop (mean ± std. dev. of 7 runs, 1 loop each)\n",
      "test 2\n",
      "1.57 ms ± 152 µs per loop (mean ± std. dev. of 7 runs, 1000 loops each)\n"
     ]
    }
   ],
   "source": [
    "def f(x):\n",
    "    return np.exp(-x*x)*np.log(1 + x*np.sin(x))\n",
    "\n",
    "print(\"test 1\")\n",
    "x = np.linspace(0, 1, 100000)\n",
    "a = np.zeros(x.size)\n",
    "%timeit for i in range(x.size): a[i] = f(x[i])\n",
    "\n",
    "print(\"test 2\")\n",
    "x = np.linspace(0, 1, 100000)\n",
    "%timeit a = f(x)"
   ]
  },
  {
   "cell_type": "markdown",
   "metadata": {},
   "source": [
    "<div markdown=1 class=DoIt>\n",
    "\n",
    "- Save your notebook...\n",
    "- Create a random 10 x 2 matrix representing cartesian coordinates.\n",
    "- Convert them to polar coordinates r, theta\n",
    "- Optimize and test your code for a vector of size 100 000 x 2."
   ]
  },
  {
   "cell_type": "code",
   "execution_count": 44,
   "metadata": {},
   "outputs": [
    {
     "name": "stdout",
     "output_type": "stream",
     "text": [
      "[[0.81454944 0.72500876]\n",
      " [0.77170473 0.27621719]\n",
      " [0.04040244 0.18541668]\n",
      " [0.4131168  0.26257006]\n",
      " [0.46559876 0.6093304 ]\n",
      " [0.72787127 0.0731917 ]\n",
      " [0.51216975 0.94802464]\n",
      " [0.15201794 0.17415329]\n",
      " [0.2613606  0.00927369]\n",
      " [0.71083963 0.96723257]]\n",
      "9.19 µs ± 161 ns per loop (mean ± std. dev. of 7 runs, 100000 loops each)\n",
      "[[1.09047168 0.72730362]\n",
      " [0.81964878 0.34372292]\n",
      " [0.1897675  1.35624919]\n",
      " [0.48949824 0.56617347]\n",
      " [0.76685445 0.91832239]\n",
      " [0.73154194 0.10021895]\n",
      " [1.07752891 1.07546998]\n",
      " [0.23116839 0.85315844]\n",
      " [0.26152507 0.03546749]\n",
      " [1.20034654 0.93701576]]\n"
     ]
    }
   ],
   "source": [
    "def f(x):\n",
    "    #if x[0] == 0:\n",
    "        #return x[1], np.sign(x[0])*np.pi/2\n",
    "    return np.vstack((np.sqrt(x[:,0]**2+x[:,1]**2), np.arctan(x[:,1]/x[:,0]))).T\n",
    "mat6 = np.random.rand(10,2)\n",
    "mat7 = np.zeros((10,2))\n",
    "print(mat6)\n",
    "\n",
    "%timeit mat7 = f(mat6)\n",
    "mat7 = f(mat6)\n",
    "print(mat7)"
   ]
  },
  {
   "cell_type": "markdown",
   "metadata": {},
   "source": [
    "## Matplotlib"
   ]
  },
  {
   "cell_type": "markdown",
   "metadata": {
    "collapsed": true
   },
   "source": [
    "**Matplotlib** is a Python package for 2 dimensional plots. It can be used to produce figures inline in jupyter  notebooks. Lot of documentations about numpy can be found on the web, we give below basic examples that will be usefull in the following.\n",
    "\n",
    "First, we need to import the matplotlib package."
   ]
  },
  {
   "cell_type": "code",
   "execution_count": 47,
   "metadata": {},
   "outputs": [],
   "source": [
    "# necessary to display plots inline:\n",
    "%matplotlib inline   \n",
    "\n",
    "# load the libraries\n",
    "import matplotlib.pyplot as plt # 2D plotting library\n",
    "import numpy as np              # package for scientific computing  "
   ]
  },
  {
   "cell_type": "markdown",
   "metadata": {},
   "source": [
    "### First plot"
   ]
  },
  {
   "cell_type": "markdown",
   "metadata": {},
   "source": [
    "We plot on the same figure sine and cosine on the interval $[-\\pi, \\pi]$."
   ]
  },
  {
   "cell_type": "code",
   "execution_count": 49,
   "metadata": {},
   "outputs": [
    {
     "data": {
      "image/png": "[encoded data removed]",
      "text/plain": [
       "<Figure size 432x288 with 1 Axes>"
      ]
     },
     "metadata": {
      "needs_background": "light"
     },
     "output_type": "display_data"
    }
   ],
   "source": [
    "X = np.linspace(-np.pi, np.pi, 30)\n",
    "COS, SIN = np.cos(X), np.sin(X)\n",
    "plt.plot(X,COS)\n",
    "plt.plot(X, SIN)\n",
    "plt.show()"
   ]
  },
  {
   "cell_type": "markdown",
   "metadata": {},
   "source": [
    "### Modifying properties of the figure"
   ]
  },
  {
   "cell_type": "markdown",
   "metadata": {},
   "source": [
    "Most of the properties of a figure can be customized: color and style of the graphs, title, legend, labels... Bellow, we plot on the same figure sine and cosine on the interval $[-\\pi, \\pi]$, specifiying some of the properties of the figure. You can try to comment or modify these properties..."
   ]
  },
  {
   "cell_type": "code",
   "execution_count": 66,
   "metadata": {},
   "outputs": [
    {
     "data": {
      "image/png": "[encoded data removed]",
      "text/plain": [
       "<Figure size 720x360 with 1 Axes>"
      ]
     },
     "metadata": {
      "needs_background": "light"
     },
     "output_type": "display_data"
    }
   ],
   "source": [
    "# creates a figure with size 10x5 inches\n",
    "fig = plt.figure(figsize=(10, 5))\n",
    "\n",
    "# plot cosine, blue continuous line, width=1, label=cosine\n",
    "plt.plot(X, COS, color=\"blue\", linestyle=\"-\", linewidth=1, label='$cosine$')\n",
    "\n",
    "# plot sine, red dotted line, width=1, label=sine\n",
    "plt.plot(X, SIN, color=\"red\", linestyle=\"--\", linewidth=1, label='$sine$')\n",
    "\n",
    "# specify x and y limits\n",
    "plt.xlim(-np.pi*1.1, np.pi*1.1)\n",
    "plt.ylim(-1.1, 1.1)\n",
    "\n",
    "# add a label on x-axis\n",
    "plt.xlabel('x', fontsize=18)\n",
    "\n",
    "# add a title\n",
    "plt.title('Cosine and Sine functions', fontsize=18)\n",
    "\n",
    "# add a legend located at the top-left of the figure\n",
    "plt.legend(loc='upper left')\n",
    "\n",
    "# show the figure\n",
    "plt.show()"
   ]
  },
  {
   "cell_type": "markdown",
   "metadata": {},
   "source": [
    "<div markdown=1 class=DoIt>\n",
    "\n",
    "- On the same figure, plot $x\\to 1-\\cos(x)$ and $x\\to x-\\sin(x)$ for $x\\in [0,\\pi]$.\n",
    "- display a legend. \n",
    "- Plot the same functions using a loglog scale (use plt.loglog, to plot log(f(x)) versus log(x))"
   ]
  },
  {
   "cell_type": "code",
   "execution_count": 117,
   "metadata": {},
   "outputs": [
    {
     "data": {
      "image/png": "[encoded data removed]",
      "text/plain": [
       "<Figure size 1080x360 with 2 Axes>"
      ]
     },
     "metadata": {
      "needs_background": "light"
     },
     "output_type": "display_data"
    }
   ],
   "source": [
    "fig = plt.figure(figsize=(15,5))\n",
    "plt.subplot(1,2,1)\n",
    "plt.plot(X, 1-COS, color=\"blue\", linestyle=\"-\", linewidth=1, label=\"$1 - cos(x)$\") #replace \"plot\" with \"loglog\"\n",
    "plt.plot(X, X-SIN, color=\"red\", linestyle=\"--\", linewidth=1, label=\"$x - sin(x)$\")\n",
    "plt.title(\"$1 - cos(x)$ and $x - sin(x)$ functions\", fontsize=15)\n",
    "plt.legend(loc=\"upper left\", fontsize=12)\n",
    "plt.subplot(1,2,2)\n",
    "plt.loglog(X, 1-COS, color=\"blue\", linestyle=\"-\", linewidth=1, label=\"$1 - cos(x)$\") \n",
    "plt.loglog(X, X-SIN, color=\"red\", linestyle=\"--\", linewidth=1, label=\"$x - sin(x)$\")\n",
    "plt.title(\"$1 - cos(x)$ and $x - sin(x)$ functions (in the scale of 'loglog')\", fontsize=15)\n",
    "plt.legend(loc=\"upper left\", fontsize=12)\n",
    "plt.show()\n",
    "\n"
   ]
  },
  {
   "cell_type": "markdown",
   "metadata": {},
   "source": [
    "<div markdown=1 class=DoIt>\n",
    "\n",
    "- Comment the previous results."
   ]
  },
  {
   "cell_type": "markdown",
   "metadata": {},
   "source": [
    "Since the first term of the Taylor expansion of $1 - cos(x)$ is $-\\frac{x^2}{2}$ , while that of $x - sin(x)$ is $-\\frac{x^3}{6}$, thus, when plotted in the loglog scale, the slope for the two curves are 2 and 3, resp."
   ]
  },
  {
   "cell_type": "markdown",
   "metadata": {},
   "source": [
    "### Creating several subfigures"
   ]
  },
  {
   "cell_type": "markdown",
   "metadata": {},
   "source": [
    "A “figure” in matplotlib means the whole window in the user interface. Within this figure there can be “subplots”. In the following, we use subplots to draw sine and cosine in two different plots."
   ]
  },
  {
   "cell_type": "code",
   "execution_count": 75,
   "metadata": {},
   "outputs": [
    {
     "data": {
      "image/png": "[encoded data removed]",
      "text/plain": [
       "<Figure size 720x360 with 2 Axes>"
      ]
     },
     "metadata": {
      "needs_background": "light"
     },
     "output_type": "display_data"
    }
   ],
   "source": [
    "# create the figure\n",
    "fig = plt.figure(figsize=(10, 5))\n",
    "\n",
    "# Create a new subplot \n",
    "# input: (num-lines, num-columns, num of the current plot)\n",
    "plt.subplot(1, 2, 1)  # grid 1 x 2, current plot =1\n",
    "plt.plot(X, COS, color=\"blue\", linestyle=\"-\", linewidth=1)\n",
    "plt.xlim(-np.pi*1.1, np.pi*1.1)\n",
    "plt.ylim(-1.1, 1.1)\n",
    "plt.title('Cosine function', fontsize=18)\n",
    "\n",
    "# Create a new subplot \n",
    "plt.subplot(1, 2, 2)  # grid 1 x 2, current plot = 2\n",
    "plt.plot(X, SIN, color=\"red\", linestyle=\"-\", linewidth=1)\n",
    "plt.xlim(-np.pi*1.1, np.pi*1.1)\n",
    "plt.ylim(-1.1, 1.1)\n",
    "plt.title('Sine function', fontsize=18)\n",
    "\n",
    "plt.show()"
   ]
  },
  {
   "cell_type": "markdown",
   "metadata": {},
   "source": [
    "### Using equal axes"
   ]
  },
  {
   "cell_type": "markdown",
   "metadata": {},
   "source": [
    "It is also possible to impose the same scale on both axes. As example, we plot bellow a circle of radius 1:"
   ]
  },
  {
   "cell_type": "code",
   "execution_count": 76,
   "metadata": {},
   "outputs": [
    {
     "data": {
      "image/png": "[encoded data removed]",
      "text/plain": [
       "<Figure size 1080x360 with 2 Axes>"
      ]
     },
     "metadata": {
      "needs_background": "light"
     },
     "output_type": "display_data"
    }
   ],
   "source": [
    "# create the figure\n",
    "fig = plt.figure(figsize=(15, 5))\n",
    "\n",
    "# Create a new subplot \n",
    "plt.subplot(1, 2, 1)  # grid 1 x 2, current plot =1\n",
    "plt.plot(COS, SIN, color=\"blue\", linestyle=\"-\", linewidth=1)\n",
    "plt.title('Without equal axes', fontsize=18)\n",
    "\n",
    "# Create a new subplot \n",
    "plt.subplot(1, 2, 2)  # grid 1 x 2, current plot = 2\n",
    "plt.axis('equal')\n",
    "plt.plot(COS, SIN, color=\"red\", linestyle=\"-\", linewidth=1)\n",
    "plt.title('With equal axes', fontsize=18)\n",
    "\n",
    "plt.show()"
   ]
  },
  {
   "cell_type": "markdown",
   "metadata": {},
   "source": [
    "<div markdown=1 class=DoIt>\n",
    "\n",
    "- Plot the butterfly curve "
   ]
  },
  {
   "cell_type": "code",
   "execution_count": 53,
   "metadata": {},
   "outputs": [
    {
     "name": "stderr",
     "output_type": "stream",
     "text": [
      "C:\\Users\\terri\\AppData\\Local\\Continuum\\anaconda3\\lib\\site-packages\\ipykernel_launcher.py:4: RuntimeWarning: invalid value encountered in sqrt\n",
      "  after removing the cwd from sys.path.\n"
     ]
    },
    {
     "data": {
      "image/png": "[encoded data removed]",
      "text/plain": [
       "<Figure size 720x720 with 1 Axes>"
      ]
     },
     "metadata": {
      "needs_background": "light"
     },
     "output_type": "display_data"
    }
   ],
   "source": [
    "#Find on Wikipedia that the butter curve is given by the equation x**6 + y**6 = x**2\n",
    "fig = plt.figure(figsize=(10,10))\n",
    "plt.axis([-1.5,1.5,-1.5,1.5])\n",
    "plt.plot(np.sqrt(SIN), np.cbrt(COS*np.sqrt(SIN)), \"blue\", -np.sqrt(SIN), -np.cbrt(COS*np.sqrt(SIN)), \"red\",\\\n",
    "        -np.sqrt(SIN), np.cbrt(COS*np.sqrt(SIN)), \"yellow\", np.sqrt(SIN), -np.cbrt(COS*np.sqrt(SIN)), \"green\")\n",
    "plt.title(\"But-not fly\",fontsize=16)\n",
    "plt.show()"
   ]
  },
  {
   "cell_type": "markdown",
   "metadata": {
    "collapsed": true
   },
   "source": [
    "## To go further..."
   ]
  },
  {
   "cell_type": "markdown",
   "metadata": {
    "collapsed": true
   },
   "source": [
    "Lot of documentation and tutorials can be found on the web about Numpy and Matplotlib. A very complete tutorial for scientific python can be found here http://www.scipy-lectures.org/index.html. In particular, you can have a look at the two following chatpers:\n",
    "\n",
    "- Numpy: http://www.scipy-lectures.org/intro/numpy/index.html\n",
    "- Matplotlib: http://www.scipy-lectures.org/intro/matplotlib/index.html"
   ]
  },
  {
   "cell_type": "code",
   "execution_count": 1,
   "metadata": {},
   "outputs": [
    {
     "data": {
      "text/html": [
       "<link href='http://fonts.googleapis.com/css?family=Fenix' rel='stylesheet' type='text/css'>\n",
       "<link href='http://fonts.googleapis.com/css?family=Alegreya+Sans:100,300,400,500,700,800,900,100italic,300italic,400italic,500italic,700italic,800italic,900italic' rel='stylesheet' type='text/css'>\n",
       "<link href='http://fonts.googleapis.com/css?family=Source+Code+Pro:300,400' rel='stylesheet' type='text/css'>\n",
       "<link href=\"https://fonts.googleapis.com/css?family=Oswald|Raleway\" rel=\"stylesheet\" type='text/css'> \n",
       "<style>\n",
       ".prompt{\n",
       "    display: none !important;\n",
       "}\n",
       "\n",
       ".rendered_html pre {\n",
       "    border: 1px solid #f0f6f9 !important;\n",
       "}\n",
       "\n",
       ".rendered_html pre, .rendered_html code {\n",
       "    background-color: #d3d8db !important;\n",
       "    padding: 1% !important;\n",
       "    line-height: 200% !important;\n",
       "    border-radius: 10px !important;\n",
       "}\n",
       "\n",
       "div.input_area {\n",
       "    border-radius: 10px !important;\n",
       "    background-color: #e1e1e6 !important;\n",
       "}\n",
       "\n",
       "div.cell{\n",
       "        width:85% !important;\n",
       "        margin-left:5% !important;\n",
       "        /*margin-right:auto;*/\n",
       "    }\n",
       "    h1, h2, h3, h4, h5 {\n",
       "        font-family: 'Oswald', sans-serif; !important;\n",
       "        font-style: oblique !important;\n",
       "    }\n",
       "    div.text_cell_render{\n",
       "        font-family: 'Raleway', sans-serif; !important;\n",
       "        line-height: 135% !important;\n",
       "        font-size: 120% !important;\n",
       "        width:100%;/*600px;*/\n",
       "        /*margin-left:auto;*/\n",
       "        /*margin-right:auto;*/\n",
       "    }\n",
       "    .CodeMirror{\n",
       "            font-family: \"Source Code Pro\" !important;\n",
       "\t\t\tfont-size: 100% !important;\n",
       "    }\n",
       "    .text_cell_render p{\n",
       "        text-align: justify !important;\n",
       "    }\n",
       "    .text_cell_render h1 {\n",
       "        font-weight: 200 !important;\n",
       "\t\tline-height: 100% !important;\n",
       "        color:#47597A !important;\n",
       "        margin-bottom: 10.em !important;\n",
       "        margin-top: 50.em !important;\n",
       "        padding-bottom: 50.em !important;\n",
       "        padding-top: 50.em !important;\n",
       "        display: block !important;\n",
       "        font-size: 300% !important;\n",
       "        text-align: center !important;\n",
       "        border-bottom: 1px solid #47597A !important;\n",
       "        border-top: 1px solid #47597A !important;\n",
       "    }\n",
       "    .text_cell_render h2 {\n",
       "        font-weight: 200 !important;\n",
       "\tline-height: 100% !important;\n",
       "        color:#47597A !important;\n",
       "        margin-bottom: 0.5em !important;\n",
       "        margin-top: 0.5em !important;\n",
       "        display: block !important;\n",
       "        font-size: 200% !important;\n",
       "        border-bottom: 1px solid #47597A !important;\n",
       "    }\n",
       "    .text_cell_render h3 {\n",
       "        font-weight: 200 !important;\n",
       "\tline-height: 100% !important;\n",
       "        color:#47597A !important;\n",
       "        margin-bottom: 0.5em !important;\n",
       "        margin-top: 0.5em !important;\n",
       "        display: block !important;\n",
       "        font-size: 150% !important;\n",
       "    }\n",
       "    .text_cell_render h4 {\n",
       "        font-style: italic !important;\n",
       "        font-weight: bold !important;\n",
       "\tline-height: 100% !important;\n",
       "        color:#47597A !important;\n",
       "        display: block !important;\n",
       "        font-size: 100% !important;\n",
       "    }\n",
       "    .text_cell_render h5 {\n",
       "        font-weight: 200 !important;\n",
       "\tline-height: 100% !important;\n",
       "        color:#47597A !important;\n",
       "        margin-bottom: 0.5em !important;\n",
       "        margin-top: 0.5em !important;\n",
       "        display: block !important;\n",
       "        font-size: 100% !important;\n",
       "    }\n",
       "    .text_cell_render ul {\n",
       "\tlist-style-type: disc !important;\n",
       "\tline-height: 2;\n",
       "\t/*color:#47597A !important;*/\n",
       "    }\n",
       "    .warning{\n",
       "        color: rgb( 240, 20, 20 ) !important;\n",
       "        }\n",
       "    .Abstract {  \n",
       "\ttext-align: justify;\n",
       "\tbackground-color: #d6edf9;\n",
       "\tborder-left: 5px solid #47597A;\n",
       "\tpadding: 0.5em;\n",
       "\tmargin: 0  150px 0 150px;\n",
       "    }\n",
       "    .Def {    \n",
       "\tbackground-color: #d9f7d7;\n",
       "\tborder-left: 5px solid #4a7047;\n",
       "\tpadding: 0.5em;\n",
       "    }\n",
       "    .Def:before {\n",
       "\tcontent: \"Definition.\";\n",
       "\tcolor:#4a7047;\n",
       "\tfont-weight: bold;\n",
       "\tfont-style: normal;\n",
       "    }\n",
       "    .DoIt {    \n",
       "\tbackground-color: #e8cfc9;\n",
       "\tborder-left: 5px solid #a90e05;\n",
       "\tpadding: 0.5em;\n",
       "    }\n",
       "    .DoIt:before {\n",
       "\tcontent: \"Do it yourself.\";\n",
       "\tcolor:#a90e05;\n",
       "\tfont-weight: bold;\n",
       "\tfont-style: normal;\n",
       "    }\n",
       "    .Answer {    \n",
       "\tbackground-color:   #fdf2e9  ;\n",
       "\tborder-left: 5px solid #a90e05;\n",
       "\tpadding: 0.5em;\n",
       "    }\n",
       "    .Answer:before {\n",
       "\tcontent: \"Answer.\";\n",
       "\tcolor:#a90e05;\n",
       "\tfont-weight: bold;\n",
       "\tfont-style: normal;\n",
       "    }\n",
       "    .Correction {    \n",
       "\tbackground-color: #ffffcc;\n",
       "\tborder-left: 5px solid #a90e05;\n",
       "\tpadding: 0.5em;\n",
       "    }\n",
       "    .Correction:before {\n",
       "\tcontent: \"Correction.\";\n",
       "\tcolor:#a90e05;\n",
       "\tfont-weight: bold;\n",
       "\tfont-style: normal;\n",
       "    }\n",
       "    .Prop {    \n",
       "\tbackground-color:#f9ecd1;\n",
       "\tborder-left: 5px solid #ba7021;\n",
       "\tpadding: 0.5em;\n",
       "    }\n",
       "   .Prop:before {\n",
       "       content: \"Proposition.\";\n",
       "       color:#ba7021;\n",
       "       font-weight: bold;\n",
       "       font-style: normal;\n",
       "    }\n",
       "   .Thm {    \n",
       "\tbackground-color:#f9ecd1;\n",
       "\tborder-left: 5px solid #ba7021;\n",
       "\tpadding: 0.5em;\n",
       "    }\n",
       "   .Thm:before {\n",
       "       content: \"Theorem.\";\n",
       "       color:#ba7021;\n",
       "       font-weight: bold;\n",
       "       font-style: normal;\n",
       "    } \n",
       "   .Algo {    \n",
       "\tbackground-color:#f9ecd1;\n",
       "\tborder-left: 5px solid #ba7021;\n",
       "\tpadding: 0.5em;\n",
       "    }\n",
       "   .Algo:before {\n",
       "       content: \"Algorithm.\";\n",
       "       color:#ba7021;\n",
       "       font-weight: bold;\n",
       "       font-style: normal;\n",
       "    }\n",
       "    .Rmk {    \n",
       "\tbackground-color: #dbf1fc;\n",
       "\tborder-left: 5px solid #385487;\n",
       "\tpadding: 0.5em;\n",
       "    }\n",
       "    .Rmk:before {\n",
       "\tcontent: \"Remark.\";\n",
       "\tcolor:#385487;\n",
       "\tfont-weight: bold;\n",
       "\tfont-style: normal;\n",
       "    }\n",
       "    .Ex {    \n",
       "\tbackground-color: #dbf1fc;\n",
       "\tborder-left: 5px solid #385487;\n",
       "\tpadding: 0.5em;\n",
       "    }\n",
       "    .Ex:before {\n",
       "\tcontent: \"Example.\";\n",
       "\tcolor:#385487;\n",
       "\tfont-weight: bold;\n",
       "\tfont-style: normal;\n",
       "    }\n",
       "\n",
       "/*    .toc-item-num {\n",
       "#        display: none;\n",
       "#    }\n",
       "*/\n",
       "    .reveal section img{\n",
       "        margin: 0px auto;\n",
       "    }\n",
       "\n",
       "    div.output_area img{\n",
       "        display: block;\n",
       "        margin: 0px auto;\n",
       "    }\n",
       "  \n",
       "</style>\n",
       "\n",
       "<script>\n",
       "MathJax.Hub.Config({\n",
       "TeX: {extensions: [\"AMSmath.js\"] },\n",
       "                tex2jax: {\n",
       "                    inlineMath: [ ['$','$'], [\"\\\\(\",\"\\\\)\"] ],\n",
       "                    displayMath: [ ['$$','$$'], [\"\\\\[\",\"\\\\]\"] ]\n",
       "                },\n",
       "                displayAlign: 'center', // Change this to 'center' to center equations.\n",
       "                \"HTML-CSS\": {\n",
       "                    styles: {'.MathJax_Display': {\"margin\": 4}}\n",
       "                }\n",
       "        });\n",
       "\n",
       "\n",
       "\n",
       "</script>\n"
      ],
      "text/plain": [
       "<IPython.core.display.HTML object>"
      ]
     },
     "execution_count": 1,
     "metadata": {},
     "output_type": "execute_result"
    }
   ],
   "source": [
    "# execute this part to modify the css style\n",
    "from IPython.core.display import HTML\n",
    "def css_styling():\n",
    "    styles = open(\"./style/custom3.css\").read()\n",
    "    return HTML(styles)\n",
    "css_styling()"
   ]
  },
  {
   "cell_type": "code",
   "execution_count": null,
   "metadata": {},
   "outputs": [],
   "source": []
  }
 ],
 "metadata": {
  "kernelspec": {
   "display_name": "Python 3",
   "language": "python",
   "name": "python3"
  },
  "language_info": {
   "codemirror_mode": {
    "name": "ipython",
    "version": 3
   },
   "file_extension": ".py",
   "mimetype": "text/x-python",
   "name": "python",
   "nbconvert_exporter": "python",
   "pygments_lexer": "ipython3",
   "version": "3.7.0"
  },
  "toc": {
   "base_numbering": 1,
   "nav_menu": {},
   "number_sections": true,
   "sideBar": true,
   "skip_h1_title": false,
   "title_cell": "Table of Contents",
   "title_sidebar": "Contents",
   "toc_cell": false,
   "toc_position": {},
   "toc_section_display": true,
   "toc_window_display": false
  }
 },
 "nbformat": 4,
 "nbformat_minor": 2
}
