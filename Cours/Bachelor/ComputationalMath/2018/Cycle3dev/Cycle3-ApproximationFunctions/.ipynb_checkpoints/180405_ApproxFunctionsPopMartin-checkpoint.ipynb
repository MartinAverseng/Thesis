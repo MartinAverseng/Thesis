{
 "cells": [
  {
   "cell_type": "code",
   "execution_count": 1,
   "metadata": {
    "collapsed": true
   },
   "outputs": [],
   "source": [
    "## loading python libraries\n",
    "\n",
    "# necessary to display plots inline:\n",
    "%matplotlib inline   \n",
    "\n",
    "# load the libraries\n",
    "import matplotlib.pyplot as plt # 2D plotting library\n",
    "import numpy as np              # package for scientific computing  \n",
    "\n",
    "from math import *              # package for mathematics (pi, arctan, sqrt, factorial ...)"
   ]
  },
  {
   "cell_type": "code",
   "execution_count": 2,
   "metadata": {
    "collapsed": true
   },
   "outputs": [],
   "source": [
    "## XXXXXXX INPUT / OUTPUT XXXXXXXXXX\n",
    "def eval_Horner(a,x,X):\n",
    "    N = a.size\n",
    "    R = a[-1]\n",
    "    for k in range(1,N):\n",
    "        R = R * (X - x[-k])\n",
    "        R = R + a[-1-k]\n",
    "    return R"
   ]
  },
  {
   "cell_type": "code",
   "execution_count": 3,
   "metadata": {
    "collapsed": true
   },
   "outputs": [],
   "source": [
    "## XXXXXXX INPUT / OUTPUT XXXXXXXXXX\n",
    "def divided_diff(x, y):\n",
    "    n = x.size\n",
    "    deltak = y.copy() # Use copy to prevent the values in y from being modified \n",
    "    for k in range(1,n):\n",
    "        deltak[k:] = (deltak[k:] - deltak[k-1:-1])/(x[k:] - x[:-k])\n",
    "    return deltak"
   ]
  },
  {
   "cell_type": "code",
   "execution_count": 4,
   "metadata": {
    "collapsed": true
   },
   "outputs": [],
   "source": [
    "## XXXXXXX INPUT / OUTPUT XXXXXXXXXX\n",
    "## XXXXXXX RETIRER DELTA DE OUTPUT SI ON L'UTILISE PAS DS LA SUITE XXXXXXXXXX\n",
    "def LagrangeInterp(x, y, X):\n",
    "    delta = divided_diff(x, y)\n",
    "    R = eval_Horner(delta, x[:-1], X)\n",
    "    return (R, delta)"
   ]
  },
  {
   "cell_type": "markdown",
   "metadata": {
    "collapsed": true
   },
   "source": [
    "# Polynomial interpolation for missing data"
   ]
  },
  {
   "cell_type": "markdown",
   "metadata": {
    "collapsed": true
   },
   "source": [
    "We use interpolation to \n",
    "- Determine the population in 1945 (j'ai choisi cette année pour qu'il y ait une différence entre le modèle linéaire et l'interpolation de Lagrange)\n",
    "- Determine the approximate time at which the number of living humans went past the $2.2$ Billions mark. \n",
    "\n",
    "We use the following data (source http://www.worldometers.info/world-population/world-population-by-year/)\n",
    "\n",
    "| Year | Pop. | Year | Pop. |\n",
    "| --- | --- |\n",
    "| 1900 | 1,600,000,000 | 1985 | 4,873,781,796 |\n",
    "| 1927 | 2,000,000,000 | 1990 | 5,330,943,460 |\n",
    "| 1951 | 2,583,816,786 | 1995 | 5,751,475,416 |\n",
    "| 1955 | 2,772,242,535 | 2000 | 6,145,006,989 |\n",
    "| 1960 | 3,033,212,527 | 2005 | 6,542,159,383 |\n",
    "| 1965 | 3,339,592,688 | 2010 | 6,958,169,159 |\n",
    "| 1970 | 3,700,577,650 | 2015 | 7,383,008,820 |\n",
    "| 1975 | 4,079,087,198 | 2018 | 7,632,819,325 |\n",
    "| 1980 | 4,458,411,524 | \n",
    "\n",
    "\n",
    "\n",
    "We can store this in a numpy array and plot the evolution of population. "
   ]
  },
  {
   "cell_type": "code",
   "execution_count": 5,
   "metadata": {},
   "outputs": [
    {
     "data": {
      "image/png": "[encoded data removed]",
      "text/plain": [
       "<matplotlib.figure.Figure at 0x7f3a280aa550>"
      ]
     },
     "metadata": {},
     "output_type": "display_data"
    }
   ],
   "source": [
    "yearsData = np.array([1900,1927,1951,1955,1960,1965,1970,1975,1980,1985,1990,1995,2000,2005,2010,2015,2018])\n",
    "popData = np.array([1.6,2,2.583816786,2.772242535,3.033212527, 3.339592688,3.700577650,4.079087198,4.458411524,\n",
    "                4.873781796,5.330943460,5.751475416,6.145006989,6.542159383,6.958169159,7.383008820,7.632819325])\n",
    "\n",
    "plt.figure(figsize=(10,5))\n",
    "plt.plot(yearsData,popData,marker=\"x\")\n",
    "plt.title('Evolution of the mondial population since 1900')\n",
    "plt.xlabel('Years')\n",
    "plt.ylabel('Billions')\n",
    "plt.show()"
   ]
  },
  {
   "cell_type": "markdown",
   "metadata": {},
   "source": [
    "<div markdown = 1, class = \"Rmk\"> In the previous plot, the line corresponds to the P1 interpolation of the data, since python draws straight line between each data point.  "
   ]
  },
  {
   "cell_type": "markdown",
   "metadata": {},
   "source": [
    "## 1°) Using P1 piecewise polynomial"
   ]
  },
  {
   "cell_type": "markdown",
   "metadata": {},
   "source": [
    "If we approximate the curve by the piecewise affine interpolate, then \n",
    "- The approximate population $p$ at year $y = 1945$ is given by the formula\n",
    "\n",
    "$$ p = p_1 + \\frac{y - y_1}{y_2 - y_1}(p_2-p_1) $$\n",
    "\n",
    " where $(y_1,p_1)$ and $(y_2,p_2)$ are two consecutive data points, where the varaibles $p_i$ represent the   population, where $y_i$ represents the year and such that $y_1 < y$ and $y_2 > y$. \n",
    "\n",
    "- the time $y$ at which the population went above $p = 2.2$ billions can be expressed as \n",
    "\n",
    "$$y = y_1 + \\frac{p - p_1}{p_2 - p_1}(y_2 - y_1)$$\n",
    "\n",
    "\n",
    "\n",
    "where $(y_1,p_1)$ and $(y_2,p_2)$ are two consecutive data points, where the varaibles $p_i$ represent the population, with $p_1 < 7$ and $p_2 > 7$ and where $y_i$ represents the year. "
   ]
  },
  {
   "cell_type": "code",
   "execution_count": 6,
   "metadata": {},
   "outputs": [
    {
     "name": "stdout",
     "output_type": "stream",
     "text": [
      "According to piecewise affine model, there were 2.4378625895 billions of human beings in 1945\n",
      "According to piecewise affine model, the population went above 2.2 billions in feb. of 1935\n"
     ]
    }
   ],
   "source": [
    "## Population in 1945\n",
    "\n",
    "yTarget1 = 1945\n",
    "\n",
    "idx = np.argmin(abs(yearsData - yTarget1))\n",
    "if yearsData[idx]<yTarget1:\n",
    "    jdx = idx + 1\n",
    "else:\n",
    "    jdx = idx-1\n",
    "left = min(idx,jdx)\n",
    "right = max(idx,jdx)\n",
    "pi = popData[left]; pj = popData[right]; yi = yearsData[left]; yj = yearsData[right]\n",
    "\n",
    "pTarget1 = pi + (yTarget1 - yi)/(yj - yi)*(pj - pi)\n",
    "print('According to piecewise affine model, there were',pTarget1,'billions of human beings in',yTarget1)\n",
    "\n",
    "\n",
    "## 2.2 Billions mark\n",
    "\n",
    "pTarget2 = 2.2\n",
    "\n",
    "idx = np.argmin(abs(popData - pTarget2))\n",
    "if popData[idx]<pTarget2:\n",
    "    jdx = idx + 1\n",
    "else:\n",
    "    jdx = idx-1\n",
    "left = min(idx,jdx)\n",
    "right = max(idx,jdx)\n",
    "\n",
    "\n",
    "pi = popData[left]; pj = popData[right]; yi = yearsData[left]; yj = yearsData[right]\n",
    "yTarget2 = yi + (pTarget2-pi)/(pj - pi)*(yj - yi) \n",
    "m = (yTarget2 - int(yTarget2))*12\n",
    "months = ['jan.','feb.','mar.','apr.','may','june','jul.','aug.','sep.','oct.','nov.','dec.']\n",
    "print('According to piecewise affine model, the population went above',pTarget2,'billions in',months[int(m)-1],'of',int(yTarget2))\n",
    "\n",
    "ResultsP1 = (pTarget1,yTarget1,pTarget2,yTarget2)"
   ]
  },
  {
   "cell_type": "markdown",
   "metadata": {},
   "source": [
    "## Using Lagrange interpolation"
   ]
  },
  {
   "cell_type": "markdown",
   "metadata": {},
   "source": [
    "We now wish to approximate the population curve by a smoother curve than just piecewise affine. For that, we are going to use the Lagrange interpolation at the data points. "
   ]
  },
  {
   "cell_type": "markdown",
   "metadata": {},
   "source": [
    "The next example shows that if we take all the data points, the interpolation yields very bad results:"
   ]
  },
  {
   "cell_type": "code",
   "execution_count": 7,
   "metadata": {},
   "outputs": [
    {
     "data": {
      "image/png": "[encoded data removed]",
      "text/plain": [
       "<matplotlib.figure.Figure at 0x7f3a1c8b0160>"
      ]
     },
     "metadata": {},
     "output_type": "display_data"
    }
   ],
   "source": [
    "# We retrieve the coefficients of the Lagrange interpolation polynomial \n",
    "# using the divided differences method.\n",
    "yearsPlot = np.linspace(1900,1960,500)\n",
    "x = yearsData\n",
    "y = popData\n",
    "(R,delta) = LagrangeInterp(x, y, yearsPlot)\n",
    "\n",
    "# We plot the interpolated curve\n",
    "plt.plot(yearsPlot,R)\n",
    "plt.plot(x,y,marker = 'o')\n",
    "plt.title('Lagrange interpolation and over-fitting')\n",
    "plt.xlabel('year')\n",
    "plt.ylabel('Billions')\n",
    "plt.show()\n"
   ]
  },
  {
   "cell_type": "markdown",
   "metadata": {},
   "source": [
    "This kind of situation is analog to \"overfitting\" in machine learning and statistics. Overfitting often arises when one uses a model with too many parameters to fit a data set. This leads to great accuracy at the training (known) data and bad accuracy at the test (unknown) data. It is generally thought that a model that has less parameters will have better generalization capacities. So here, a possible idea is to restrict the number of data points and choose them around the zone we are interested in. This will lead to an approximation by a polynomial of lower-order, smaller coefficients. "
   ]
  },
  {
   "cell_type": "code",
   "execution_count": 8,
   "metadata": {},
   "outputs": [
    {
     "data": {
      "image/png": "[encoded data removed]",
      "text/plain": [
       "<matplotlib.figure.Figure at 0x7f3a1c8bc208>"
      ]
     },
     "metadata": {},
     "output_type": "display_data"
    }
   ],
   "source": [
    "def windowedLagrangeInterp(data_x,data_y,x_interest,nLeft,nRight,x_eval):\n",
    "    id_x = np.argmin(abs(data_x - x_interest))\n",
    "    id_xs = np.arange(id_x - nLeft,id_x + nRight + 1)\n",
    "    id_xs = id_xs[np.logical_and(id_xs >= 0,id_xs <data_x.size)]\n",
    "    x = data_x[id_xs] # We select the data near the year of interest\n",
    "    y = data_y[id_xs]\n",
    "    (R,delta) = LagrangeInterp(x, y, x_eval)\n",
    "    return (R,delta,x,y)\n",
    "\n",
    "\n",
    "xPlot1 = np.linspace(1900,1985,500)\n",
    "xPlot2 = np.linspace(1950,2010,500)\n",
    "nLeft = 2\n",
    "nRight = 2\n",
    "(R1,delta,x_interp1,yinterp1) = windowedLagrangeInterp(yearsData,popData,1945, 2, 2,xPlot1)\n",
    "(R2,delta,x_interp2,yinterp2) = windowedLagrangeInterp(yearsData,popData,1980, 2, 2,xPlot2)\n",
    "# We plot the result \n",
    "figure = plt.figure(figsize = (10,5))\n",
    "plt.plot(xPlot1,R1,label = 'Lagrange window ' + str(x_interp1[0]) + ' - ' + str(x_interp1[-1]) ,linestyle = '--')\n",
    "plt.plot(xPlot2,R2,label = 'Lagrange window ' + str(x_interp2[0]) + ' - ' + str(x_interp2[-1]),linestyle = '--')\n",
    "plt.plot(yearsData,popData,label = 'data',marker = 'o',linestyle='')\n",
    "plt.title('Windowed Lagrange interpolation.')\n",
    "plt.xlabel('year')\n",
    "plt.ylabel('Billions')\n",
    "plt.legend()\n",
    "plt.show()\n"
   ]
  },
  {
   "cell_type": "markdown",
   "metadata": {},
   "source": [
    "We will use this technique to approximate locally the population curve near the zone that concerns us, namely near the years 1930 - 1950. To evaluate the population in 1945, we just have to evaluate the interpolation polynomial at $x = 1945$. To determine the year at which the population was equal to $2.2$ billions, we can use the rootfinding methods developped in the previous practical session, that is find the zero of $P(x) - 2.2$ where $P$ is the interpolation polynomial. "
   ]
  },
  {
   "cell_type": "code",
   "execution_count": 9,
   "metadata": {
    "collapsed": true
   },
   "outputs": [],
   "source": [
    "## Bisection algorithm for function f\n",
    "## input : f = name of the function\n",
    "##         a0, b0 = initial intervall I_0 with f(a0)f(b0)<0\n",
    "##         eps  = tolerance\n",
    "##         Kmax = maximal number of iterations allowed\n",
    "## output : x = sequence approximating the zero of f\n",
    "\n",
    "def Bisection(f,a0,b0,eps,Kmax):\n",
    "    # create vector x\n",
    "    x = np.zeros(Kmax+1)\n",
    "    k = 0\n",
    "    a = a0\n",
    "    b = b0\n",
    "    x[0] = (a+b)/2  # sets x_0 = (a+b)/2\n",
    "    # computation of x_k\n",
    "    while (b0-a0)/(2**k) >= eps and k < Kmax:\n",
    "        if f(a)*f(x[k]) < 0:\n",
    "            b = x[k]\n",
    "        else:\n",
    "            a = x[k]\n",
    "        k = k+1\n",
    "        x[k] = (a+b)/2\n",
    "    return (x, k)"
   ]
  },
  {
   "cell_type": "code",
   "execution_count": 10,
   "metadata": {},
   "outputs": [
    {
     "name": "stdout",
     "output_type": "stream",
     "text": [
      "According to Lagrange method, there were 2.36230818627 billions of human beings in 1945\n",
      "According to Lagrange method, the population went above 2.2 billions in dec. of 1938\n"
     ]
    },
    {
     "data": {
      "image/png": "[encoded data removed]",
      "text/plain": [
       "<matplotlib.figure.Figure at 0x7f3a1c8064a8>"
      ]
     },
     "metadata": {},
     "output_type": "display_data"
    }
   ],
   "source": [
    "approxYear = 1940\n",
    "# Let's zoom in the region of interest : \n",
    "\n",
    "(R,delta,x_interp,y_interp) = windowedLagrangeInterp(yearsData,popData,approxYear,2, 1,1)\n",
    "\n",
    "# The interpolation polynomial can now be defined and displayed: \n",
    "def interp(x):\n",
    "    return eval_Horner(delta,x_interp[:-1],x)\n",
    "\n",
    "# Population in 1945: \n",
    "yTarget1 = 1945\n",
    "pTarget1 = interp(yTarget1)\n",
    "\n",
    "print('According to Lagrange method, there were',pTarget1,'billions of human beings in',yTarget1)\n",
    "\n",
    "\n",
    "# 2.2 billions mark: \n",
    "pTarget2 = 2.2\n",
    "\n",
    "\n",
    "def funcRootFind(x):\n",
    "    return (interp(x) - pTarget2)\n",
    "\n",
    "\n",
    "a0 = 1930\n",
    "b0 = 1960\n",
    "eps = 1e-10\n",
    "Kmax = 50\n",
    "\n",
    "(x,k) = Bisection(funcRootFind,a0,b0,eps,Kmax)\n",
    "y = int(x[k])\n",
    "m = months[int((x[k]-y)*12)]\n",
    "yTarget2 = x[k]\n",
    "print('According to Lagrange method, the population went above',pTarget2,'billions in',m,'of',int(yTarget2))\n",
    "\n",
    "\n",
    "#Plot and compare the two methods\n",
    "\n",
    "(p1P1,y1P1,p2P1,y2P1) = ResultsP1\n",
    "xPlot = np.linspace(x_interp[0],x_interp[-1],100)\n",
    "\n",
    "fig = plt.figure(figsize = (10,10))\n",
    "plt.plot(xPlot,interp(xPlot),linestyle = '--',label = 'Lagrange')\n",
    "plt.plot(yearsData[:4],popData[:4],label = 'P1')\n",
    "plt.plot(yearsData[:4],popData[:4],linestyle = '', marker = 'o', label = 'Data')\n",
    "plt.plot(y1P1,p1P1,marker = 'o',label = 'Pop in ' + str(y1P1) + '(P1 model)')\n",
    "plt.plot(yTarget1,pTarget1,marker = 'o',label = 'Pop in ' + str(y1P1) + '(Lagrange model)',color = 'blue')\n",
    "plt.plot(yTarget2,pTarget2,marker = 'o',label = 'Pop > ' + str(p2P1) + ' Billions (Lagrange model)',color = 'purple')\n",
    "plt.plot(y1P1,p1P1,marker = 'o',label = 'Pop in ' + str(y1P1) + '(P1 model)',color = 'red')\n",
    "plt.plot(y2P1,p2P1,marker = 'o',label = 'Pop > ' + str(p2P1) + ' Billions (P1 model)',color = 'orange')\n",
    "plt.legend()\n",
    "plt.title('Zoom near ' + str(approxYear))\n",
    "plt.show()"
   ]
  },
  {
   "cell_type": "code",
   "execution_count": 11,
   "metadata": {},
   "outputs": [
    {
     "data": {
      "text/html": [
       "<link href='http://fonts.googleapis.com/css?family=Fenix' rel='stylesheet' type='text/css'>\n",
       "<link href='http://fonts.googleapis.com/css?family=Alegreya+Sans:100,300,400,500,700,800,900,100italic,300italic,400italic,500italic,700italic,800italic,900italic' rel='stylesheet' type='text/css'>\n",
       "<link href='http://fonts.googleapis.com/css?family=Source+Code+Pro:300,400' rel='stylesheet' type='text/css'>\n",
       "<link href=\"https://fonts.googleapis.com/css?family=Oswald|Raleway\" rel=\"stylesheet\" type='text/css'> \n",
       "<style>\n",
       ".prompt{\n",
       "    display: none !important;\n",
       "}\n",
       "\n",
       ".rendered_html pre {\n",
       "    border: 1px solid #f0f6f9 !important;\n",
       "}\n",
       "\n",
       ".rendered_html pre, .rendered_html code {\n",
       "    background-color: #d3d8db !important;\n",
       "    padding: 1% !important;\n",
       "    line-height: 200% !important;\n",
       "    border-radius: 10px !important;\n",
       "}\n",
       "\n",
       "div.input_area {\n",
       "    border-radius: 10px !important;\n",
       "    background-color: #e1e1e6 !important;\n",
       "}\n",
       "\n",
       "div.cell{\n",
       "        width:85% !important;\n",
       "        margin-left:5% !important;\n",
       "        /*margin-right:auto;*/\n",
       "    }\n",
       "    h1, h2, h3, h4, h5 {\n",
       "        font-family: 'Oswald', sans-serif; !important;\n",
       "        font-style: oblique !important;\n",
       "    }\n",
       "    div.text_cell_render{\n",
       "        font-family: 'Raleway', sans-serif; !important;\n",
       "        line-height: 135% !important;\n",
       "        font-size: 120% !important;\n",
       "        width:100%;/*600px;*/\n",
       "        /*margin-left:auto;*/\n",
       "        /*margin-right:auto;*/\n",
       "    }\n",
       "    .CodeMirror{\n",
       "            font-family: \"Source Code Pro\" !important;\n",
       "\t\t\tfont-size: 100% !important;\n",
       "    }\n",
       "    .text_cell_render p{\n",
       "        text-align: justify !important;\n",
       "    }\n",
       "    .text_cell_render h1 {\n",
       "        font-weight: 200 !important;\n",
       "\t\tline-height: 100% !important;\n",
       "        color:#47597A !important;\n",
       "        margin-bottom: 10.em !important;\n",
       "        margin-top: 50.em !important;\n",
       "        padding-bottom: 50.em !important;\n",
       "        padding-top: 50.em !important;\n",
       "        display: block !important;\n",
       "        font-size: 300% !important;\n",
       "        text-align: center !important;\n",
       "        border-bottom: 1px solid #47597A !important;\n",
       "        border-top: 1px solid #47597A !important;\n",
       "    }\n",
       "    .text_cell_render h2 {\n",
       "        font-weight: 200 !important;\n",
       "\tline-height: 100% !important;\n",
       "        color:#47597A !important;\n",
       "        margin-bottom: 0.5em !important;\n",
       "        margin-top: 0.5em !important;\n",
       "        display: block !important;\n",
       "        font-size: 200% !important;\n",
       "        border-bottom: 1px solid #47597A !important;\n",
       "    }\n",
       "    .text_cell_render h3 {\n",
       "        font-weight: 200 !important;\n",
       "\tline-height: 100% !important;\n",
       "        color:#47597A !important;\n",
       "        margin-bottom: 0.5em !important;\n",
       "        margin-top: 0.5em !important;\n",
       "        display: block !important;\n",
       "        font-size: 150% !important;\n",
       "    }\n",
       "    .text_cell_render h4 {\n",
       "        font-style: italic !important;\n",
       "        font-weight: bold !important;\n",
       "\tline-height: 100% !important;\n",
       "        color:#47597A !important;\n",
       "        display: block !important;\n",
       "        font-size: 100% !important;\n",
       "    }\n",
       "    .text_cell_render h5 {\n",
       "        font-weight: 200 !important;\n",
       "\tline-height: 100% !important;\n",
       "        color:#47597A !important;\n",
       "        margin-bottom: 0.5em !important;\n",
       "        margin-top: 0.5em !important;\n",
       "        display: block !important;\n",
       "        font-size: 100% !important;\n",
       "    }\n",
       "    .text_cell_render ul {\n",
       "\tlist-style-type: disc !important;\n",
       "\tline-height: 2;\n",
       "\t/*color:#47597A !important;*/\n",
       "    }\n",
       "    .warning{\n",
       "        color: rgb( 240, 20, 20 ) !important;\n",
       "        }\n",
       "    .Abstract {  \n",
       "\ttext-align: justify;\n",
       "\tbackground-color: #d6edf9;\n",
       "\tborder-left: 5px solid #47597A;\n",
       "\tpadding: 0.5em;\n",
       "\tmargin: 0  150px 0 150px;\n",
       "    }\n",
       "    .Def {    \n",
       "\tbackground-color: #d9f7d7;\n",
       "\tborder-left: 5px solid #4a7047;\n",
       "\tpadding: 0.5em;\n",
       "    }\n",
       "    .Def:before {\n",
       "\tcontent: \"Definition.\";\n",
       "\tcolor:#4a7047;\n",
       "\tfont-weight: bold;\n",
       "\tfont-style: normal;\n",
       "    }\n",
       "    .DoIt {    \n",
       "\tbackground-color: #e8cfc9;\n",
       "\tborder-left: 5px solid #a90e05;\n",
       "\tpadding: 0.5em;\n",
       "    }\n",
       "    .DoIt:before {\n",
       "\tcontent: \"Do it yourself.\";\n",
       "\tcolor:#a90e05;\n",
       "\tfont-weight: bold;\n",
       "\tfont-style: normal;\n",
       "    }\n",
       "    .Prop {    \n",
       "\tbackground-color:#f9ecd1;\n",
       "\tborder-left: 5px solid #ba7021;\n",
       "\tpadding: 0.5em;\n",
       "    }\n",
       "   .Prop:before {\n",
       "       content: \"Proposition.\";\n",
       "       color:#ba7021;\n",
       "       font-weight: bold;\n",
       "       font-style: normal;\n",
       "    }\n",
       "   .Thm {    \n",
       "\tbackground-color:#f9ecd1;\n",
       "\tborder-left: 5px solid #ba7021;\n",
       "\tpadding: 0.5em;\n",
       "    }\n",
       "   .Thm:before {\n",
       "       content: \"Theorem.\";\n",
       "       color:#ba7021;\n",
       "       font-weight: bold;\n",
       "       font-style: normal;\n",
       "    } \n",
       "   .Algo {    \n",
       "\tbackground-color:#f9ecd1;\n",
       "\tborder-left: 5px solid #ba7021;\n",
       "\tpadding: 0.5em;\n",
       "    }\n",
       "   .Algo:before {\n",
       "       content: \"Algorithm.\";\n",
       "       color:#ba7021;\n",
       "       font-weight: bold;\n",
       "       font-style: normal;\n",
       "    }\n",
       "    .Rmk {    \n",
       "\tbackground-color: #dbf1fc;\n",
       "\tborder-left: 5px solid #385487;\n",
       "\tpadding: 0.5em;\n",
       "    }\n",
       "    .Rmk:before {\n",
       "\tcontent: \"Remark.\";\n",
       "\tcolor:#385487;\n",
       "\tfont-weight: bold;\n",
       "\tfont-style: normal;\n",
       "    }\n",
       "    .Ex {    \n",
       "\tbackground-color: #dbf1fc;\n",
       "\tborder-left: 5px solid #385487;\n",
       "\tpadding: 0.5em;\n",
       "    }\n",
       "    .Ex:before {\n",
       "\tcontent: \"Example.\";\n",
       "\tcolor:#385487;\n",
       "\tfont-weight: bold;\n",
       "\tfont-style: normal;\n",
       "    }\n",
       "\n",
       "/*    .toc-item-num {\n",
       "#        display: none;\n",
       "#    }\n",
       "*/\n",
       "    .reveal section img{\n",
       "        margin: 0px auto;\n",
       "    }\n",
       "\n",
       "    div.output_area img{\n",
       "        display: block;\n",
       "        margin: 0px auto;\n",
       "    }\n",
       "  \n",
       "</style>\n",
       "\n",
       "<script>\n",
       "MathJax.Hub.Config({\n",
       "TeX: {extensions: [\"AMSmath.js\"] },\n",
       "                tex2jax: {\n",
       "                    inlineMath: [ ['$','$'], [\"\\\\(\",\"\\\\)\"] ],\n",
       "                    displayMath: [ ['$$','$$'], [\"\\\\[\",\"\\\\]\"] ]\n",
       "                },\n",
       "                displayAlign: 'center', // Change this to 'center' to center equations.\n",
       "                \"HTML-CSS\": {\n",
       "                    styles: {'.MathJax_Display': {\"margin\": 4}}\n",
       "                }\n",
       "        });\n",
       "\n",
       "\n",
       "\n",
       "</script>\n"
      ],
      "text/plain": [
       "<IPython.core.display.HTML object>"
      ]
     },
     "execution_count": 11,
     "metadata": {},
     "output_type": "execute_result"
    }
   ],
   "source": [
    "# execute this part to modify the css style\n",
    "from IPython.core.display import HTML\n",
    "def css_styling():\n",
    "    styles = open(\"./style/custom2.css\").read()\n",
    "    return HTML(styles)\n",
    "css_styling()"
   ]
  }
 ],
 "metadata": {
  "kernelspec": {
   "display_name": "Python 3",
   "language": "python",
   "name": "python3"
  },
  "language_info": {
   "codemirror_mode": {
    "name": "ipython",
    "version": 3
   },
   "file_extension": ".py",
   "mimetype": "text/x-python",
   "name": "python",
   "nbconvert_exporter": "python",
   "pygments_lexer": "ipython3",
   "version": "3.6.1"
  },
  "toc": {
   "nav_menu": {},
   "number_sections": true,
   "sideBar": true,
   "skip_h1_title": true,
   "toc_cell": false,
   "toc_position": {},
   "toc_section_display": "block",
   "toc_window_display": false
  }
 },
 "nbformat": 4,
 "nbformat_minor": 2
}
