{
 "cells": [
  {
   "cell_type": "markdown",
   "metadata": {},
   "source": [
    "<img src='./figures/logo-ecole-polytechnique-ve.jpg' style='position:absolute; top:0; right:0;' width='100px' height='' alt='' />\n",
    "\n",
    "<center>**Bachelor of Ecole Polytechnique**</center>\n",
    "<center>Computational Mathematics, year 1, semester 2</center>\n",
    "<center>Author: Aline Lefebvre-Lepot</center>\n",
    "\n",
    "# Polynomial approximation of functions in one variable\n",
    "\n",
    "&nbsp;\n",
    "\n",
    "<table>\n",
    "        <tr>\n",
    "            <td><img src=\"./figures/Interpolation.png\" alt=\"Interpolation\" style=\"height: 300px;\"/></td>\n",
    "            <td><img src=\"./figures/LeastSquares.png\" alt=\"LeastSquares\" style=\"height: 290px;\"/></td>\n",
    "        </tr>\n",
    "</table>\n",
    "\n",
    "&nbsp;"
   ]
  },
  {
   "cell_type": "markdown",
   "metadata": {
    "collapsed": true
   },
   "source": [
    "<div markdown=1 class=Abstract> In this chapter we consider the problem of approximating a data set or a function using polynomials. First, we present and analyse interpolation methods: Lagrange interpolation and piecewise polynomial approximations. Then, we describe the least squares approximation, providing a \"best fit\" polynomial. These methods are used to solve three problems."
   ]
  },
  {
   "cell_type": "markdown",
   "metadata": {
    "collapsed": true
   },
   "source": [
    "## Table of contents\n",
    "\n",
    "- [Introduction](#intro)\n",
    "- [Lagrange interpolation of functions](#Lagrange)\n",
    "- [Piecewise Interpolation](#PiecewiseInterp)\n",
    "- [Least square approximation](#LeastSquare)"
   ]
  },
  {
   "cell_type": "code",
   "execution_count": 5,
   "metadata": {
    "collapsed": true
   },
   "outputs": [],
   "source": [
    "## loading python libraries\n",
    "\n",
    "# necessary to display plots inline:\n",
    "%matplotlib inline   \n",
    "\n",
    "# load the libraries\n",
    "import matplotlib.pyplot as plt # 2D plotting library\n",
    "import numpy as np              # package for scientific computing  \n",
    "\n",
    "from math import *              # package for mathematics (pi, arctan, sqrt, factorial ...)"
   ]
  },
  {
   "cell_type": "markdown",
   "metadata": {},
   "source": [
    "<a id=\"intro\"></a>\n",
    "## Introduction"
   ]
  },
  {
   "cell_type": "markdown",
   "metadata": {},
   "source": [
    "Suppose that a data set $(x_k,y_k)_{k=0..n}$ is given and one wants to model it using a simple function. Since one of the most useful and simple functions mapping $\\mathbb{R}$ into itself is the set of polynomials, one searches for a polynomial $P$.\n",
    "\n",
    "There is two ways of modeling the data:\n",
    "- using interpolation methods: find $P$ such that for all $k=0\\ldots n$, $P(x_k)=y_k$\n",
    "- using approximation methods: find $P$ such that for all $k=0\\ldots n$, $P(x_k)$ is \"close to\" $y_k$\n",
    "\n",
    "We give below three examples of situations where polynomial approximation can be used.\n"
   ]
  },
  {
   "cell_type": "markdown",
   "metadata": {},
   "source": [
    "### Case study 1: A model to estimate world population"
   ]
  },
  {
   "cell_type": "markdown",
   "metadata": {},
   "source": [
    "The world population has been estimated for several years: we have available the following data (source http://www.worldometers.info/world-population/world-population-by-year/)\n",
    "\n",
    "| Year | Pop. | Year | Pop. |\n",
    "| --- | --- |\n",
    "| 1900 | 1,600,000,000 | 1985 | 4,873,781,796 |\n",
    "| 1927 | 2,000,000,000 | 1990 | 5,330,943,460 |\n",
    "| 1955 | 2,772,242,535 | 1995 | 5,751,475,416 |\n",
    "| 1960 | 3,033,212,527 | 2000 | 6,145,006,989 |\n",
    "| 1965 | 3,339,592,688 | 2005 | 6,542,159,383 |\n",
    "| 1970 | 3,700,577,650 | 2010 | 6,958,169,159 |\n",
    "| 1975 | 4,079,087,198 | 2015 | 7,383,008,820 |\n",
    "| 1980 | 4,458,411,524 | 2018 | 7,632,819,325 |\n",
    "\n",
    "Suppose one wants to \n",
    "- Determine the population in 1951\n",
    "- Determine the approximate time at which the number of living humans went past the $2.2$ Billions mark\n",
    "\n",
    "To do so, one can model the evolution of the population versus time as a polynomial and use this polynomial to approximate the answer to these two questions.\n",
    " "
   ]
  },
  {
   "cell_type": "markdown",
   "metadata": {},
   "source": [
    "### Case study 2: approximation of $\\pi$"
   ]
  },
  {
   "cell_type": "markdown",
   "metadata": {},
   "source": [
    "Suppose you want to approximate the value of $\\pi$. Several methods can be used to do that. One possibility is to write $\\pi$ as an integral and then to approximate the function to be integrated by simpler functions as polynomials which are easier to integrate. \n",
    "\n",
    "We know that $$\\pi=4\\int_{0}^{1}\\frac{1}{1+x^2}dx $$\n",
    "\n",
    "We set \n",
    "\n",
    "$$ d_{atan}:\n",
    "\\left\\{\\begin{array}{l}\n",
    "                           \\mathbb{R} &\\rightarrow &\\mathbb{R} \\\\\n",
    "                            x &\\rightarrow &\\frac{1}{1+x^2}\n",
    "                            \\end{array}\\right.\n",
    "$$\n",
    "\n",
    "so that \n",
    "\n",
    "$$\\pi=4\\int_{0}^{1}d_{atan}(x)dx $$\n",
    "\n",
    "One now wants to approximate $d_{atan}$ using polynomials and integrate this approximation, which should give an approximation of $\\pi$."
   ]
  },
  {
   "cell_type": "markdown",
   "metadata": {},
   "source": [
    "### Case study 3: parameter estimation for the Capital Asset Pricing Model (CAPM)"
   ]
  },
  {
   "cell_type": "markdown",
   "metadata": {},
   "source": [
    "Consider a portfolio of assets: think for example to the CAC40 in France (benchmark French stock market index) or to the NASDAC or Dow Jones in USA. In this portfolio, consider a specific asset (i.e. one of the companies in the portfolio). \n",
    "\n",
    "We denote by $P_k$ its value (price) on day $k$. The return $R_k$ of the asset at day $k$ can be defined as a measure of what you gain (or lose) that day if you possess this asset:\n",
    "\n",
    "$$\n",
    "R_k = \\log(P_k) - \\log(P_{k-1})\n",
    "$$\n",
    "\n",
    "Let us denote $R^m_k$ the market portfolio return on day $k$ which again is a measure of what you gain (or lose) that day if you possess the whole portfolio.\n",
    "\n",
    "The Capital Asset Pricing Model (CAPM) provides a theoretical relation to estimate returns on a specific asset and the whole market portfolio return through the equation\n",
    "\n",
    "$$\n",
    "R_k = \\alpha + \\beta \\, R^m_k.\n",
    "$$\n",
    "\n",
    "The parameter $\\beta$ represents the systematic risk (associated to the market): when the market portfolio return moves by 1 the asset's return variation is $\\beta$. The higher $\\beta$, the more the corresponding asset varies when the market varies, that is, the more risky the asset. \n",
    "\n",
    "The parameter $\\alpha$ represents the risk associated to the asset, that is the return of the asset if the market does not change.\n",
    "\n",
    "**Parameter estimation:**\n",
    "Being given the values of $(R^m_k)_{k=1..n}$ and $(R_k)_{k=1..n}$ for $n$ days, one wants to estimate the parameters $\\alpha$ and $\\beta$ in order to model the behaviour of the corresponding asset, understand how risky it is and estimate its future trend.\n",
    "\n",
    "To do so, one has to approximate the data by a polynomial of degree 1: $R_k = P(R_k^m)$ where $P(x)=\\alpha + \\beta\\,x$. The question is to find \"good\" values $\\alpha^*$ and $\\beta^*$ for the parameters $\\alpha$ and $\\beta$ so that the approximated affine model is close to the data.\n",
    "\n",
    "Once $\\alpha^*$ and $\\beta^*$ are computed, one also wish to know how confident they can be using this value to model the behaviour of the asset.\n"
   ]
  },
  {
   "cell_type": "markdown",
   "metadata": {},
   "source": [
    "<a id=\"Lagrange\"></a>\n",
    "## Lagrange interpolation"
   ]
  },
  {
   "cell_type": "markdown",
   "metadata": {},
   "source": [
    "<img src=\"figures/Lagrange.jpg\" alt=\"Lagrange\" style=\"width: 150px;\" />\n",
    "\n",
    ">**Joseph-Louis Lagrange (1736 - 1813).**\n",
    "> Joseph-Louis Lagrange is an italian mathematician and astronomer. He made significant contributions in analysis, number theory and both classical and celestial mechanics. He is one of the creators of the calculus of variations, a field of mathematical analysis that uses variations, which are small changes in functions and functionals, to find their maxima and minima. He is best known for his contributions to mechanics (initiating a branch now called Lagragian mechanics), presenting the \"mechanical principles\" as a result of calculus of variations. Concerning calculus, he contributed to discover the importance of Taylor series (now called Taylor-Lagrange series) and published in 1795 an interpolation method based on polynomials now called \"Lagrange polynomials\". Note that this interpolation method was already suggested in works of Edward Waring in 1779 and was a consequence of a formula published in 1783 by Leonhard Euler."
   ]
  },
  {
   "cell_type": "markdown",
   "metadata": {},
   "source": [
    "### Existence and uniqueness of the Lagrange polynomial"
   ]
  },
  {
   "cell_type": "markdown",
   "metadata": {},
   "source": [
    "First, suppose you have data set of $n+1$ data points $(x_k,y_k)_{0\\leq k\\leq n}$ and you want to compute a polynomial $P$ with degree lower than $n$ fitting the data, that is: such that $P(x_k)=y_k$. "
   ]
  },
  {
   "cell_type": "markdown",
   "metadata": {},
   "source": [
    "<div  markdown=1 class=\"Ex\">\n",
    "- **Example 1.** Suppose $n=0$. Then, the constant polynomial \n",
    "$$P_0(x)=y_0$$\n",
    "is the unique polynomial of degree at most $n$ fitting the data.\n",
    "- **Example 2.** Suppose $n=1$. The data set contains 2 points: $(x_0,y_0)$ and $(x_1,y_1)$. The unique polynomial fitting these data with degree lower than $1$ is the straight line\n",
    "$$\n",
    "P_1(x) = y_0 + (x-x_0)\\frac{y_1-y_0}{x_1-x_0}.\n",
    "$$\n",
    "- **Example 3.** Suppose now $n=2$ and you want to fit the three points $(x_k,y_k)_{k=0\\ldots 2}$ with a parabola (that is polynomial with degree lower than $2$). First, remarking that $P_2$ has to fit the first two points we write\n",
    "$$\n",
    "P_2(x)=y_0 + (x-x_0)\\frac{y_1-y_0}{x_1-x_0} + Q_2(x).\n",
    "$$\n",
    "Then, $Q_2$ has to verify $Q_2(x_0)=0$, $Q_2(x_1)=0$ and $Q_2(x_2)=y_2$. The first two conditions impose the existance of a constant $a$ such that $Q_2(x)=a(x-x_0)(x-x_1)$. The constant $a$ is fixed by the third condition which proves the uniqueness of the parabola fitting the data."
   ]
  },
  {
   "cell_type": "markdown",
   "metadata": {},
   "source": [
    "One can prove that for any data set of $n+1$ disjoint data points, there exists a unique polynomial of degree at most $n$ fitting the data:"
   ]
  },
  {
   "cell_type": "markdown",
   "metadata": {},
   "source": [
    "<div  markdown=1 class=\"Thm\">  Let $x_0, x_1, \\cdots, x_n \\in [a,b]$ a set of $n+1$ **interpolation points (the nodes)** with distinct nodes $x_k$, and $y_0,y_1,\\cdots,y_n$ a set of arbitrary **real numbers**. There exists a unique real polynomial $P_n$ of degree at most $n$ such that, $P_n(x_i) = y_i$ for all $0 \\leq i \\leq n.$ This polynomial is explicitly given by \n",
    "\n",
    "$$P_n(x) = \\sum_{i=0}^n y_i L_i(x)$$\n",
    "\n",
    "where $(L_i)_i$ are the elementary *Lagrange interpolation* polynomials given by \n",
    "\n",
    "$$ L_i(x) = \\prod_{j \\neq i}\\frac{x - x_j}{x_i - x_j}, \\quad 0 \\leq i \\leq n$$"
   ]
  },
  {
   "cell_type": "markdown",
   "metadata": {},
   "source": [
    "<div markdown=1 class=\"DoIt\"> **1.** Prove the previous theorem."
   ]
  },
  {
   "cell_type": "markdown",
   "metadata": {},
   "source": [
    "<div  markdown=1 class=\"Rmk\"> The theorem can also be proved using linear algebra. Indeed, $P_n$ can be written as \n",
    "\n",
    "$$\n",
    "P_n(x) = a_0 + a_1 x + a_2 x^2 + \\ldots +a_n x^n\n",
    "$$\n",
    "\n",
    "$\\mathbf{a}=(a_i)_{i=0\\ldots n}$ being $n+1$ constants to be found. For $k=0\\ldots n$ we write the $n+1$ conditions $P(x_k)=y_k$:\n",
    "\n",
    "$$\n",
    "a_0 + a_1 x_k + a_2 x_k^2 + \\ldots +a_n x_k^n = y_k\\quad \\text{for} \\quad k=0\\ldots n\n",
    "$$\n",
    "\n",
    "which is a linear system to be solved for $\\mathbf{a}$. The problem can be written in a matrix form:\n",
    "\n",
    "$$\n",
    "V_n\\, \\mathbf{a}=\\mathbf{y}\\quad \\text{where}\\quad V_n=\\left(\\begin{array}{ccccc} 1 & x_0 & x_0^2 & \\ldots & x_0^n \\\\ 1 & x_1 & x_1^2 & \\ldots & x_1^n \\\\ \\vdots & & & &\\vdots \\\\ 1 & x_n & x_n^2 & \\ldots & x_n^n \\end{array}\\right)\n",
    "$$\n",
    "\n",
    "The corresponding matrix is the well-known Vandermonde matrix which is invertible, provided the $(x_k)_k$ are distincts. This proves the uniqueness of $\\mathbf{a}$ and then of $P_n$."
   ]
  },
  {
   "cell_type": "markdown",
   "metadata": {},
   "source": [
    "### Computation of the Lagrange polynomial"
   ]
  },
  {
   "cell_type": "markdown",
   "metadata": {},
   "source": [
    "If one wants to use the Vandermonde matrix to compute the coefficients of the Lagrange polynomial, one needs to perform the inversion of a $n\\times n$ matrix. This requires $O(n^3)$ operations. The next method we will study only requires $O(n^2)$ operations to compute the coefficients."
   ]
  },
  {
   "cell_type": "markdown",
   "metadata": {},
   "source": [
    "<div  markdown=1 class=\"Def\"> **Divided differences**\n",
    "\n",
    "Let $(x_i,y_i)_{0 \\leq i \\leq N}$ a family of points. The divided differences are defined by the following recursive formula: \n",
    "\n",
    "\\begin{align}\n",
    "\\delta^0y[x_i] &= y_i \\\\\n",
    "\\delta^1y[x_i,x_{i+1}] &= \\frac{\\delta^0y[x_{i+1}] - \\delta^0y[x_i]}{x_{i+1} - x_i} \\\\\n",
    "\\delta^2y[x_i,x_{i+1},x_{i+2}] &= \\frac{\\delta^1y[x_{i+1},x_{i+2}] - \\delta^1y[x_i,x_{i+1}]}{x_{i+2} - x_i} \\\\\n",
    "\\delta^ky[x_i,\\cdots,x_{i+k}] &= \\frac{\\delta^{k-1}y[x_{i+1},\\cdots,x_{i+k}] - \\delta^{k-1}y[x_i,\\cdots,x_{i+k-1}] }{x_{i+k} - x_i}\n",
    "\\end{align}"
   ]
  },
  {
   "cell_type": "markdown",
   "metadata": {},
   "source": [
    "<div  markdown=1 class=\"Thm\"> The Lagrange polynomial associated to the $n+1$ nodes $(x_k)_{k=0..n}$ and reals $(y_k)_{k=0..n}$ is given by \n",
    "\n",
    "$$P_n(x) = \\delta^0y[x_0] + (x-x_0)\\delta^1y[x_0,x_1] + (x-x_0)(x-x_1)\\delta^2y[x_0,x_1,x_2] + \\cdots + \\\\(x-x_0)(x-x_1)\\cdots(x-x_{n-1})\\delta^{n}y[x_0,\\cdots,x_n].$$"
   ]
  },
  {
   "cell_type": "markdown",
   "metadata": {},
   "source": [
    "> **Proof.** For $n=0$, the result is obvious. Let us assume that the result is true for $n-1$, let's show that it also holds for $n$. Let $P_n$ the Lagrange polynomial associated to $(x_k,y_k)_{0 \\leq k \\leq n}$ (remember $P_n$ is of degree at most $n$). Consider the Lagrange polynomials $P_{n-1}$ and $Q_{n-1}$ associated respectively to $(x_k,y_k)_{0 \\leq k \\leq n-1}$ and $(x_k,y_k)_{1 \\leq k \\leq n}$. Let $R_n$ and $S_n$ be the two polynomials of degree at most $n$ such that \n",
    ">\n",
    ">$$P_{n}(x) = P_{n-1}(x) + R_n(x) = Q_{n-1}(x) + S_n(x).$$\n",
    ">\n",
    "> By definition of the Lagrange polynomials, we see that $R_n(x) = P_{n+1}(x) - P_n(x)$ vanishes at $x = x_0, \\cdots, x_{n-1}$, thus, since $R_n$ is of degree at most $n$, there exists a constant $a_R$ such that \n",
    ">\n",
    ">$$R_n(x) = a_R(x-x_0)\\cdots (x-x_{n-1}).$$\n",
    ">\n",
    "> Similarly, there exists a constant $a_S$ such that \n",
    ">\n",
    ">$$S_n(x) = a_S(x-x_1)\\cdots (x-x_{n}).$$\n",
    "> \n",
    "> Now, observe that $R_n - S_n = Q_{n-1} - P_{n-1}$. The remainder of the proof just consists in identifying the coefficients of order $n$ and $n-1$ of these two polynomials. The right-hand side is of degree at most $n-1$ which implies that $S_n$ and $R_n$ must have the same coefficient of order $n$, that is \n",
    ">\n",
    "> $$a_R = a_S,$$\n",
    "> \n",
    "> which we now call $a$. We can thus write \n",
    ">\n",
    ">$$R_n(x) - S_n(x) = a(x-x_1)\\cdots(x-x_{n-1}) \\left[(x - x_0) - (x-x_n)\\right].$$\n",
    "> \n",
    "> Matching the coefficient of order $n-1$ of $R_n - S_n$ with that of $Q_{n-1} - P_{n-1}$ now yields, according to the reccurence hypothesis:\n",
    ">\n",
    ">$$a(x_n - x_0) = \\delta^{n-1}y[x_1,\\cdots,x_n] - \\delta^{n-1}y[x_0,\\cdots,x_{n-1}].$$\n",
    "> \n",
    "> Therefore $a = \\delta^{n}y[x_0,\\cdots,x_n]$ and using $P_n = P_{n-1} + R_n$, we get \n",
    "> \n",
    "> $$ P_n(x) =  \\delta^0y[x_0] + (x-x_0)\\delta^1y[x_0,x_1] + (x-x_0)(x-x_1)\\delta^2y[x_0,x_1,x_2] + \\cdots + \\\\(x-x_0)(x-x_1)\\cdots(x-x_{n-1})\\delta^{n}y[x_0,\\cdots,x_n]$$\n",
    ">\n",
    "> as intended."
   ]
  },
  {
   "cell_type": "markdown",
   "metadata": {},
   "source": [
    "Using this formula, we can use a Hörner scheme to evaluate the Lagrange polynomial, by rewriting: \n",
    "\n",
    "$$\\begin{eqnarray} \n",
    "P(x) &=& \\delta^0y[x_0] \\\\\n",
    "&& + (x-x_0) \\bigg( \\delta^1y[x_0,x_1]\\\\\n",
    "&& + (x-x_1) \\Big(\\delta^2y[x_0,x_1,x_2]\\\\\n",
    "&& + \\cdots\\\\\n",
    "&& + (x-x_{n-1})  \\delta^ny[x_0,\\cdots,x_n]\\Big)\\bigg)\\end{eqnarray}$$\n",
    "\n",
    "that allows to compute the value of $P$ at $x$ in $O(n)$ operations."
   ]
  },
  {
   "cell_type": "markdown",
   "metadata": {},
   "source": [
    "Examples of computation of Lagrange polynomials are proposed below. Using the divided difference method together with the Hörner scheme, this leads to $O(n^2)$ operations to compute the coefficients to the Lagrange polynomial plus $O(n)$ operations to evaluate it. \n",
    "\n",
    "First, we implement the function computing the values of a given polynomial using the *Hörner-like* scheme:\n",
    "\n",
    "$$\n",
    "P(x)= a_0 + (x-x_0)\\,\\times\\, \\bigg(a_1 \\,+\\, (x-x_1)\\,\\times\\, \\Big(a_2\\, +\\, \\ldots\\, +\\,(x-x_{n-1})\\,a_{n}\\Big) \\bigg)\n",
    "$$\n",
    "\n",
    "Leading to the Hörner-like algorithm for evaluating the polynomial"
   ]
  },
  {
   "cell_type": "markdown",
   "metadata": {},
   "source": [
    "<div  markdown=1 class=\"Algo\">\n",
    "**Hörner-like algorithm.** Evaluates the polynomial \n",
    "\n",
    "$$P(X) = a_0 + a_1 (X-x_0) + a_2 (X-x_0)(X-x_1) + ... + a_n (X-x_0)...(X-x_{n-1}).\n",
    "$$\n",
    "\n",
    "\\begin{align}\n",
    "INPUT:&\\quad (a_k)_{0\\leq k \\leq n}, \\,(x_k)_{0\\leq k \\leq n-1},\\,X\\\\\n",
    "INIT:\n",
    "&\\quad PX = a_{n}\\\\\n",
    "FOR: &\\quad k = 1 .. n \\\\\n",
    "&\\quad\\quad PX = (X-x_{n-k}) \\times PX + a_{n-k}\\\\\n",
    "RETURN:&\\quad PX\\\\\n",
    "\\end{align}"
   ]
  },
  {
   "cell_type": "markdown",
   "metadata": {},
   "source": [
    "<div markdown=1 class=\"DoIt\"> **2.** Complete the following function implementing the previous algorithm. You can test it by running the next cell. \n",
    "\n",
    "Take care that vectors $a$ and $x$ do not have the same size: $a=(a_0,\\ldots,a_n)$ while $x=(x_0,\\ldots,x_{n-1})$."
   ]
  },
  {
   "cell_type": "code",
   "execution_count": 6,
   "metadata": {},
   "outputs": [
    {
     "ename": "SyntaxError",
     "evalue": "invalid syntax (<ipython-input-6-44108224e143>, line 13)",
     "output_type": "error",
     "traceback": [
      "\u001b[0;36m  File \u001b[0;32m\"<ipython-input-6-44108224e143>\"\u001b[0;36m, line \u001b[0;32m13\u001b[0m\n\u001b[0;31m    ---\u001b[0m\n\u001b[0m       ^\u001b[0m\n\u001b[0;31mSyntaxError\u001b[0m\u001b[0;31m:\u001b[0m invalid syntax\n"
     ]
    }
   ],
   "source": [
    "## Horner algorithm to evaluate a polynomial\n",
    "## P(x) = a0 + a1 (x-x0) + a2 (x-x0)(x-x1) + ... + an (x-x0)...(x-x_{n-1})\n",
    "## input : a = vector containing the coefficients a0...an\n",
    "##         x = vector containing the points x0...x_{n-1}\n",
    "##         X = vector (or real) containing the points x on which the polynomial has to be evaluated\n",
    "## output : PX = vector containing the values of the polynomial at points X_i\n",
    "##              PX[i] = PX(X[i])\n",
    "\n",
    "def eval_Horner(a,x,X):\n",
    "    N = a.size\n",
    "    PX = a[-1]\n",
    "    for k in range(1,N):\n",
    "        ---\n",
    "    return PX"
   ]
  },
  {
   "cell_type": "code",
   "execution_count": 7,
   "metadata": {},
   "outputs": [
    {
     "ename": "NameError",
     "evalue": "name 'eval_Horner' is not defined",
     "output_type": "error",
     "traceback": [
      "\u001b[0;31m---------------------------------------------------------------------------\u001b[0m",
      "\u001b[0;31mNameError\u001b[0m                                 Traceback (most recent call last)",
      "\u001b[0;32m<ipython-input-7-8badbb4d40d9>\u001b[0m in \u001b[0;36m<module>\u001b[0;34m()\u001b[0m\n\u001b[1;32m      3\u001b[0m \u001b[0;31m# P(X) = 9 + 7(x-1) + 6(x-1)(x-2) + 8(x-1)(x-2)(x-3)\u001b[0m\u001b[0;34m\u001b[0m\u001b[0;34m\u001b[0m\u001b[0m\n\u001b[1;32m      4\u001b[0m \u001b[0mX\u001b[0m \u001b[0;34m=\u001b[0m \u001b[0mnp\u001b[0m\u001b[0;34m.\u001b[0m\u001b[0marray\u001b[0m\u001b[0;34m(\u001b[0m\u001b[0;34m[\u001b[0m\u001b[0;36m1\u001b[0m\u001b[0;34m,\u001b[0m\u001b[0;36m2\u001b[0m\u001b[0;34m,\u001b[0m\u001b[0;36m3\u001b[0m\u001b[0;34m,\u001b[0m\u001b[0;36m4\u001b[0m\u001b[0;34m,\u001b[0m\u001b[0;36m6\u001b[0m\u001b[0;34m]\u001b[0m\u001b[0;34m)\u001b[0m\u001b[0;34m\u001b[0m\u001b[0m\n\u001b[0;32m----> 5\u001b[0;31m \u001b[0mR\u001b[0m \u001b[0;34m=\u001b[0m \u001b[0meval_Horner\u001b[0m\u001b[0;34m(\u001b[0m\u001b[0ma\u001b[0m\u001b[0;34m,\u001b[0m\u001b[0mx\u001b[0m\u001b[0;34m,\u001b[0m\u001b[0mX\u001b[0m\u001b[0;34m)\u001b[0m\u001b[0;34m\u001b[0m\u001b[0m\n\u001b[0m\u001b[1;32m      6\u001b[0m \u001b[0msolution\u001b[0m \u001b[0;34m=\u001b[0m \u001b[0mnp\u001b[0m\u001b[0;34m.\u001b[0m\u001b[0marray\u001b[0m\u001b[0;34m(\u001b[0m\u001b[0;34m[\u001b[0m\u001b[0;36m9\u001b[0m\u001b[0;34m,\u001b[0m\u001b[0;36m16\u001b[0m\u001b[0;34m,\u001b[0m\u001b[0;36m35\u001b[0m\u001b[0;34m,\u001b[0m\u001b[0;36m114\u001b[0m\u001b[0;34m,\u001b[0m\u001b[0;36m644\u001b[0m\u001b[0;34m]\u001b[0m\u001b[0;34m)\u001b[0m\u001b[0;34m\u001b[0m\u001b[0m\n\u001b[1;32m      7\u001b[0m \u001b[0mprint\u001b[0m\u001b[0;34m(\u001b[0m\u001b[0;34m'Your code output: '\u001b[0m\u001b[0;34m,\u001b[0m \u001b[0mR\u001b[0m\u001b[0;34m)\u001b[0m\u001b[0;34m\u001b[0m\u001b[0m\n",
      "\u001b[0;31mNameError\u001b[0m: name 'eval_Horner' is not defined"
     ]
    }
   ],
   "source": [
    "x = np.array([1,2,3])\n",
    "a = np.array([9,7,6,8])\n",
    "# P(X) = 9 + 7(x-1) + 6(x-1)(x-2) + 8(x-1)(x-2)(x-3)\n",
    "X = np.array([1,2,3,4,6]) \n",
    "R = eval_Horner(a,x,X)\n",
    "solution = np.array([9,16,35,114,644])\n",
    "print('Your code output: ', R)\n",
    "print('The solution: ',solution)\n",
    "if np.allclose(R,solution):\n",
    "    print(':-)')\n",
    "else:\n",
    "    print(':-(')\n"
   ]
  },
  {
   "cell_type": "markdown",
   "metadata": {},
   "source": [
    "To compute the coefficients $(\\delta^ky[x_0,\\cdots,x_k])_{k=0..n}$ of Lagrange polynomial, we introduce an intermediate vector $\\delta^k$ that will be computed step by step: \n",
    "\n",
    "$$\\delta^k = (\\delta^0y[x_0],\\delta^1y[x_0,x_1],\\delta^2y[x_0,x_1,x_2],\\cdots,\\delta^ky[x_0,\\cdots,x_k],\\delta^ky[x_1,\\cdots,x_{k+1}],\\dots,\\delta^ky[x_{n-k},\\cdots,x_n])$$\n",
    "\n",
    "The first $k+1$ coefficients of $\\delta^k$ contain the first $k+1$ coefficients of $P_n$ so that $\\delta^n$ is the list of all the coefficients of the polynomial. \n",
    "\n",
    "From the definition of the divided differences, these vectors $\\delta^k$ can be computed recursively. Indeed, we see that $\\delta^0 = y$ and that $\\delta^{k+1}$ can be computed from $\\delta^k$ from\n",
    "\n",
    "$$\n",
    "\\begin{eqnarray}\n",
    "\\forall i \\leq k,  \\quad\\delta^{k+1}[i] &=& \\delta^k[i], \\\\\n",
    "\\forall i>k,  \\quad \\delta^{k+1}[i] &=& \\delta^{k+1}y[x_{i-k-1},\\cdots,x_i] \\\\\n",
    "&=& \\frac{\\delta^{k}y[x_{i-k},\\cdots,x_i] - \\delta^k y[x_{i-k-1},\\cdots,x_{i-1}]}{x[i] - x[i - k - 1]} \\\\\n",
    "&=& \\frac{\\delta^k[i] - \\delta^k[i-1]}{x[i] - x[i-k-1]}\n",
    "\\end{eqnarray}\n",
    "$$\n",
    "\n",
    "For a given set of data $(x_k,y_k)_{k=0..n}$, the code below computes recursively the vectors $\\delta^k$ and returns the last computed vector $\\delta^n$ containing the coefficients of $P_n$."
   ]
  },
  {
   "cell_type": "code",
   "execution_count": 8,
   "metadata": {
    "collapsed": true
   },
   "outputs": [],
   "source": [
    "## Computation of the coefficients of the Lagrange interpolation polynomial \n",
    "## using the divided differences method \n",
    "## for the dataset (xk,yk)_{k=0..n}\n",
    "## input : x = vector containing the nodes x0...xn\n",
    "##         y = vector containing the values y0...yn\n",
    "## output : deltak = vector containing the coefficients of the Lagrange polynomial:\n",
    "##                   deltak[i] = di\n",
    "##                   where Pn(x) = d0 + d1 (x-x0) + d2 (x-x0)(x-x1) + ... + dn (x-x0)...(x-xn)\n",
    "\n",
    "def divided_diff(x, y):\n",
    "    n = x.size\n",
    "    deltak = y.copy() # Use copy to prevent the values in y from being modified \n",
    "    for k in range(1,n):\n",
    "        deltak[k:] = (deltak[k:] - deltak[k-1:-1])/(x[k:] - x[:-k])\n",
    "    return deltak"
   ]
  },
  {
   "cell_type": "markdown",
   "metadata": {},
   "source": [
    "<div markdown=1 class=\"DoIt\"> **3.** Complete the following function computing the coefficients of the Lagrange polynomial based on the dataset $(x_k,y_k)_{k=0..n}$ and evaluation this polynomial on a given set of $N$ points $(X_i)_{i=0..N-1}$."
   ]
  },
  {
   "cell_type": "code",
   "execution_count": 9,
   "metadata": {},
   "outputs": [
    {
     "ename": "SyntaxError",
     "evalue": "invalid syntax (<ipython-input-9-38d303d43c9d>, line 13)",
     "output_type": "error",
     "traceback": [
      "\u001b[0;36m  File \u001b[0;32m\"<ipython-input-9-38d303d43c9d>\"\u001b[0;36m, line \u001b[0;32m13\u001b[0m\n\u001b[0;31m    delta = ---    # computation of the coefficients of Lagrange polynomial for datas (x,y)\u001b[0m\n\u001b[0m                                                                                           ^\u001b[0m\n\u001b[0;31mSyntaxError\u001b[0m\u001b[0;31m:\u001b[0m invalid syntax\n"
     ]
    }
   ],
   "source": [
    "## Computation of the values of the Lagrange interpolation polynomial on a given set of points\n",
    "## The Lagrange polinomial being based on the dataset (xk,yk)_{k=0..n}\n",
    "## input : x = vector containing the nodes x0...xn\n",
    "##         y = vector containing the values y0...yn\n",
    "##         X = vector (or real) containing the points x on which the polynomial has to be evaluated\n",
    "## output : R = vector containing the values of the polynomial at points X_i\n",
    "##              R[i] = P(X[i])\n",
    "##          delta = vector containing the coefficients of the Lagrange polynomial:\n",
    "##                  deltak[i] = di\n",
    "##                  where Pn(x) = d0 + d1 (x-x0) + d2 (x-x0)(x-x1) + ... + dn (x-x0)...(x-xn)\n",
    "\n",
    "def LagrangeInterp(x, y, X):\n",
    "    delta = ---    # computation of the coefficients of Lagrange polynomial for datas (x,y)\n",
    "    R = ---        # evaluation at points X\n",
    "    return (R, delta)"
   ]
  },
  {
   "cell_type": "markdown",
   "metadata": {},
   "source": [
    "<div markdown=1 class=\"DoIt\"> **4.** Run the following cell to test your algorithm. Check that the Lagrange polynomial interpolates the data."
   ]
  },
  {
   "cell_type": "code",
   "execution_count": 10,
   "metadata": {},
   "outputs": [
    {
     "ename": "NameError",
     "evalue": "name 'LagrangeInterp' is not defined",
     "output_type": "error",
     "traceback": [
      "\u001b[0;31m---------------------------------------------------------------------------\u001b[0m",
      "\u001b[0;31mNameError\u001b[0m                                 Traceback (most recent call last)",
      "\u001b[0;32m<ipython-input-10-0335e8a99cfe>\u001b[0m in \u001b[0;36m<module>\u001b[0;34m()\u001b[0m\n\u001b[1;32m      5\u001b[0m \u001b[0;34m\u001b[0m\u001b[0m\n\u001b[1;32m      6\u001b[0m \u001b[0;31m# computes the values of the polynomial at point X and its coefficients\u001b[0m\u001b[0;34m\u001b[0m\u001b[0;34m\u001b[0m\u001b[0m\n\u001b[0;32m----> 7\u001b[0;31m \u001b[0mPX\u001b[0m\u001b[0;34m,\u001b[0m \u001b[0mdelta\u001b[0m \u001b[0;34m=\u001b[0m \u001b[0mLagrangeInterp\u001b[0m\u001b[0;34m(\u001b[0m\u001b[0mx\u001b[0m\u001b[0;34m,\u001b[0m \u001b[0my\u001b[0m\u001b[0;34m,\u001b[0m \u001b[0mX\u001b[0m\u001b[0;34m)\u001b[0m\u001b[0;34m\u001b[0m\u001b[0m\n\u001b[0m\u001b[1;32m      8\u001b[0m \u001b[0;34m\u001b[0m\u001b[0m\n\u001b[1;32m      9\u001b[0m \u001b[0;31m# plot\u001b[0m\u001b[0;34m\u001b[0m\u001b[0;34m\u001b[0m\u001b[0m\n",
      "\u001b[0;31mNameError\u001b[0m: name 'LagrangeInterp' is not defined"
     ]
    }
   ],
   "source": [
    "n = 10   # degree of the interpolation polynimial\n",
    "x = np.linspace(0,1,n+1)   # n+1 equispaced nodes (x_k)\n",
    "y = np.random.random_sample((n+1,))  # n+1 random values for (y_k), uniform in [0,1]\n",
    "X = np.linspace(0,1,10*n)  # values of x where the lagrange polynomial has to be computed\n",
    "\n",
    "# computes the values of the polynomial at point X and its coefficients\n",
    "PX, delta = LagrangeInterp(x, y, X)  \n",
    "\n",
    "# plot\n",
    "fig = plt.figure(figsize = (15,7))\n",
    "plt.plot(X,PX,label=\"Lagrange Polynomial\")\n",
    "plt.plot(x,y,marker='o',linestyle='',label=\"dataset\")\n",
    "plt.legend(fontsize = 15)\n",
    "plt.show()"
   ]
  },
  {
   "cell_type": "markdown",
   "metadata": {},
   "source": [
    "### Approximating a function: estimation of the error"
   ]
  },
  {
   "cell_type": "markdown",
   "metadata": {},
   "source": [
    "In the previous section, we presented the way to compute the polynomial with lower degree interpolating a dataset $(x_k,y_k)_{k=0..n-1}$. \n",
    "\n",
    "Suppose now that, for all $k$, the value $y_k$ is the value of a given function $f$ at the node $x_k$: $y_k=f(x_k)$. \n",
    "\n",
    "Denote by $P_n$ the Lagrange polynomial interpolating the dataset $(x_k,y_k)$. The question is to know if  $P_n$ is a good approximation of $f$. More precisely one has to answer the following questions:\n",
    "- if $P_n$ is used to approximate $f$ for other points than the nodes $x_k$, how confident can we be in the results ?\n",
    "- does it improve when the number of nodes goes to infinity (i.e. $n$ goes to infinity) ?\n",
    "- are there particularly good choices for the nodes  $(x_k)$?"
   ]
  },
  {
   "cell_type": "markdown",
   "metadata": {},
   "source": [
    "For example, suppose you want to approximate $f(x)=\\sin(2\\pi x)$ on $[-1,1]$ using Lagrange polynomials. If $\\overline P_n$ in the Lagrange polynomial computed from $n+1$ equidistant nodes in $[-1,1]$:\n",
    "\n",
    "$$\n",
    "\\overline x_k = -1 + \\frac{2k}{n+1}, \\quad 0\\leq k \\leq n+1\n",
    "$$\n",
    "\n",
    "we plot below the interpolant for different values of $n$ and the corresponding local error: \n",
    "\n",
    "$$\n",
    "e_n(x) = \\lvert f(x)-\\overline P_n(x) \\rvert.\n",
    "$$"
   ]
  },
  {
   "cell_type": "code",
   "execution_count": 11,
   "metadata": {
    "collapsed": true
   },
   "outputs": [],
   "source": [
    "## function ploting the Lagrange interpolant and the local error on [-1,1]\n",
    "## input : f = function to be interpolated\n",
    "##         x = vector containing the nodes x0...xn on which the interpolation is based\n",
    "## output : plots 2 figures\n",
    "##         left figure: f and its interpolant\n",
    "##         right figure: the local error e_n(x)\n",
    "\n",
    "def showLagrange(f, x):\n",
    "    X = np.linspace(-1,1,100)  # points to plot the interpolent and the error\n",
    "    X = np.sort(np.concatenate((X, x)))     # add the nodes to the plot  \n",
    "    y = f(x)   # values of f at the nodes\n",
    "    (PX, delta) = LagrangeInterp(x, y, X)    \n",
    "    fig = plt.figure(figsize=(20, 7))\n",
    "    plt.subplot(121)\n",
    "    plt.plot(X,f(X),label = 'Target function')\n",
    "    plt.plot(x,f(x),marker='o',linestyle='',label = 'data set')\n",
    "    plt.plot(X,PX,'--',label='Lagrange polynomial')\n",
    "    plt.legend(fontsize = 15)\n",
    "    plt.title('Lagrange Polynomial vs '+f.__name__,fontsize = 15)\n",
    "    plt.subplot(122)\n",
    "    plt.plot(X,abs(f(X) - PX))\n",
    "    plt.plot(x,1e-16*np.ones(x.size),marker='o',linestyle='')\n",
    "    plt.yscale('log')\n",
    "    plt.title('Interpolation error in log-scale for '+f.__name__+' function',fontsize = 15)\n",
    "    plt.show()"
   ]
  },
  {
   "cell_type": "markdown",
   "metadata": {},
   "source": [
    "<div markdown=1 class=\"DoIt\"> **5.** Run the following cell for different values of $n \\in [0,50]$. What do you observe?"
   ]
  },
  {
   "cell_type": "code",
   "execution_count": 12,
   "metadata": {},
   "outputs": [
    {
     "ename": "NameError",
     "evalue": "name 'LagrangeInterp' is not defined",
     "output_type": "error",
     "traceback": [
      "\u001b[0;31m---------------------------------------------------------------------------\u001b[0m",
      "\u001b[0;31mNameError\u001b[0m                                 Traceback (most recent call last)",
      "\u001b[0;32m<ipython-input-12-8e1d6daab8cb>\u001b[0m in \u001b[0;36m<module>\u001b[0;34m()\u001b[0m\n\u001b[1;32m      6\u001b[0m \u001b[0mn\u001b[0m\u001b[0;34m=\u001b[0m\u001b[0;36m5\u001b[0m\u001b[0;34m\u001b[0m\u001b[0m\n\u001b[1;32m      7\u001b[0m \u001b[0mx\u001b[0m\u001b[0;34m=\u001b[0m\u001b[0mnp\u001b[0m\u001b[0;34m.\u001b[0m\u001b[0mlinspace\u001b[0m\u001b[0;34m(\u001b[0m\u001b[0;34m-\u001b[0m\u001b[0;36m1\u001b[0m\u001b[0;34m,\u001b[0m\u001b[0;36m1\u001b[0m\u001b[0;34m,\u001b[0m\u001b[0mn\u001b[0m\u001b[0;34m+\u001b[0m\u001b[0;36m1\u001b[0m\u001b[0;34m)\u001b[0m  \u001b[0;31m# n+1 equispaced nodes for the interpolation\u001b[0m\u001b[0;34m\u001b[0m\u001b[0m\n\u001b[0;32m----> 8\u001b[0;31m \u001b[0mshowLagrange\u001b[0m\u001b[0;34m(\u001b[0m\u001b[0msineWave\u001b[0m\u001b[0;34m,\u001b[0m\u001b[0mx\u001b[0m\u001b[0;34m)\u001b[0m\u001b[0;34m\u001b[0m\u001b[0m\n\u001b[0m",
      "\u001b[0;32m<ipython-input-11-351d9a9b358d>\u001b[0m in \u001b[0;36mshowLagrange\u001b[0;34m(f, x)\u001b[0m\n\u001b[1;32m     10\u001b[0m     \u001b[0mX\u001b[0m \u001b[0;34m=\u001b[0m \u001b[0mnp\u001b[0m\u001b[0;34m.\u001b[0m\u001b[0msort\u001b[0m\u001b[0;34m(\u001b[0m\u001b[0mnp\u001b[0m\u001b[0;34m.\u001b[0m\u001b[0mconcatenate\u001b[0m\u001b[0;34m(\u001b[0m\u001b[0;34m(\u001b[0m\u001b[0mX\u001b[0m\u001b[0;34m,\u001b[0m \u001b[0mx\u001b[0m\u001b[0;34m)\u001b[0m\u001b[0;34m)\u001b[0m\u001b[0;34m)\u001b[0m     \u001b[0;31m# add the nodes to the plot\u001b[0m\u001b[0;34m\u001b[0m\u001b[0m\n\u001b[1;32m     11\u001b[0m     \u001b[0my\u001b[0m \u001b[0;34m=\u001b[0m \u001b[0mf\u001b[0m\u001b[0;34m(\u001b[0m\u001b[0mx\u001b[0m\u001b[0;34m)\u001b[0m   \u001b[0;31m# values of f at the nodes\u001b[0m\u001b[0;34m\u001b[0m\u001b[0m\n\u001b[0;32m---> 12\u001b[0;31m     \u001b[0;34m(\u001b[0m\u001b[0mPX\u001b[0m\u001b[0;34m,\u001b[0m \u001b[0mdelta\u001b[0m\u001b[0;34m)\u001b[0m \u001b[0;34m=\u001b[0m \u001b[0mLagrangeInterp\u001b[0m\u001b[0;34m(\u001b[0m\u001b[0mx\u001b[0m\u001b[0;34m,\u001b[0m \u001b[0my\u001b[0m\u001b[0;34m,\u001b[0m \u001b[0mX\u001b[0m\u001b[0;34m)\u001b[0m\u001b[0;34m\u001b[0m\u001b[0m\n\u001b[0m\u001b[1;32m     13\u001b[0m     \u001b[0mfig\u001b[0m \u001b[0;34m=\u001b[0m \u001b[0mplt\u001b[0m\u001b[0;34m.\u001b[0m\u001b[0mfigure\u001b[0m\u001b[0;34m(\u001b[0m\u001b[0mfigsize\u001b[0m\u001b[0;34m=\u001b[0m\u001b[0;34m(\u001b[0m\u001b[0;36m20\u001b[0m\u001b[0;34m,\u001b[0m \u001b[0;36m7\u001b[0m\u001b[0;34m)\u001b[0m\u001b[0;34m)\u001b[0m\u001b[0;34m\u001b[0m\u001b[0m\n\u001b[1;32m     14\u001b[0m     \u001b[0mplt\u001b[0m\u001b[0;34m.\u001b[0m\u001b[0msubplot\u001b[0m\u001b[0;34m(\u001b[0m\u001b[0;36m121\u001b[0m\u001b[0;34m)\u001b[0m\u001b[0;34m\u001b[0m\u001b[0m\n",
      "\u001b[0;31mNameError\u001b[0m: name 'LagrangeInterp' is not defined"
     ]
    }
   ],
   "source": [
    "## test for the sine function and equidistant points\n",
    "\n",
    "def sineWave(x):\n",
    "    return np.sin(2*pi*x)\n",
    "\n",
    "n=5\n",
    "x=np.linspace(-1,1,n+1)  # n+1 equispaced nodes for the interpolation\n",
    "showLagrange(sineWave,x)  \n"
   ]
  },
  {
   "cell_type": "markdown",
   "metadata": {},
   "source": [
    "If $f$ is the function to be interpolated, $(x_k)_{0 \\leq k \\leq n}$ are any distinct interpolation points and $P_n$ is the corresponding Lagrange polynomial, we can quantify the quality of the approximation  by studying the **uniform error on [a,b]**:\n",
    "\n",
    "$$\\sup_{[a,b]}\\,\\lvert f(x) - P_n(x) \\rvert.$$\n",
    "\n",
    "If this quantity is equal to zero then $f$ and $P_n$ are equal on $[a,b]$. Moreover, $\\varepsilon$ being given, if the uniform error is smaller than $\\varepsilon$, then for any $x$ in $[a,b]$, the absolute difference between $f(x)$ and $P_n(x)$ is lower than $\\varepsilon$. In other \"words\": \n",
    "\n",
    "$$\\sup_{[a,b]}\\,\\lvert f(x) - P_n(x) \\rvert < \\varepsilon \\implies \\forall  x \\in [a,b], \\quad \\lvert f(x) - P_n(x)\\rvert < \\varepsilon$$\n",
    "\n",
    "In the following, we study the behaviour of the uniform error when the number of points goes to infinity."
   ]
  },
  {
   "cell_type": "markdown",
   "metadata": {},
   "source": [
    "<div  markdown=1 class=\"Thm\">  **Approximation error for the Lagrange polynomial** Let $f : [a,b] \\to \\mathbb{R}$ be $n+1$ times differentiable and let $P_n$ the Lagrange polynomial associated with the points $(x_i, f(x_i))_{0\\leq i \\leq n}$. Then, for every $x$ in $[a,b]$, there exists $\\xi \\in ]a,b[$ such that \n",
    "\n",
    "$$f(x) - P_n(x) = (x-x_0)(x-x_1)\\cdots(x-x_n) \\frac{f^{(n+1)}(\\xi)}{(n+1)!}$$"
   ]
  },
  {
   "cell_type": "markdown",
   "metadata": {},
   "source": [
    "> **Proof.** \n",
    "> If $x$ is equal to one of the nodes $x_k$, the equality holds. So let us prove it if $x\\neq x_k$ for all $k=0\\ldots n.$ \n",
    ">\n",
    ">To do so, let $x$ be given and consider $P_{n+1}$ the Lagrange interpolation polynomial of $f$, of degree lower than $n+1$ and based on the $n+2$ nodes $(x,x_0,x_1,\\ldots ,x_n)$.\n",
    ">\n",
    "> Since $P_{n+1}$ interpolates $f$ at point $x$, wa have:\n",
    ">\n",
    ">$$\n",
    "f(x)-P_n(x) = P_{n+1}(x)-P_n(x).\n",
    "$$\n",
    ">\n",
    ">Then, remark that the $n+1$ points $(x_0,\\ldots,x_n)$ are roots the polynomial $P_{n+1}-P_n$, of degree lower than $n+1$. As a consequence, we know that there exists a constant $C$ such that\n",
    ">\n",
    ">$$\n",
    "P_{n+1}(t)-P_n(t) = C \\,(t-x_0)(t-x_1)\\cdots(t-x_n)\\quad \\forall t\\in[a,b]\n",
    "$$\n",
    ">\n",
    ">and consequently we get if $t=x$:\n",
    ">\n",
    ">$$\n",
    "P_{n+1}(x)-P_n(x) = C \\,(x-x_0)(x-x_1)\\cdots(x-x_n).\n",
    "$$\n",
    ">\n",
    ">It remains to compute the constant $C$. To do so, let us consider the function\n",
    ">\n",
    ">$$\n",
    "g(t) = P_{n+1}(t) - f(t).\n",
    "$$\n",
    ">\n",
    ">This function has $n+2$ disctincts roots (being $x$, $x_0$, ... $x_n$) and then, iterating Rolle's theorem we obtain that\n",
    ">\n",
    ">$$\n",
    "\\exists \\xi \\in[a,b], \\quad g^{(n+1)}(\\xi)=0.\n",
    "$$\n",
    ">\n",
    ">Using the fact that $P_{n+1}=P_n +C \\,(x-x_0)(x-x_1)\\cdots(x-x_n)$ together with the fact that degree of $P_n$ is lower than $n$,  we obtain\n",
    ">\n",
    ">$$\n",
    "0=g^{(n+1)}(\\xi)= P_{n+1}^{(n+1)}(\\xi) - f^{(n+1)}(\\xi) = C\\,(n+1)! - f^{(n+1)}(\\xi)\n",
    "$$\n",
    ">\n",
    ">and finally\n",
    ">\n",
    ">$$\n",
    "C = \\frac{f^{(n+1)}(\\xi)}{(n+1)!}\n",
    "$$\n",
    ">\n",
    ">which ends the proof.\n"
   ]
  },
  {
   "cell_type": "markdown",
   "metadata": {},
   "source": [
    "Let us define the polynomial $\\Pi_{n+1}$ of degree $n+1$ as\n",
    "\n",
    "$$\n",
    "\\Pi_{n+1}(x) = (x-x_0)(x-x_1)\\cdots(x-x_n).\n",
    "$$\n",
    "\n",
    "From the previous theorem we see that the convergence to zero of the uniform error, depends both on \n",
    "- the successive derivatives of $f$\n",
    "- the estimation of \n",
    "$$\n",
    "\\Delta(x_0,\\ldots,x_n) = \\sup_{x\\in [a,b]}\\lvert \\Pi_{n+1}(x) \\rvert = \\sup_{x\\in [a,b]}\\lvert (x-x_0)(x-x_1)\\cdots(x-x_n) \\rvert\n",
    "$$\n",
    "\n",
    "which itself depends on the nodes that have been used for the interpolation. \n",
    "\n",
    "In the case of a very regular function, one can deduce the convergence of the interpolants when the number of nodes goes to infinity, whatever the way the nodes are chosen:"
   ]
  },
  {
   "cell_type": "markdown",
   "metadata": {},
   "source": [
    "<div  markdown=1 class=\"Thm\">  **Uniform convergence for \"regular\" functions** Let $f : [a,b] \\to \\mathbb{R}$ be $\\cal{C}^\\infty$. Suppose that \n",
    "\n",
    "$$\n",
    "\\exists M>0, \\quad \\forall k\\geq 0,\\quad \\sup_{[a,b]} \\lvert f^{(k)}\\rvert \\leq M.\n",
    "$$\n",
    "\n",
    "For any $n\\in\\mathbb{N}$, choose a family of $n+1$ nodes $({x_k}^n)_{0\\leq k \\leq n}$ in $[a,b]$ and let $P_n$ be the Lagrange polynomial interpolating $f$ at these nodes. Then, the sequence $P_n$ converges uniformly to $f$ on the interval $[a,b]$:\n",
    "\n",
    "$$\\sup_{x\\in[a,b]}\\,\\lvert f(x) - P_n(x) \\rvert \\longrightarrow 0 \\quad\\text{when}\\quad n\\to +\\infty.$$\n",
    "\n",
    "We say that the sequence $(P_n)_{n\\geq 0}$ *converges uniformly* to $f$ when $n$ goes to infinity."
   ]
  },
  {
   "cell_type": "markdown",
   "metadata": {},
   "source": [
    "<div markdown=1 class=\"DoIt\"> **6.** Prove the previous theorem."
   ]
  },
  {
   "cell_type": "markdown",
   "metadata": {},
   "source": [
    "The hypothesis of the previous theorem hold for the sine function. From this, we can deduce that for example, the previous interpolants on equispaced nodes are **converging uniformly** to the function when the number of points goes to infinity. \n",
    "\n"
   ]
  },
  {
   "cell_type": "markdown",
   "metadata": {},
   "source": [
    "<div markdown = 1, class = \"Def\"> The function $f$ being given, we call $E_{\\text{equi}}(n)$ the uniform error for equispaced nodes, that is: \n",
    "\n",
    "$$E_{\\text{equi}}(n) = \\sup_{[a,b]}\\,\\lvert f(x) - \\overline P_n(x) \\rvert$$\n",
    "\n",
    "where $\\overline P_n$ is the Lagrange polynomial approximating $f$ on $[a,b]$ for the  $n+1$ equispaced nodes $(\\bar x_0,\\ldots,\\bar x_n)$."
   ]
  },
  {
   "cell_type": "markdown",
   "metadata": {},
   "source": [
    "We plot the behaviour of $E_{\\text{equi}}$ versus $n$ in the case of the sine function. Note that, the $\\sup$ on $[a,b]$ cannot be computed exaclty (it would require to evaluate $f$ and $P_n$ an infinity of times). We will approximate it as the $\\max$ on a set of points $(X_i)_{i=0..N}$. That is, we make the approximation \n",
    "\n",
    "$$\\sup_{[a,b]}\\,\\lvert f(x) - \\overline P_n(x) \\rvert \\approx \\max_{i \\in [0,N]} \\lvert f(X_i) - P_n(X_i)\\rvert$$\n",
    "\n",
    "Where $X_i$ is a set of equispaced spaced points on $[a,b]$ with $N$ big enough..."
   ]
  },
  {
   "cell_type": "code",
   "execution_count": 13,
   "metadata": {
    "collapsed": true
   },
   "outputs": [],
   "source": [
    "## function that computes the uniform error on [-1,1] \n",
    "## for a given set of values of n = 1..nmax and equidistant points\n",
    "## input : f = function to be interpolated\n",
    "##         nmax = maximal value of n\n",
    "## output : ns = vector which contains the values of n tested: \n",
    "##               ns = 1 .. nmax\n",
    "##          Eequi = vector which contains the corresponding values of the uniform error\n",
    "##                  Eequi[n] = E_equi(n) = sup (f - \\bar Pn) \n",
    "\n",
    "def ErrorEqui(f, nmax):\n",
    "    ns = np.arange(1,nmax) # values of n to be tested\n",
    "    Eequi = np.zeros(ns.size) # Pre-allocation\n",
    "    Xtest = np.linspace(-1,1,200)  # points discretizing [a,b] to compute the uniform error\n",
    "    for n in ns:\n",
    "        # loop on n, for each n, compute the uniform error on [-1,1]\n",
    "        x = np.linspace(-1,1,n+1) # n+1 equispaced nodes to compute the interpolant\n",
    "        y = f(x)  # values of f at these nodes\n",
    "        # computation of the values of the Lagrange polynomial at points X\n",
    "        (PX, delta) = LagrangeInterp(x,y,X)\n",
    "        # computation of the corresponding uniform error\n",
    "        Eequi[n-1] = np.max(abs(PX - f(X)))\n",
    "    return (ns, Eequi)"
   ]
  },
  {
   "cell_type": "markdown",
   "metadata": {},
   "source": [
    "<div markdown=1 class=\"DoIt\"> **7.** Run the following cell to observe the convergence of the method for the sine function and equispaced points."
   ]
  },
  {
   "cell_type": "code",
   "execution_count": 14,
   "metadata": {},
   "outputs": [
    {
     "ename": "NameError",
     "evalue": "name 'LagrangeInterp' is not defined",
     "output_type": "error",
     "traceback": [
      "\u001b[0;31m---------------------------------------------------------------------------\u001b[0m",
      "\u001b[0;31mNameError\u001b[0m                                 Traceback (most recent call last)",
      "\u001b[0;32m<ipython-input-14-268c98646a67>\u001b[0m in \u001b[0;36m<module>\u001b[0;34m()\u001b[0m\n\u001b[1;32m      1\u001b[0m \u001b[0;31m## test for the sine function\u001b[0m\u001b[0;34m\u001b[0m\u001b[0;34m\u001b[0m\u001b[0m\n\u001b[1;32m      2\u001b[0m \u001b[0mnmax\u001b[0m\u001b[0;34m=\u001b[0m\u001b[0;36m20\u001b[0m\u001b[0;34m\u001b[0m\u001b[0m\n\u001b[0;32m----> 3\u001b[0;31m \u001b[0;34m(\u001b[0m\u001b[0mns\u001b[0m\u001b[0;34m,\u001b[0m \u001b[0mEequi\u001b[0m\u001b[0;34m)\u001b[0m \u001b[0;34m=\u001b[0m \u001b[0mErrorEqui\u001b[0m\u001b[0;34m(\u001b[0m\u001b[0msineWave\u001b[0m\u001b[0;34m,\u001b[0m \u001b[0mnmax\u001b[0m\u001b[0;34m)\u001b[0m\u001b[0;34m\u001b[0m\u001b[0m\n\u001b[0m\u001b[1;32m      4\u001b[0m \u001b[0;34m\u001b[0m\u001b[0m\n\u001b[1;32m      5\u001b[0m \u001b[0mfig\u001b[0m \u001b[0;34m=\u001b[0m \u001b[0mplt\u001b[0m\u001b[0;34m.\u001b[0m\u001b[0mfigure\u001b[0m\u001b[0;34m(\u001b[0m\u001b[0mfigsize\u001b[0m \u001b[0;34m=\u001b[0m \u001b[0;34m(\u001b[0m\u001b[0;36m15\u001b[0m\u001b[0;34m,\u001b[0m\u001b[0;36m5\u001b[0m\u001b[0;34m)\u001b[0m\u001b[0;34m)\u001b[0m\u001b[0;34m\u001b[0m\u001b[0m\n",
      "\u001b[0;32m<ipython-input-13-7d745a9cad87>\u001b[0m in \u001b[0;36mErrorEqui\u001b[0;34m(f, nmax)\u001b[0m\n\u001b[1;32m     17\u001b[0m         \u001b[0my\u001b[0m \u001b[0;34m=\u001b[0m \u001b[0mf\u001b[0m\u001b[0;34m(\u001b[0m\u001b[0mx\u001b[0m\u001b[0;34m)\u001b[0m  \u001b[0;31m# values of f at these nodes\u001b[0m\u001b[0;34m\u001b[0m\u001b[0m\n\u001b[1;32m     18\u001b[0m         \u001b[0;31m# computation of the values of the Lagrange polynomial at points X\u001b[0m\u001b[0;34m\u001b[0m\u001b[0;34m\u001b[0m\u001b[0m\n\u001b[0;32m---> 19\u001b[0;31m         \u001b[0;34m(\u001b[0m\u001b[0mPX\u001b[0m\u001b[0;34m,\u001b[0m \u001b[0mdelta\u001b[0m\u001b[0;34m)\u001b[0m \u001b[0;34m=\u001b[0m \u001b[0mLagrangeInterp\u001b[0m\u001b[0;34m(\u001b[0m\u001b[0mx\u001b[0m\u001b[0;34m,\u001b[0m\u001b[0my\u001b[0m\u001b[0;34m,\u001b[0m\u001b[0mX\u001b[0m\u001b[0;34m)\u001b[0m\u001b[0;34m\u001b[0m\u001b[0m\n\u001b[0m\u001b[1;32m     20\u001b[0m         \u001b[0;31m# computation of the corresponding uniform error\u001b[0m\u001b[0;34m\u001b[0m\u001b[0;34m\u001b[0m\u001b[0m\n\u001b[1;32m     21\u001b[0m         \u001b[0mEequi\u001b[0m\u001b[0;34m[\u001b[0m\u001b[0mn\u001b[0m\u001b[0;34m-\u001b[0m\u001b[0;36m1\u001b[0m\u001b[0;34m]\u001b[0m \u001b[0;34m=\u001b[0m \u001b[0mnp\u001b[0m\u001b[0;34m.\u001b[0m\u001b[0mmax\u001b[0m\u001b[0;34m(\u001b[0m\u001b[0mabs\u001b[0m\u001b[0;34m(\u001b[0m\u001b[0mPX\u001b[0m \u001b[0;34m-\u001b[0m \u001b[0mf\u001b[0m\u001b[0;34m(\u001b[0m\u001b[0mX\u001b[0m\u001b[0;34m)\u001b[0m\u001b[0;34m)\u001b[0m\u001b[0;34m)\u001b[0m\u001b[0;34m\u001b[0m\u001b[0m\n",
      "\u001b[0;31mNameError\u001b[0m: name 'LagrangeInterp' is not defined"
     ]
    }
   ],
   "source": [
    "## test for the sine function \n",
    "nmax=20\n",
    "(ns, Eequi) = ErrorEqui(sineWave, nmax)\n",
    "\n",
    "fig = plt.figure(figsize = (15,5))\n",
    "plt.semilogy(ns,Eequi,marker='o')\n",
    "plt.title('Uniform error for Equispaced Lagrange scheme, sine function',fontsize = 15)\n",
    "plt.ylabel('$E_{{equi}}(n)$',fontsize = 15)\n",
    "plt.xlabel('n',fontsize = 15)\n",
    "plt.xticks(ns)\n",
    "plt.show()"
   ]
  },
  {
   "cell_type": "markdown",
   "metadata": {},
   "source": [
    "This confirms the convergence to zero of the uniform error when $n$ goes to infinity."
   ]
  },
  {
   "cell_type": "markdown",
   "metadata": {},
   "source": [
    "### Approximating a function: Runge phenomenon"
   ]
  },
  {
   "cell_type": "markdown",
   "metadata": {},
   "source": [
    "<img src=\"figures/Runge.jpg\" alt=\"Runge\" style=\"width: 150px;\"/>\n",
    "  \n",
    ">**Carl David Tolmé Runge (1856-1927).**\n",
    "> Carl David Tolmé Runge was a German mathematician, physicist, and spectroscopist. In the field of numerical analysis, he is the co-developper of the Runge-Kutta method to approximate the solution to differential equations. He discorvered the now called \"Runge's phenomenon\" in 1901 when exploring the behavior of errors when using polynomial interpolation to approximate certain functions. Runge's phenomenon is a problem of oscillation at the edges of an interval that occurs when using polynomial interpolation with polynomials of high degree over a set of equispaced interpolation points. The discovery was important because it shows that going to higher degrees does not always improve accuracy. The phenomenon is similar to the Gibbs phenomenon in Fourier series approximations."
   ]
  },
  {
   "cell_type": "markdown",
   "metadata": {},
   "source": [
    "As proved in the previous subsection, the approximation error depends on the behaviour of the successive derivatives of $f$. Let us consider the following function \n",
    "\n",
    "$$Runge(x) = \\frac{1}{1+25x^2}$$\n"
   ]
  },
  {
   "cell_type": "markdown",
   "metadata": {},
   "source": [
    "<div markdown=1 class=\"DoIt\"> **8.** Use the showLagrange function to complete the folowing test and plot the Lagrange interpolation of the Runge function on $[-1,1]$ for $n=10$ and $n=20$ equispaced nodes. What do you observe?"
   ]
  },
  {
   "cell_type": "code",
   "execution_count": 15,
   "metadata": {},
   "outputs": [
    {
     "ename": "SyntaxError",
     "evalue": "invalid syntax (<ipython-input-15-ec57a01a1c11>, line 5)",
     "output_type": "error",
     "traceback": [
      "\u001b[0;36m  File \u001b[0;32m\"<ipython-input-15-ec57a01a1c11>\"\u001b[0;36m, line \u001b[0;32m5\u001b[0m\n\u001b[0;31m    x1 = --- # n1+1 equispaced nodes\u001b[0m\n\u001b[0m                                    ^\u001b[0m\n\u001b[0;31mSyntaxError\u001b[0m\u001b[0;31m:\u001b[0m invalid syntax\n"
     ]
    }
   ],
   "source": [
    "def Runge(x):\n",
    "    return 1/(1+25*x**2)\n",
    "\n",
    "n1 = 10; n2 = 20\n",
    "x1 = --- # n1+1 equispaced nodes\n",
    "x2 = --- # n2+1 equispaced nodes\n",
    "---"
   ]
  },
  {
   "cell_type": "markdown",
   "metadata": {},
   "source": [
    "<div markdown=1 class=\"DoIt\"> **9.** Run the following cell to observe the behaviour of the error for the interpolation of Runge function based on equispaced points when the number of nodes increase."
   ]
  },
  {
   "cell_type": "code",
   "execution_count": 16,
   "metadata": {},
   "outputs": [
    {
     "ename": "NameError",
     "evalue": "name 'Runge' is not defined",
     "output_type": "error",
     "traceback": [
      "\u001b[0;31m---------------------------------------------------------------------------\u001b[0m",
      "\u001b[0;31mNameError\u001b[0m                                 Traceback (most recent call last)",
      "\u001b[0;32m<ipython-input-16-b311b1cc2910>\u001b[0m in \u001b[0;36m<module>\u001b[0;34m()\u001b[0m\n\u001b[1;32m      1\u001b[0m \u001b[0;31m## test for the Runge function\u001b[0m\u001b[0;34m\u001b[0m\u001b[0;34m\u001b[0m\u001b[0m\n\u001b[1;32m      2\u001b[0m \u001b[0mnmax\u001b[0m\u001b[0;34m=\u001b[0m\u001b[0;36m20\u001b[0m\u001b[0;34m\u001b[0m\u001b[0m\n\u001b[0;32m----> 3\u001b[0;31m \u001b[0;34m(\u001b[0m\u001b[0mns\u001b[0m\u001b[0;34m,\u001b[0m \u001b[0mEequi\u001b[0m\u001b[0;34m)\u001b[0m \u001b[0;34m=\u001b[0m \u001b[0mErrorEqui\u001b[0m\u001b[0;34m(\u001b[0m\u001b[0mRunge\u001b[0m\u001b[0;34m,\u001b[0m \u001b[0mnmax\u001b[0m\u001b[0;34m)\u001b[0m\u001b[0;34m\u001b[0m\u001b[0m\n\u001b[0m\u001b[1;32m      4\u001b[0m \u001b[0;34m\u001b[0m\u001b[0m\n\u001b[1;32m      5\u001b[0m \u001b[0mfig\u001b[0m \u001b[0;34m=\u001b[0m \u001b[0mplt\u001b[0m\u001b[0;34m.\u001b[0m\u001b[0mfigure\u001b[0m\u001b[0;34m(\u001b[0m\u001b[0mfigsize\u001b[0m \u001b[0;34m=\u001b[0m \u001b[0;34m(\u001b[0m\u001b[0;36m15\u001b[0m\u001b[0;34m,\u001b[0m\u001b[0;36m5\u001b[0m\u001b[0;34m)\u001b[0m\u001b[0;34m)\u001b[0m\u001b[0;34m\u001b[0m\u001b[0m\n",
      "\u001b[0;31mNameError\u001b[0m: name 'Runge' is not defined"
     ]
    }
   ],
   "source": [
    "## test for the Runge function \n",
    "nmax=20\n",
    "(ns, Eequi) = ErrorEqui(Runge, nmax)\n",
    "\n",
    "fig = plt.figure(figsize = (15,5))\n",
    "plt.semilogy(ns,Eequi,marker='o')\n",
    "plt.title('Uniform error for Equispaced Lagrange scheme, Runge function',fontsize = 15)\n",
    "plt.ylabel('$E_{equi}(n)$',fontsize = 15)\n",
    "plt.xlabel('n',fontsize = 15)\n",
    "plt.xticks(ns)\n",
    "plt.show()"
   ]
  },
  {
   "cell_type": "markdown",
   "metadata": {},
   "source": [
    "This confirms that, for the $Runge$ function, the Lagrange polynomials based on equispaced nodes do not converge uniformly towards the interpolated function. This is due to the fact that the successive derivatives of the functions increase too quickly with respect to the convergence to zero of the term $\\Pi_{n+1}(x)/(n+1)!$ in the error approximation."
   ]
  },
  {
   "cell_type": "markdown",
   "metadata": {},
   "source": [
    "### Approximating a function: choice for the data points"
   ]
  },
  {
   "cell_type": "markdown",
   "metadata": {},
   "source": [
    "<img src=\"figures/Chebyshev.jpg\" alt=\"Chebyshev\" style=\"width: 200px;\"/>\n",
    "  \n",
    ">**Pafnuty Lvovich Chebyshev (1821-1894).**\n",
    ">Pafnuty Lvovich Chebyshev is a Russian mathematician. He is known for his work in the fields of probability, statistics, mechanics, and number theory. He is also known fhr the \"Chebyshev polynomials\", which are a sequence of orthogonal polynomials. He introduced these polynomials to minimize the problem of Runge's phenomena in polynomial approximation of functions. These polynomials are also used in numerical integration and are solution to are special cases of the Sturm–Liouville differential equation that occur very commonly in mathematics, particularly when dealing with linear partial differential equations.\n"
   ]
  },
  {
   "cell_type": "markdown",
   "metadata": {},
   "source": [
    "To enhance the quality of the approximation, one can look for better nodes $(x_k)_k$. Recalling the estimation: \n",
    "\n",
    "$$f(x) - P_n(x) = \\Pi_{n+1}(x) \\frac{f^{(n+1)}(\\xi)}{(n+1)!}$$\n",
    "\n",
    "one could choose the points $(x_0, x_1, \\cdots, x_n)$ so as to minimize the quantity\n",
    "\n",
    "$$\n",
    "\\Delta(x_0,\\ldots,x_n) =\\sup_{[a,b]}\\lvert \\Pi_{n+1}(x) \\rvert =  \\sup_{[a,b]}\\lvert (x-x_0)(x-x_1)\\cdots(x-x_n) \\rvert\n",
    "$$\n",
    "\n",
    "It turns out that one choice of $n$ reals $(x_k)_k$  that achieves this minimum for [a,b] = [-1,1] is well-known, and is related to the Chebyshev polynomials that we will now introduce."
   ]
  },
  {
   "cell_type": "markdown",
   "metadata": {},
   "source": [
    "<div  markdown=1 class=\"Def\"> The Chebyshev polynomial of order $n$ is noted $T_n$ and is defined by recurrence by $T_0(X) = 1$, $T_1(X) = X$ and for all $n$\n",
    "$$T_{n+1}(X) = 2XT_n(X) - T_{n-1}(X).$$"
   ]
  },
  {
   "cell_type": "markdown",
   "metadata": {},
   "source": [
    "The Chebyshev polynomials verify the following properties (see appendix): "
   ]
  },
  {
   "cell_type": "markdown",
   "metadata": {},
   "source": [
    "<div  markdown=1 class=\"Prop\"> For all $n \\in \\mathbb{N}$, the polynomial $T_n$ has the following properties\n",
    "\n",
    "- It is a polynomial of degree $n$ and if $n\\geq 1$ the leading coefficient is $2^{n-1}$.\n",
    "\n",
    "- For all $\\theta \\in \\mathbb{R},$\n",
    "\n",
    "$$ T_n(\\cos\\theta) = \\cos(n\\theta) $$\n",
    "\n",
    "- $T_n$ has its $n$ (distincts) roots in $]-1,1[$ given by\n",
    "\n",
    "$$\\hat{x}_k = \\cos\\left(\\frac{2k + 1}{2n}\\pi\\right), \\quad 0 \\leq k \\leq n-1.$$\n",
    "\n",
    "- $T_n(x) = 2^{n-1}(x-\\hat{x}_0)\\cdots(x-\\hat{x}_{n-1})$\n",
    "\n",
    "- For $x\\in ]-1,1[$, one has $-1 \\leq T_n(x) \\leq 1$. If we let $\\hat{y}_k = \\cos\\left(\\frac{k\\pi}{n}\\right)$ for $0\\leq k \\leq n$, we have\n",
    "\n",
    "$$-1= \\hat{y}_n < \\hat{y}_{n-1} < \\cdots < \\hat{y}_0 = 1 \\quad \\text{with} \\quad T_n\\left(\\hat{y}_k\\right) = (-1)^{k}$$"
   ]
  },
  {
   "cell_type": "markdown",
   "metadata": {},
   "source": [
    "For a given value of $n$, let us denote again by $(\\overline x_k)_{k=0..n}$ the $n+1$ equispaced points in $[-1,1]$ and let us compare on $[-1,1]$ the two following polynomials:\n",
    "\n",
    "\n",
    "$$\\overline \\Pi_{n+1}(x) = (x- \\overline x_0)(x-\\overline x_1)\\cdots(x-\\overline x_n)$$\n",
    "\n",
    "$$\\hat \\Pi_{n+1}(x) = \\frac{T_{n+1}(x)}{2^{n}} = (x-\\hat x_0)(x-\\hat x_1)\\cdots(x-\\hat x_n) $$\n"
   ]
  },
  {
   "cell_type": "markdown",
   "metadata": {},
   "source": [
    "<div markdown=1 class=\"DoIt\"> **10.** Complete the following function which computes the roots of $T_n$. Use`np.sort` to obtain an ordered set of points."
   ]
  },
  {
   "cell_type": "code",
   "execution_count": 17,
   "metadata": {},
   "outputs": [
    {
     "ename": "SyntaxError",
     "evalue": "invalid syntax (<ipython-input-17-ce4b1715d250>, line 9)",
     "output_type": "error",
     "traceback": [
      "\u001b[0;36m  File \u001b[0;32m\"<ipython-input-17-ce4b1715d250>\"\u001b[0;36m, line \u001b[0;32m9\u001b[0m\n\u001b[0;31m    x = ---\u001b[0m\n\u001b[0m           ^\u001b[0m\n\u001b[0;31mSyntaxError\u001b[0m\u001b[0;31m:\u001b[0m invalid syntax\n"
     ]
    }
   ],
   "source": [
    "### function computing the zeros of Tn\n",
    "## input : n = index of the Tchebychev polynomial\n",
    "## output : x = vector which contains the n zeros of Tn\n",
    "\n",
    "def xhat(n):\n",
    "    if n == 0:\n",
    "        return np.array([])\n",
    "    else:\n",
    "        x = ---\n",
    "        return x"
   ]
  },
  {
   "cell_type": "markdown",
   "metadata": {},
   "source": [
    "<div markdown=1 class=\"DoIt\"> **11.** Run the following cell for different values of $n$ to plot $\\overline \\Pi_{n+1}$ and $\\hat \\Pi_{n+1}$ on $[-1,1]$. What do you observe? Does it confirm that Chebyshev nodes should be better that equispaced ones? Why?"
   ]
  },
  {
   "cell_type": "code",
   "execution_count": 18,
   "metadata": {},
   "outputs": [
    {
     "ename": "NameError",
     "evalue": "name 'xhat' is not defined",
     "output_type": "error",
     "traceback": [
      "\u001b[0;31m---------------------------------------------------------------------------\u001b[0m",
      "\u001b[0;31mNameError\u001b[0m                                 Traceback (most recent call last)",
      "\u001b[0;32m<ipython-input-18-bd08b636ab62>\u001b[0m in \u001b[0;36m<module>\u001b[0;34m()\u001b[0m\n\u001b[1;32m     15\u001b[0m \u001b[0mn\u001b[0m \u001b[0;34m=\u001b[0m \u001b[0;36m11\u001b[0m\u001b[0;34m\u001b[0m\u001b[0m\n\u001b[1;32m     16\u001b[0m \u001b[0mxequi\u001b[0m \u001b[0;34m=\u001b[0m \u001b[0mnp\u001b[0m\u001b[0;34m.\u001b[0m\u001b[0mlinspace\u001b[0m\u001b[0;34m(\u001b[0m\u001b[0;34m-\u001b[0m\u001b[0;36m1\u001b[0m\u001b[0;34m,\u001b[0m\u001b[0;36m1\u001b[0m\u001b[0;34m,\u001b[0m\u001b[0mn\u001b[0m\u001b[0;34m+\u001b[0m\u001b[0;36m1\u001b[0m\u001b[0;34m)\u001b[0m \u001b[0;31m# list of n+1 equispaced nodes\u001b[0m\u001b[0;34m\u001b[0m\u001b[0m\n\u001b[0;32m---> 17\u001b[0;31m \u001b[0mxcheb\u001b[0m \u001b[0;34m=\u001b[0m \u001b[0mxhat\u001b[0m\u001b[0;34m(\u001b[0m\u001b[0mn\u001b[0m\u001b[0;34m+\u001b[0m\u001b[0;36m1\u001b[0m\u001b[0;34m)\u001b[0m  \u001b[0;31m# list of n+1 chebychev nodes\u001b[0m\u001b[0;34m\u001b[0m\u001b[0m\n\u001b[0m\u001b[1;32m     18\u001b[0m \u001b[0mX\u001b[0m \u001b[0;34m=\u001b[0m \u001b[0mnp\u001b[0m\u001b[0;34m.\u001b[0m\u001b[0mlinspace\u001b[0m\u001b[0;34m(\u001b[0m\u001b[0;34m-\u001b[0m\u001b[0;36m1\u001b[0m\u001b[0;34m,\u001b[0m\u001b[0;36m1\u001b[0m\u001b[0;34m,\u001b[0m\u001b[0;36m500\u001b[0m\u001b[0;34m)\u001b[0m  \u001b[0;31m# points to evaluate the polynomials\u001b[0m\u001b[0;34m\u001b[0m\u001b[0m\n\u001b[1;32m     19\u001b[0m \u001b[0;34m\u001b[0m\u001b[0m\n",
      "\u001b[0;31mNameError\u001b[0m: name 'xhat' is not defined"
     ]
    }
   ],
   "source": [
    "# Plot of the two polynomials on [-1,1]\n",
    "\n",
    "## function that evaluates a polynomial with dominant coefficient equal to 1\n",
    "## P = (x-x0)(x-x1)...(x-xn)\n",
    "## input : x = vector containing the roots x0, ... xn\n",
    "##         X = vector (or real) containing the points x on which the polynomial has to be evaluated\n",
    "## output : R = values of the polynomial at points X\n",
    "##              R[i] = P(X[i])\n",
    "def evalPolywithRoots(x,X):\n",
    "    R = 1\n",
    "    for xi in x:\n",
    "        R = R*(X-xi)\n",
    "    return R\n",
    "\n",
    "n = 11\n",
    "xequi = np.linspace(-1,1,n+1) # list of n+1 equispaced nodes\n",
    "xcheb = xhat(n+1)  # list of n+1 chebychev nodes\n",
    "X = np.linspace(-1,1,500)  # points to evaluate the polynomials\n",
    "\n",
    "# Evaluate \\bar Pi_{n+1} for equispaced nodes\n",
    "Un = evalPolywithRoots(xequi,X)  \n",
    "# Evaluate \\hat Pi_{n+1} for chebychev nodes\n",
    "Unhat = evalPolywithRoots(xcheb,X)\n",
    "\n",
    "# plots\n",
    "figure = plt.figure(figsize = (20,15))\n",
    "plt.subplot(211)\n",
    "plt.plot(X,Un,label='$ \\overline{\\Pi}_{n+1}$ (equispaced nodes)')\n",
    "plt.plot(X,Unhat,label='$\\hat \\Pi_{n+1}$ (Chebyshev nodes)')\n",
    "plt.xlabel('x',fontsize = 15)\n",
    "plt.legend(fontsize = 15,loc = 'lower center')\n",
    "plt.title('n = '+str(n),fontsize = 15)\n",
    "plt.show()"
   ]
  },
  {
   "cell_type": "markdown",
   "metadata": {},
   "source": [
    "In fact, for a given value of $n$, the following theorem proves that the Chebyshev nodes $(\\hat x_0,\\ldots,\\hat x_n)$ is one of the optimal choices of nodes to minimize $\\Delta(x_0,\\ldots,x_n)$:"
   ]
  },
  {
   "cell_type": "markdown",
   "metadata": {},
   "source": [
    "<div  markdown=1 class=\"Thm\"> Let $n \\in \\mathbb{N}$. For any set of points $(x_0,\\ldots,x_n)$ there holds\n",
    "\n",
    "$$ \\Delta(\\hat x_0,\\ldots,\\hat x_n)  \\leq \\Delta( x_0,\\ldots, x_n)$$"
   ]
  },
  {
   "cell_type": "markdown",
   "metadata": {},
   "source": [
    "> **Proof.** Let $(x_0,\\ldots,x_n)$ be a set of points and denote again $\\Pi_{n+1}(x)=(x-x_0)(x-x_1)\\cdots(x-x_n)$ and $\\hat \\Pi_{n+1}(x) = \\frac{T_{n+1}(x)}{2^{n}} = (x-\\hat x_0)(x-\\hat x_1)\\cdots(x-\\hat x_n)$. We have to prove that\n",
    ">\n",
    ">$$\n",
    "\\sup_{x \\in [-1,1]} \\hat\\Pi_{n+1}(x) \\leq \\sup_{x \\in [-1,1]} \\lvert \\Pi_{n+1}(x) \\rvert\n",
    "$$\n",
    "> which can be rewritten\n",
    ">$$\n",
    "\\sup_{x \\in [-1,1]} \\frac{\\lvert T_{n+1}(x)\\rvert}{2^{n}} \\leq \\sup_{x \\in [-1,1]} \\lvert \\Pi_{n+1}(x). \\rvert\n",
    "$$\n",
    ">\n",
    "> Assume by contradiction that \n",
    "> $$\\sup_{x \\in [-1,1]} \\lvert \\Pi_{n+1}(x)\\rvert < \\sup_{x \\in [-1,1]} \\frac{\\lvert T_{n+1}(x)\\rvert}{2^{n}} $$\n",
    "> \n",
    "> From this and the properties of $T_{n+1}$ we have that, for all $x\\in [-1,1]$, $\\displaystyle \\lvert \\Pi_{n+1}(x) \\rvert < \\frac{1}{2^{n}}$. \n",
    ">\n",
    "> Let us now consider $\\displaystyle D_{n}(x) = \\Pi_{n+1}(x) - \\frac{ T_{n+1}(x)}{2^{n}} $ which is a polynomial of degree at most $n$ (since $\\Pi_{n+1}$ and $  T_{n+1}/2^{n}$ have the same leading coefficient, $1$). \n",
    "> From the bound on $\\Pi_{n+1}$ and the properties of $T_{n+1}$ we have\n",
    "> - $\\displaystyle D_{n}\\left(\\cos\\left(\\frac{2k\\pi}{n+1}\\right)\\right) < 0, \\quad 0\\leq 2k \\leq n+1$\n",
    "> - $\\displaystyle D_{n}\\left(\\cos\\left(\\frac{(2k+1)\\pi}{n+1}\\right)\\right) > 0, \\quad 0\\leq 2k+1 \\leq n+1$\n",
    ">\n",
    "> By the intermediate value theorem, this implies that $D_{n}$ must vanish $n+1$ times. This is not possible since it is a (non-zero) polynomial of degree at most $n$. "
   ]
  },
  {
   "cell_type": "markdown",
   "metadata": {},
   "source": [
    "In particular, we have $\\Delta(\\hat x_0,\\ldots,\\hat x_n)  \\leq \\Delta( \\overline x_0,\\ldots, \\overline x_n)$ as expected. Let us plot the interpolant of the $Runge$ function for these new Chebyshev nodes for $n=10$ and $n=20$ (to be compared to the previous results for equispaces nodes):"
   ]
  },
  {
   "cell_type": "markdown",
   "metadata": {},
   "source": [
    "<div markdown=1 class=\"DoIt\"> **12.** Use the showLagrange function to complete the folowing test and plot the Lagrange interpolation of the Runge function on $[-1,1]$ for $n=10$ and $n=20$ Chebyshev nodes. What do you observe?"
   ]
  },
  {
   "cell_type": "code",
   "execution_count": 19,
   "metadata": {},
   "outputs": [
    {
     "ename": "SyntaxError",
     "evalue": "invalid syntax (<ipython-input-19-c31b97ef9cab>, line 2)",
     "output_type": "error",
     "traceback": [
      "\u001b[0;36m  File \u001b[0;32m\"<ipython-input-19-c31b97ef9cab>\"\u001b[0;36m, line \u001b[0;32m2\u001b[0m\n\u001b[0;31m    x1 = --- # n1+1 chebyshev nodes: roots of T_{n1+1}\u001b[0m\n\u001b[0m                                                      ^\u001b[0m\n\u001b[0;31mSyntaxError\u001b[0m\u001b[0;31m:\u001b[0m invalid syntax\n"
     ]
    }
   ],
   "source": [
    "n1 = 10; n2 = 20\n",
    "x1 = --- # n1+1 chebyshev nodes: roots of T_{n1+1}\n",
    "x2 = --- # n2+1 chebyshev nodes: roots of T_{n2+1}\n",
    "---"
   ]
  },
  {
   "cell_type": "markdown",
   "metadata": {},
   "source": [
    "<div markdown = 1, class = \"Def\"> The function $f$ being given, we note $\\hat{P}_n$ the Lagrange polynomial interpolating $f$ at the Chebyshev nodes. We call $E_{\\text{cheb}}(n)$ the corresponding uniform error that is:\n",
    "\n",
    "$$E_{\\text{cheb}}(n) = \\sup_{[a,b]}\\,\\lvert f(x) - \\hat P_n(x) \\rvert$$"
   ]
  },
  {
   "cell_type": "markdown",
   "metadata": {},
   "source": [
    "<div markdown=1 class=\"DoIt\"> **13.** Run the two following cells to observe the behaviour of $E_{\\text{equi}}$ and $E_{\\text{equi}}$ in function of $n$ for the sine wave and the Runge function. Comment in light of the previous results."
   ]
  },
  {
   "cell_type": "code",
   "execution_count": 20,
   "metadata": {
    "collapsed": true
   },
   "outputs": [],
   "source": [
    "## function that computes the uniform error on [-1,1] \n",
    "## for a given set of values of n = 1..nmax and chebyshev points\n",
    "## input : f = function to be interpolated\n",
    "##         nmax = maximal value of n\n",
    "## output : ns = vector which contains the values of n tested: \n",
    "##               ns = 1 .. nmax\n",
    "##          Echeb = vector which contains the corresponding values of the uniform error\n",
    "##                  Echeb[n] = E_cheb(n) = sup (f - \\hat Pn) \n",
    "\n",
    "def ErrorCheb(f, nmax):\n",
    "    ns = np.arange(1,nmax) # values of n to be tested\n",
    "    Echeb = np.zeros(ns.size) # Pre-allocation\n",
    "    Xtest = np.linspace(-1,1,200)  # points discretizing [a,b] to compute the uniform error\n",
    "    for n in ns:\n",
    "        # loop on n, for each n, compute the uniform error on [-1,1]\n",
    "        x = xhat(n+1) # chebyshev nodes to compute the interpolant\n",
    "        y = f(x)  # values of f at these nodes\n",
    "        # computation of the values of the Lagrange polynomial at points X\n",
    "        (PX, delta) = LagrangeInterp(x,y,X)\n",
    "        # computation of the corresponding uniform error\n",
    "        Echeb[n-1] = np.max(abs(PX - f(X)))\n",
    "    return (ns, Echeb)\n"
   ]
  },
  {
   "cell_type": "code",
   "execution_count": 21,
   "metadata": {},
   "outputs": [
    {
     "ename": "NameError",
     "evalue": "name 'LagrangeInterp' is not defined",
     "output_type": "error",
     "traceback": [
      "\u001b[0;31m---------------------------------------------------------------------------\u001b[0m",
      "\u001b[0;31mNameError\u001b[0m                                 Traceback (most recent call last)",
      "\u001b[0;32m<ipython-input-21-69f242ad8a63>\u001b[0m in \u001b[0;36m<module>\u001b[0;34m()\u001b[0m\n\u001b[1;32m      4\u001b[0m \u001b[0;31m# plot the errors for sine function (equispaced and chebyshev nodes)\u001b[0m\u001b[0;34m\u001b[0m\u001b[0;34m\u001b[0m\u001b[0m\n\u001b[1;32m      5\u001b[0m \u001b[0mplt\u001b[0m\u001b[0;34m.\u001b[0m\u001b[0msubplot\u001b[0m\u001b[0;34m(\u001b[0m\u001b[0;36m121\u001b[0m\u001b[0;34m)\u001b[0m\u001b[0;34m\u001b[0m\u001b[0m\n\u001b[0;32m----> 6\u001b[0;31m \u001b[0;34m(\u001b[0m\u001b[0mns\u001b[0m\u001b[0;34m,\u001b[0m \u001b[0mEequi\u001b[0m\u001b[0;34m)\u001b[0m \u001b[0;34m=\u001b[0m \u001b[0mErrorEqui\u001b[0m\u001b[0;34m(\u001b[0m\u001b[0msineWave\u001b[0m\u001b[0;34m,\u001b[0m \u001b[0mnmax\u001b[0m\u001b[0;34m)\u001b[0m\u001b[0;34m\u001b[0m\u001b[0m\n\u001b[0m\u001b[1;32m      7\u001b[0m \u001b[0;34m(\u001b[0m\u001b[0mns\u001b[0m\u001b[0;34m,\u001b[0m \u001b[0mEcheb\u001b[0m\u001b[0;34m)\u001b[0m \u001b[0;34m=\u001b[0m \u001b[0mErrorCheb\u001b[0m\u001b[0;34m(\u001b[0m\u001b[0msineWave\u001b[0m\u001b[0;34m,\u001b[0m \u001b[0mnmax\u001b[0m\u001b[0;34m)\u001b[0m\u001b[0;34m\u001b[0m\u001b[0m\n\u001b[1;32m      8\u001b[0m \u001b[0mplt\u001b[0m\u001b[0;34m.\u001b[0m\u001b[0msemilogy\u001b[0m\u001b[0;34m(\u001b[0m\u001b[0mns\u001b[0m\u001b[0;34m,\u001b[0m\u001b[0mEequi\u001b[0m\u001b[0;34m,\u001b[0m\u001b[0mmarker\u001b[0m\u001b[0;34m=\u001b[0m\u001b[0;34m'o'\u001b[0m\u001b[0;34m,\u001b[0m\u001b[0mlabel\u001b[0m\u001b[0;34m=\u001b[0m\u001b[0;34m'equidistant nodes'\u001b[0m\u001b[0;34m)\u001b[0m\u001b[0;34m\u001b[0m\u001b[0m\n",
      "\u001b[0;32m<ipython-input-13-7d745a9cad87>\u001b[0m in \u001b[0;36mErrorEqui\u001b[0;34m(f, nmax)\u001b[0m\n\u001b[1;32m     17\u001b[0m         \u001b[0my\u001b[0m \u001b[0;34m=\u001b[0m \u001b[0mf\u001b[0m\u001b[0;34m(\u001b[0m\u001b[0mx\u001b[0m\u001b[0;34m)\u001b[0m  \u001b[0;31m# values of f at these nodes\u001b[0m\u001b[0;34m\u001b[0m\u001b[0m\n\u001b[1;32m     18\u001b[0m         \u001b[0;31m# computation of the values of the Lagrange polynomial at points X\u001b[0m\u001b[0;34m\u001b[0m\u001b[0;34m\u001b[0m\u001b[0m\n\u001b[0;32m---> 19\u001b[0;31m         \u001b[0;34m(\u001b[0m\u001b[0mPX\u001b[0m\u001b[0;34m,\u001b[0m \u001b[0mdelta\u001b[0m\u001b[0;34m)\u001b[0m \u001b[0;34m=\u001b[0m \u001b[0mLagrangeInterp\u001b[0m\u001b[0;34m(\u001b[0m\u001b[0mx\u001b[0m\u001b[0;34m,\u001b[0m\u001b[0my\u001b[0m\u001b[0;34m,\u001b[0m\u001b[0mX\u001b[0m\u001b[0;34m)\u001b[0m\u001b[0;34m\u001b[0m\u001b[0m\n\u001b[0m\u001b[1;32m     20\u001b[0m         \u001b[0;31m# computation of the corresponding uniform error\u001b[0m\u001b[0;34m\u001b[0m\u001b[0;34m\u001b[0m\u001b[0m\n\u001b[1;32m     21\u001b[0m         \u001b[0mEequi\u001b[0m\u001b[0;34m[\u001b[0m\u001b[0mn\u001b[0m\u001b[0;34m-\u001b[0m\u001b[0;36m1\u001b[0m\u001b[0;34m]\u001b[0m \u001b[0;34m=\u001b[0m \u001b[0mnp\u001b[0m\u001b[0;34m.\u001b[0m\u001b[0mmax\u001b[0m\u001b[0;34m(\u001b[0m\u001b[0mabs\u001b[0m\u001b[0;34m(\u001b[0m\u001b[0mPX\u001b[0m \u001b[0;34m-\u001b[0m \u001b[0mf\u001b[0m\u001b[0;34m(\u001b[0m\u001b[0mX\u001b[0m\u001b[0;34m)\u001b[0m\u001b[0;34m)\u001b[0m\u001b[0;34m)\u001b[0m\u001b[0;34m\u001b[0m\u001b[0m\n",
      "\u001b[0;31mNameError\u001b[0m: name 'LagrangeInterp' is not defined"
     ]
    },
    {
     "data": {
      "image/png": "[encoded data removed]",
      "text/plain": [
       "<matplotlib.figure.Figure at 0x7f5f17096748>"
      ]
     },
     "metadata": {},
     "output_type": "display_data"
    }
   ],
   "source": [
    "nmax=20\n",
    "\n",
    "fig = plt.figure(figsize = (15,5))\n",
    "# plot the errors for sine function (equispaced and chebyshev nodes)\n",
    "plt.subplot(121)\n",
    "(ns, Eequi) = ErrorEqui(sineWave, nmax)\n",
    "(ns, Echeb) = ErrorCheb(sineWave, nmax)\n",
    "plt.semilogy(ns,Eequi,marker='o',label='equidistant nodes')\n",
    "plt.semilogy(ns,Echeb,marker='o',label='Chebychev nodes')\n",
    "plt.legend()\n",
    "plt.title('Uniform error for Lagrange scheme, sine function',fontsize = 15)\n",
    "plt.xlabel('n',fontsize = 15)\n",
    "plt.xticks(ns)\n",
    "# plot the errors for Runge function (equispaced and chebyshev nodes)\n",
    "plt.subplot(122)\n",
    "(ns, Eequi) = ErrorEqui(Runge, nmax)\n",
    "(ns, Echeb) = ErrorCheb(Runge, nmax)\n",
    "plt.semilogy(ns,Eequi,marker='o',label='equidistant nodes')\n",
    "plt.semilogy(ns,Echeb,marker='o',label='Chebyshev nodes')\n",
    "plt.legend()\n",
    "plt.title('Uniform error for Lagrange scheme, Runge function',fontsize = 15)\n",
    "plt.xlabel('n',fontsize = 15)\n",
    "plt.xticks(ns)\n",
    "plt.show()\n",
    "\n",
    "plt.show()"
   ]
  },
  {
   "cell_type": "markdown",
   "metadata": {},
   "source": [
    "<div markdown = 1, class = \"Rmk\"> In theory, although the Chebyshev repartition of roots is better than the equispaced repartition, one can show that there are still some functions for which:\n",
    "\n",
    "$$\\lim_{n \\to +\\infty}E_{\\text{cheb}}(n) = + \\infty$$\n",
    "\n",
    "This means that the Lagrange interpolation method does not always succeed, even with the Chebyshev nodes.  \n",
    "\n",
    "In fact, there is no repartition of points that would work for every function. That is, if for each $n$ we choose a set of $n$ points in $[a,b]$, there will always a function $f$ such that, letting $(P_n)_{n}$ the sequence of Lagrange interpolation polynomial of $f$ at these points, \n",
    "\n",
    "$$ \\lim_{n \\to +\\infty} \\sup_{x \\in [a,b]} \\lvert f(x) - P_n(x)\\rvert = + \\infty$$"
   ]
  },
  {
   "cell_type": "markdown",
   "metadata": {},
   "source": [
    "### Case study 1: a solution using Lagrange interpolation"
   ]
  },
  {
   "cell_type": "markdown",
   "metadata": {},
   "source": [
    "First, recall that we want to model the evolution of the world population, using the data set given in the introduction. The first objective is to estimate the population at year 1951, the second one is to determinate the year for which the polulation was equal to 2.2 billions. "
   ]
  },
  {
   "cell_type": "markdown",
   "metadata": {},
   "source": [
    "<div markdown=1 class=\"DoIt\"> **14.** In the following cell, we store the data in a numpy array. Complete the cell to plot the evolution of population versus the years. Do not forget to add labels on the axes and a title."
   ]
  },
  {
   "cell_type": "code",
   "execution_count": 22,
   "metadata": {},
   "outputs": [
    {
     "ename": "SyntaxError",
     "evalue": "invalid syntax (<ipython-input-22-58a6e202dcfe>, line 6)",
     "output_type": "error",
     "traceback": [
      "\u001b[0;36m  File \u001b[0;32m\"<ipython-input-22-58a6e202dcfe>\"\u001b[0;36m, line \u001b[0;32m6\u001b[0m\n\u001b[0;31m    plt.plot(---)\u001b[0m\n\u001b[0m                ^\u001b[0m\n\u001b[0;31mSyntaxError\u001b[0m\u001b[0;31m:\u001b[0m invalid syntax\n"
     ]
    }
   ],
   "source": [
    "yearsData = np.array([1900,1927,1955,1960,1965,1970,1975,1980,1985,1990,1995,2000,2005,2010,2015,2018])\n",
    "popData = np.array([1.6,2,2.772242535,3.033212527, 3.339592688,3.700577650,4.079087198,4.458411524,\n",
    "                4.873781796,5.330943460,5.751475416,6.145006989,6.542159383,6.958169159,7.383008820,7.632819325])\n",
    "\n",
    "plt.figure(figsize=(10,5))\n",
    "plt.plot(---)\n",
    "---\n",
    "plt.show()"
   ]
  },
  {
   "cell_type": "markdown",
   "metadata": {},
   "source": [
    "We want to approximate the population using a simple polynomial curve. To evaluate the population in 1951, we just have to evaluate the polynomial at $x = 1951$. To determine the year at which the population was equal to $2.2$ billions, we can use the rootfinding methods developped in the previous practical session, that is find the zero of $P(x) - 2.2$ where $P$ is the polynomial. \n",
    "\n",
    "To compute a polynomial approximatin the data, we use the Lagrange polynomial approximation. The next example shows that if we take all the data points, the interpolation yields very bad results:"
   ]
  },
  {
   "cell_type": "markdown",
   "metadata": {},
   "source": [
    "<div markdown=1 class=\"DoIt\"> **15.** Complete the following cell to compute and plot the Lagrange polynomials based on the whole data set to approximate the behaviour of the population. Plot the data on the same figure."
   ]
  },
  {
   "cell_type": "code",
   "execution_count": 23,
   "metadata": {},
   "outputs": [
    {
     "ename": "SyntaxError",
     "evalue": "invalid syntax (<ipython-input-23-117a3e0025c6>, line 5)",
     "output_type": "error",
     "traceback": [
      "\u001b[0;36m  File \u001b[0;32m\"<ipython-input-23-117a3e0025c6>\"\u001b[0;36m, line \u001b[0;32m5\u001b[0m\n\u001b[0;31m    (R,delta) = ---  #computations of the corresponding Lagrange polynomial and its values at points yearsPlot\u001b[0m\n\u001b[0m                                                                                                              ^\u001b[0m\n\u001b[0;31mSyntaxError\u001b[0m\u001b[0;31m:\u001b[0m invalid syntax\n"
     ]
    }
   ],
   "source": [
    "yearsPlot = np.linspace(1900,2020,500) #set of years for the plot\n",
    "x = yearsData  #nodes of the interpolation\n",
    "y = popData  #values to interpolate\n",
    "\n",
    "(R,delta) = ---  #computations of the corresponding Lagrange polynomial and its values at points yearsPlot\n",
    "\n",
    "# We plot the interpolating curve\n",
    "--- #Plot Lagrange polynomial\n",
    "--- #plot data\n",
    "---\n",
    "plt.show()"
   ]
  },
  {
   "cell_type": "markdown",
   "metadata": {},
   "source": [
    "Again, the use of a too large data set causes oscillations in the interpolation due to the use of a polynomial of high degree. This kind of situation is analog to \"overfitting\" in machine learning and statistics. Overfitting often arises when one uses a model with too many parameters to fit a data set. This leads to great accuracy at the training (known) data and bad accuracy at the test (unknown) data. It is generally thought that a model that has less parameters will have better generalization capacities. \n",
    "\n",
    "So here, a possible idea is to restrict the number of data points and choose them around the zone we are interested in. This will lead to an approximation by a polynomial of lower-order, with smaller coefficients. "
   ]
  },
  {
   "cell_type": "markdown",
   "metadata": {},
   "source": [
    "We will use this technique to approximate locally the population curve near the zone that concerns us, namely near the years 1940 - 1960."
   ]
  },
  {
   "cell_type": "markdown",
   "metadata": {},
   "source": [
    "<div markdown=1 class=\"DoIt\"> **16.** Complete the following cell to compute and plot the Lagrange polynomials based on years 1900, 1927, 1955 and 1960 to approximate the behaviour of the population. Plot the data on the same figure."
   ]
  },
  {
   "cell_type": "code",
   "execution_count": 24,
   "metadata": {},
   "outputs": [
    {
     "ename": "SyntaxError",
     "evalue": "invalid syntax (<ipython-input-24-7b82d08c81de>, line 2)",
     "output_type": "error",
     "traceback": [
      "\u001b[0;36m  File \u001b[0;32m\"<ipython-input-24-7b82d08c81de>\"\u001b[0;36m, line \u001b[0;32m2\u001b[0m\n\u001b[0;31m    ---  #nodes of the interpolation = [1900 1927 1955]\u001b[0m\n\u001b[0m                                                       ^\u001b[0m\n\u001b[0;31mSyntaxError\u001b[0m\u001b[0;31m:\u001b[0m invalid syntax\n"
     ]
    }
   ],
   "source": [
    "Xyear = np.linspace(1900,1980,50) #set of years for the plot\n",
    "---  #nodes of the interpolation = [1900 1927 1955 1960]\n",
    "---    #values to interpolate\n",
    "---  #computations of the corresponding Lagrange polynomial\n",
    "\n",
    "# We plot the interpolating curve together with the data set\n",
    "---\n",
    "plt.show()"
   ]
  },
  {
   "cell_type": "markdown",
   "metadata": {},
   "source": [
    "<div markdown=1 class=\"DoIt\"> **17.** Complete the following cell. Use this Lagrange polynomial $P$ to estimate the population at year 1951. Compare to the true value 2,583,816,786."
   ]
  },
  {
   "cell_type": "code",
   "execution_count": 25,
   "metadata": {},
   "outputs": [
    {
     "ename": "SyntaxError",
     "evalue": "invalid syntax (<ipython-input-25-e1436c2a275f>, line 3)",
     "output_type": "error",
     "traceback": [
      "\u001b[0;36m  File \u001b[0;32m\"<ipython-input-25-e1436c2a275f>\"\u001b[0;36m, line \u001b[0;32m3\u001b[0m\n\u001b[0;31m    pop = ---  # estimated population\u001b[0m\n\u001b[0m                                     ^\u001b[0m\n\u001b[0;31mSyntaxError\u001b[0m\u001b[0;31m:\u001b[0m invalid syntax\n"
     ]
    }
   ],
   "source": [
    "year = 1951\n",
    "popTarget = 2.583816786\n",
    "pop = ---  # estimated population\n",
    "print('According to Lagrange method, there were',pop,'billions of human beings in',year, '\\nerror =',abs(pop-popTarget))\n"
   ]
  },
  {
   "cell_type": "markdown",
   "metadata": {},
   "source": [
    "We now want to use this Lagrange polynomial $P$ to estimate the year at which the population was equal to $2.2$ billions. To do so, we use the bisection method developped in the previous practical session to find a root of the function $f(x) = P(x)-2.2$ "
   ]
  },
  {
   "cell_type": "code",
   "execution_count": 26,
   "metadata": {
    "collapsed": true
   },
   "outputs": [],
   "source": [
    "## Bisection algorithm for function f\n",
    "## input : f = name of the function\n",
    "##         a0, b0 = initial intervall I_0 with f(a0)f(b0)<0\n",
    "##         eps  = tolerance\n",
    "##         Kmax = maximal number of iterations allowed\n",
    "## output : x = sequence approximating the zero of f\n",
    "\n",
    "def Bisection(f,a0,b0,eps,Kmax):\n",
    "    # create vector x\n",
    "    x = np.zeros(Kmax+1)\n",
    "    k = 0\n",
    "    a = a0\n",
    "    b = b0\n",
    "    x[0] = (a+b)/2  # sets x_0 = (a+b)/2\n",
    "    # computation of x_k\n",
    "    while (b0-a0)/(2**k) >= eps and k < Kmax:\n",
    "        if f(a)*f(x[k]) < 0:\n",
    "            b = x[k]\n",
    "        else:\n",
    "            a = x[k]\n",
    "        k = k+1\n",
    "        x[k] = (a+b)/2\n",
    "    return (x, k)"
   ]
  },
  {
   "cell_type": "markdown",
   "metadata": {},
   "source": [
    "<div markdown=1 class=\"DoIt\"> **18.** Complete the following cell. First define the function $f(x)=P(x)-2.2$ where $P$ is the previous polynomial interpolation of the data set near the years 1940 - 1960. Use the bisection algorithm to estimate a zero of this function."
   ]
  },
  {
   "cell_type": "code",
   "execution_count": 27,
   "metadata": {},
   "outputs": [
    {
     "ename": "SyntaxError",
     "evalue": "invalid syntax (<ipython-input-27-1df076c30cbe>, line 3)",
     "output_type": "error",
     "traceback": [
      "\u001b[0;36m  File \u001b[0;32m\"<ipython-input-27-1df076c30cbe>\"\u001b[0;36m, line \u001b[0;32m3\u001b[0m\n\u001b[0;31m    return ---\u001b[0m\n\u001b[0m              ^\u001b[0m\n\u001b[0;31mSyntaxError\u001b[0m\u001b[0;31m:\u001b[0m invalid syntax\n"
     ]
    }
   ],
   "source": [
    "## f(x) = P(x) - 2.2\n",
    "def f(y):\n",
    "    return ---\n",
    "\n",
    "## initialization of the parameters of the bisection method\n",
    "a0 = ---\n",
    "b0 = ---\n",
    "eps = ---\n",
    "Kmax = ---\n",
    "\n",
    "## estimation of the zero of f\n",
    "---\n",
    "\n",
    "## print the results\n",
    "year = int(x[k])\n",
    "months = ['jan.','feb.','mar.','apr.','may','june','jul.','aug.','sep.','oct.','nov.','dec.']\n",
    "m = months[int((x[k]-year)*12)]\n",
    "print('According to Lagrange method, the population went above',2.2,'billions in',m,'of',year)"
   ]
  },
  {
   "cell_type": "markdown",
   "metadata": {},
   "source": [
    "### Instabilities and Roundoff errors..."
   ]
  },
  {
   "cell_type": "markdown",
   "metadata": {},
   "source": [
    "One drawback of polynomial interpolation is the **instability** of the interpolant. Indeed, suppose that we want to interpolate a function $f$ at points $(x_k)_k$ and suppose that the available values of $f$ at these points are not exact (think for example of noise due to experimental measurements). In that case, we have \n",
    "\n",
    "$$ y_k = f(x_k) + \\beta_k$$\n",
    "\n",
    "with $\\beta_k$ a small random variable. We observe below the behaviour of the interpolation with the two choices for the nodes (equispaced and Chebyshev)."
   ]
  },
  {
   "cell_type": "markdown",
   "metadata": {},
   "source": [
    "<div markdown=1 class=\"DoIt\"> **19.** Run the following cell to observe the behaviour of Lagrange interpolation for the sine function with noisy data. Try different values of $n$ and describe the behaviour of the method on noisy data. Compare the two choices for the nodes."
   ]
  },
  {
   "cell_type": "code",
   "execution_count": 28,
   "metadata": {},
   "outputs": [
    {
     "ename": "NameError",
     "evalue": "name 'LagrangeInterp' is not defined",
     "output_type": "error",
     "traceback": [
      "\u001b[0;31m---------------------------------------------------------------------------\u001b[0m",
      "\u001b[0;31mNameError\u001b[0m                                 Traceback (most recent call last)",
      "\u001b[0;32m<ipython-input-28-739b7365ee05>\u001b[0m in \u001b[0;36m<module>\u001b[0;34m()\u001b[0m\n\u001b[1;32m     13\u001b[0m \u001b[0mf\u001b[0m \u001b[0;34m=\u001b[0m \u001b[0msineWave\u001b[0m\u001b[0;34m\u001b[0m\u001b[0m\n\u001b[1;32m     14\u001b[0m \u001b[0my\u001b[0m \u001b[0;34m=\u001b[0m \u001b[0mf\u001b[0m\u001b[0;34m(\u001b[0m\u001b[0mx\u001b[0m\u001b[0;34m)\u001b[0m   \u001b[0;31m# values of f at the nodes\u001b[0m\u001b[0;34m\u001b[0m\u001b[0m\n\u001b[0;32m---> 15\u001b[0;31m \u001b[0;34m(\u001b[0m\u001b[0mPX\u001b[0m\u001b[0;34m,\u001b[0m \u001b[0mdelta\u001b[0m\u001b[0;34m)\u001b[0m \u001b[0;34m=\u001b[0m \u001b[0mLagrangeInterp\u001b[0m\u001b[0;34m(\u001b[0m\u001b[0mx\u001b[0m\u001b[0;34m,\u001b[0m \u001b[0my\u001b[0m\u001b[0;34m,\u001b[0m \u001b[0mX\u001b[0m\u001b[0;34m)\u001b[0m\u001b[0;34m\u001b[0m\u001b[0m\n\u001b[0m\u001b[1;32m     16\u001b[0m \u001b[0mplt\u001b[0m\u001b[0;34m.\u001b[0m\u001b[0mplot\u001b[0m\u001b[0;34m(\u001b[0m\u001b[0mX\u001b[0m\u001b[0;34m,\u001b[0m\u001b[0mf\u001b[0m\u001b[0;34m(\u001b[0m\u001b[0mX\u001b[0m\u001b[0;34m)\u001b[0m\u001b[0;34m,\u001b[0m\u001b[0mlabel\u001b[0m \u001b[0;34m=\u001b[0m \u001b[0;34m'Target function'\u001b[0m\u001b[0;34m)\u001b[0m\u001b[0;34m\u001b[0m\u001b[0m\n\u001b[1;32m     17\u001b[0m \u001b[0mplt\u001b[0m\u001b[0;34m.\u001b[0m\u001b[0mplot\u001b[0m\u001b[0;34m(\u001b[0m\u001b[0mx\u001b[0m\u001b[0;34m,\u001b[0m\u001b[0mf\u001b[0m\u001b[0;34m(\u001b[0m\u001b[0mx\u001b[0m\u001b[0;34m)\u001b[0m\u001b[0;34m,\u001b[0m\u001b[0mmarker\u001b[0m\u001b[0;34m=\u001b[0m\u001b[0;34m'o'\u001b[0m\u001b[0;34m,\u001b[0m\u001b[0mlinestyle\u001b[0m\u001b[0;34m=\u001b[0m\u001b[0;34m''\u001b[0m\u001b[0;34m,\u001b[0m\u001b[0mlabel\u001b[0m \u001b[0;34m=\u001b[0m \u001b[0;34m'data set'\u001b[0m\u001b[0;34m)\u001b[0m\u001b[0;34m\u001b[0m\u001b[0m\n",
      "\u001b[0;31mNameError\u001b[0m: name 'LagrangeInterp' is not defined"
     ]
    },
    {
     "data": {
      "image/png": "[encoded data removed]",
      "text/plain": [
       "<matplotlib.figure.Figure at 0x7f5f0f060860>"
      ]
     },
     "metadata": {},
     "output_type": "display_data"
    }
   ],
   "source": [
    "def sineWaveWithNoise(x):\n",
    "    return np.sin(2*pi*x) + np.random.rand(x.size)*1e-2\n",
    "\n",
    "n=20\n",
    "\n",
    "## 1) Equispaced nodes\n",
    "\n",
    "x=np.linspace(-1,1,n+1)\n",
    "X = np.linspace(-1,1,100)  # points to plot the interpolant and the error   \n",
    "fig = plt.figure(figsize=(20, 7))\n",
    "# plot of the function without noise and its interpolant on the left figure\n",
    "plt.subplot(121)\n",
    "f = sineWave\n",
    "y = f(x)   # values of f at the nodes\n",
    "(PX, delta) = LagrangeInterp(x, y, X) \n",
    "plt.plot(X,f(X),label = 'Target function')\n",
    "plt.plot(x,f(x),marker='o',linestyle='',label = 'data set')\n",
    "plt.plot(X,PX,'--',label='Lagrange polynomial')\n",
    "plt.legend(fontsize=15)\n",
    "plt.title('Lagrange Polynomial for equispaced nodes '+f.__name__,fontsize=15)\n",
    "# plot of the function with noise and its interpolant on the right figure\n",
    "plt.subplot(122)\n",
    "f = sineWaveWithNoise\n",
    "y = f(x)   # values of f at the nodes\n",
    "(PX, delta) = LagrangeInterp(x, y, X) \n",
    "plt.plot(X,f(X),label = 'Target function')\n",
    "plt.plot(x,f(x),marker='o',linestyle='',label = 'data set')\n",
    "plt.plot(X,PX,'--',label='Lagrange polynomial')\n",
    "plt.legend(fontsize=15)\n",
    "plt.title('Lagrange Polynomial for equispaced nodes '+f.__name__,fontsize=15)\n",
    "plt.show()\n",
    "\n",
    "## 2) Chebyshev nodes\n",
    "\n",
    "x=xhat(n+1)\n",
    "X = np.linspace(-1,1,100)  # points to plot the interpolant and the error   \n",
    "fig = plt.figure(figsize=(20, 7))\n",
    "plt.subplot(121)\n",
    "# plot of the function without noise and its interpolant on the left figure\n",
    "f = sineWave\n",
    "y = f(x)   # values of f at the nodes\n",
    "(PX, delta) = LagrangeInterp(x, y, X) \n",
    "plt.plot(X,f(X),label = 'Target function')\n",
    "plt.plot(x,f(x),marker='o',linestyle='',label = 'data set')\n",
    "plt.plot(X,PX,'--',label='Lagrange polynomial')\n",
    "plt.legend(fontsize=15)\n",
    "plt.title('Lagrange Polynomial for Chebyshev nodes '+f.__name__,fontsize=15)\n",
    "# plot of the function with noise and its interpolant on the right figure\n",
    "plt.subplot(122)\n",
    "f = sineWaveWithNoise\n",
    "y = f(x)   # values of f at the nodes\n",
    "(PX, delta) = LagrangeInterp(x, y, X) \n",
    "plt.plot(X,f(X),label = 'Target function')\n",
    "plt.plot(x,f(x),marker='o',linestyle='',label = 'data set')\n",
    "plt.plot(X,PX,'--',label='Lagrange polynomial')\n",
    "plt.legend(fontsize=15)\n",
    "plt.title('Lagrange Polynomial for Chebyshev nodes '+f.__name__,fontsize=15)\n",
    "plt.show()"
   ]
  },
  {
   "cell_type": "markdown",
   "metadata": {},
   "source": [
    "**The instability of a numerical method tremendously limits the range of its applications: users want the approximation to be close to the original function, even if the data set exhibits noise.**\n",
    "\n",
    "Another drawback of Lagrange interpolation is the arrival of roundoff errors for high numbers of points... This is illustrated below, where we plot the uniform error of the interpolants based on equispaced and Chebyshev nodes for the sine function (case for which the interpolant is supposed to converge to the original function):\n"
   ]
  },
  {
   "cell_type": "markdown",
   "metadata": {},
   "source": [
    "<div markdown=1 class=\"DoIt\"> **20.** Run the following cell to observe the behaviour of Lagrange interpolation for the sine function when the number of nodes increase (equispaced and Chebyshev). What is the theoretical behaviour for the sine function of the interpolation based on each set of point (equispaced and Chebyshev) ? How do you explain the results?"
   ]
  },
  {
   "cell_type": "code",
   "execution_count": 29,
   "metadata": {},
   "outputs": [
    {
     "ename": "NameError",
     "evalue": "name 'LagrangeInterp' is not defined",
     "output_type": "error",
     "traceback": [
      "\u001b[0;31m---------------------------------------------------------------------------\u001b[0m",
      "\u001b[0;31mNameError\u001b[0m                                 Traceback (most recent call last)",
      "\u001b[0;32m<ipython-input-29-ab78ca78bb90>\u001b[0m in \u001b[0;36m<module>\u001b[0;34m()\u001b[0m\n\u001b[1;32m      7\u001b[0m \u001b[0;34m\u001b[0m\u001b[0m\n\u001b[1;32m      8\u001b[0m \u001b[0mfig\u001b[0m \u001b[0;34m=\u001b[0m \u001b[0mplt\u001b[0m\u001b[0;34m.\u001b[0m\u001b[0mfigure\u001b[0m\u001b[0;34m(\u001b[0m\u001b[0mfigsize\u001b[0m \u001b[0;34m=\u001b[0m \u001b[0;34m(\u001b[0m\u001b[0;36m15\u001b[0m\u001b[0;34m,\u001b[0m\u001b[0;36m5\u001b[0m\u001b[0;34m)\u001b[0m\u001b[0;34m)\u001b[0m\u001b[0;34m\u001b[0m\u001b[0m\n\u001b[0;32m----> 9\u001b[0;31m \u001b[0;34m(\u001b[0m\u001b[0mns\u001b[0m\u001b[0;34m,\u001b[0m \u001b[0mEequi\u001b[0m\u001b[0;34m)\u001b[0m \u001b[0;34m=\u001b[0m \u001b[0mErrorEqui\u001b[0m\u001b[0;34m(\u001b[0m\u001b[0msineWave\u001b[0m\u001b[0;34m,\u001b[0m \u001b[0mnmax\u001b[0m\u001b[0;34m)\u001b[0m\u001b[0;34m\u001b[0m\u001b[0m\n\u001b[0m\u001b[1;32m     10\u001b[0m \u001b[0;34m(\u001b[0m\u001b[0mns\u001b[0m\u001b[0;34m,\u001b[0m \u001b[0mEcheb\u001b[0m\u001b[0;34m)\u001b[0m \u001b[0;34m=\u001b[0m \u001b[0mErrorCheb\u001b[0m\u001b[0;34m(\u001b[0m\u001b[0msineWave\u001b[0m\u001b[0;34m,\u001b[0m \u001b[0mnmax\u001b[0m\u001b[0;34m)\u001b[0m\u001b[0;34m\u001b[0m\u001b[0m\n\u001b[1;32m     11\u001b[0m \u001b[0mplt\u001b[0m\u001b[0;34m.\u001b[0m\u001b[0msemilogy\u001b[0m\u001b[0;34m(\u001b[0m\u001b[0mns\u001b[0m\u001b[0;34m,\u001b[0m\u001b[0mEequi\u001b[0m\u001b[0;34m,\u001b[0m\u001b[0mmarker\u001b[0m\u001b[0;34m=\u001b[0m\u001b[0;34m'o'\u001b[0m\u001b[0;34m,\u001b[0m\u001b[0mlabel\u001b[0m\u001b[0;34m=\u001b[0m\u001b[0;34m'equidistant nodes'\u001b[0m\u001b[0;34m)\u001b[0m\u001b[0;34m\u001b[0m\u001b[0m\n",
      "\u001b[0;32m<ipython-input-13-7d745a9cad87>\u001b[0m in \u001b[0;36mErrorEqui\u001b[0;34m(f, nmax)\u001b[0m\n\u001b[1;32m     17\u001b[0m         \u001b[0my\u001b[0m \u001b[0;34m=\u001b[0m \u001b[0mf\u001b[0m\u001b[0;34m(\u001b[0m\u001b[0mx\u001b[0m\u001b[0;34m)\u001b[0m  \u001b[0;31m# values of f at these nodes\u001b[0m\u001b[0;34m\u001b[0m\u001b[0m\n\u001b[1;32m     18\u001b[0m         \u001b[0;31m# computation of the values of the Lagrange polynomial at points X\u001b[0m\u001b[0;34m\u001b[0m\u001b[0;34m\u001b[0m\u001b[0m\n\u001b[0;32m---> 19\u001b[0;31m         \u001b[0;34m(\u001b[0m\u001b[0mPX\u001b[0m\u001b[0;34m,\u001b[0m \u001b[0mdelta\u001b[0m\u001b[0;34m)\u001b[0m \u001b[0;34m=\u001b[0m \u001b[0mLagrangeInterp\u001b[0m\u001b[0;34m(\u001b[0m\u001b[0mx\u001b[0m\u001b[0;34m,\u001b[0m\u001b[0my\u001b[0m\u001b[0;34m,\u001b[0m\u001b[0mX\u001b[0m\u001b[0;34m)\u001b[0m\u001b[0;34m\u001b[0m\u001b[0m\n\u001b[0m\u001b[1;32m     20\u001b[0m         \u001b[0;31m# computation of the corresponding uniform error\u001b[0m\u001b[0;34m\u001b[0m\u001b[0;34m\u001b[0m\u001b[0m\n\u001b[1;32m     21\u001b[0m         \u001b[0mEequi\u001b[0m\u001b[0;34m[\u001b[0m\u001b[0mn\u001b[0m\u001b[0;34m-\u001b[0m\u001b[0;36m1\u001b[0m\u001b[0;34m]\u001b[0m \u001b[0;34m=\u001b[0m \u001b[0mnp\u001b[0m\u001b[0;34m.\u001b[0m\u001b[0mmax\u001b[0m\u001b[0;34m(\u001b[0m\u001b[0mabs\u001b[0m\u001b[0;34m(\u001b[0m\u001b[0mPX\u001b[0m \u001b[0;34m-\u001b[0m \u001b[0mf\u001b[0m\u001b[0;34m(\u001b[0m\u001b[0mX\u001b[0m\u001b[0;34m)\u001b[0m\u001b[0;34m)\u001b[0m\u001b[0;34m)\u001b[0m\u001b[0;34m\u001b[0m\u001b[0m\n",
      "\u001b[0;31mNameError\u001b[0m: name 'LagrangeInterp' is not defined"
     ]
    },
    {
     "data": {
      "text/plain": [
       "<matplotlib.figure.Figure at 0x7f5f0f1ce390>"
      ]
     },
     "metadata": {},
     "output_type": "display_data"
    }
   ],
   "source": [
    "## plot the uniform error versus n for the sine function\n",
    "## in that case, the uniform error is supposed to go to zero when n goes to infinity \n",
    "## whatever is the choice of points\n",
    "## Test for equispaced and chebyshev nodes.\n",
    "\n",
    "nmax=55\n",
    "\n",
    "fig = plt.figure(figsize = (15,5))\n",
    "(ns, Eequi) = ErrorEqui(sineWave, nmax)\n",
    "(ns, Echeb) = ErrorCheb(sineWave, nmax)\n",
    "plt.semilogy(ns,Eequi,marker='o',label='equidistant nodes')\n",
    "plt.semilogy(ns,Echeb,marker='o',label='Chebyshev nodes')\n",
    "plt.legend(fontsize = 15)\n",
    "plt.title('Uniform error for Lagrange scheme, sine function',fontsize = 15)\n",
    "plt.xlabel('n',fontsize = 15)\n",
    "plt.xticks(ns)\n",
    "plt.show()"
   ]
  },
  {
   "cell_type": "markdown",
   "metadata": {},
   "source": [
    "<a id=\"PiecewiseInterp\"></a>\n",
    "## Piecewise interpolation"
   ]
  },
  {
   "cell_type": "markdown",
   "metadata": {},
   "source": [
    "To obtain converging approximations for a wider class of function and stable methods, one can choose to consider polynomial interpolation on subintervals. The piecewise interpolant is supposed to converge to the original function when the number of intervals goes to infinity (while the degree of the polynomials on each subinterval is fixed). Doing so, one can use polynomials of lower degrees on each subinterval and avoid Runge phenomenon."
   ]
  },
  {
   "cell_type": "markdown",
   "metadata": {},
   "source": [
    "Let $(x_k)_{k=0\\ldots n}$ be $n+1$ distinct given points in $[a,b]$ with $x_0=a$ and $x_n=b$. For the sake of simplicity, suppose that these points are ordered: $x_k<x_{k+1}$ for $k=0\\ldots n-1$. We consider the corresponding subdivision of the interval:\n",
    "\n",
    "$$\n",
    "[a,b] = \\bigcup_{k=0}^{n-1} [x_k,x_{k+1}].\n",
    "$$\n",
    "\n",
    "The set of points $(x_k)_{k=0\\ldots n}$ is said to be a **mesh of the interval $[a,b]$** and we define the **mesh size** as:\n",
    "\n",
    "$$h = \\max_{k=0\\ldots n-1}{\\lvert x_{k+1} - x_k \\rvert}.$$\n",
    "\n",
    "This parameter is supposed to go to zero: the smaller $h$, the smaller each of the subintervals of the subdivision."
   ]
  },
  {
   "cell_type": "markdown",
   "metadata": {},
   "source": [
    "### Piecewise constant interpolation: $\\mathbb{P}^0$-interpolation"
   ]
  },
  {
   "cell_type": "markdown",
   "metadata": {},
   "source": [
    "The first idea is to use constant functions to approximate $f$ on each subinterval (i.e. polynomials of degree 0)."
   ]
  },
  {
   "cell_type": "markdown",
   "metadata": {},
   "source": [
    "<div markdown = 1 class = \"Def\"> **$\\mathbb{P}^0$-interpolant.** Let $f$ be a function defined on $[a,b]$ and a set of $n+1$ points $(x_k)_{0\\leq k\\leq n}$, with $x_0 = a$ and $x_n = b$. The piecewise constant interpolate of $f$ on $[a,b]$ with respect to the points $(x_k)_k$ is the function $\\Pi^0 f$ defined on $[a,b]$ by \n",
    "\n",
    "- for $0\\leq k<n$, $\\quad \\Pi^0 f$ is constant on $[x_k, x_{k+1}[$ \n",
    "- for $0\\leq k<n$, $\\quad\\Pi^0 f(x_k) = f(x_k)$"
   ]
  },
  {
   "cell_type": "markdown",
   "metadata": {},
   "source": [
    "<div markdown=1 class=\"DoIt\"> **21.** Run the following cell plot the $\\mathbb{P}^0$-interpolant of the sine and Runge functions. What do you observe when the number of nodes increases? Compare with the Lagrange interpolation method."
   ]
  },
  {
   "cell_type": "code",
   "execution_count": 30,
   "metadata": {},
   "outputs": [
    {
     "ename": "NameError",
     "evalue": "name 'Runge' is not defined",
     "output_type": "error",
     "traceback": [
      "\u001b[0;31m---------------------------------------------------------------------------\u001b[0m",
      "\u001b[0;31mNameError\u001b[0m                                 Traceback (most recent call last)",
      "\u001b[0;32m<ipython-input-30-dc4fb045fb22>\u001b[0m in \u001b[0;36m<module>\u001b[0;34m()\u001b[0m\n\u001b[1;32m     31\u001b[0m \u001b[0;34m\u001b[0m\u001b[0m\n\u001b[1;32m     32\u001b[0m \u001b[0mplt\u001b[0m\u001b[0;34m.\u001b[0m\u001b[0msubplot\u001b[0m\u001b[0;34m(\u001b[0m\u001b[0;36m1\u001b[0m\u001b[0;34m,\u001b[0m\u001b[0;36m2\u001b[0m\u001b[0;34m,\u001b[0m\u001b[0;36m2\u001b[0m\u001b[0;34m)\u001b[0m\u001b[0;34m\u001b[0m\u001b[0m\n\u001b[0;32m---> 33\u001b[0;31m \u001b[0mf\u001b[0m \u001b[0;34m=\u001b[0m \u001b[0mRunge\u001b[0m\u001b[0;34m\u001b[0m\u001b[0m\n\u001b[0m\u001b[1;32m     34\u001b[0m \u001b[0;31m# y = [f(x0) ... f(xn)]\u001b[0m\u001b[0;34m\u001b[0m\u001b[0;34m\u001b[0m\u001b[0m\n\u001b[1;32m     35\u001b[0m \u001b[0my\u001b[0m \u001b[0;34m=\u001b[0m \u001b[0mf\u001b[0m\u001b[0;34m(\u001b[0m\u001b[0mx\u001b[0m\u001b[0;34m)\u001b[0m\u001b[0;34m\u001b[0m\u001b[0m\n",
      "\u001b[0;31mNameError\u001b[0m: name 'Runge' is not defined"
     ]
    },
    {
     "data": {
      "image/png": "[encoded data removed]",
      "text/plain": [
       "<matplotlib.figure.Figure at 0x7f5f0f178e80>"
      ]
     },
     "metadata": {},
     "output_type": "display_data"
    }
   ],
   "source": [
    "## Plots the sine (left) and Runge (right) functions, together with their P0 interpolation\n",
    "## we use the fact that plt.plot(x,y) plots lines between the points (x[k],y[k])\n",
    "\n",
    "n=10\n",
    "\n",
    "fig = plt.figure(figsize = (15,5))\n",
    "# equispaced points x=[x0, x1, ... xn]\n",
    "x = np.linspace(-1,1,n+1) \n",
    "# create the vector [x0, x1, x1, x2, x2, ... , x{n-1}, xn] (to plot piecwise constant functions)\n",
    "x2 = np.zeros(2*n)\n",
    "x2[0:-1:2] = x[0:-1]\n",
    "x2[1::2] = x[1:]\n",
    "# points to plot the functions\n",
    "X = np.linspace(-1,1,100)\n",
    "\n",
    "plt.subplot(1,2,1)\n",
    "f = sineWave\n",
    "# y = [f(x0) ... f(xn)]\n",
    "y = f(x) \n",
    "# create the vector [f(x0), f(x0), f(x1), f(x1), ... , f(x{n-1}), f(x{n-1})]\n",
    "y2 = np.zeros(2*n)\n",
    "y2[0:-1:2] = y[0:-1]\n",
    "y2[1::2] = y[0:-1]\n",
    "#plot the function\n",
    "plt.plot(X,f(X),label='function')\n",
    "#plot the P0 interpolation\n",
    "plt.plot(x[:-1],y[:-1],marker='o',linestyle='',label = 'data set')\n",
    "plt.plot(x2,y2,'--',label='P0 interpolate')\n",
    "plt.title('Sine function',fontsize=15)\n",
    "plt.legend(fontsize=15)\n",
    "\n",
    "plt.subplot(1,2,2)\n",
    "f = Runge\n",
    "# y = [f(x0) ... f(xn)]\n",
    "y = f(x)\n",
    "# create the vector [f(x0), f(x0), f(x1), f(x1), x2, ... , f(x{n-1}), f(x{n-1})]\n",
    "y2 = np.zeros(2*n)\n",
    "y2[0:-1:2] = y[0:-1]\n",
    "y2[1::2] = y[0:-1]\n",
    "#plot the function\n",
    "plt.plot(X,f(X),label='function')\n",
    "#plot the P0 interpolation\n",
    "plt.plot(x[:-1],y[:-1],marker='o',linestyle='',label = 'data set')\n",
    "plt.plot(x2,y2,'--',label='P0 interpolate')\n",
    "plt.title('Runge function',fontsize=15)\n",
    "plt.legend(fontsize=15)\n",
    "\n",
    "plt.show()\n"
   ]
  },
  {
   "cell_type": "markdown",
   "metadata": {},
   "source": [
    "The convergence of the $\\mathbb{P}^0$-interpolant towards the function when the step of the mesh goes to zero can be proved and only requires the function $f$ to be of class $\\mathcal{C}^1$."
   ]
  },
  {
   "cell_type": "markdown",
   "metadata": {},
   "source": [
    "<div markdown = 1, class = \"Thm\"> **Convergence of $\\mathbb{P}^0$ interpolation.** If $f$ is of class $C^1$ one has \n",
    "\n",
    "$$ \\sup_{x \\in [a,b]} \\lvert \\Pi^0 f(x) - f(x) \\rvert \\leq h \\sup_{x\\in [a,b]} |f'|$$"
   ]
  },
  {
   "cell_type": "markdown",
   "metadata": {},
   "source": [
    "<div markdown=1 class=\"DoIt\"> **22.** Prove the previous theorem."
   ]
  },
  {
   "cell_type": "markdown",
   "metadata": {},
   "source": [
    "<div markdown = 1, class = \"Rmk\"> A more classical way to define a piecewise constant function to approximate $f$ is to define the interpolant as\n",
    "- for $0\\leq k<n$, $\\quad \\Pi^0 f$ is constant on $[x_k, x_{k+1}[$ \n",
    "\n",
    "- for $0\\leq k<n$, $\\displaystyle\\quad\\Pi^0 f\\left(\\frac{x_k +x_{k+1}}{2}\\right) = f\\left(\\frac{x_k +x_{k+1}}{2}\\right)$\n",
    "\n",
    "In that case, the interpolant is equal to the original function on the $n$ nodes: $\\displaystyle \\left( \\frac{x_k +x_{k+1}}{2}\\right)_{k=0..n-1}$ and the previous result of convergence still holds."
   ]
  },
  {
   "cell_type": "markdown",
   "metadata": {},
   "source": [
    "### Piecewise affine interpolation: $\\mathbb{P}^1$-interpolation"
   ]
  },
  {
   "cell_type": "markdown",
   "metadata": {},
   "source": [
    "The precision of the piecewise approximation can be increased by using affine approximations on the sub-intervals (that is using a polynomial interpolant of degree 1)."
   ]
  },
  {
   "cell_type": "markdown",
   "metadata": {},
   "source": [
    "<div markdown = 1 class = \"Def\"> **$\\mathbb{P}^1$-interpolant.** Let $f$ be a function defined on $[a,b]$ and a set of $n+1$ points $(x_k)_{0\\leq k\\leq n}$, with $x_0 = a$ and $x_n = b$. The piecewise linear interpolant of $f$ on $[a,b]$ with respect to the points $(x_k)_k$ is the function $\\Pi^1 f$ defined on $[a,b]$ by \n",
    "\n",
    "- for $0\\leq k<n$, $\\quad \\Pi^1 f$ is affine on $[x_k, x_{k+1}[$ \n",
    "- for $0\\leq k\\leq n$, $\\quad\\Pi^1 f(x_k) = f(x_k)$"
   ]
  },
  {
   "cell_type": "markdown",
   "metadata": {},
   "source": [
    "<div markdown=1 class=\"DoIt\"> **23.** Run the following cell plot the $\\mathbb{P}^1$-interpolant of the sine and Runge functions. What do you observe when the number of nodes increase? Compare with the $\\mathbb{P}^0$-interpolant."
   ]
  },
  {
   "cell_type": "code",
   "execution_count": 26,
   "metadata": {},
   "outputs": [
    {
     "data": {
      "image/png": "[encoded data removed]",
      "text/plain": [
       "<matplotlib.figure.Figure at 0x10c975978>"
      ]
     },
     "metadata": {},
     "output_type": "display_data"
    }
   ],
   "source": [
    "## Plots the sine (left) and Runge (right) functions, together with their P1 interpolation\n",
    "## we use the fact that plt.plot(x,y) plots lines between the points (x[k],y[k])\n",
    "n=10\n",
    "\n",
    "fig = plt.figure(figsize = (15,5))\n",
    "# equispaced points x=[x0, x1, ... xn]\n",
    "x = np.linspace(-1,1,n+1)\n",
    "# points to plot the functions\n",
    "X = np.linspace(-1,1,100)\n",
    "\n",
    "plt.subplot(1,2,1)\n",
    "f = sineWave\n",
    "y = f(x)\n",
    "plt.plot(X,f(X),label='function')\n",
    "plt.plot(x,y,marker='o',linestyle='',label = 'data set')\n",
    "plt.plot(x,y,'--',label='P1 interpolant')\n",
    "plt.title('Sine function',fontsize=15)\n",
    "plt.legend(fontsize=15)\n",
    "\n",
    "plt.subplot(1,2,2)\n",
    "f = Runge\n",
    "y = f(x)\n",
    "plt.plot(X,f(X),label='function')\n",
    "plt.plot(x,y,marker='o',linestyle='',label = 'data set')\n",
    "plt.plot(x,y,'--',label='P1 interpolant')\n",
    "plt.title('Runge function',fontsize=15)\n",
    "plt.legend(fontsize=15)\n",
    "\n",
    "plt.show()\n"
   ]
  },
  {
   "cell_type": "markdown",
   "metadata": {},
   "source": [
    "One can prove the following convergence result, of order 2 in the parameter $h$, provided the function $f$ is of class $\\mathcal{C}^2$:"
   ]
  },
  {
   "cell_type": "markdown",
   "metadata": {},
   "source": [
    "<div markdown = 1, class = \"Thm\"> **Convergence of $\\mathbb{P}^1$ interpolation.** If $f$ is of class $C^2$ one has \n",
    "\n",
    "$$ \\sup_{x \\in [a,b]} \\lvert \\Pi^1 f(x) - f(x) \\rvert \\leq \\frac{h^2}{8} \\sup_{x\\in [a,b]} |f''|$$"
   ]
  },
  {
   "cell_type": "markdown",
   "metadata": {},
   "source": [
    "> **Proof**\n",
    "> Let us choose an $x$ in $[a,b]$. Since point $x$ is in one of the subintervals, there exists an index $k_x$ with $0\\leq k_x < n$ such that $x\\in [x_{k_x},x_{k_x+1}]$.\n",
    "> Remark that $\\Pi^1 f$ is the Lagrange polynomial interpolating $f$ on $[x_{k_x},x_{k_x+1}]$ based on the nodes $x_{k_x}$ and $x_{k_x+1}$. Then, one can use the error approximation theorem for Lagrange interpolation and get the existence of $\\xi_x\\in[a,b]$ such that\n",
    ">\n",
    ">$$\n",
    "\\lvert \\Pi^1 f(x) - f(x) \\rvert = (x-x_{k_x})(x-x_{k_x+1})\\frac{f''(\\xi_x)}{2!}\n",
    "$$\n",
    ">\n",
    ">The maximum of the polynomial of order $2$ on the interval $[x_{k_x},x_{k_x+1}]$ is reached at point $(x_{k_x}+x_{k_x+1})/2$ so that we obtain the following upper-bound:\n",
    ">\n",
    ">$$\n",
    "\\lvert \\Pi^1 f(x) - f(x) \\rvert \\leq \\frac{h^2}{4}\\frac{f''(\\xi_x)}{2!} \\leq \\frac{h^2}{8} \\sup_{x\\in [a,b]} |f''|\n",
    "$$\n",
    ">\n",
    "> This being true for any $x$ in $[a,b]$, the theorem is proved."
   ]
  },
  {
   "cell_type": "markdown",
   "metadata": {},
   "source": [
    "<div markdown = 1, class = \"Rmk\"> This can be generalized to polynomial piecewise approximation with higher degree polynomials. "
   ]
  },
  {
   "cell_type": "markdown",
   "metadata": {},
   "source": [
    "<div markdown=1 class=\"DoIt\"> **23.** In your opinion, what could be one of the main drawbacks of this polynomial piecewise interpolation method?"
   ]
  },
  {
   "cell_type": "markdown",
   "metadata": {},
   "source": [
    "### Case study 2: a solution using piecewise polynomial interpolation"
   ]
  },
  {
   "cell_type": "markdown",
   "metadata": {},
   "source": [
    "Recall we want to compute \n",
    "\n",
    "$$\\pi=4\\int_{0}^{1}d_{atan}(x)dx $$\n",
    "\n",
    "where \n",
    "\n",
    "$$ d_{atan}:\n",
    "\\left\\{\\begin{array}{l}\n",
    "                           \\mathbb{R} &\\rightarrow &\\mathbb{R} \\\\\n",
    "                            x &\\rightarrow &\\frac{1}{1+x^2}\n",
    "                            \\end{array}\\right.\n",
    "$$\n",
    "\n",
    "To do so, we compute the piecewise interpolation of $d_{atan}$ based on equispaced nodes and approximate the original integral by the integral of the corresponding interpolation."
   ]
  },
  {
   "cell_type": "markdown",
   "metadata": {},
   "source": [
    "Consider an equipartition $(x_0,...x_n)$ of the segment $[a,b]$. This means that :\n",
    "\n",
    " $$\\begin{array}{l}\n",
    "        x_0=a,\\qquad x_n=b \\\\\n",
    "        \\forall i\\in\\{0,..,n-1\\},\\quad x_{i+1}-x_{i}=\\frac{b-a}{n}=h\n",
    "     \\end{array}$$ \n",
    "     \n",
    " The integral of the $\\mathbb{P}^0$-interpolation is the sum of the area of each rectangle $[x_i,x_{i+1}]\\times[0,f(x_i)]$ and thus, the integral is :\n",
    " \n",
    " $$\\int_a^b \\mathbb{P}^0f(x)dx=h\\left(\\sum_{i=0}^{n-1}f(x_i)\\right)$$\n",
    " \n",
    "This formula is also called the \"rectangle\" formula for numerical integration."
   ]
  },
  {
   "cell_type": "markdown",
   "metadata": {},
   "source": [
    "<div markdown=1 class=\"DoIt\"> **24.** Complete the following function thant computes the integral of the $\\mathbb{P}^0$-interpolation of a given funcion $f$. Take care not to use any loop. Take care also to the bounds of the sum. (Use e.g. the `np.sum`function)."
   ]
  },
  {
   "cell_type": "code",
   "execution_count": 27,
   "metadata": {
    "collapsed": true
   },
   "outputs": [],
   "source": [
    "## Computes the integral of the P0-approximation corresponding to equidistant interpolation points\n",
    "## inputs: f = function to integrate\n",
    "##         a = lower bound of the integral\n",
    "##         b = upper bound of the integral\n",
    "##         n = number of interpolation points\n",
    "## output: value of the icorresponding integral\n",
    "\n",
    "def intP0Equi(f,a,b,n):\n",
    "    x=np.linspace(a,b,n+1) # n+1 equidistant points\n",
    "    y=f(x)\n",
    "    return ---"
   ]
  },
  {
   "cell_type": "markdown",
   "metadata": {},
   "source": [
    "<div markdown=1 class=\"DoIt\"> **25.** Use this formula to compute $\\pi$ as the integral on $[0,1]$ of $d_{atan}$:"
   ]
  },
  {
   "cell_type": "code",
   "execution_count": 28,
   "metadata": {},
   "outputs": [
    {
     "name": "stdout",
     "output_type": "stream",
     "text": [
      "P0-interpolation: piNum = 3.16152598692 ,error = 0.0199333333335\n"
     ]
    }
   ],
   "source": [
    "def datan(x):\n",
    "    return ---\n",
    "\n",
    "# Computation of the approximation\n",
    "piNum = ---\n",
    "\n",
    "# Print the results\n",
    "print('P0-interpolation: piNum =',piNum,',error =',abs(piNum-pi))"
   ]
  },
  {
   "cell_type": "markdown",
   "metadata": {},
   "source": [
    "One can also chose to use the $\\mathbb{P}^1$-interpolation of $d_{atan}$ to approximate the integral."
   ]
  },
  {
   "cell_type": "markdown",
   "metadata": {},
   "source": [
    " The integral of the $\\mathbb{P}^1$-interpolation is the sum of the area of each rectangle $[x_i,x_{i+1}]\\times[0,f(x_i)]$ to which is added the area of the triangular part $h*(f(x_{i+}1)-f(x_i))/2$ and thus, the integral is :\n",
    " \n",
    " $$\\int_a^b \\mathbb{P}^1f(x)dx=h\\left(\\sum_{i=0}^{n-1}\\left(f(x_i)+\\frac{f(x_{i+1})-f(x_i)}{2}\\right)\\right)$$\n",
    " \n",
    "This formula is also called the \"trapezium\" formula for numerical integration."
   ]
  },
  {
   "cell_type": "markdown",
   "metadata": {},
   "source": [
    "<div markdown=1 class=\"DoIt\"> **26.** Complete the following function thant computes the integral of the $\\mathbb{P}^0$-interpolation of a given funcion $f$. Take care not to use any loop. Take care also to the bounds of the sum."
   ]
  },
  {
   "cell_type": "code",
   "execution_count": 29,
   "metadata": {
    "collapsed": true
   },
   "outputs": [],
   "source": [
    "## Computes the integral of the P1-approximation corresponding to equidistant interpolation points\n",
    "## inputs: f = function to integrate\n",
    "##         a = lower bound of the integral\n",
    "##         b = upper bound of the integral\n",
    "##         n = number of interpolation points\n",
    "## output: value of the corresponding integral\n",
    "\n",
    "def intP1Equi(f,a,b,n):\n",
    "    x=np.linspace(a,b,n+1) # n+1 equidistant points\n",
    "    y=f(x)\n",
    "    ---\n",
    "    return ---"
   ]
  },
  {
   "cell_type": "markdown",
   "metadata": {},
   "source": [
    "<div markdown=1 class=\"DoIt\"> **27.** Use this formula to compute $\\pi$ as the integral on $[0,1]$ of $d_{atan}$. Compare with the previous result."
   ]
  },
  {
   "cell_type": "code",
   "execution_count": 30,
   "metadata": {},
   "outputs": [
    {
     "name": "stdout",
     "output_type": "stream",
     "text": [
      "P1-interpolation: piNum = 3.14152598692 ,error = 6.66666665392e-05\n"
     ]
    }
   ],
   "source": [
    "piNum = ---\n",
    "print('P1-interpolation: piNum =',piNum,',error =',abs(piNum-pi))"
   ]
  },
  {
   "cell_type": "markdown",
   "metadata": {},
   "source": [
    "<div markdown=1 class=\"DoIt\"> **28.** Run the following cell to plot the error versus $n$ bor both methods. Comment the results."
   ]
  },
  {
   "cell_type": "code",
   "execution_count": 31,
   "metadata": {},
   "outputs": [
    {
     "data": {
      "image/png": "[encoded data removed]",
      "text/plain": [
       "<matplotlib.figure.Figure at 0x10c7d3cf8>"
      ]
     },
     "metadata": {},
     "output_type": "display_data"
    }
   ],
   "source": [
    "a=0\n",
    "b=1\n",
    "\n",
    "# Compute the integral and the error for different values of n\n",
    "nMax=20\n",
    "ns=np.arange(nMax)+1  # values of n\n",
    "\n",
    "# initialization \n",
    "resP0Equi=np.zeros(ns.size)\n",
    "resP1Equi=np.zeros(ns.size)\n",
    "\n",
    "# loop on n \n",
    "for n in ns:\n",
    "    resP0Equi[n-1]=4*intP0Equi(datan,a,b,n)\n",
    "    resP1Equi[n-1]=4*intP1Equi(datan,a,b,n)\n",
    "\n",
    "# computes the error for each n\n",
    "errP0Equi=abs(resP0Equi-pi)\n",
    "errP1Equi=abs(resP1Equi-pi)\n",
    "\n",
    "# computes the mesh size for each n\n",
    "h=(b-a)/ns\n",
    "\n",
    "# plot of the error versus the mesh size\n",
    "fig = plt.figure(figsize=(5, 5))\n",
    "plt.loglog(h,errP0Equi, marker=\"x\", label=\"P0\") #log-log scale\n",
    "plt.loglog(h,errP1Equi, marker=\"x\", label=\"P1\") #log-log scale\n",
    "plt.title('error versus h', fontsize = 15)\n",
    "plt.xlabel('$h$',fontsize = 15)\n",
    "plt.ylabel('$e_h$',fontsize = 15)\n",
    "plt.axis('equal')\n",
    "plt.legend(loc='best', fontsize = 15)\n",
    "\n",
    "plt.show()"
   ]
  },
  {
   "cell_type": "markdown",
   "metadata": {},
   "source": [
    "We recover the order of convergence of the interpolation."
   ]
  },
  {
   "cell_type": "markdown",
   "metadata": {},
   "source": [
    "<a id=\"LeastSquare\"></a>\n",
    "## Least squares approximation"
   ]
  },
  {
   "cell_type": "markdown",
   "metadata": {},
   "source": [
    "<table>\n",
    "        <tr>\n",
    "            <td><img src=\"figures/Legendre.jpg\" alt=\"Legendre\" style=\"width: 170px;\" /></td>\n",
    "            <td><img src=\"figures/Gauss.jpg\" alt=\"Gauss\" style=\"width: 190px;\" /></td>\n",
    "        </tr>\n",
    "</table>\n",
    "\n",
    ">**Adrien-Marie Legendre (1752 - 1833) and Carl Friedrich Gauss (1777 - 1855).**\n",
    ">The method of least squares grew out of the fields of astronomy and geodesy, as scientists and mathematicians sought to provide solutions to the challenges of navigating the Earth's oceans. To do so, the accurate description of the behavior of celestial bodies was the key to enabling ships to sail in open seas, where sailors could no longer rely on land sightings for navigation. A seminal method, called the method of average was used for example by the french scientist Pierre-Simon Laplace to study the motion of Jupyter and Saturn. The first clear and concise exposition of the method of least squares was published by the French mathematician Adrien-Marie Legendre in 1805 (no portrait known apart from this caricature...). In 1809, the German mathematician Carl Friedrich Gauss published his method of calculating the orbits of celestial bodies. In that work he claimed to have been in possession of the method of least squares since 1795. This naturally led to a priority dispute with Legendre. However, to Gauss's credit, he went beyond Legendre and succeeded in connecting the method of least squares with the principles of probability and to the normal distribution."
   ]
  },
  {
   "cell_type": "markdown",
   "metadata": {},
   "source": [
    "Suppose now that you are in one (or several) of these cases:\n",
    "- the dataset $(x_k,y_k)_{k=0..n}$ is big ($n$ is large)\n",
    "- you want to estimate the behaviour of the function outside the original interval\n",
    "- the dataset is noisy and you want to study its general behaviour by comparing the data with a given simple model (for example a polynomial function of low degree)\n",
    "\n",
    "We have seen that a large number of interpolation points prevents the use of Lagrange interpolation which leads to highly oscillating polynomials of high degree. Moreover, both Lagrange interpolation for large datasets and piecewise interpolation aren't suitable to extrapolate the behaviour of the function from the available data, that is, to estimate the values at points lying outside (but close to) the original interval. Indeed, the first method would provide oscillating interpolants while the second one would only use the information of two points, completely neglecting the other available data.\n",
    "\n",
    "We present here a method allowing to deal with these problems.\n",
    "\n",
    "Assume that a dataset $(x_k,y_k)_{k=0..n}$ is given. One wants to find a polynomial $Q_m$ with degree at most $m$ such that for all $k=0..n$, $Q_m(x_k)$ is \"close to\" $y_k$. $Q_m$ does not fit the data in the sense that the equalities $Q_m(x_k)=y_k$ are not imposed.\n",
    "\n",
    "Here, we consider the **least squares approximation** for which $Q_m$ has to be \"close to\" the data in the following sense: $Q_m$ is a polynomial of degree lower than $m$ minimizing the following functional $J$ among all the polynomials of degree lower than $m$\n",
    "\n",
    "$$\n",
    "J(Q) = \\sum_{k=0}^n (Q(x_k) - y_k)^2\n",
    "$$\n",
    "\n",
    "In general, the method is used for large values of $n$ and small values of $m$. "
   ]
  },
  {
   "cell_type": "markdown",
   "metadata": {},
   "source": [
    "<div markdown = 1, class = \"Rmk\"> \n",
    "Note that, since all the terms of this sum are positive, \n",
    "- $J(Q)=0$ implies that for all $k$, $J(x_k)=0$ and $Q$ interpolates the data\n",
    "- $J(Q)$ is \"small\", say smaller than a given small parameter $\\varepsilon$, then for all $k$, $\\lvert Q(x_k)-y_k\\rvert\\leq \\sqrt{\\varepsilon}$.\n",
    "\n",
    "In that sense, $J(Q)$ measures how $Q$ is close to the data. Other choices for $J$ are possible. The least squares choice provides a convex function $J$ for which the existence and uniqueness of the minimizer can be proved.\n"
   ]
  },
  {
   "cell_type": "markdown",
   "metadata": {},
   "source": [
    "### Constant approximation"
   ]
  },
  {
   "cell_type": "markdown",
   "metadata": {},
   "source": [
    "Assume that the dataset $(x_k,y_k)_{k=0..n}$ is given and you want to find a constant polynomial $Q(x)=a$ such that $Q$ minimizes $J$ over the set of constant polynomials.\n",
    "\n",
    "The unknown is coefficient $a$ and the problem comes back to find the constant $a^*$ minimizing the functional\n",
    "\n",
    "$$\n",
    "J(a) = \\sum_{k=0}^n (Q(x_k) - y_k)^2 = \\sum_{k=0}^n (a - y_k)^2\n",
    "$$\n",
    "\n",
    "In that case, the function $a \\rightarrow J(a)$ is a polynomial of order 2 with a positive leading coefficient which implies that there exists a unique $a^*$ minimizing $J$ and that $a^*$ is solution to \n",
    "\n",
    "$$\n",
    "J'(a^*) = 0\n",
    "$$\n",
    "\n",
    "This gives \n",
    "\n",
    "$$\n",
    "\\sum_{k=0}^n 2 (a^* - y_k) = 0\n",
    "$$\n",
    "\n",
    "and finally $a^*$ is the mean value of the data:\n",
    "\n",
    "$$\n",
    "a^* = \\frac{1}{n} \\sum_{k=0}^n y_k\n",
    "$$"
   ]
  },
  {
   "cell_type": "markdown",
   "metadata": {},
   "source": [
    "### Linear regression"
   ]
  },
  {
   "cell_type": "markdown",
   "metadata": {},
   "source": [
    "Assume that the dataset $(x_k,y_k)_{k=0..n}$ is given and you want to find a linear polynomial $Q(x)=ax$ such that $Q$ minimizes $J$ over the set of linear polynomials.\n",
    "\n",
    "Again, the unknown is the coefficient $a$ and the problem comes back to find the constant $a^*$ minimizing the functional\n",
    "\n",
    "$$\n",
    "J(a) = \\sum_{k=0}^n (Q(x_k) - y_k)^2 = \\sum_{k=0}^n (a\\,x_k - y_k)^2\n",
    "$$\n",
    "\n",
    "The function $a \\rightarrow J(a)$ is a polynomial of order 2 with a positive dominant coefficient which implies that there exists a unique $a^*$ minimizing $J$ and that $a^*$ is solution to \n",
    "\n",
    "$$\n",
    "J'(a^*) = 0\n",
    "$$\n",
    "\n",
    "This gives \n",
    "\n",
    "$$\n",
    "\\sum_{k=0}^n 2 (a^* x_k - y_k)\\, x_k = 0\n",
    "$$\n",
    "\n",
    "and finally $a^*$ is:\n",
    "\n",
    "$$\n",
    " a^* = \\frac{\\displaystyle\\sum_{k=0}^n x_k \\, y_k}{\\displaystyle\\sum_{k=0}^n x_k^2}\n",
    "$$"
   ]
  },
  {
   "cell_type": "markdown",
   "metadata": {},
   "source": [
    "<div markdown=1 class=\"DoIt\"> **29.** Complete the following function computing $a^*$ from a given dataset $(x_k,y_k)_{k=0..n}$. Take care not to use any loop."
   ]
  },
  {
   "cell_type": "code",
   "execution_count": 32,
   "metadata": {
    "collapsed": true
   },
   "outputs": [],
   "source": [
    "## Computation of parameters astar for a linear model, using least squares \n",
    "## input : x = vector containing the nodes x0...xn\n",
    "##         y = vector containing the values y0...yn\n",
    "## output : astar = approximation of a\n",
    "\n",
    "def LinearReg(x,y):\n",
    "    return ---"
   ]
  },
  {
   "cell_type": "markdown",
   "metadata": {},
   "source": [
    "<div markdown=1 class=\"DoIt\"> **30.**  Run the following cell to test the linear regression for linear data of slope $a$ with noise. $a^*$ is supposed to provide an approximation of the original slope $a$."
   ]
  },
  {
   "cell_type": "code",
   "execution_count": 31,
   "metadata": {},
   "outputs": [
    {
     "ename": "NameError",
     "evalue": "name 'LinearReg' is not defined",
     "output_type": "error",
     "traceback": [
      "\u001b[0;31m---------------------------------------------------------------------------\u001b[0m",
      "\u001b[0;31mNameError\u001b[0m                                 Traceback (most recent call last)",
      "\u001b[0;32m<ipython-input-31-4d2bb72f9144>\u001b[0m in \u001b[0;36m<module>\u001b[0;34m()\u001b[0m\n\u001b[1;32m     13\u001b[0m \u001b[0;34m\u001b[0m\u001b[0m\n\u001b[1;32m     14\u001b[0m \u001b[0;31m# compute the linear regression\u001b[0m\u001b[0;34m\u001b[0m\u001b[0;34m\u001b[0m\u001b[0m\n\u001b[0;32m---> 15\u001b[0;31m \u001b[0mastar\u001b[0m \u001b[0;34m=\u001b[0m \u001b[0mLinearReg\u001b[0m\u001b[0;34m(\u001b[0m\u001b[0mx\u001b[0m\u001b[0;34m,\u001b[0m\u001b[0mdata\u001b[0m\u001b[0;34m)\u001b[0m\u001b[0;34m\u001b[0m\u001b[0m\n\u001b[0m\u001b[1;32m     16\u001b[0m \u001b[0;34m\u001b[0m\u001b[0m\n\u001b[1;32m     17\u001b[0m \u001b[0;31m# approximated model\u001b[0m\u001b[0;34m\u001b[0m\u001b[0;34m\u001b[0m\u001b[0m\n",
      "\u001b[0;31mNameError\u001b[0m: name 'LinearReg' is not defined"
     ]
    }
   ],
   "source": [
    "# size of the dataset\n",
    "n = 100\n",
    "\n",
    "# original model : f(x) = ax\n",
    "a = 3\n",
    "x = np.linspace(0,1,n)\n",
    "y = a*x\n",
    "\n",
    "# compute the data : add noise to the original model\n",
    "noiseSize = 0.2\n",
    "noise = (-1 + 2*np.random.rand(x.size))*noiseSize  # uniform in [-noiseSize,noiseSize]\n",
    "data = y + noise\n",
    "\n",
    "# compute the linear regression\n",
    "astar = LinearReg(x,data)\n",
    "\n",
    "# approximated model\n",
    "ystar = astar*x\n",
    "\n",
    "# computation of the value of J(astar,bstar)\n",
    "error_vect = y - ystar\n",
    "J = (error_vect*error_vect).sum()\n",
    "\n",
    "#plot\n",
    "fig = plt.figure(figsize = (10,10))\n",
    "plt.plot(x,y,label='original model, a ='+str(a))\n",
    "plt.plot(x,data,marker='o',linestyle='',label='data set')\n",
    "plt.plot(x,ystar,label='linear regression, astar ='+str(round(astar,4)))\n",
    "plt.xlim(0,1)\n",
    "plt.ylim(0,a)\n",
    "plt.legend(fontsize = 15)\n",
    "plt.title('Linear regression, n ='+str(n)+', J(a*) ='+str(round(J,4)),fontsize = 15)\n",
    "plt.show()\n"
   ]
  },
  {
   "cell_type": "markdown",
   "metadata": {},
   "source": [
    "### Affine regression"
   ]
  },
  {
   "cell_type": "markdown",
   "metadata": {},
   "source": [
    "Assume that the dataset $(x_k,y_k)_{k=0..n}$ is given and you want to find an affine polynomial $Q(x)=ax+b$ such that $Q$ minimizes $J$ over the set of linear polynomials.\n",
    "\n",
    "In that case, there is two unknown coefficients $a$ and $b$. The problem comes back to find the constants $(a^*,b^*)$ minimizing the functional\n",
    "\n",
    "$$\n",
    "J(a,b) = \\sum_{k=0}^n (Q(x_k) - y_k)^2 = \\sum_{k=0}^n (a\\,x_k + b - y_k)^2.\n",
    "$$\n",
    "\n",
    "The solution $(a^*,b^*)$ satisfies\n",
    "\n",
    "$$\n",
    "\\forall a,b\\quad J(a^*,b^*)\\leq J(a,b)\n",
    "$$\n",
    "\n",
    "Fixing $b=b^*$ we obtain\n",
    "\n",
    "$$\n",
    "\\forall a \\quad J(a^*,b^*)\\leq J(a,b^*)\n",
    "$$\n",
    "\n",
    "As a consequence, if we denote $G(a)=J(a,b^*)$, $a^*$ is a minimum of the functional $G$. We now remark as before that $a \\rightarrow G(a)$ is a polynomial of order 2 with a positive dominant coefficient which implies that there exists a unique $a^*$ minimizing $G$ and that $a^*$ is solution to \n",
    "\n",
    "$$\n",
    "G'(a^*) = 0,\n",
    "$$\n",
    "\n",
    "that is\n",
    "\n",
    "$$\n",
    "\\frac{\\partial J}{\\partial a} (a^*,b^*) =0.\n",
    "$$\n",
    "\n",
    "Similarly, we prove that a second necessary condition is\n",
    "\n",
    "$$\n",
    "\\frac{\\partial J}{\\partial b} (a^*,b^*) =0.\n",
    "$$\n",
    "\n",
    "Finally, we end up with two necessary conditions for two unknowns (it can be proved that the conditions are sufficient and ensure existence and uniqueness of the solution). Computing the two partial derivatives of $J$ we obtain\n",
    "\n",
    "$$\n",
    "\\begin{array}{lll}\n",
    "\\displaystyle a^* \\sum_{k=0}^n x_k^2 &+&\\displaystyle  b^* \\sum_{k=0}^n x_k &=&\\displaystyle  \\sum_{k=0}^n x_k y_k \\\\\n",
    "\\displaystyle a^* \\sum_{k=0}^n x_k   &+&\\displaystyle  b^* (n+1)                &=&\\displaystyle  \\sum_{k=0}^n y_k\n",
    "\\end{array}\n",
    "$$\n",
    "\n",
    "This is a linear system of two equations which can be written in a matrix formulation:\n",
    "\n",
    "$$\n",
    "M \\left(\\begin{array}{l} a^* \\\\ b^* \\end{array} \\right) = V \\quad \\text{where}\\quad M = \\left(\\begin{array}{ll}\n",
    "\\displaystyle \\sum_{k=0}^n x_k^2 &\\displaystyle  \\sum_{k=0}^n x_k \\\\\n",
    "\\displaystyle \\sum_{k=0}^n x_k   &\\displaystyle  (n+1)         \n",
    "\\end{array}\\right) \\quad \\text{and}\\quad\n",
    "V = \\left(\\begin{array}{l} \\displaystyle\\sum_{k=0}^n x_k y_k \\\\ \\displaystyle\\sum_{k=0}^n y_k \\end{array} \\right)\n",
    "$$\n",
    "\n",
    "It can be shown that matrix $M$ is invertible (if $x_k$ is not a constant vector). The solution of this $2\\times 2$ system is given by\n",
    "\n",
    "$$\n",
    "a^* = \\cfrac{\\sum_{k=0}^n x_k y_k - \\sum_{k=0}^n x_k \\bar{y}}{\\sum_{k=0}^n x^2_k - \\sum_{k=0}^n x_k \\bar{x}} = \\cfrac{\\overline{xy} - \\bar{x} \\bar{y}}{\\overline{x^2} - \\bar{x}^2},\n",
    "$$\n",
    "\n",
    "$$\n",
    "b^* =  \\bar{y}-b^*\\,\\bar{x},\n",
    "$$\n",
    "\n",
    "where $\\displaystyle\\bar{x} = \\frac{\\sum_{k=0}^n x_k}{n+1}$, $\\displaystyle \\overline{xy} = \\frac{\\sum_{k=0}^n x_k y_k}{n+1}$ and $\\displaystyle \\overline{x^2} = \\frac{\\sum_{k=0}^n x^2_k}{n+1}$ for a given dataset $(x_k)_{k=0..n}$."
   ]
  },
  {
   "cell_type": "markdown",
   "metadata": {},
   "source": [
    "<div markdown=1 class=\"DoIt\"> **29.** Complete the following function computing $(a^*,b^*)$ from a given dataset $(x_k,y_k)_{k=0..n}$. Take care not to use any loop (use `np.mean`to compute the mean value of a set)."
   ]
  },
  {
   "cell_type": "code",
   "execution_count": 34,
   "metadata": {
    "collapsed": true
   },
   "outputs": [],
   "source": [
    "## Computation of parameters astar, bstar for an affien model, using least squares \n",
    "## input : x = vector containing the nodes x0...xn\n",
    "##         y = vector containing the values y0...yn\n",
    "## output : astar = approximation of a\n",
    "##          bstar = approximation of b\n",
    "\n",
    "def AffineReg(x,y): \n",
    "    ---\n",
    "    return (astar,bstar)"
   ]
  },
  {
   "cell_type": "markdown",
   "metadata": {},
   "source": [
    "<div markdown=1 class=\"DoIt\"> **31.**  Complete the following cell to test the affine regression for affine data of slope $ax+b$ with noise. $(a^*,b^*)$ is supposed to provide an approximation of the original slope $(a,b)$."
   ]
  },
  {
   "cell_type": "code",
   "execution_count": 35,
   "metadata": {},
   "outputs": [
    {
     "data": {
      "image/png": "[encoded data removed]",
      "text/plain": [
       "<matplotlib.figure.Figure at 0x10dcaba20>"
      ]
     },
     "metadata": {},
     "output_type": "display_data"
    }
   ],
   "source": [
    "# size of the dataset\n",
    "n = 100\n",
    "\n",
    "# original model : f(x) = ax +b\n",
    "a = 3\n",
    "b = 2\n",
    "x = np.linspace(0,1,n)\n",
    "y = ---\n",
    "\n",
    "# compute the data : add noise to the original model\n",
    "noiseSize = 0.2\n",
    "noise = (-1 + 2*np.random.rand(x.size))*noiseSize  # uniform in [-noiseSize,noiseSize]\n",
    "data = ---\n",
    "\n",
    "# compute the affine regression\n",
    "astar, bstar = ---\n",
    "\n",
    "# approximated model\n",
    "ystar = ---\n",
    "\n",
    "# computation of the value of J(astar,bstar)\n",
    "error_vect = ---\n",
    "J = ---\n",
    "\n",
    "#plot\n",
    "---"
   ]
  },
  {
   "cell_type": "markdown",
   "metadata": {},
   "source": [
    "<div markdown = 1, class = \"Rmk\"> \n",
    "The generic case is to find an approximation of degree lower than $m$ which leads to the minimization of the functional\n",
    "\n",
    "$$\n",
    "J(a_0,a_1,\\ldots a_n) = \\sum_{k=0}^n (a_0 + a_1 x_k + \\ldots + a_n x_k^n - y_k)^2\n",
    "$$\n",
    "\n",
    "This leads to $n+1$ unknowns $a_0^*,a_1^*,\\ldots a_n^*$ and a linear system of $n+1$ equation to be solved: s\n",
    "\n",
    "$$\\frac{\\partial J}{\\partial a_k} (a_0^*,a_1^*,\\ldots a_n^*)=0 \\quad \\text{for} \\quad k=0\\ldots n$$"
   ]
  },
  {
   "cell_type": "markdown",
   "metadata": {},
   "source": [
    "### Case study 3: parameter estimation for the CAPM using least squares approximation"
   ]
  },
  {
   "cell_type": "markdown",
   "metadata": {},
   "source": [
    "Recall that, being given the values of the market return $(R^m_k)_{k=0..n-1}$ and an asset return $(R_k)_{k=0..n-1}$ for $n$ days, one wants to estimate the parameters $\\alpha$ and $\\beta$ in order to model the behaviour of the corresponding asset as\n",
    "\n",
    "$$\n",
    "R_k = \\alpha + \\beta \\, R^m_k.\n",
    "$$\n",
    "\n",
    "We use the least square approximation method to estimate these parameters for the data set $(x_k,y_k)_{k=0..n-1}=(R_k^m,R_k)_{k=0..n-1}$"
   ]
  },
  {
   "cell_type": "markdown",
   "metadata": {},
   "source": [
    "#### Data description\n",
    "The file Data_market.csv records the CAC 40 index and other assets returns from January 2015 to December 2015. The CAC 40 is a benchmark French stock market index and represents the variation of the whole market.\n",
    "\n",
    "Data used come from https://www.abcbourse.com/download/historiques.aspx .\n",
    "\n",
    "The data contains the daily asset return for the companies of the CAC40. A column corresponds to a given company and a line to a given day. The market return can be found in the last comumn. \n",
    "\n",
    "The data set can be explored using pandas python library designed to manage data sets. For example, a column can be extracted from the data set using its name, given in the first line of the column.\n",
    "\n",
    "We focus on the asset \"Société Générale\", referenced as \"Societe.Generale\" in the dataset. "
   ]
  },
  {
   "cell_type": "markdown",
   "metadata": {},
   "source": [
    "<div markdown=1 class=\"DoIt\"> **32.**  Run the following cell to observe the data set."
   ]
  },
  {
   "cell_type": "code",
   "execution_count": 36,
   "metadata": {},
   "outputs": [
    {
     "name": "stdout",
     "output_type": "stream",
     "text": [
      "        Dates  Accor.Hotels  Air.Liquide    Airbus    Alstom       Axa  \\\n",
      "0  2015-01-05     -0.012959    -0.031456  0.003006 -0.025437 -0.037881   \n",
      "1  2015-01-06     -0.021146    -0.008380  0.022905  0.000572 -0.010935   \n",
      "2  2015-01-07      0.004983     0.004505  0.025714  0.011756  0.010663   \n",
      "3  2015-01-08      0.019824     0.041231  0.033509  0.017934  0.040506   \n",
      "4  2015-01-09     -0.000813    -0.022707 -0.014817 -0.006688 -0.022716   \n",
      "\n",
      "   Bnp.Paribas  Bouygues  Cap.Gemini  Carrefour        ...         \\\n",
      "0    -0.049772 -0.037670   -0.013396  -0.049668        ...          \n",
      "1    -0.026502 -0.007638   -0.039369  -0.007995        ...          \n",
      "2    -0.016844  0.011607    0.004199  -0.001057        ...          \n",
      "3     0.031905  0.029529    0.028064   0.044461        ...          \n",
      "4    -0.034128 -0.009915    0.006093  -0.034781        ...          \n",
      "\n",
      "   Societe.Generale    Solvay   Technip     Total  Unibail.Rodamco     Valeo  \\\n",
      "0         -0.045712 -0.040841 -0.048455 -0.061713        -0.008068 -0.016094   \n",
      "1         -0.017922 -0.007994  0.013650 -0.001502         0.001429 -0.015358   \n",
      "2         -0.010757 -0.007583 -0.004002  0.022417         0.014175  0.004483   \n",
      "3          0.028678  0.040556  0.021091  0.037854         0.036619  0.050398   \n",
      "4         -0.011313 -0.024510 -0.013103 -0.031992        -0.018718  0.008471   \n",
      "\n",
      "   Veolia.Environ.     Vinci   Vivendi  Rnd.Market.Index  \n",
      "0        -0.025169 -0.034604 -0.020645         -0.033704  \n",
      "1        -0.014065 -0.010999 -0.016778         -0.006799  \n",
      "2         0.007760  0.036203  0.002018          0.007133  \n",
      "3         0.018451  0.034401  0.022921          0.035227  \n",
      "4         0.014044 -0.000215 -0.002713         -0.019225  \n",
      "\n",
      "[5 rows x 39 columns]\n"
     ]
    }
   ],
   "source": [
    "## Load data \n",
    "import pandas as pd              # package for managing datasets\n",
    "\n",
    "Namefile = \"Data_market.csv\"\n",
    "Data = pd.read_csv(Namefile,sep=\",\")\n",
    "Data.drop(['Unnamed: 0'],axis=1,inplace=True)\n",
    "\n",
    "print(Data.head())"
   ]
  },
  {
   "cell_type": "markdown",
   "metadata": {},
   "source": [
    "#### Affine regression"
   ]
  },
  {
   "cell_type": "markdown",
   "metadata": {},
   "source": [
    "<div markdown=1 class=\"DoIt\"> **33.**  Complete the following cell. Use affine regression to estimate the parameters $(\\alpha,\\beta)$ of the CAPM model for the Societé Générale asset."
   ]
  },
  {
   "cell_type": "code",
   "execution_count": 37,
   "metadata": {},
   "outputs": [
    {
     "data": {
      "image/png": "[encoded data removed]",
      "text/plain": [
       "<matplotlib.figure.Figure at 0x101fc00b8>"
      ]
     },
     "metadata": {},
     "output_type": "display_data"
    }
   ],
   "source": [
    "## Set parameters\n",
    "asset_name = 'Societe.Generale' #The asset\n",
    "market_index_name = 'Rnd.Market.Index' # Represents Rk^m\n",
    "marketReturn = Data[market_index_name] # The market return for each k: x_k\n",
    "assetReturn = Data[asset_name] # The asset return at day k: y_k\n",
    "\n",
    "## Compute alpha and beta\n",
    "beta_star, alpha_star = ---\n",
    "\n",
    "## approximated model\n",
    "fitted_values = alpha_star+beta_star*marketReturn # Affine model using astar, bstar for the asset return\n",
    "\n",
    "# computation of the value of J(astar,bstar)\n",
    "error_vect = ---\n",
    "error = ---\n",
    "\n",
    "# plot\n",
    "fig = plt.figure(figsize = (10,10))\n",
    "plt.plot(marketReturn,assetReturn,marker='o',linestyle='',label='data set')\n",
    "plt.plot(marketReturn,fitted_values,label=r'affine regression, $(\\alpha,\\beta)$ =('+str(round(alpha_star,4))+','+str(round(beta_star,4))+'), error is ='+str(round(error,4)))\n",
    "plt.legend(fontsize = 12)\n",
    "plt.title('Affine regression',fontsize = 12)\n",
    "plt.grid()\n",
    "plt.show()"
   ]
  },
  {
   "cell_type": "markdown",
   "metadata": {},
   "source": [
    "#### Linear regression"
   ]
  },
  {
   "cell_type": "markdown",
   "metadata": {},
   "source": [
    "We saw in the previous estimations thay the risk $\\alpha$ was very small (it is the the intercept of the previous curve). This encourages us to simplify the CAPM model in a linear model:\n",
    "\n",
    "$$\n",
    "R_k = \\beta \\, R^m_k.\n",
    "$$\n",
    "\n",
    "and estimate only one parameter $\\beta$ using linear regression:"
   ]
  },
  {
   "cell_type": "markdown",
   "metadata": {},
   "source": [
    "<div markdown=1 class=\"DoIt\"> **34.**  Complete the following cell. Use linear regression to estimate the parameters $\\beta$ of the new linear CAPM model for the Societé Générale asset."
   ]
  },
  {
   "cell_type": "code",
   "execution_count": 38,
   "metadata": {},
   "outputs": [
    {
     "data": {
      "image/png": "[encoded data removed]",
      "text/plain": [
       "<matplotlib.figure.Figure at 0x101fc0080>"
      ]
     },
     "metadata": {},
     "output_type": "display_data"
    }
   ],
   "source": [
    "## Set parameters\n",
    "asset_name = 'Societe.Generale'\n",
    "market_index_name = 'Rnd.Market.Index'\n",
    "y = Data[asset_name]\n",
    "x = Data[market_index_name]\n",
    "\n",
    "## Compute alpha and beta\n",
    "beta_star = ---\n",
    "\n",
    "## approximated model\n",
    "fitted_values = ---\n",
    "\n",
    "# computation of the value of J(beta_star)\n",
    "error_vect = ---\n",
    "error = ---\n",
    "\n",
    "# plot\n",
    "---"
   ]
  },
  {
   "cell_type": "markdown",
   "metadata": {},
   "source": [
    "**Comment and compare the results:**\n",
    "\n",
    "- The CAPM fit is good in both situations.\n",
    "- Linear and affine regression provide almost the same results since the intercept rate value is small."
   ]
  },
  {
   "cell_type": "markdown",
   "metadata": {},
   "source": [
    "#### Security market line\n",
    "\n",
    "Consider the linear model and suppose you computed $\\beta^*$ and you want to know how confident you can be using this value to model the behaviour of the asset.\n",
    "\n",
    "For any array $x$, we let $ \\text{E}(x) = \\frac{\\sum_{k} x_k}{n}$ the average value. If $R^m = (R_k^m)_{k=0..n-1}$ is the vector of return values of the market at each day $k$, then $E(R^m)$ is the average return value of the market during $n$ days. Similarly, for a given asset in the portfolio, $\\text{E}(R)$ is its average return during the same period for this asset. If this asset follows the previous linear model with parameter $\\beta^*$ then we should have\n",
    "\n",
    "$$\n",
    "\\text{E}(R) =  \\text{E}^{model}(\\beta^*)\\quad \\text{where}\\quad \\text{E}^{model}(\\beta^*) = \\beta^*\\, \\text{E}(R^m)\n",
    "$$\n",
    "\n",
    "So that, \n",
    "- If $\\text{E}(R) >  \\text{E}^{model}(\\beta^*)$, the model under-estimates the return of the asset\n",
    "- If $\\text{E}(R) =  \\text{E}^{model}(\\beta^*)$, the model is a good model for the asset\n",
    "- If $\\text{E}(R) <  \\text{E}^{model}(\\beta^*)$, the model over-estimates the return of the asset\n",
    "\n",
    "This can be observed graphically using the \"Security Market line\" (SML) defined such that\n",
    "\n",
    "$$\n",
    "(SML) \\; : \\;  \\text{E}(\\beta) =  \\beta\\, \\text{E}(R^m).\n",
    "$$\n",
    "\n",
    "Plot on a figure the (SLM) line $\\beta \\longrightarrow\\text{E}(\\beta)$ (of slope $\\text{E}(R^m)$). Then, for a given asset in the portfolio, if the point $(\\beta^*, E(R))$ is above (resp. below) the line, it is under-estimated (resp. over-estimated) by the model.\n",
    "\n",
    "This is what is done below with the differents assets of the CAC40 dataset:"
   ]
  },
  {
   "cell_type": "markdown",
   "metadata": {},
   "source": [
    "<div markdown=1 class=\"DoIt\"> **35.**  Complete the following function. For each company of the portfolio, it computes the corresponding values of $\\beta^*$, $E(R)$ and $E(\\beta^*)$."
   ]
  },
  {
   "cell_type": "code",
   "execution_count": 39,
   "metadata": {
    "collapsed": true
   },
   "outputs": [],
   "source": [
    "## Compute the security market line\n",
    "## input: data\n",
    "## output: a dataset Res containing\n",
    "##         Res['beta'] = vector such that Res['beta'][i] contains the value of betastar_i for company i\n",
    "##         Res['Fit.Val'] = vector such that Res['Fit.Val'][i] contains the value of E(betastar_i)\n",
    "##         Res['Average.val'] = vector such that Res['Average.val'][i] contains the value of E(R) for company i\n",
    "def Security_market_line(Data): \n",
    "    assets_name = list(Data)[1:-1]\n",
    "    size = len(assets_name)\n",
    "    x = Data[market_index_name]\n",
    "    Res = pd.DataFrame(np.zeros((size,3)), columns=['beta','Fit.val','Average.val'])\n",
    "    for asset_index in range(size): ## asset_index = 0\n",
    "        asset_name = assets_name[asset_index]\n",
    "        y = Data[asset_name]\n",
    "        beta_star = ---\n",
    "        Res['beta'][asset_index] = ---\n",
    "        Res['Fit.val'][asset_index] = ---\n",
    "        Res['Average.val'][asset_index] = ---\n",
    "    assets_name = pd.DataFrame(assets_name, columns = ['Name'])\n",
    "    Res = pd.concat([assets_name,Res],axis=1)\n",
    "    return Res"
   ]
  },
  {
   "cell_type": "markdown",
   "metadata": {},
   "source": [
    "<div markdown=1 class=\"DoIt\"> **36.**  Run the following cell to observe the over and under estimated companies for the linear regression CAPM model."
   ]
  },
  {
   "cell_type": "code",
   "execution_count": 40,
   "metadata": {},
   "outputs": [
    {
     "data": {
      "image/png": "[encoded data removed]",
      "text/plain": [
       "<matplotlib.figure.Figure at 0x10ca72be0>"
      ]
     },
     "metadata": {},
     "output_type": "display_data"
    }
   ],
   "source": [
    "## Plot \n",
    "Res = Security_market_line(Data)\n",
    "fig = plt.figure(figsize = (10,10))\n",
    "plt.plot(Res['beta'],Res['Average.val'],marker='o',linestyle='',label='data set')\n",
    "plt.plot(Res['beta'],Res['Fit.val'],label=r'Security market line')\n",
    "size = Res.shape[0]\n",
    "for index in range(size): ## write names of assets\n",
    "    name = Res['Name'][index].split('.')[0]\n",
    "    x = Res['beta'][index]\n",
    "    y = Res['Average.val'][index]\n",
    "    plt.annotate(name, (x,y))\n",
    "plt.text(0.6,0.0015,\"undervalued assets\",fontsize=10,color='r')\n",
    "plt.text(1.12,-0.0005,\"overvalued assets\",fontsize=10,color='r')\n",
    "plt.legend(fontsize = 15)\n",
    "plt.title('Linear regression',fontsize = 15)\n",
    "plt.grid()\n",
    "plt.show() "
   ]
  },
  {
   "cell_type": "markdown",
   "metadata": {},
   "source": [
    "<a id=\"LeastSquare\"></a>\n",
    "## Appendix\n"
   ]
  },
  {
   "cell_type": "markdown",
   "metadata": {},
   "source": [
    "### Chebyshev Polynomials"
   ]
  },
  {
   "cell_type": "markdown",
   "metadata": {},
   "source": [
    "<div  markdown=1 class=\"Prop\"> For all $n \\in \\mathbb{N}$, the polynomial $T_n$ has the following properties\n",
    "\n",
    "- It is a plynomial of degree $n$ and if $n\\geq 1$ the leading coefficient is $2^{n-1}$.\n",
    "\n",
    "- For all $\\theta \\in \\mathbb{R},$\n",
    "\n",
    "$$ T_n(\\cos\\theta) = \\cos(n\\theta) $$\n",
    "\n",
    "- $T_n$ has its $n$ (distincts) roots in $]-1,1[$ given by\n",
    "\n",
    "$$\\hat{x}_k = \\cos\\left(\\frac{2k + 1}{2n}\\pi\\right), \\quad 0 \\leq k \\leq n-1.$$\n",
    "\n",
    "- $T_n(x) = 2^{n-1}(x-\\hat{x}_0)\\cdots(x-\\hat{x}_{n-1})$\n",
    "\n",
    "- For $x\\in ]-1,1[$, one has $-1 \\leq T_n(x) \\leq 1$. If we let $\\hat{y}_k = \\cos\\left(\\frac{k\\pi}{n}\\right)$ for $0\\leq k \\leq n$, we have\n",
    "\n",
    "$$-1= \\hat{y}_n < \\hat{y}_{n-1} < \\cdots < \\hat{y}_0 = 1 $$\n",
    "\n",
    "with\n",
    "\n",
    "$$T_n\\left(\\hat{y}_k\\right) = (-1)^{k}$$"
   ]
  },
  {
   "cell_type": "markdown",
   "metadata": {
    "collapsed": true
   },
   "source": [
    "** Leading coefficient** \n",
    "\n",
    "By recurrence first we see that $T_0$ is of degree $0$. Moreover, $T_1$ is of degree $1$ and has leading coefficient $2^{1-1} = 1$. Let us show the same result for $n>1$ by recurrence. We assume the result is true for all $k \\leq n$. We use \n",
    "$$T_{n+1}(X) = 2XT_{n}(X) - T_{n-1}(X).$$\n",
    "In this equation, the right hand side is the sum of a polynomial of degree $n+1$ and a polynomial of degree $n-1$. Thus, it is of degree $n+1$. Finally, the leading coefficient of $T_{n+1}$ is found by matching the leading coefficients in the two sides of the equality and using the hypothesis of reccurence. \n",
    "\n",
    "**Trigonometric identity**: \n",
    "\n",
    "we prove this by reccurence. \n",
    "$T_0 = 1 = \\cos(0\\theta)$. Let us assume the result is true for $k\\leq n$, and show that it then holds for $k=n+1$. We write \n",
    "$$\\cos((n+1)\\theta)) + \\cos((n-1)\\theta)) = 2\\cos(n\\theta)\\cos(\\theta)$$\n",
    "We conclude, using the recurrence hypothesis \n",
    "$$\\cos((n+1)\\theta) = 2\\cos(\\theta) T_n(\\cos(\\theta)) - T_{n-1}(\\theta)$$\n",
    "and the recursive definition of $T_n$: \n",
    "$$\\cos((n+1)\\theta) = T_{n+1}(\\cos(\\theta))$$\n",
    "\n",
    "** Roots**\n",
    "\n",
    "For $0 \\leq k \\leq n-1$, we have $0 < \\frac{2k+1}{2n}\\pi < \\pi$. Let's call $\\omega_k = \\frac{(2k+1)\\pi}{2n}$. Then we have $\\hat{x}_k = \\cos(\\omega_k)$ and \n",
    "\n",
    "$$0 < \\omega_0 < \\omega_1 < \\cdots < \\omega_{n-1} < \\pi.$$\n",
    "\n",
    "Since the $\\cos$ function is stricly decreasing on $]0,\\pi[$, we deduce \n",
    "\n",
    "$$-1 < \\hat{x}_{n-1} < \\hat{x}_{n-2} < \\cdots < \\hat{x}_{0} < 1.$$\n",
    "\n",
    "Therefore, $\\hat{x}_k$ are $n$ distinct points in $]-1,1[$. To show that $T_n(\\hat{x}_k) = 0$ for all $k$, we use the trigonometric property $T_n(\\cos\\theta) = \\cos(n\\theta)$:\n",
    "\n",
    "$$T_n(\\hat{x}_k) = \\cos\\left(n \\frac{2k+1}{2n} \\pi\\right) = \\cos\\left(\\frac{\\pi}{2} + k\\pi\\right).$$\n",
    "\n",
    "which vanishes for all $k$. \n",
    "\n",
    "** Expression of $T_n$ ** \n",
    "\n",
    "Since $T_n$ is of degree $n$, we have now identified all of its roots (the $(\\hat{x}_k)_k$) so there exists a constant $C$ such that \n",
    "\n",
    "$$T_n(X) = C \\left(X - \\hat{x}_0\\right) \\left(X - \\hat{x}_1\\right)\\cdots \\left(X - \\hat{x}_{n-1}\\right).$$\n",
    "\n",
    "$C$ is the dominant coefficient of $T_n$ so according to the previous, $C = 2^{n-1}$. \n",
    "\n",
    "**Extremal values**:\n",
    "\n",
    "We can show\n",
    "\n",
    "$$-1= \\hat{y}_n < \\hat{y}_{n-1} < \\cdots < \\hat{y}_0 = 1 $$\n",
    "\n",
    "again using the fact that $\\cos$ is a strictly decreasing function. \n",
    "\n",
    "Finally, $T_n(\\hat{y}_k) =\\left(\\cos\\left(\\frac{k\\pi}{n}\\right)\\right) = \\cos\\left(n\\frac{k \\pi}{n}\\right) = \\cos(k\\pi) = (-1)^k$."
   ]
  },
  {
   "cell_type": "code",
   "execution_count": 41,
   "metadata": {},
   "outputs": [
    {
     "data": {
      "text/html": [
       "<link href='http://fonts.googleapis.com/css?family=Fenix' rel='stylesheet' type='text/css'>\n",
       "<link href='http://fonts.googleapis.com/css?family=Alegreya+Sans:100,300,400,500,700,800,900,100italic,300italic,400italic,500italic,700italic,800italic,900italic' rel='stylesheet' type='text/css'>\n",
       "<link href='http://fonts.googleapis.com/css?family=Source+Code+Pro:300,400' rel='stylesheet' type='text/css'>\n",
       "<link href=\"https://fonts.googleapis.com/css?family=Oswald|Raleway\" rel=\"stylesheet\" type='text/css'> \n",
       "<style>\n",
       ".prompt{\n",
       "    display: none !important;\n",
       "}\n",
       "\n",
       ".rendered_html pre {\n",
       "    border: 1px solid #f0f6f9 !important;\n",
       "}\n",
       "\n",
       ".rendered_html pre, .rendered_html code {\n",
       "    background-color: #d3d8db !important;\n",
       "    padding: 1% !important;\n",
       "    line-height: 200% !important;\n",
       "    border-radius: 10px !important;\n",
       "}\n",
       "\n",
       "div.input_area {\n",
       "    border-radius: 10px !important;\n",
       "    background-color: #e1e1e6 !important;\n",
       "}\n",
       "\n",
       "div.cell{\n",
       "        width:85% !important;\n",
       "        margin-left:5% !important;\n",
       "        /*margin-right:auto;*/\n",
       "    }\n",
       "    h1, h2, h3, h4, h5 {\n",
       "        font-family: 'Oswald', sans-serif; !important;\n",
       "        font-style: oblique !important;\n",
       "    }\n",
       "    div.text_cell_render{\n",
       "        font-family: 'Raleway', sans-serif; !important;\n",
       "        line-height: 135% !important;\n",
       "        font-size: 120% !important;\n",
       "        width:100%;/*600px;*/\n",
       "        /*margin-left:auto;*/\n",
       "        /*margin-right:auto;*/\n",
       "    }\n",
       "    .CodeMirror{\n",
       "            font-family: \"Source Code Pro\" !important;\n",
       "\t\t\tfont-size: 100% !important;\n",
       "    }\n",
       "    .text_cell_render p{\n",
       "        text-align: justify !important;\n",
       "    }\n",
       "    .text_cell_render h1 {\n",
       "        font-weight: 200 !important;\n",
       "\t\tline-height: 100% !important;\n",
       "        color:#47597A !important;\n",
       "        margin-bottom: 10.em !important;\n",
       "        margin-top: 50.em !important;\n",
       "        padding-bottom: 50.em !important;\n",
       "        padding-top: 50.em !important;\n",
       "        display: block !important;\n",
       "        font-size: 300% !important;\n",
       "        text-align: center !important;\n",
       "        border-bottom: 1px solid #47597A !important;\n",
       "        border-top: 1px solid #47597A !important;\n",
       "    }\n",
       "    .text_cell_render h2 {\n",
       "        font-weight: 200 !important;\n",
       "\tline-height: 100% !important;\n",
       "        color:#47597A !important;\n",
       "        margin-bottom: 0.5em !important;\n",
       "        margin-top: 0.5em !important;\n",
       "        display: block !important;\n",
       "        font-size: 200% !important;\n",
       "        border-bottom: 1px solid #47597A !important;\n",
       "    }\n",
       "    .text_cell_render h3 {\n",
       "        font-weight: 200 !important;\n",
       "\tline-height: 100% !important;\n",
       "        color:#47597A !important;\n",
       "        margin-bottom: 0.5em !important;\n",
       "        margin-top: 0.5em !important;\n",
       "        display: block !important;\n",
       "        font-size: 150% !important;\n",
       "    }\n",
       "    .text_cell_render h4 {\n",
       "        font-style: italic !important;\n",
       "        font-weight: bold !important;\n",
       "\tline-height: 100% !important;\n",
       "        color:#47597A !important;\n",
       "        display: block !important;\n",
       "        font-size: 100% !important;\n",
       "    }\n",
       "    .text_cell_render h5 {\n",
       "        font-weight: 200 !important;\n",
       "\tline-height: 100% !important;\n",
       "        color:#47597A !important;\n",
       "        margin-bottom: 0.5em !important;\n",
       "        margin-top: 0.5em !important;\n",
       "        display: block !important;\n",
       "        font-size: 100% !important;\n",
       "    }\n",
       "    .text_cell_render ul {\n",
       "\tlist-style-type: disc !important;\n",
       "\tline-height: 2;\n",
       "\t/*color:#47597A !important;*/\n",
       "    }\n",
       "    .warning{\n",
       "        color: rgb( 240, 20, 20 ) !important;\n",
       "        }\n",
       "    .Abstract {  \n",
       "\ttext-align: justify;\n",
       "\tbackground-color: #d6edf9;\n",
       "\tborder-left: 5px solid #47597A;\n",
       "\tpadding: 0.5em;\n",
       "\tmargin: 0  150px 0 150px;\n",
       "    }\n",
       "    .Def {    \n",
       "\tbackground-color: #d9f7d7;\n",
       "\tborder-left: 5px solid #4a7047;\n",
       "\tpadding: 0.5em;\n",
       "    }\n",
       "    .Def:before {\n",
       "\tcontent: \"Definition.\";\n",
       "\tcolor:#4a7047;\n",
       "\tfont-weight: bold;\n",
       "\tfont-style: normal;\n",
       "    }\n",
       "    .DoIt {    \n",
       "\tbackground-color: #e8cfc9;\n",
       "\tborder-left: 5px solid #a90e05;\n",
       "\tpadding: 0.5em;\n",
       "    }\n",
       "    .DoIt:before {\n",
       "\tcontent: \"Do it yourself.\";\n",
       "\tcolor:#a90e05;\n",
       "\tfont-weight: bold;\n",
       "\tfont-style: normal;\n",
       "    }\n",
       "    .Prop {    \n",
       "\tbackground-color:#f9ecd1;\n",
       "\tborder-left: 5px solid #ba7021;\n",
       "\tpadding: 0.5em;\n",
       "    }\n",
       "   .Prop:before {\n",
       "       content: \"Proposition.\";\n",
       "       color:#ba7021;\n",
       "       font-weight: bold;\n",
       "       font-style: normal;\n",
       "    }\n",
       "   .Thm {    \n",
       "\tbackground-color:#f9ecd1;\n",
       "\tborder-left: 5px solid #ba7021;\n",
       "\tpadding: 0.5em;\n",
       "    }\n",
       "   .Thm:before {\n",
       "       content: \"Theorem.\";\n",
       "       color:#ba7021;\n",
       "       font-weight: bold;\n",
       "       font-style: normal;\n",
       "    } \n",
       "   .Algo {    \n",
       "\tbackground-color:#f9ecd1;\n",
       "\tborder-left: 5px solid #ba7021;\n",
       "\tpadding: 0.5em;\n",
       "    }\n",
       "   .Algo:before {\n",
       "       content: \"Algorithm.\";\n",
       "       color:#ba7021;\n",
       "       font-weight: bold;\n",
       "       font-style: normal;\n",
       "    }\n",
       "    .Rmk {    \n",
       "\tbackground-color: #dbf1fc;\n",
       "\tborder-left: 5px solid #385487;\n",
       "\tpadding: 0.5em;\n",
       "    }\n",
       "    .Rmk:before {\n",
       "\tcontent: \"Remark.\";\n",
       "\tcolor:#385487;\n",
       "\tfont-weight: bold;\n",
       "\tfont-style: normal;\n",
       "    }\n",
       "    .Ex {    \n",
       "\tbackground-color: #dbf1fc;\n",
       "\tborder-left: 5px solid #385487;\n",
       "\tpadding: 0.5em;\n",
       "    }\n",
       "    .Ex:before {\n",
       "\tcontent: \"Example.\";\n",
       "\tcolor:#385487;\n",
       "\tfont-weight: bold;\n",
       "\tfont-style: normal;\n",
       "    }\n",
       "\n",
       "/*    .toc-item-num {\n",
       "#        display: none;\n",
       "#    }\n",
       "*/\n",
       "    .reveal section img{\n",
       "        margin: 0px auto;\n",
       "    }\n",
       "\n",
       "    div.output_area img{\n",
       "        display: block;\n",
       "        margin: 0px auto;\n",
       "    }\n",
       "  \n",
       "</style>\n",
       "\n",
       "<script>\n",
       "MathJax.Hub.Config({\n",
       "TeX: {extensions: [\"AMSmath.js\"] },\n",
       "                tex2jax: {\n",
       "                    inlineMath: [ ['$','$'], [\"\\\\(\",\"\\\\)\"] ],\n",
       "                    displayMath: [ ['$$','$$'], [\"\\\\[\",\"\\\\]\"] ]\n",
       "                },\n",
       "                displayAlign: 'center', // Change this to 'center' to center equations.\n",
       "                \"HTML-CSS\": {\n",
       "                    styles: {'.MathJax_Display': {\"margin\": 4}}\n",
       "                }\n",
       "        });\n",
       "\n",
       "\n",
       "\n",
       "</script>\n"
      ],
      "text/plain": [
       "<IPython.core.display.HTML object>"
      ]
     },
     "execution_count": 41,
     "metadata": {},
     "output_type": "execute_result"
    }
   ],
   "source": [
    "# execute this part to modify the css style\n",
    "from IPython.core.display import HTML\n",
    "def css_styling():\n",
    "    styles = open(\"./style/custom2.css\").read()\n",
    "    return HTML(styles)\n",
    "css_styling()"
   ]
  },
  {
   "cell_type": "code",
   "execution_count": null,
   "metadata": {
    "collapsed": true
   },
   "outputs": [],
   "source": []
  }
 ],
 "metadata": {
  "kernelspec": {
   "display_name": "Python 3",
   "language": "python",
   "name": "python3"
  },
  "language_info": {
   "codemirror_mode": {
    "name": "ipython",
    "version": 3
   },
   "file_extension": ".py",
   "mimetype": "text/x-python",
   "name": "python",
   "nbconvert_exporter": "python",
   "pygments_lexer": "ipython3",
   "version": "3.6.2"
  },
  "toc": {
   "nav_menu": {},
   "number_sections": true,
   "sideBar": true,
   "skip_h1_title": true,
   "toc_cell": false,
   "toc_position": {
    "height": "961px",
    "left": "0px",
    "right": "1349px",
    "top": "108px",
    "width": "296px"
   },
   "toc_section_display": "block",
   "toc_window_display": true
  }
 },
 "nbformat": 4,
 "nbformat_minor": 2
}
