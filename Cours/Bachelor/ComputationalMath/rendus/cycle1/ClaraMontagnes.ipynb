{
 "cells": [
  {
   "cell_type": "markdown",
   "metadata": {
    "internals": {
     "slide_helper": "subslide_end",
     "slide_type": "subslide"
    },
    "slide_helper": "slide_end",
    "slideshow": {
     "slide_type": "slide"
    }
   },
   "source": [
    "<img src='./figures/logo-ecole-polytechnique-ve.jpg' style='position:absolute; top:0; right:0;' width='100px' height='' alt='' />\n",
    "\n",
    "<center>**Bachelor of Ecole Polytechnique**</center>\n",
    "<center>Computational Mathematics, year 1, semester 2</center>\n",
    "<center>Author: Aline Lefebvre-Lepot</center>\n",
    "\n",
    "# Introduction to Computational Mathematics\n",
    "\n",
    "\n",
    "&nbsp;\n",
    "\n",
    "<img src=\"./figures/ApproxPi.png\" alt=\"Pi\" style=\"width: 570px;\"/>\n",
    "\n",
    "&nbsp;"
   ]
  },
  {
   "cell_type": "markdown",
   "metadata": {
    "internals": {
     "slide_helper": "subslide_end",
     "slide_type": "subslide"
    },
    "slide_helper": "slide_end",
    "slideshow": {
     "slide_type": "slide"
    }
   },
   "source": [
    "<div markdown=1 class=Abstract>\n",
    "In this chapter, we introduce the fundamental notion of **approximation**, which is the basis of Computational Mathematics. Approximation induces errors that have to be controlled. We focus on two kinds of errors: **round-off errors** due to machine representation of numbers and **truncation errors** due to mathematical approximation. Through examples, we show that mathematical analysis allows to study the behavior of errors and we introduce the notions of **convergence** and **speed of convergence**.\n"
   ]
  },
  {
   "cell_type": "markdown",
   "metadata": {},
   "source": [
    "### Table of contents\n",
    "\n",
    "- [Introduction](#intro)\n",
    "- [Machine representation of numbers: round-off error](#RoundOff)\n",
    "- [Mathematical approximations: truncation error](#trunc)\n",
    "- [Total numerical error](#total)"
   ]
  },
  {
   "cell_type": "code",
   "execution_count": 9,
   "metadata": {
    "collapsed": true
   },
   "outputs": [],
   "source": [
    "## loading python libraries\n",
    "\n",
    "# necessary to display plots inline:\n",
    "%matplotlib inline   \n",
    "\n",
    "# load the libraries\n",
    "import matplotlib.pyplot as plt # 2D plotting library\n",
    "import numpy as np              # package for scientific computing  \n",
    "\n",
    "from math import *              # package for mathematics (pi, arctan, sqrt, factorial ...)"
   ]
  },
  {
   "cell_type": "markdown",
   "metadata": {
    "slideshow": {
     "slide_type": "slide"
    }
   },
   "source": [
    "<a id=\"intro\"></a>\n",
    "## Introduction"
   ]
  },
  {
   "cell_type": "markdown",
   "metadata": {},
   "source": [
    "Computers are essential to simulate and model complex phenomenons in several domains as physics, biology, economy... Several steps have to be fulfilled to go from the original phenomenon to the simulation result:\n",
    "- Understand the original phenomenon: physics, economy, biology...\n",
    "- Write a mathematical model: equations, differential equations, integrals, probabilities...\n",
    "- Analyse the mathematical model: is there a solution ? how does it behave ? what are its properties ? Are there analytical solutions ?\n",
    "- Design a numerical method: find a method and an algorithm to approximate the solutions to the mathematical model.\n",
    "- Analyse the numerical method: does it give precise approximations ? how precise are they ?\n",
    "- Implement the numerical method on computer\n",
    "- Visualise and analyse the numerical results\n",
    "\n",
    "Most of these steps implies approximations: \n",
    "\n",
    "- the original phenomenon is approximated by the mathematical model\n",
    "- the mathematical model is approximated by the numerical method\n",
    "- the numerical method's result is approximated by the computer\n",
    "\n",
    "To be confident in the results obtained by computer simulations, one has to be able to say how precise is the approximation at each of these steps: it is essential to evaluate the corresponding error (for example, providing margin of error). Note that, even if one wants the results to be precise, it is also necessary to design efficient numerical methods, to compute these results in a reasonable time.\n",
    "\n",
    "**Computational mathematics** is the domain of mathematics which aims to design precise and efficient numerical methods, in order to approximate solutions to a given mathematical problem. For the same problem, various numerical methods and algorithms can be proposed. A great part of the research in computational mathematics is devoted to estimate the error behavior induced by the numerical models, in order to be able to compare the different algorithms. \n",
    "\n",
    "Before going further, we recall the definition of the absolute and relative error which are used to evaluate the precision of a given approximation. \n"
   ]
  },
  {
   "cell_type": "markdown",
   "metadata": {},
   "source": [
    "<div  markdown=1 class=\"DoIt\"> Complete the following definition."
   ]
  },
  {
   "cell_type": "markdown",
   "metadata": {},
   "source": [
    "<div  markdown=1 class=\"Def\">\n",
    "If $x^*$ is an approximation to $x$,   \n",
    "\n",
    "- the **absolute error** between $x$ and $x^*$ is ... \n",
    "- the **relative error** between $x$ and $x^*$ is ... \n",
    "\n",
    "where $|\\,x\\,|$ is the absolute value of $x$.\n",
    "\n",
    "The relative error can be expressed in term of percentage."
   ]
  },
  {
   "cell_type": "markdown",
   "metadata": {},
   "source": [
    "<div markdown=1 class=\"Ex\">\n",
    "Approximation of $\\pi$:\n",
    "\n",
    "| Approximation               |    Absolute error   |Relative error| Relative error in $\\%$| \n",
    "|:-----------:|:-----------------:|:---------:|\n",
    "| $x^*=22/7$  |  $1.26\\times10^{-3}$ |  $4.02\\times 10^{-4}$| $4.02\\times 10^{-2}\\%$ |\n",
    "| $x^*=3.1416$  |  $7.35\\times10^{-6}$ |  $2.34\\times 10^{-6}$ | $2.34\\times 10^{-4}\\%$ |\n",
    "\n",
    "\n",
    "- If $x^*$ approximates $\\pi$ with **absolute error** at most $10^{-3}$, it must belong to the interval $$[\\pi-10^{-3},\\pi+10^{-3}] \\sim [3.1406, 3.1426].$$\n",
    "- If $x^*$ approximates $\\pi$ with **relative error** at most $10^{-3}$, it must belong to the interval $$[\\pi(1-10^{-3}),\\pi(1+10^{-3})] \\sim [3.1385, 3.1447].$$"
   ]
  },
  {
   "cell_type": "markdown",
   "metadata": {},
   "source": [
    "<div markdown=1 class=\"Rmk\">\n",
    "The same relative error can occur for widely varying absolute errors :\n",
    "\n",
    "| Value to be estimated| &nbsp;&nbsp; Approximation &nbsp;&nbsp;| Absolute error|Relative error|\n",
    "|:--------------------:|:-----------------------:|:------------------:|:----------------:|\n",
    "| $x=1\\times 10^1$     | $x^*=1.1\\times 10^1$    |$1\\times 10^{-1}$   |$1\\times 10^{-1}$ |\n",
    "| $x=1\\times 10^{-3} $ | $x^*=1.1\\times 10^{-3}$ | $1.1\\times 10^{-4}$|$1\\times 10^{-1}$ |\n",
    "| $x=1\\times 10^4 $    | $x^*=1.1\\times 10^4$    | $1.1\\times 10^{3}$ |$1\\times 10^{-1}$ |\n",
    "\n",
    "The relative error is more meaningful as a measure of accuracy."
   ]
  },
  {
   "cell_type": "markdown",
   "metadata": {
    "slideshow": {
     "slide_type": "slide"
    }
   },
   "source": [
    "<a id=\"RoundOff\"></a>\n",
    "## Machine representation of numbers: round-off error"
   ]
  },
  {
   "cell_type": "markdown",
   "metadata": {},
   "source": [
    "<img src=\"figures/Zuse_z3.jpg\" alt=\"Zuse\" style=\"width: 300px;\"/>\n",
    "  \n",
    ">**Konrad Zuse (1910-1995) and the Z3-computer.**\n",
    ">The Z3-computer is said to be the first programmable computer. It was built by Konrad Zuse in 1941. It is based on binary floating-point numbers, is programmable with loops, has a memory and a computation unit. It is often refered as the ancestor of today's computers. "
   ]
  },
  {
   "cell_type": "markdown",
   "metadata": {},
   "source": [
    "The arithmetic performed by a computer is different from the arithmetic you use in your theoretical courses. The reason for that is that in the computational world, **the represented numbers can only have a fixed, finite number of digits**.\n",
    "\n",
    "As a consequence, numbers as $\\pi$ or $\\sqrt{2}$ cannot be represented exactly and are approximated. Then, for example, $(\\sqrt{2})^2$ will not be exactly equal to $2$. "
   ]
  },
  {
   "cell_type": "markdown",
   "metadata": {},
   "source": [
    "<div  markdown=1 class=\"DoIt\"> Complete the following script to print $(\\sqrt 2)^2$. Try other examples."
   ]
  },
  {
   "cell_type": "code",
   "execution_count": 12,
   "metadata": {},
   "outputs": [
    {
     "name": "stdout",
     "output_type": "stream",
     "text": [
      "sqrt(2)^2 = 2.0000000000000004\n"
     ]
    }
   ],
   "source": [
    "## sqrt(2)^2 is not equal to 2\n",
    "\n",
    "a = sqrt(2)**2\n",
    "print('sqrt(2)^2 =', a)"
   ]
  },
  {
   "cell_type": "markdown",
   "metadata": {},
   "source": [
    "Most of the time, the results of the computer calculations are sufficiently precise for the purpose the user has in mind. \n",
    "\n",
    "However, that is not always true. The user has to keep in mind that real numbers are approximated and to be aware of the possible problems that it can produce:\n",
    "- Computers have limited magnitude and precision to represent numbers\n",
    "- Some arithmetical manipulations are highly sensitive to this approximated representation"
   ]
  },
  {
   "cell_type": "markdown",
   "metadata": {
    "collapsed": true
   },
   "source": [
    "### Machine representation of numbers"
   ]
  },
  {
   "cell_type": "markdown",
   "metadata": {},
   "source": [
    "Before presenting the number representation in computers, let us first recall what is a *number system*. "
   ]
  },
  {
   "cell_type": "markdown",
   "metadata": {},
   "source": [
    "<div  markdown=1 class=\"Ex\"> The system we are most familiar with is the *decimal* system (or the *base-10* system). In this system, the numbers are decomposed in sums of powers of $10$:\n",
    "\n",
    "$$\n",
    "[6743.7]_{10} = 6\\times 10^3 + 7\\times 10^2 +4\\times 10^1 + 3\\times 10^0 + 7\\times 10^{-1}\n",
    "$$\n"
   ]
  },
  {
   "cell_type": "markdown",
   "metadata": {},
   "source": [
    "<div  markdown=1 class=\"Ex\"> Computers use the *binary* system (or *base-2* system) to represent numbers:\n",
    "\n",
    "$$\n",
    "[1011.1]_{2} = 1\\times 2^3 + 0\\times 2^2 +1\\times 2^1 + 1\\times 2^0 + 1\\times 2^{-1} \\quad(= [11.5]_{10})\n",
    "$$"
   ]
  },
  {
   "cell_type": "markdown",
   "metadata": {},
   "source": [
    "More generaly, one can define a system number for any base $\\beta$."
   ]
  },
  {
   "cell_type": "markdown",
   "metadata": {},
   "source": [
    "<div  markdown=1 class=\"Def\">\n",
    "**Base-$\\beta$ number system. Positional representation.**\n",
    "\n",
    "For any integer $\\beta\\geq 2$, the *positional representation* $x_\\beta$ of a real $x$ with a finite number of digits is\n",
    "\n",
    "$$\n",
    "x_\\beta = (-1)^s [x_n\\,x_{n-1}\\ldots x_1\\,x_0\\, . \\, x_{-1}x_{-2}\\ldots x_{-m}]_\\beta,\n",
    "$$\n",
    "with\n",
    "$$ s\\in\\{0,1 \\},\\quad 0\\leq x_k<\\beta \\quad\\text{ for }\\quad k=-m\\ldots n, \\quad\\text{ and }\\quad x_n\\neq 0.\n",
    "$$\n",
    "\n",
    "This representation stands for the number\n",
    "$$\n",
    "x = (-1)^s\\sum_{k=-m}^n x_k \\beta^k\n",
    "$$"
   ]
  },
  {
   "cell_type": "markdown",
   "metadata": {},
   "source": [
    "A fractional number can have a finite number of digits in a base and an infinite number of digits in another base. "
   ]
  },
  {
   "cell_type": "markdown",
   "metadata": {},
   "source": [
    "<div  markdown=1 class=\"Ex\"> The fraction $x=1/3$ has infinite digits in base $10$ with $x_{10}=[0.333\\ldots]_{10}$ while it has only one digit in base $3$ : $x_3=[0.1]_3$"
   ]
  },
  {
   "cell_type": "markdown",
   "metadata": {},
   "source": [
    "To represent numbers in computers, an exponent representation of reals is used. For example, we can write in base $10$\n",
    "\n",
    "$$\n",
    "x=-47.258 = (-1)^1 \\times 0.47258 \\times 10^2.\n",
    "$$\n",
    "\n",
    "It can be represented by storing the 4 following values\n",
    "- the **exponent** : $b=2$ \n",
    "- the ** sign of the exponent** :  $s_b=0$ \n",
    "- the **mantissa** :  $a=47258$\n",
    "- the **sign** : $s_a=1$\n",
    "\n",
    "So that \n",
    "$$\n",
    "x=(-1)^{s_a} \\times [0.a]_{10} \\times 10^{(-1)^{s_b}[b]_{10}}.\n",
    "$$\n",
    "\n",
    "Note that we could also have written\n",
    "\n",
    "$$\n",
    "- 47.258 = (-1)^1 \\times 0.0047258 \\times 10^4\n",
    "$$\n",
    "\n",
    "which would have given $s_b=0$, $b=4$, $s_a=1$ and $a=0047258$. \n",
    "\n",
    "To ensure uniqueness, the representation is normalized imposing that the first digit of $a$ is different from $0$. We say that all the digits of $a$ are **significant**."
   ]
  },
  {
   "cell_type": "markdown",
   "metadata": {},
   "source": [
    "<div  markdown=1 class=\"Def\">\n",
    "**Normalized exponent representation.**\n",
    "\n",
    "Let $\\beta>0$ be a given basis and $x$ a real. Then, $x$ can be written in a unique way as\n",
    "\n",
    "$$\n",
    "x=(-1)^{s_a} \\times [0.a]_{\\beta} \\times \\beta^{(-1)^{s_b}[b]_\\beta}\n",
    "$$\n",
    "\n",
    "where the first digit of $a$ is different from $0$. This is called the *normalized exponent representation* for $x$ in base $\\beta$.\n"
   ]
  },
  {
   "cell_type": "markdown",
   "metadata": {},
   "source": [
    "One wants to use this normalized exponent representation to represent reals in computers by storing the list $(s_b,b,s_a,a)$. However, computer have a fixed number of places $N$, the *word length*, to store a number. Two places are used to store the signs $s_b$, $s_a$. It remains $N-2$ places for the exponenent $b$ and the mantissa $a$. For a given machine, the number of places available for the exponent and the mantissa are given. If we call them respectively $n$ and $m$, we have $N=m+n+2$. Due to this length restriction, only a finite set of reals can be represented: the so-called **machine numbers**."
   ]
  },
  {
   "cell_type": "markdown",
   "metadata": {},
   "source": [
    "<div  markdown=1 class=\"Def\">\n",
    "**Machine numbers.**\n",
    "\n",
    "Let $n$ and $m$ be given integers and $\\beta>0$ be a biven basis ($n$, $m$ and $\\beta$ are given by the machine). Suppose that a real $x$ has the following normalized exponent representation in base $\\beta$\n",
    "\n",
    "$$\n",
    "x=(-1)^{s_a} \\times [0.a]_{\\beta} \\times \\beta^{(-1)^{s_b}[b]_\\beta}\n",
    "$$\n",
    "\n",
    "with the length of $b$ and $a$ respectively lower than $n$ and $m$.\n",
    "\n",
    "Then, $x$ is called a *machine number* for the couple $(n,m)$ and the base $\\beta$. It can be exaclty represented by the word of size $N=n+m+2$\n",
    " \n",
    "$$|\\quad s_b \\quad|\\quad b \\quad|\\quad s_a\\quad|\\quad a \\quad|$$"
   ]
  },
  {
   "cell_type": "markdown",
   "metadata": {},
   "source": [
    "<div  markdown=1 class=\"Ex\"> For $\\beta=10$, $n=2$, $m=5$\n",
    "- The number $x=-47.258=-0.47258\\times 10^2$ is represented by the word of length $N=9$ $$|\\quad 0 \\quad|\\quad 02 \\quad|\\quad 1 \\quad|\\quad 47258\\quad|$$\n",
    "- The number $x=0.0836=0.836\\times 10^{-1}$ is represented by the word of length $N=9$ $$|\\quad 1 \\quad|\\quad 01 \\quad|\\quad 0 \\quad|\\quad 83600\\quad|$$"
   ]
  },
  {
   "cell_type": "markdown",
   "metadata": {},
   "source": [
    "As already said, the set $A$ of numbers which are representable in a given machine is finite and most of the real numbers cannot be exaclty represented. These real numbers have to be approximated by a machine number contained in $A$. It is natural to suppose that a real $x\\notin A$ should be approximated by $rd(x)\\in A$ where $rd(x)$ is the best approximation of $x$ by an element of $A$. Such an approximation can be achieved by **rounding** and is called the floating-point representation of $x$.  "
   ]
  },
  {
   "cell_type": "markdown",
   "metadata": {},
   "source": [
    "<div  markdown=1 class=\"Def\">\n",
    "**Floating-point representation and round-off error.**\n",
    "\n",
    "Let $n$, $m$ and $\\beta$ be given and denote by $A$ the corresponding set of machine numbers that can be exactly represented. Consider a real $x\\notin A$. Its *floating-point representation* $rd(x)$ is the best approximation of $x$ by an element of $A$:\n",
    "\n",
    "$$\n",
    "rd(x)\\in A, \\quad \\text{ and } \\quad \\forall y\\in A, \\,\\,|x-rd(x)|\\leq|x-y|.\n",
    "$$\n",
    "\n",
    "The error produced replacing a number $x$ by its floating-point representation $rd(x)$ is called the **round-off error**."
   ]
  },
  {
   "cell_type": "markdown",
   "metadata": {},
   "source": [
    "<div  markdown=1 class=\"Ex\"> For $\\beta=10$, $n=2$, $m=5$, the number $\\pi=3.14159265\\ldots$ can be written in the decimal normalized representation as \n",
    "\n",
    "$$\\pi=0.314159265\\ldots\\times 10^1.$$\n",
    "\n",
    "For $m=5$, the decimal machine number approximating $\\pi$ is\n",
    "\n",
    "$$rd(\\pi)=0.31416\\times 10^1=3.1416,$$\n",
    "\n",
    "and $\\pi$ is represented by the word of length $N=9$ \n",
    "\n",
    "$$|\\quad 0 \\quad|\\quad 01 \\quad|\\quad 1 \\quad|\\quad 31416\\quad|.$$\n",
    "\n",
    "The corresponding relative round-off error is\n",
    "\n",
    "$$\n",
    "\\left|\\frac{\\pi-rd(\\pi)}{\\pi}\\right| \\approx 2.34\\times 10^{-6}.\n",
    "$$"
   ]
  },
  {
   "cell_type": "markdown",
   "metadata": {},
   "source": [
    "Suppose we are working with decimal representations of numbers and that the number of digits $m$ for the mantissa is given. If the normalized exponent representation of $x$ is\n",
    "\n",
    "$$x=0.a_1a_2...a_m a_{m+1}... \\times 10^n,$$\n",
    "\n",
    "then, its floating-point representation is\n",
    "\n",
    "$$rd(x)=0.a_1a_2...\\tilde a_m \\times 10^n,$$\n",
    "\n",
    "where $\\tilde a_m=a_m$ if $a_{m+1}<5$ and $\\tilde a_m=a_m+1$ if $a_{m+1}\\geq 5$. The corresponding relative round-off error is\n",
    "\n",
    "\\begin{align}\n",
    "\\left|\\frac{x-rd(x)}{x}\\right|&=\\left|\\frac{(0.a_1a_2...a_m a_{m+1}...-0.a_1a_2...\\tilde a_m)\\times 10^n}{0.a_1a_2...a_m a_{m+1}...\\times 10^n}\\right|\\\\\n",
    "&=\\left|\\frac{(a_m . a_{m+1}...-\\tilde a_m)\\times 10^{n-m}}{0.a_1a_2...a_m a_{m+1}...\\times 10^n}\\right|=\\left|\\frac{a_m . a_{m+1}...-\\tilde a_m}{0.a_1a_2...a_m a_{m+1}...}\\right|\\times 10^{-m}.\n",
    "\\end{align}\n",
    "\n",
    "Since $a_1\\neq 0$, the denominator is greater than $0.1$ and the rounding procedure ensures that the numerator is lower than $0.5$, which gives\n",
    "\n",
    "$$\n",
    "\\left|\\frac{x-rd(x)}{x}\\right| \\leq \\frac{0.5}{0.1}\\times 10^{-m} = 5 \\times 10^{-m}.\n",
    "$$\n",
    "\n",
    "If $\\varepsilon=5 \\times 10^{-m}$, then we have the following result:\n",
    "\n",
    "$$\n",
    "\\forall x\\in \\mathbb{R},\\quad rd(x) \\,=\\, x \\, (1-\\alpha) \\quad \\text{ with } |\\alpha|<\\varepsilon\n",
    "$$\n"
   ]
  },
  {
   "cell_type": "markdown",
   "metadata": {},
   "source": [
    "<div  markdown=1 class=\"Def\">\n",
    "**Machine precision.**\n",
    "\n",
    "Consider the floating-point representation for the couple $(n,m)$ and base $\\beta$. The *machine precision* $\\varepsilon$ is the smallest positive real such that\n",
    "\n",
    "$$\n",
    "\\forall x\\in \\mathbb{R},\\quad rd(x) \\,=\\, x \\, (1-\\alpha) \\quad \\text{ with } |\\alpha|<\\varepsilon.\n",
    "$$\n",
    "\n",
    "In case of decimal representation, one has $\\varepsilon=5 \\times 10^{-m}$.\n",
    "\n",
    "In case of binary representation, one has $\\varepsilon=2^{-m}$."
   ]
  },
  {
   "cell_type": "markdown",
   "metadata": {
    "internals": {
     "slide_type": "subslide"
    },
    "slideshow": {
     "slide_type": "slide"
    }
   },
   "source": [
    "### Floating-point arithmetics"
   ]
  },
  {
   "cell_type": "markdown",
   "metadata": {},
   "source": [
    "The result of arithmetics operations (addition, substraction...) needs not be machine numbers, even if the operands are. Then, arthmetic operations can not be achieved exactly on computers and finite-digit operations have to be defined. Let us denote by $\\oplus$, $\\ominus$, $\\otimes$ and $\\oslash$ the finite digit operators corresponding to the addition, substraction, multiplication and division respectivly. The floating-point (or finite-digit) arithmetic is given by\n",
    "\n",
    "\\begin{align}\n",
    "x \\oplus y = rd(\\, rd(x) + rd(y)\\,), &\\quad\\quad\\quad x \\ominus y = rd(\\, rd(x) - rd(y)\\,) \\\\\n",
    "x \\otimes y = rd(\\, rd(x) \\times rd(y)\\,), &\\quad\\quad\\quad x \\oslash y = rd(\\, rd(x)\\,\\, / \\,\\,rd(y)\\,) \n",
    "\\end{align}\n"
   ]
  },
  {
   "cell_type": "markdown",
   "metadata": {},
   "source": [
    "<div  markdown=1 class=\"Ex\"> \n",
    "For $\\beta=10$, $n=2$, $m=5$, let us consider $x=1/3$ and $y=6/7$. We have\n",
    "\n",
    "\\begin{align}\n",
    "rd\\left(\\frac{1}{3}\\right)&=rd(0.3333333\\ldots \\times 10^0)=0.33333\\times 10^0\\\\\n",
    "rd\\left(\\frac{6}{7}\\right)&=rd(0.85714285714285\\ldots \\times 10^0)=0.85714\\times 10^0\n",
    "\\end{align}\n",
    "\n",
    "and\n",
    "\n",
    "\\begin{align}\n",
    "\\frac{1}{3} \\oplus \\frac{6}{7} \n",
    "&= rd( 0.33333\\times 10^0 + 0.85714\\times 10^0) \\\\\n",
    "&= rd(1.19047\\times 10^0) \\\\\n",
    "&= rd( 0.119047 \\times 10^1) \\\\\n",
    "&= 0.11905 \\times 10^1\n",
    "\\end{align}\n",
    "\n",
    "while the exact value is \n",
    "\n",
    "$$\n",
    "\\frac{1}{3} + \\frac{6}{7} = 0.119047619047619\\ldots\\times 10^1.\n",
    "$$\n",
    "\n",
    "The absolute error is about $2.38\\times 10^{-5}$. The relative error is about $2\\times 10^{-5}$ which is lower than the expected machine precision for $m=5$."
   ]
  },
  {
   "cell_type": "markdown",
   "metadata": {},
   "source": [
    "Most of the time, the results obtained using finite-digit arithmetics are sufficiently accurate for the use we have in mind. However, any computer user has to be aware of some (possibly) problematic consequences of these finite digit computations. The two most common of them are illustrated in the following examples."
   ]
  },
  {
   "cell_type": "markdown",
   "metadata": {},
   "source": [
    "<div  markdown=1 class=\"Ex\"> **Addition of a large and a small number: large absolute error.**\n",
    "\n",
    "For $\\beta=10$, $n=2$, $m=5$, let us consider $x=1/3$ and $y=6/7 \\times 10^4$. We have\n",
    "\n",
    "\\begin{align}\n",
    "rd\\left(\\frac{1}{3}\\right)&=rd(0.3333333\\ldots \\times 10^0)=0.33333\\times 10^0\\\\\n",
    "rd\\left(\\frac{6}{7}\\times 10^4\\right)&=rd(0.85714285714285\\ldots \\times 10^4)=0.85714\\times 10^4\n",
    "\\end{align}\n",
    "\n",
    "and\n",
    "\n",
    "\\begin{align}\n",
    "\\frac{1}{3} \\oplus \\left(\\frac{6}{7}\\times 10^4\\right) \n",
    "&= rd( 0.33333\\times 10^0 + 0.85714\\times 10^4) \\\\\n",
    "&= rd(8571.73333) \\\\\n",
    "&= rd( 0.857173333 \\times 10^4)\\\\\n",
    "&= 0.85717\\times 10^5 = 8571.7\n",
    "\\end{align}\n",
    "\n",
    "while the exact value is \n",
    "\n",
    "$$\n",
    "\\frac{1}{3} + \\frac{6}{7}\\times 10^4 = 8571.761904761905\\ldots.\n",
    "$$\n",
    "\n",
    "The relative error is about $7.22\\times 10^{-6}$ but **the absolute error is about $0.062$**\n",
    "\n",
    "\n",
    "\n"
   ]
  },
  {
   "cell_type": "markdown",
   "metadata": {},
   "source": [
    "<div  markdown=1 class=\"Ex\"> **Substraction of nearly equal numbers: large relative error.**\n",
    "\n",
    "For $\\beta=10$, $n=2$, $m=5$, let us consider $x=0.34523$ and $y=0.3451162368$. We have\n",
    "\n",
    "\\begin{align}\n",
    "rd\\left(x\\right)&=0.34523\\\\\n",
    "rd\\left(y\\right)&=0.34512\n",
    "\\end{align}\n",
    "\n",
    "and\n",
    "\n",
    "\\begin{align}\n",
    "x \\ominus y \n",
    "&= rd( 0.34523 - 0.34512) \\\\\n",
    "&= rd(0.00011) \\\\\n",
    "&= 0.11\\times 10^{-3}\n",
    "\\end{align}\n",
    "\n",
    "while the exact value is \n",
    "\n",
    "$$\n",
    "x-y = 0.1137632\\times 10^{-3}.\n",
    "$$\n",
    "\n",
    "The absolute error is $0.37632\\times 10^{-5}$. **The relative error is about $0.033$ which is much greater than the expected precision for $m=5$. **\n"
   ]
  },
  {
   "cell_type": "markdown",
   "metadata": {},
   "source": [
    "The following python example illustrates this behavior with the computer precision. Suppose that you want to compute $$s=x-y$$ for\n",
    "\n",
    "\\begin{align}\n",
    "x&=1+10^{-15}\\\\\n",
    "y&=1\n",
    "\\end{align}\n",
    "The exact result is of course $s=10^{-15}$"
   ]
  },
  {
   "cell_type": "markdown",
   "metadata": {},
   "source": [
    "<div  markdown=1 class=\"DoIt\"> Complete the following script to compute $s$."
   ]
  },
  {
   "cell_type": "code",
   "execution_count": 13,
   "metadata": {},
   "outputs": [
    {
     "name": "stdout",
     "output_type": "stream",
     "text": [
      "absolute error = Ellipsis \n",
      "relative error = Ellipsis\n"
     ]
    }
   ],
   "source": [
    "## substraction of two nearly equal numbers\n",
    "\n",
    "# definition of x\n",
    "x = ...\n",
    "# definition of y\n",
    "y = ...\n",
    "# definition the exact result\n",
    "exact_result = ...\n",
    "# compute s\n",
    "numerical_result = ...\n",
    "# compute absolute error\n",
    "absolute_error = ...\n",
    "# compute relative error\n",
    "relative_error = ...\n",
    "# print the errors\n",
    "print('absolute error =', absolute_error, '\\nrelative error =', relative_error)"
   ]
  },
  {
   "cell_type": "markdown",
   "metadata": {},
   "source": [
    "Even for high (but finite) computer precision, the substraction of two nearly equal numbers\n",
    "leads to a relative error of 11% !"
   ]
  },
  {
   "cell_type": "markdown",
   "metadata": {},
   "source": [
    "An additional problem that arises when one substracts nearly equal numbers is the **cancellation of significant digits**.  In the previous example, even though $m=5$, $x \\ominus y $ only have two significant digits. Indeed, three digits have been cancelled due to the fact that the first three significant digits of $x$ and $y$ are equal. In most of the cases, since $m=5$, the three missing digits will be assigned by the machine (either zero or randomly assigned). As a consequence, all the following computations using $x-y$ will be carried out using these three non-significant digits, leading to results with at most two significant digits, even if $m=5$..."
   ]
  },
  {
   "cell_type": "markdown",
   "metadata": {},
   "source": [
    "Being aware of such behaviours, the user can avoid the loss of accuracy due to round-off errors by taking care of the order for the different operations or by reformulating the problem. "
   ]
  },
  {
   "cell_type": "markdown",
   "metadata": {},
   "source": [
    "**Modifying the order of operations to increase accuracy**\n",
    "\n",
    "Suppose that you want to compute $$s=a+b+c$$ for\n",
    "\n",
    "\\begin{align}\n",
    "a&=10^{-15}\\\\\n",
    "b&=1\\\\\n",
    "c&=-1\n",
    "\\end{align}\n",
    "The exact result is of course $s=10^{-15}$"
   ]
  },
  {
   "cell_type": "code",
   "execution_count": 14,
   "metadata": {},
   "outputs": [
    {
     "name": "stdout",
     "output_type": "stream",
     "text": [
      "s = (a+b)+c = 1.1102230246251565e-15 [exact value = a+b+c = 1e-15]\n"
     ]
    }
   ],
   "source": [
    "## sum of three terms, first method\n",
    "\n",
    "a = 1e-15\n",
    "b = 1\n",
    "c = -1\n",
    "s1 = (a+b) + c\n",
    "print('s = (a+b)+c =', s1, '[exact value = a+b+c = 1e-15]')"
   ]
  },
  {
   "cell_type": "markdown",
   "metadata": {},
   "source": [
    "Adding first $a$ and $b$ and then adding $c$ to the previous result leads to a substraction of two nearly equal numbers and a relative error of order $11\\%$. Almost all the digits of the result are not significant... To overcome this problem, it suffices to sum $b$ and $c$ and then add $a$:"
   ]
  },
  {
   "cell_type": "code",
   "execution_count": 15,
   "metadata": {},
   "outputs": [
    {
     "name": "stdout",
     "output_type": "stream",
     "text": [
      "s = a+(b+c) = 1e-15 [exact value = a+b+c = 1e-15]\n"
     ]
    }
   ],
   "source": [
    "## sum of three terms, second method\n",
    "\n",
    "a = 1e-15\n",
    "b = 1\n",
    "c = -1\n",
    "s2 = a + (b+c)\n",
    "print('s = a+(b+c) =', s2, '[exact value = a+b+c = 1e-15]')"
   ]
  },
  {
   "cell_type": "markdown",
   "metadata": {},
   "source": [
    "Remark that we showed here that the finite-digit addition in not associative !"
   ]
  },
  {
   "cell_type": "markdown",
   "metadata": {},
   "source": [
    "**Reformulation of the problem to increase accuracy**\n",
    "\n",
    "Suppose you want to compute the roots $(x_1,x_2)$ of the quadratic polynomial\n",
    "\n",
    "$$\n",
    "ax^2+bx+c=0,\n",
    "$$\n",
    "\n",
    "where\n",
    "\n",
    "\\begin{align}\n",
    "x_1&=123*10^{-10}\\\\\n",
    "x_2&=10^5\\\\\n",
    "a&=1\\\\\n",
    "b&=-(x_1+x_2)=-10^5-123*10^{-10}\\\\\n",
    "c&=x_1x_2=123*10^{-5}\n",
    "\\end{align}\n",
    "\n",
    "The quadratic formula gives\n",
    "\n",
    "\\begin{align}\n",
    "x_1&=\\frac{-b-\\sqrt{b^2-4ac}}{2a}\\\\\n",
    "x_2&=\\frac{-b+\\sqrt{b^2-4ac}}{2a}\n",
    "\\end{align}\n",
    "\n",
    "In the previous example, we have $b^2>>4ac$ so that the formula for $x_1$ leads to the substraction of two nearly equal numbers ($b$ is negative). The following program computes $x_1$ and $x_2$ from these formula:"
   ]
  },
  {
   "cell_type": "markdown",
   "metadata": {},
   "source": [
    "<div  markdown=1 class=\"DoIt\"> Complete the following script to compute $x_1$ and $x_2$."
   ]
  },
  {
   "cell_type": "code",
   "execution_count": 16,
   "metadata": {},
   "outputs": [
    {
     "name": "stdout",
     "output_type": "stream",
     "text": [
      "x1 =  Ellipsis [exact value = 1.23e-8] \n",
      "x2 =  Ellipsis [exact value = 100000]\n"
     ]
    }
   ],
   "source": [
    "## roots of quadratic polynoms, classical formulation\n",
    "\n",
    "x1 = 123*1e-10\n",
    "x2 = 1e5\n",
    "a = 1\n",
    "b = -100000.0000000123\n",
    "c = 123*1e-5\n",
    "# compute x1\n",
    "x1num = ...\n",
    "# compute x2\n",
    "x2num = ...\n",
    "print('x1 = ', x1num, '[exact value = 1.23e-8] \\nx2 = ', x2num, '[exact value = 100000]')"
   ]
  },
  {
   "cell_type": "markdown",
   "metadata": {},
   "source": [
    "Doing so, we obtain a relative error of order $8\\%$ for $x_1$... \n",
    "\n",
    "A method to avoid this loss of accuracy is to compute the \"good\" root (in our case $x_2$, it depends on the sign of $b$) using the previous formula and then, use the equality $c=x_1x_2$ to compute the second one: \n",
    "\n",
    "\\begin{align}\n",
    "\\tilde x_2&=\\frac{-b-sign(b)\\sqrt{b^2-4ac}}{2a}\\\\\n",
    "\\tilde x_1&=\\frac{c}{x_1}\n",
    "\\end{align}"
   ]
  },
  {
   "cell_type": "markdown",
   "metadata": {},
   "source": [
    "<div  markdown=1 class=\"DoIt\"> Use these new formula to compute $x_1$ and $x_2$."
   ]
  },
  {
   "cell_type": "code",
   "execution_count": 17,
   "metadata": {},
   "outputs": [
    {
     "name": "stdout",
     "output_type": "stream",
     "text": [
      "x2 =  Ellipsis [exact value = 100000] \n",
      "x1 =  Ellipsis [exact value = 1.23e-8]\n"
     ]
    }
   ],
   "source": [
    "## roots of quadratic polynoms, accurate formulation\n",
    "\n",
    "x1 = 1e5\n",
    "x2 = 123*1e-10\n",
    "a = 1\n",
    "b = -100000.0000000123\n",
    "c = 123*1e-5\n",
    "# compute x2\n",
    "x2num2 = ...\n",
    "# compute x1\n",
    "x1num2 = ...\n",
    "print('x2 = ', x2num2, '[exact value = 100000] \\nx1 = ', x1num2, '[exact value = 1.23e-8]')"
   ]
  },
  {
   "cell_type": "markdown",
   "metadata": {},
   "source": [
    "This new computation is now accurate up to machine precision for both of the two roots."
   ]
  },
  {
   "cell_type": "markdown",
   "metadata": {
    "internals": {
     "slide_helper": "subslide_end"
    },
    "slide_helper": "slide_end",
    "slideshow": {
     "slide_type": "-"
    }
   },
   "source": [
    "<a id=\"trunc\"></a>\n",
    "## Mathematical approximations: truncation error"
   ]
  },
  {
   "cell_type": "markdown",
   "metadata": {},
   "source": [
    "The previous section presented one of the source of errors (round-off errors) appearing when one tries to solve numerically a problem. All the algorithms proposed were supposed to give the exact solution to the problem if performed using exact arithmetics. For a wide class of problems, there does not exist exact algorithms to compute the solution. In that case, one has to design algorithms capable to approximate the solution. One of the main challenge in that case is to obtain algorithms giving \"good\" approximations, that is with \"small\" truncation errors. Before going further, let us define what is an algorithm."
   ]
  },
  {
   "cell_type": "markdown",
   "metadata": {},
   "source": [
    "<div  markdown=1 class=\"Def\">\n",
    "**Algorithm.**\n",
    "\n",
    "An algorithm is a set of directives specifying how to solve (or approximate the solution to) a given problem. It must have the feature of terminating after a finite number of elementary operations.\n",
    "\n",
    "The inputs of the algorithm are given at its beginning. Some of the inputs are given by the problem you want to solve. There can also be other inputs, called **discretization parameters**, which are given by the numerical method chosen to approximate the problem. "
   ]
  },
  {
   "cell_type": "markdown",
   "metadata": {},
   "source": [
    "For example, the procedures described in the above section to compute $s=a+b+c$ or the roots of quadratic polynomials are algorithms. The two procedures to compute $s$ can be described as:"
   ]
  },
  {
   "cell_type": "markdown",
   "metadata": {},
   "source": [
    "<div  markdown=1 class=\"Algo\">\n",
    "**Algorithms to compute $s=a+b+c$.**\n",
    "\n",
    "Algorithm 1:\n",
    "\\begin{align}\n",
    "INPUT:&\\quad a,b,c\\\\\n",
    "DO:&\\quad s=a+b\\\\\n",
    "&\\quad s=s+c\\\\\n",
    "RETURN:&\\quad s\\\\\n",
    "\\end{align}\n",
    "\n",
    "Algorithm 2:\n",
    "\\begin{align}\n",
    "INPUT:&\\quad a,b,c\\\\\n",
    "DO:&\\quad s=b+c\\\\\n",
    "&\\quad s=s+a\\\\\n",
    "RETURN:&\\quad s\\\\\n",
    "\\end{align}"
   ]
  },
  {
   "cell_type": "markdown",
   "metadata": {},
   "source": [
    "These two algorithms are exacts: if performed using exact arithmetics, they are supposed to return the same exact value $s$. The inputs $a$, $b$ and $c$ are given by the problem and no discretization parameters are needed.\n",
    "\n",
    "Suppose now that you want to compute $x^*$ solution to a given problem that cannot be exactly computed using elementary operations. In that case, one can use an approximation of $x^*$, depending on a discretization parameter. For example, suppose you want to compute $x^*=f'(a)$, $f$ being a derivable funcion and $a$ a given real.\n",
    "\n",
    "Several approximations of $f'(a)$ can be suggested by recalling that the derivative of $f$ in $a$ is the slope of the tangent to the graph of $f$ at point $a$. This slope can be approximated by the slope of secants to the graph of $f$ passing through two points of the graph, close to point $(a,f(a))$.\n",
    "\n",
    "<img src=\"./figures/ApproxDer.png\" alt=\"ApproxDer\" style=\"width: 450px;\"/>\n"
   ]
  },
  {
   "cell_type": "markdown",
   "metadata": {},
   "source": [
    "<div  markdown=1 class=\"DoIt\"> Complete the two following approximations. $x_h$ and $\\bar x_h$ correspond to the approximation using the slope of secant 1 and 2 respectively.\n",
    "Also complete the two algorithms."
   ]
  },
  {
   "cell_type": "markdown",
   "metadata": {},
   "source": [
    "For example, $x^*=f'(a)$ can be approximated for small $h$ by the formula\n",
    "\n",
    "$$\n",
    "f'(a) \\approx x_h = \\frac{f(a+h)-f(a)}{h}\n",
    "$$\n",
    "\n",
    "or \n",
    "\n",
    "$$\n",
    "    f'(a) \\approx \\bar x_h = \\frac{f(a+h)-f(a-h)}{h}\n",
    "$$\n",
    "\n",
    "This leads to the two following algorithms, returning $x_h$ and $\\bar x_h$ respectively for a given value of $h$:"
   ]
  },
  {
   "cell_type": "markdown",
   "metadata": {},
   "source": [
    "<div  markdown=1 class=\"Algo\">\n",
    "**Algorithm 1 to compute $x_h$, approximation of $x^*=f'(a)$.**\n",
    "\n",
    "\\begin{align}\n",
    "INPUT:  & \\quad a, f, h  \\\\\n",
    "DO:     & \\quad x = ...  \\\\\n",
    "RETURN: & \\quad x        \\\\\n",
    "\\end{align}"
   ]
  },
  {
   "cell_type": "markdown",
   "metadata": {},
   "source": [
    "<div  markdown=1 class=\"Algo\">\n",
    "**Algorithm 2 to compute $\\bar x_h$, approximation of $x^*=f'(a)$.**\n",
    "\n",
    "\\begin{align}\n",
    "INPUT:  & \\quad a, f, h \\\\\n",
    "DO:     & \\quad x = ... \\\\\n",
    "RETURN: & \\quad x       \\\\\n",
    "\\end{align}"
   ]
  },
  {
   "cell_type": "markdown",
   "metadata": {},
   "source": [
    "The inputs of the algorithms are of two types: the problem parameters $a$ and $f$, and the discretization parameter $h$. In that case, even using exact arithmetics, the result is an approximation of $x^*$. Its quality depends on the discretization parameter $h$ and one would like to estimate the corresponding errors. "
   ]
  },
  {
   "cell_type": "markdown",
   "metadata": {},
   "source": [
    "<div  markdown=1 class=\"Def\">\n",
    "** Truncation error**\n",
    "\n",
    "Consider an algorithm designed to compute an approximation of the solution $x^*$ to a given problem. Denote by $\\eta$ the list of discretization parameters given as inputs to the algorithm (i.e. inputs of the algorithm not given by the initial problem). If $x_\\eta$ is the approximation of $x^*$ computed using these discretization parameters, then the *truncation error* for  these parameters is\n",
    "\n",
    "$$\n",
    "e_\\eta=\\left|\\, x^*-x_\\eta \\,\\right|.\n",
    "$$\n",
    "\n",
    "This error is evaluated supposing that $x_\\eta$ is computed using exact arithmetics."
   ]
  },
  {
   "cell_type": "markdown",
   "metadata": {},
   "source": [
    "<div  markdown=1 class=\"Ex\">\n",
    "The parameter driving the precision in the algorithms computing $x^*=f'(a)$ is $h$. The truncation error for these algorithms depends on $h$:\n",
    "\n",
    "$$e_h=\\left|\\, f'(a)-x_h \\,\\right| \\quad \\text{ and } \\quad \\bar e_h=\\left|\\, f'(a)-\\bar x_h \\,\\right|.$$"
   ]
  },
  {
   "cell_type": "markdown",
   "metadata": {},
   "source": [
    "The quality of an algorithm depends on the behavior of the truncation error. Of course, the objective is to compute approximations of $x^*$ as precise as possible and converging to $x^*$ in some sense (i.e. the error converging to zero). In that case we say that **the algorithm converges**.\n",
    "\n",
    "Let us use the two previous algorithms proposed to compute $x^*=f'(a)$ for $f(x)=x^5$ and $a=1$. We define above the corresponding functions:"
   ]
  },
  {
   "cell_type": "markdown",
   "metadata": {},
   "source": [
    "<div  markdown=1 class=\"DoIt\"> Complete the following function $f: x\\to f(x)$. If the input is a vector $x=(x_i)_i$, it has to return the vector $(f(x_i))_i$. Take care not to use any loop."
   ]
  },
  {
   "cell_type": "code",
   "execution_count": 18,
   "metadata": {},
   "outputs": [
    {
     "name": "stdout",
     "output_type": "stream",
     "text": [
      "f(2) = 32\n",
      "f([2 3]) = [ 32 243]\n"
     ]
    }
   ],
   "source": [
    "## Function f: x -> x^5\n",
    "## input : x = discretization parameter (can be a real or an array of reals)\n",
    "## output : real f(x)  if x is real\n",
    "##          array (f(xi))_i if x=(xi)_i is an array\n",
    "import numpy as np\n",
    "def f(x):\n",
    "    return x**5\n",
    "\n",
    "# Test \n",
    "x=2\n",
    "print('f(2) =',f(x))\n",
    "x=np.array([2,3])\n",
    "print('f([2 3]) =',f(x))"
   ]
  },
  {
   "cell_type": "markdown",
   "metadata": {},
   "source": [
    "<div  markdown=1 class=\"DoIt\"> Complete the two following functions that return the two approximations of the derivative of $f$ at point $a$, with discretization parameter $h$."
   ]
  },
  {
   "cell_type": "code",
   "execution_count": 19,
   "metadata": {
    "collapsed": true
   },
   "outputs": [],
   "source": [
    "## Function that computes x_h = (f(a+h)-f(a))/h for a given a\n",
    "## input : f = function \n",
    "##         a = point where the derivative has to be approximated\n",
    "##         h = discretization parameter (can be a real or an array of reals)\n",
    "## output : real x_h = (f(a+h)-f(a))/h  if h is real\n",
    "##          array x_h such that x_h[i] = (f(a+h[i])-f(a))/h[i] if h is an array\n",
    "\n",
    "def ApproxDerivative1(f, a, h):\n",
    "    return (f(a+h)-f(a))/h\n"
   ]
  },
  {
   "cell_type": "code",
   "execution_count": 26,
   "metadata": {
    "collapsed": true
   },
   "outputs": [],
   "source": [
    "## Function that computes x_h = (f(a+h)-f(a-h))/2h for a given a\n",
    "## input : a = point where the derivative has to be approximated\n",
    "##         h = discretization parameter\n",
    "## output : real x_h = (f(a+h)-f(a-h))/h  if h is real\n",
    "##          array x_h such that x_h[i] = (f(a+h[i])-f(a-h[i]))/h[i] if h is an array\n",
    "\n",
    "def ApproxDerivative2(f, a, h):\n",
    "    return (f(a+h)-f(a-h))/(2*h)\n"
   ]
  },
  {
   "cell_type": "markdown",
   "metadata": {},
   "source": [
    "We test the previous functions by computing approximations of $f'(1)=5$:"
   ]
  },
  {
   "cell_type": "markdown",
   "metadata": {},
   "source": [
    "<div  markdown=1 class=\"DoIt\"> Complete the following script to test the two previous approximations."
   ]
  },
  {
   "cell_type": "code",
   "execution_count": 27,
   "metadata": {},
   "outputs": [
    {
     "name": "stdout",
     "output_type": "stream",
     "text": [
      "a= 1 , h= 0.01 , exact value: f'(1)=5\n",
      "Result given by the first algorithm: 5.101005010000015\n",
      "Result given by the second algorithm: 0.0005001000010000011\n"
     ]
    }
   ],
   "source": [
    "## Test of the two formulas computing a derivative\n",
    "\n",
    "a = 1\n",
    "h = 0.01\n",
    "x1 = (f(a+h)-f(a))/h # first algorithm\n",
    "x2 = (f(a+h)-f(a-h))/(2*h) # second algorithm\n",
    "print('a=', a, ', h=', h, ', exact value: f\\'(1)=5')\n",
    "print('Result given by the first algorithm:', x1)\n",
    "print('Result given by the second algorithm:', x2)"
   ]
  },
  {
   "cell_type": "markdown",
   "metadata": {},
   "source": [
    "For this test, the approximation given by algorithm 2 is better than the one obtained using algorithm 1 for the same value of $h$. To observe more precisely the behavior of the two algorithms, the following code plots the value of the truncation error $e_h$ versus the discretization parameter $h$ when $h$ goes to zero, using a log-log scale:"
   ]
  },
  {
   "cell_type": "markdown",
   "metadata": {},
   "source": [
    "<div  markdown=1 class=\"DoIt\"> Complete the following script to compare the errors of the two algorithms versus $h$."
   ]
  },
  {
   "cell_type": "code",
   "execution_count": 28,
   "metadata": {},
   "outputs": [
    {
     "data": {
      "image/png": "[encoded data removed]",
      "text/plain": [
       "<matplotlib.figure.Figure at 0x7f774c3917b8>"
      ]
     },
     "metadata": {},
     "output_type": "display_data"
    }
   ],
   "source": [
    "## behavior of the error for the two formulas computing a derivative\n",
    "\n",
    "# point a\n",
    "a = 1\n",
    "\n",
    "#sequence of h = [1, 1e-1, 1e-2 ... 1e-5]\n",
    "n = np.arange(6)\n",
    "h = 10.**(-n)\n",
    "\n",
    "# approximation of f'(a) using the first algorithm\n",
    "# and the corresponding error (vector)\n",
    "Der1 = ApproxDerivative1(f, a, h)\n",
    "Err1 = abs(Der1 - 5.)\n",
    "\n",
    "# approximation of f'(a) using the second algorithm\n",
    "# and the corresponding error (vector)\n",
    "Der2 = ApproxDerivative2(f, a, h)\n",
    "Err2 = abs(Der2 - 5.)\n",
    "\n",
    "# plot of the errors versus h\n",
    "fig = plt.figure(figsize=(10, 8))\n",
    "plt.plot(h,Der1,label='Der1') # plot error 1 versus h\n",
    "plt.plot(h,Der2,label='Der2')  # plot error 2 versus h\n",
    "plt.legend(loc='upper left', fontsize=18)\n",
    "plt.xlabel('h', fontsize=18)\n",
    "plt.ylabel('Absolute error', fontsize=18)\n",
    "plt.title('Convergence of $x_h$ to $x^*=f\\'(a)$ for $f(x)=x^5$ and $a=1$', fontsize=18)\n",
    "\n",
    "plt.show()\n"
   ]
  },
  {
   "cell_type": "markdown",
   "metadata": {},
   "source": [
    "This figure confirms that both errors $e_h$ and $\\bar e_h$ seem to converge to zero when $h$ goes to zero.\n",
    "\n",
    "This convergence is quicker for the second algorithm than for the first one. Indeed, for $\\bar x_h$, precision $10^{-3}$ is obtained for $h\\approx 10^{-2}$, while it requires a much smaller $h\\approx 10^{-4}$ for $x_h$.\n",
    "\n",
    "_**These numerical observations (convergence, speed of convergence...) have to be confirmed/proved by a theoretical study of the error. However, since the solution to the problem is not known, this error cannot be explicitly  computed and one has prove that it is bounded by a quantity converging to zero. Such a bound, if explicit, is called an error estimator.**_\n",
    "\n",
    "Here, a study of the remainder of Taylor expansions of $f$ about point $a$ can be achieved in order to quantify the error and its dependance on $h$ for each algorithm."
   ]
  },
  {
   "cell_type": "markdown",
   "metadata": {},
   "source": [
    "Indeed, supposing $f\\in \\cal{C}^2([a,b])$, from Taylor's theorem (see appendix), we have\n",
    "\n",
    "$$\n",
    "\\forall h\\geq 0, \\quad\\exists \\xi_+ \\in ]a,a+h[ \\quad\\text{ such that }\\quad f(a+h) = f(a) + f'(a)\\, h + \\frac{f''(\\xi_+)}{2!}\\,h^2.\n",
    "$$\n",
    "\n",
    "This gives, for $h\\leq 1$\n",
    "\n",
    "$$\n",
    "e_h = \\left|\\, f'(a) - \\frac{f(a+h)-f(a)}{h} \\,\\right| = \\left| \\frac{f''(\\xi_+)}{2!}\\,h \\right| \\leq \\frac{\\sup_{[0,1]}{\\left|f''\\right|}}{2!}\\,h = M_1\\, h\n",
    "$$\n",
    "\n",
    "where $M_1$ is a constant independant of $h$. From this, we prove the convergence of the first algorithm:\n",
    "\n",
    "$$e_h = \\left|\\, f'(a)-x_h \\,\\right|\\to 0 \\quad \\text{ when } \\quad h\\to 0.$$"
   ]
  },
  {
   "cell_type": "markdown",
   "metadata": {},
   "source": [
    "To study the convergence of the second algorithm, we suppose $f\\in \\cal{C}^3([a,b])$ and use Taylor's theorem at rank $3$:\n",
    "\n",
    "$$\n",
    "\\forall h\\geq 0, \\quad\\exists \\xi_+ \\in ]a,a+h[ \\quad\\text{ such that }\\quad f(a+h) = f(a) + f'(a)\\, h + \\frac{f''(a)}{2!} \\, h^2 +  \\frac{f'''(\\xi_+)}{3!}\\,h^3\n",
    "$$\n",
    "\n",
    "and \n",
    "\n",
    "$$\n",
    "\\forall h\\geq 0, \\quad\\exists \\xi_- \\in ]a-h,a[ \\quad\\text{ such that }\\quad f(a-h) = f(a) - f'(a)\\, h + \\frac{f''(a)}{2!} \\, h^2 +  \\frac{f'''(\\xi_-)}{3!}\\,h^3\n",
    "$$\n",
    "\n",
    "This gives, for $h\\leq 1$\n",
    "\n",
    "$$\n",
    "\\bar e_h = \\left|\\, f'(a) - \\frac{f(a+h)-f(a-h)}{2h} \\,\\right| = \\left| \\frac{f'''(\\xi_+)-f'''(\\xi_-)}{2\\times 3!}\\,h^2 \\right|\\leq \\frac{2 \\sup_{[0,1]}{\\left|f''' \\right|}}{2\\times 3!}\\,h^2 = M_2\\, h^2\n",
    "$$\n",
    "\n",
    "where $M_2$ is a constant independant of $h$. From this, we now have the convergence of the second algorithm:\n",
    "\n",
    "$$\\bar e_h = \\left|\\, f'(a)- \\bar x_h \\,\\right|\\to 0 \\quad \\text{ when } \\quad h\\to 0.$$"
   ]
  },
  {
   "cell_type": "markdown",
   "metadata": {},
   "source": [
    "From the explicit estimations\n",
    "\n",
    "$$\n",
    "e_h \\leq M_1 h \\quad \\text{and} \\quad \\bar e_h \\leq M_2 h^2\n",
    "$$\n",
    "\n",
    "we can even extract more precise information about the behavior of the error when $h$ goes to zero. \n",
    "\n",
    "For example, we have proved that the bound  behaves like $h$ for the first algorithm (we say that the error is of **order 1**) and  like $h^2$ for the second (we say that the error is of **order 2**).  The **speed of convergence** is quantified by the order of the error in $h$.  We recover here that algorithm 2 converges quicker to $f'(a)$ than algorithm 1.\n"
   ]
  },
  {
   "cell_type": "markdown",
   "metadata": {},
   "source": [
    "The explicit bound can also be used to obtain a quantitative information about the precision of the approximation obtained for a given value of $h$. Indeed, in general, the value of $x^*$ is not known and the numerical error cannot be computed. We proved that the error is less than this estimation so the previous explicit bounds can be used to quantify how precise is the numerical result for a given $h$. \n",
    "\n",
    "We have $M_1=40$ and $M_2= 160/6$ and we compare in the following tables the errors and the estimated bounds for the two algorithms:\n",
    "\n",
    "|&nbsp;&nbsp;&nbsp;|&nbsp;&nbsp; $e_h$ &nbsp;&nbsp;|  numerical error | estimated bound|&nbsp;&nbsp; $\\bar e_h$ &nbsp;&nbsp; |  numerical error | estimated bound |\n",
    "|:--------------------:|:--------------------:|:-----------------------:|:------------------:|:------------------:|:--------------------:|:-----------------------:|\n",
    "|&nbsp;&nbsp;&nbsp;&nbsp;&nbsp;&nbsp;$h=1e+00$&nbsp;&nbsp;&nbsp;&nbsp;&nbsp;&nbsp;|&nbsp; |&nbsp;&nbsp;&nbsp;&nbsp;&nbsp;&nbsp;&nbsp;&nbsp;$2.60000000e+01 $ &nbsp;&nbsp;&nbsp;&nbsp;&nbsp;&nbsp;&nbsp;&nbsp;| $4.0e+01$   | &nbsp;&nbsp; | &nbsp;&nbsp;&nbsp;&nbsp;&nbsp;&nbsp;&nbsp;&nbsp;$ 1.10000000e+01 $&nbsp;&nbsp;&nbsp;&nbsp;&nbsp;&nbsp;&nbsp;&nbsp; | $  2.666...e+01$   |\n",
    "|&nbsp;&nbsp; $h=1e-01$&nbsp;&nbsp; |&nbsp;    | $1.10510000e+00$| $4.0e+00$ |&nbsp;&nbsp; | $ 1.00100000e-01 $ | $ 2.666...e-01 $   |\n",
    "|&nbsp;&nbsp; $h=1e-02$  &nbsp;&nbsp;  |&nbsp;| $1.01005010e-01$| $4.0e-01$    | &nbsp;&nbsp; | $  1.00001000e-03 $ | $ 2.666...e-03 $   |\n",
    "| &nbsp;&nbsp;$h=1e-03$ &nbsp;&nbsp;|&nbsp;   | $1.00100050e-02$| $4.0e-02$    | &nbsp;&nbsp; | $  1.00000007e-05$ | $ 2.666...e-05 $   |\n",
    "|&nbsp;&nbsp; $h=1e-04$ &nbsp;&nbsp;|&nbsp;   | $1.00010000e-03$| $4.0e-03$    | &nbsp;&nbsp; | $ 9.99994576e-08 $ | $ 2.666...e-07 $   |\n",
    "|&nbsp;&nbsp; $h=1e-05$ &nbsp;&nbsp;|&nbsp;   | $1.00001040e-04$| $4.0e-04$    | &nbsp;&nbsp; | $  1.00975228e-09$ | $ 2.666...e-09 $   |\n",
    "\n",
    "One can observe that the numerical error is below the theoretical bound and that this bound is a rather good estimation for the error. **As a consequence, $h$ being given, one can estimate the precision of the approximation given by the two algorithms by using these explicit bounds (error estimators).**\n"
   ]
  },
  {
   "cell_type": "markdown",
   "metadata": {},
   "source": [
    "**The explicit estimation of the error also allows to choose adequately the value of the discretization parameter needed to reach a given precision.** For example, suppose you want to estimate $x^*=f'(a)$ and to be precise up to $10^{-6}$, The previous estimation says that you can reach this precision with $h=10^{-6}/M_1=2.5\\times 10^{-8}$ using the first algorithm and $h=\\sqrt{10^{-6}/M_2}=1.936\\times 10^{-4}$ using the second one.\n",
    "\n",
    " "
   ]
  },
  {
   "cell_type": "markdown",
   "metadata": {},
   "source": [
    "<div markdown=1 class=\"Rmk\">\n",
    "Note that the order $n$ of the method can be recovered numerically from the log-log plot of the error versus $h$: since \n",
    "$$\n",
    "e_h \\leq M h^n,\n",
    "$$ \n",
    "\n",
    "we have\n",
    "$$\n",
    "\\log e_h \\leq n \\log h + \\log M\n",
    "$$\n",
    "\n",
    "and, if the bound is accurate, $n$ is equal to the slope of the plotted line in log-log scale. \n",
    "\n",
    "The order of the method can also be observed in the previous table. Indeed, in case of a method of order $n$, dividing $h$ by $\\alpha$ divides the error by $\\alpha^n$. In our example, when $h$ is divided by $10$, the error is divided by $10$ for the first algorithm and by $100$ for the second. "
   ]
  },
  {
   "cell_type": "markdown",
   "metadata": {},
   "source": [
    "<a id=\"total\"></a>\n",
    "## Total numerical error"
   ]
  },
  {
   "cell_type": "markdown",
   "metadata": {},
   "source": [
    "When computing an approximation of the solution to a given problem, the total error is made of both the error due to the mathematical approximation of the problem (truncation error) and errors due to the use of finite-digit approximations in computers (round-off errors)\n",
    "\n",
    "To illustrate this, let us consider the first algorithm we proposed in the previous section to estimate the derivative $f'(a)$:\n",
    "\n",
    "$$\n",
    "x_h= \\frac{f(a+h)-f(a)}{h}.\n",
    "$$\n",
    "\n",
    "When $h$ is very small, it consists in a substraction of the two nearly equal reals $f(a+h)$ and $f(a)$ which can induce a high round-off error and this error is increased due to the division by the small real $h$.\n",
    "\n",
    "The approximation of $f'(a)$ given by the computer is in fact\n",
    "\n",
    "$$\n",
    "\\tilde x_h = rd\\left(\\,\\,(\\,\\,rd(f(a+h))\\ominus rd(f(a))\\,\\,)\\,\\,\\oslash\\,\\, rd(h)\\,\\,\\right)\n",
    "$$\n",
    "\n",
    "so that the error can be spilt in two terms:\n",
    "\n",
    "\\begin{align}\n",
    "\\tilde e_h &= \\left|\\, f'(a) - \\tilde x_h \\,\\right| \\\\\n",
    "&= \\left|\\, f'(a) - \\frac{f(a+h)-f(a)}{h} + \\frac{f(a+h)-f(a)}{h} - \\tilde x_h\\,\\right| \\\\\n",
    "&\\leq \\left|\\, f'(a) - \\frac{f(a+h)-f(a)}{h}\\,\\right| + \\left|\\,\\frac{f(a+h)-f(a)}{h} - \\tilde x_h \\,\\right|\\\\\n",
    "& \\quad\\quad \\text{Truncation error} \\quad\\quad+\\quad\\quad \\text{Round-off error}\n",
    "\\end{align}\n",
    "\n",
    "We already proved that the truncation error goes to zero when $h$ goes to zero. On the contrary, the round-off error increases for $h$ very small. As a consequence, for $h$ too small, the round-off error can become greater than the truncation error, which deteriorates the approximation. This can be observed for both of the previous algorithms by plotting the error versus $h$ for smaller values of $h$ than in the previous study:"
   ]
  },
  {
   "cell_type": "markdown",
   "metadata": {},
   "source": [
    "<div  markdown=1 class=\"DoIt\"> Run the following cell to observe the total numerical error for a wide range of $h$."
   ]
  },
  {
   "cell_type": "code",
   "execution_count": 12,
   "metadata": {},
   "outputs": [
    {
     "ename": "NameError",
     "evalue": "name 'plt' is not defined",
     "output_type": "error",
     "traceback": [
      "\u001b[0;31m---------------------------------------------------------------------------\u001b[0m",
      "\u001b[0;31mNameError\u001b[0m                                 Traceback (most recent call last)",
      "\u001b[0;32m<ipython-input-12-ea205793de3b>\u001b[0m in \u001b[0;36m<module>\u001b[0;34m()\u001b[0m\n\u001b[1;32m     20\u001b[0m \u001b[0;34m\u001b[0m\u001b[0m\n\u001b[1;32m     21\u001b[0m \u001b[0;31m# plot of the errors versus h\u001b[0m\u001b[0;34m\u001b[0m\u001b[0;34m\u001b[0m\u001b[0m\n\u001b[0;32m---> 22\u001b[0;31m \u001b[0mfig\u001b[0m \u001b[0;34m=\u001b[0m \u001b[0mplt\u001b[0m\u001b[0;34m.\u001b[0m\u001b[0mfigure\u001b[0m\u001b[0;34m(\u001b[0m\u001b[0mfigsize\u001b[0m\u001b[0;34m=\u001b[0m\u001b[0;34m(\u001b[0m\u001b[0;36m10\u001b[0m\u001b[0;34m,\u001b[0m \u001b[0;36m8\u001b[0m\u001b[0;34m)\u001b[0m\u001b[0;34m)\u001b[0m\u001b[0;34m\u001b[0m\u001b[0m\n\u001b[0m\u001b[1;32m     23\u001b[0m \u001b[0mplt\u001b[0m\u001b[0;34m.\u001b[0m\u001b[0mloglog\u001b[0m\u001b[0;34m(\u001b[0m\u001b[0mh\u001b[0m\u001b[0;34m,\u001b[0m \u001b[0mErr1\u001b[0m\u001b[0;34m,\u001b[0m \u001b[0mmarker\u001b[0m\u001b[0;34m=\u001b[0m\u001b[0;34m\"o\"\u001b[0m\u001b[0;34m,\u001b[0m \u001b[0mlabel\u001b[0m\u001b[0;34m=\u001b[0m\u001b[0;34m\"Algorithm 1\"\u001b[0m\u001b[0;34m)\u001b[0m\u001b[0;34m\u001b[0m\u001b[0m\n\u001b[1;32m     24\u001b[0m \u001b[0mplt\u001b[0m\u001b[0;34m.\u001b[0m\u001b[0mloglog\u001b[0m\u001b[0;34m(\u001b[0m\u001b[0mh\u001b[0m\u001b[0;34m,\u001b[0m \u001b[0mErr2\u001b[0m\u001b[0;34m,\u001b[0m \u001b[0mmarker\u001b[0m\u001b[0;34m=\u001b[0m\u001b[0;34m\"o\"\u001b[0m\u001b[0;34m,\u001b[0m \u001b[0mlabel\u001b[0m\u001b[0;34m=\u001b[0m\u001b[0;34m\"Algorithm 2\"\u001b[0m\u001b[0;34m)\u001b[0m\u001b[0;34m\u001b[0m\u001b[0m\n",
      "\u001b[0;31mNameError\u001b[0m: name 'plt' is not defined"
     ]
    }
   ],
   "source": [
    "## behavior of the error (small h) for the two formulas computing a derivative\n",
    "\n",
    "# point a\n",
    "a = 1\n",
    "\n",
    "#sequence of h = [1, 1e-1, 1e-2 ... 1e-5]\n",
    "n = np.arange(15)\n",
    "h = 10.**(-n)\n",
    "\n",
    "\n",
    "# approximation of f'(a) using the first algorithm\n",
    "# and the corresponding error\n",
    "Der1 = ApproxDerivative1(f, a, h)\n",
    "Err1 = abs(Der1 - 5.)\n",
    "\n",
    "# approximation of f'(a) using the second algorithm\n",
    "# and the corresponding error\n",
    "Der2 = ApproxDerivative2(f, a, h)\n",
    "Err2 = abs(Der2 - 5.)\n",
    "\n",
    "# plot of the errors versus h\n",
    "fig = plt.figure(figsize=(10, 8))\n",
    "plt.loglog(h, Err1, marker=\"o\", label=\"Algorithm 1\")\n",
    "plt.loglog(h, Err2, marker=\"o\", label=\"Algorithm 2\")\n",
    "plt.legend(loc='upper left', fontsize=18)\n",
    "plt.xlabel('h', fontsize=18)\n",
    "plt.ylabel('Absolute error', fontsize=18)\n",
    "plt.title('Convergence of $x_h$ to $x^*=f\\'(a)$ for $f(x)=x^5$ and $a=1$', fontsize=18)\n",
    "\n",
    "plt.show()\n"
   ]
  },
  {
   "cell_type": "markdown",
   "metadata": {},
   "source": [
    "For sufficiently big values of $h$, the error is dominated by the truncation error: we observe the convergence to zero of the error with order $1$ or $2$ depending on the algorithm. Then, below a given value of $h$, the round-off error becomes dominant and the total error increase... One has to be aware of such behaviors to be able to chose efficiently the discretization parameters."
   ]
  },
  {
   "cell_type": "markdown",
   "metadata": {},
   "source": [
    "## Appendix"
   ]
  },
  {
   "cell_type": "markdown",
   "metadata": {},
   "source": [
    "### Taylor's theorem"
   ]
  },
  {
   "cell_type": "markdown",
   "metadata": {},
   "source": [
    "<table>\n",
    "        <tr>\n",
    "            <td><img src=\"figures/Brook_Taylor.jpg\" alt=\"Taylor\" style=\"width: 170px;\" /></td>\n",
    "            <td><img src=\"figures/Lagrange.jpg\" alt=\"Lagrange\" style=\"width: 150px;\" /></td>\n",
    "        </tr>\n",
    "</table>\n",
    "\n",
    ">**Brook Taylor (1685 – 1731) and Joseph-Louis Lagrange (1736 - 1813).**\n",
    ">Brook Taylor is an english mathematician and was also musician and painter artist. He is best known for the so-called Taylor's theorem and Taylor series that can be found in its book *Methodus incrementorum directa et inversa* (without rest nor convergence result) . In this book, one can also found the integration by parts formula and the prinicples of finite differences. It remained quite unknown until the italian mathematician and astronomer Joseph-Louis Lagrange discoverd its importance in 1772, to the point of considering Taylor's work to be the *foundation of differential calculus*. "
   ]
  },
  {
   "cell_type": "markdown",
   "metadata": {},
   "source": [
    "We recall below Taylor's theorem:"
   ]
  },
  {
   "cell_type": "markdown",
   "metadata": {},
   "source": [
    "<div  markdown=1 class=\"Thm\">\n",
    "** Taylor's Theorem**\n",
    "\n",
    "Suppose $f\\in C^n[a,b]$, $f^{(n+1)}$ exists on $[a,b]$ and $x_0\\in [a,b]$. For every $x\\in [a,b]$, there exists $\\xi(x)$ between $x_0$ and $x$ with \n",
    "\n",
    "$$\n",
    "f(x) = P_n(x) + R_n(x),\n",
    "$$\n",
    "\n",
    "where \n",
    "\n",
    "\\begin{align}\n",
    "P_n(x) &= f(x_0) + f'(x_0) (x-x_0) + \\frac{f''(x_0)}{2!} (x-x_0)^2 + \\ldots +  \\frac{f^{(n)}(x_0)}{n!} (x-x_0)^n\\\\\n",
    "&=\\sum_{k=0}^n \\frac{f^{(k)}(x_0)}{k!} (x-x_0)^k,\n",
    "\\end{align}\n",
    "\n",
    "and\n",
    "\n",
    "$$\n",
    "R_n(x) = \\frac{f^{(n+1)}(\\xi(x))}{(n+1)!} (x-x_0)^{n+1}.\n",
    "$$\n",
    "\n",
    "$P_n$ is called the **$n$-th Taylor polynomial** for $f$ about $x_0$ and $R_n$ is called the **remainder term** associated with $P_n$. "
   ]
  },
  {
   "cell_type": "code",
   "execution_count": 13,
   "metadata": {
    "scrolled": true,
    "slideshow": {
     "slide_type": "skip"
    }
   },
   "outputs": [
    {
     "ename": "FileNotFoundError",
     "evalue": "[Errno 2] No such file or directory: './style/custom2.css'",
     "output_type": "error",
     "traceback": [
      "\u001b[0;31m---------------------------------------------------------------------------\u001b[0m",
      "\u001b[0;31mFileNotFoundError\u001b[0m                         Traceback (most recent call last)",
      "\u001b[0;32m<ipython-input-13-bfbec648f467>\u001b[0m in \u001b[0;36m<module>\u001b[0;34m()\u001b[0m\n\u001b[1;32m      4\u001b[0m     \u001b[0mstyles\u001b[0m \u001b[0;34m=\u001b[0m \u001b[0mopen\u001b[0m\u001b[0;34m(\u001b[0m\u001b[0;34m\"./style/custom2.css\"\u001b[0m\u001b[0;34m)\u001b[0m\u001b[0;34m.\u001b[0m\u001b[0mread\u001b[0m\u001b[0;34m(\u001b[0m\u001b[0;34m)\u001b[0m\u001b[0;34m\u001b[0m\u001b[0m\n\u001b[1;32m      5\u001b[0m     \u001b[0;32mreturn\u001b[0m \u001b[0mHTML\u001b[0m\u001b[0;34m(\u001b[0m\u001b[0mstyles\u001b[0m\u001b[0;34m)\u001b[0m\u001b[0;34m\u001b[0m\u001b[0m\n\u001b[0;32m----> 6\u001b[0;31m \u001b[0mcss_styling\u001b[0m\u001b[0;34m(\u001b[0m\u001b[0;34m)\u001b[0m\u001b[0;34m\u001b[0m\u001b[0m\n\u001b[0m",
      "\u001b[0;32m<ipython-input-13-bfbec648f467>\u001b[0m in \u001b[0;36mcss_styling\u001b[0;34m()\u001b[0m\n\u001b[1;32m      2\u001b[0m \u001b[0;32mfrom\u001b[0m \u001b[0mIPython\u001b[0m\u001b[0;34m.\u001b[0m\u001b[0mcore\u001b[0m\u001b[0;34m.\u001b[0m\u001b[0mdisplay\u001b[0m \u001b[0;32mimport\u001b[0m \u001b[0mHTML\u001b[0m\u001b[0;34m\u001b[0m\u001b[0m\n\u001b[1;32m      3\u001b[0m \u001b[0;32mdef\u001b[0m \u001b[0mcss_styling\u001b[0m\u001b[0;34m(\u001b[0m\u001b[0;34m)\u001b[0m\u001b[0;34m:\u001b[0m\u001b[0;34m\u001b[0m\u001b[0m\n\u001b[0;32m----> 4\u001b[0;31m     \u001b[0mstyles\u001b[0m \u001b[0;34m=\u001b[0m \u001b[0mopen\u001b[0m\u001b[0;34m(\u001b[0m\u001b[0;34m\"./style/custom2.css\"\u001b[0m\u001b[0;34m)\u001b[0m\u001b[0;34m.\u001b[0m\u001b[0mread\u001b[0m\u001b[0;34m(\u001b[0m\u001b[0;34m)\u001b[0m\u001b[0;34m\u001b[0m\u001b[0m\n\u001b[0m\u001b[1;32m      5\u001b[0m     \u001b[0;32mreturn\u001b[0m \u001b[0mHTML\u001b[0m\u001b[0;34m(\u001b[0m\u001b[0mstyles\u001b[0m\u001b[0;34m)\u001b[0m\u001b[0;34m\u001b[0m\u001b[0m\n\u001b[1;32m      6\u001b[0m \u001b[0mcss_styling\u001b[0m\u001b[0;34m(\u001b[0m\u001b[0;34m)\u001b[0m\u001b[0;34m\u001b[0m\u001b[0m\n",
      "\u001b[0;31mFileNotFoundError\u001b[0m: [Errno 2] No such file or directory: './style/custom2.css'"
     ]
    }
   ],
   "source": [
    "# execute this part to modify the css style\n",
    "from IPython.core.display import HTML\n",
    "def css_styling():\n",
    "    styles = open(\"./style/custom2.css\").read()\n",
    "    return HTML(styles)\n",
    "css_styling()"
   ]
  },
  {
   "cell_type": "code",
   "execution_count": null,
   "metadata": {
    "collapsed": true
   },
   "outputs": [],
   "source": []
  }
 ],
 "metadata": {
  "kernelspec": {
   "display_name": "Python 3",
   "language": "python",
   "name": "python3"
  },
  "language_info": {
   "codemirror_mode": {
    "name": "ipython",
    "version": 3
   },
   "file_extension": ".py",
   "mimetype": "text/x-python",
   "name": "python",
   "nbconvert_exporter": "python",
   "pygments_lexer": "ipython3",
   "version": "3.6.2"
  },
  "toc": {
   "nav_menu": {},
   "number_sections": true,
   "sideBar": true,
   "skip_h1_title": false,
   "toc_cell": false,
   "toc_position": {},
   "toc_section_display": "block",
   "toc_window_display": true
  }
 },
 "nbformat": 4,
 "nbformat_minor": 1
}
