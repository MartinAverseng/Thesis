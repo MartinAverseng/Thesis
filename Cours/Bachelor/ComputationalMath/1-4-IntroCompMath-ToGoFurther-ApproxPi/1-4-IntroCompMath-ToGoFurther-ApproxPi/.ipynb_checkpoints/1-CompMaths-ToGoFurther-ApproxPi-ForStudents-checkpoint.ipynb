{
 "cells": [
  {
   "cell_type": "markdown",
   "metadata": {
    "internals": {
     "slide_helper": "subslide_end",
     "slide_type": "subslide"
    },
    "slide_helper": "slide_end",
    "slideshow": {
     "slide_type": "slide"
    }
   },
   "source": [
    "<img src='./figures/logo-ecole-polytechnique-ve.jpg' style='position:absolute; top:0; right:0;' width='100px' height='' alt='' />\n",
    "\n",
    "<center>**Bachelor of Ecole Polytechnique**</center>\n",
    "<center>Computational Mathematics, year 1, semester 2</center>\n",
    "<center>Author: Aline Lefebvre-Lepot</center>\n",
    "\n",
    "# Introduction to Computational Mathematics\n",
    "# To go further: Algorithms to compute $\\pi$\n",
    "\n",
    "\n",
    "&nbsp;\n",
    "\n",
    "<img src=\"./figures/ApproxPi.png\" alt=\"Pi\" style=\"width: 570px;\"/>\n",
    "\n",
    "&nbsp;"
   ]
  },
  {
   "cell_type": "markdown",
   "metadata": {},
   "source": [
    "<div markdown=1 class=Abstract> We study algorithms computing approximations of $\\pi$. They are based on two different approaches: Taylor expansions or geometrical methods."
   ]
  },
  {
   "cell_type": "code",
   "execution_count": null,
   "metadata": {
    "collapsed": true
   },
   "outputs": [],
   "source": [
    "## loading python libraries\n",
    "\n",
    "# necessary to display plots inline:\n",
    "%matplotlib inline   \n",
    "\n",
    "# load the libraries\n",
    "import matplotlib.pyplot as plt # 2D plotting library\n",
    "import numpy as np              # package for scientific computing  \n",
    "\n",
    "from math import *              # package for mathematics (pi, arctan, sqrt, factorial ...)"
   ]
  },
  {
   "cell_type": "markdown",
   "metadata": {},
   "source": [
    "## Using Taylor expansions"
   ]
  },
  {
   "cell_type": "markdown",
   "metadata": {},
   "source": [
    "Recalling that $tan (\\pi / 4) = 1 $ we have\n",
    "$$\n",
    "\\pi = 4\\,\\arctan\\, 1\n",
    "$$\n",
    "\n",
    "To approximate $\\pi$, it suffices to design an algorithm to approximate $\\arctan\\,1$. To do so, let us consider the function $f : x\\rightarrow \\arctan(x)$. It can be approximated by its $n$-th Taylor polynomial about $x_0=0$ (see appendix):\n",
    "\n",
    "$$\n",
    "f\\approx P_n \\quad \\text{where} \\quad P_n(x)=\\sum_{k=0}^n (-1)^{k}\\frac{x^{2k+1}}{(2k+1)}\\quad \\text{for} \\quad n\\geq 1\n",
    "$$\n",
    "\n",
    "As a consequence, $\\pi=4\\, \\arctan\\, 1$ can be approximated by the sequence\n",
    "\n",
    "$$\n",
    "x_n= 4\\,P_n(1) \\quad \n",
    "$$\n",
    "\n",
    "This leads to the following algorithm, returning $x_n$ for a given integer $n$:"
   ]
  },
  {
   "cell_type": "markdown",
   "metadata": {},
   "source": [
    "<div  markdown=1 class=\"Algo\">\n",
    "**Iterative algorithm to compute $x_n$, approximation of $\\pi$.**\n",
    "\n",
    "\\begin{align}\n",
    "INPUT:&\\quad n\\\\\n",
    "DO:&\\quad x=4\\\\\n",
    "&\\quad \\text{for }k=1\\ldots n\\\\\n",
    "&\\quad \\quad \\quad  x=x+4\\,\\frac{(-1)^k}{(2k+1)}\\\\\n",
    "&\\quad \\text{end for}\\\\\n",
    "RETURN:&\\quad x\\\\\n",
    "\\end{align}"
   ]
  },
  {
   "cell_type": "markdown",
   "metadata": {},
   "source": [
    "The inputs of the algoritm only contain a discretization parameter $n$. The error depends on $n$ and one would like to estimate the corresponding error $\\left|\\pi-x_n\\right|$."
   ]
  },
  {
   "cell_type": "markdown",
   "metadata": {},
   "source": [
    "The following code computes $x_n = 4\\,P_n$ and the corresponding error for different values of $n$."
   ]
  },
  {
   "cell_type": "markdown",
   "metadata": {},
   "source": [
    "<div  markdown=1 class=\"DoIt\"> Complete the following function. Use it to compute approximations of $\\pi$ for different values of $n$."
   ]
  },
  {
   "cell_type": "code",
   "execution_count": null,
   "metadata": {
    "collapsed": true
   },
   "outputs": [],
   "source": [
    "## Function that computes the N first Taylor polynomials for f:x-> arctan(x) at a given point x\n",
    "## input : N = higher degree of Taylor polynomials to be computed\n",
    "##             computes P0(x), ..., PN(x) => N+1 plynoms\n",
    "##         x = real = point where the polynomials has to be computed\n",
    "## output : P = vector of size (N+1) \n",
    "##              P(i)=P_i(x)\n",
    "\n",
    "def TaylorArctan(x, N):\n",
    "    # create matrix P\n",
    "    P = np.zeros(N+1)\n",
    "    # P_0(x)=1\n",
    "    P[0] = x  # sets the first element of P to P_0=x    \n",
    "    # computation of P_k for k=1..N\n",
    "    # using P_{k+1}(x) = P_{k}(x) + (-1)^{k+1}x^{2k+3}/(2k+3)\n",
    "    for k in np.arange(N):\n",
    "        P[k+1] = ... # sets the (k)-th line of P to P_k\n",
    "    return P\n"
   ]
  },
  {
   "cell_type": "code",
   "execution_count": null,
   "metadata": {},
   "outputs": [],
   "source": [
    "## Test of the first formula (xn) based on taylor expansions\n",
    "\n",
    "N = 20\n",
    "# computation of the approximation\n",
    "tabxn = ...\n",
    "xN = ...\n",
    "# print pi an its approximation\n",
    "..."
   ]
  },
  {
   "cell_type": "markdown",
   "metadata": {},
   "source": [
    "Using the previous tests, we can observe that $x_n$ seems to converge to $\\pi$. However, it seems to be a rather inefficient manner of obtaining an approximation of $\\pi$ ! "
   ]
  },
  {
   "cell_type": "markdown",
   "metadata": {},
   "source": [
    "In order to evaluate the quality of the approximation, we can use Taylor's theorem (see appendix) to estimate the error. Indeed, we have\n",
    "\n",
    "$$\n",
    "\\forall x\\geq 0, \\exists \\xi \\in ]0,x[ \\text{ such that }\\arctan(x) = P_n(x) + \\frac{\\arctan^{(2n+2)}(\\xi)}{(2n+2)!}x^{2n+2}.\n",
    "$$\n",
    "\n",
    "Applying this equality for $x=1$ we obtain\n",
    "\n",
    "$$\n",
    "\\arctan(1) = P_n(1) + \\frac{\\arctan^{(2n+2)}(\\xi)}{(2n+2)!} \\text{ where } \\xi\\in]0,1[,\n",
    "$$\n",
    "\n",
    "Then, using the fact that $\\forall x, \\arctan^{(n)}(x)\\leq (n-1)!$ (see appendix)\n",
    "\n",
    "we obtain\n",
    "\n",
    "$$\n",
    "e_n = |\\pi-x_n| = 4 |\\arctan(1)-P_n(1)|\\leq  \\frac{4}{2n+2}\n",
    "$$\n",
    "\n",
    "This proves that the error goes to zero as $4/(2n+2)$ when $n$ goes to infinity, which is not very efficient... For example, we need $n\\approx 2000$ terms in the sum to obtain an approximation with 2 exact digits (i.e. $e_n\\leq 10^{-3}$)..."
   ]
  },
  {
   "cell_type": "markdown",
   "metadata": {},
   "source": [
    "<div  markdown=1 class=\"DoIt\"> Compute the approximation for $n=2000$. Compare the precision and the theoretical bound."
   ]
  },
  {
   "cell_type": "code",
   "execution_count": null,
   "metadata": {},
   "outputs": [],
   "source": [
    "## Test of the first formula (xn) based on taylor expansions\n",
    "\n",
    "N = 2000\n",
    "# theoretical bound\n",
    "M = ...\n",
    "# compute the approximation\n",
    "tabxn = ...\n",
    "xN = ...\n",
    "# print approximation, error and theoretical bound\n",
    "..."
   ]
  },
  {
   "cell_type": "markdown",
   "metadata": {},
   "source": [
    "The previous algorithm evaluates the Taylor expansion of $\\arctan(x)$ about $x_0=0$ at point $x=1$. Doing so, the rest behaves like $4/(2n+2)$. A better algorithm to approximate $\\pi$ should evaluate the expansion in points $x$ closer to $x_0=0$. Indeed, in that case, the rest is bounded by $4x^n/(2n+2)$ wich goes much quicker to zero when $n$ goes to infinity.\n",
    "\n",
    "This can be achieved using the following formula:\n",
    "\n",
    "$$\n",
    "\\pi = 4 \\left(\\, \\arctan\\left(\\frac 1 2\\right) + \\arctan\\left( \\frac 1 3\\right)  \\,\\right)\n",
    "$$\n",
    "\n",
    "leading to the approximation\n",
    "\n",
    "$$\n",
    "y_n = 4 \\left(\\, P_n\\left(\\frac 1 2\\right) + P_n\\left( \\frac 1 3\\right)  \\,\\right)\n",
    "$$\n",
    "\n",
    "and for which the error can be estimated by\n",
    "\n",
    "$$\n",
    "e_n = |\\pi-y_n| \\leq  \\frac{4}{2n+2} \\left( \\left(\\frac 1 2\\right)^{2n+2} + \n",
    "\\left(\\frac 1 3\\right)^{2n+2} \\right).\n",
    "$$\n",
    "\n",
    "Using this new algorithm, an approximation with 3 exact digits is obtained fo $n=2$ terms in the sum. And $n=10$ provides an approximation of $\\pi$ with 7 exact digits."
   ]
  },
  {
   "cell_type": "markdown",
   "metadata": {},
   "source": [
    "<div  markdown=1 class=\"DoIt\"> Compute the new approximation for $n=10$. Compare the precision and the theoretical bound."
   ]
  },
  {
   "cell_type": "code",
   "execution_count": null,
   "metadata": {},
   "outputs": [],
   "source": [
    "## Test of the second formula (yn) based on taylor expansions\n",
    "\n",
    "N = 10\n",
    "# theoretical bound\n",
    "M2 = \n",
    "# compute the approximation\n",
    "tabyn = ...\n",
    "yN = ...\n",
    "# print approximation, error and theoretical bound\n",
    "..."
   ]
  },
  {
   "cell_type": "markdown",
   "metadata": {},
   "source": [
    "To illustrate the convergence of the two approximations we plot the value of the truncation error versus $n$, using a log-scale for the error"
   ]
  },
  {
   "cell_type": "markdown",
   "metadata": {},
   "source": [
    "<div  markdown=1 class=\"DoIt\"> For the two approximations, plot the error versus $n$. Use subplots to create two figures."
   ]
  },
  {
   "cell_type": "code",
   "execution_count": null,
   "metadata": {},
   "outputs": [],
   "source": [
    "## behavior of the error for the two algorithms (xn and yn) based on taylor expansions.\n",
    "\n",
    "# computation of the two approximations of pi\n",
    "N = 20\n",
    "xn = ...\n",
    "yn = ...\n",
    "\n",
    "# Computation of the corresponding errors\n",
    "Err = ...\n",
    "Err2 = ...\n",
    "\n",
    "# plot of the error versus N with log scale for the error (y-axis)\n",
    "fig = plt.figure(figsize=(10, 5))\n",
    "\n",
    "plt.subplot(121) #first approximation\n",
    "...\n",
    "\n",
    "plt.subplot(122) #second approximation\n",
    "...\n",
    "\n",
    "plt.show()"
   ]
  },
  {
   "cell_type": "markdown",
   "metadata": {},
   "source": [
    "<div markdown=1 class=\"Rmk\">\n",
    "When using algorithms, it is very important to be able to estimate the error, prove its convergence to zero and study how fast it converges. Indeed, it gives an idea of how precise is the numerical result obtained, using a given parameter of discretization or a given (finite) number of steps of the algorithm. \n",
    "\n",
    "An explicit estimation of the error also allows to choose adequately the number of iterations needed to reach a given precision and therefore to minimize the CPU time. For example, suppose you want to estimate $\\pi$ and to be precise up to $10^{-6}$, The previous estimation says that you can reach this precision with 5 terms in the second algorithm while it would necessitate 2 million terms with the first one !\n",
    "\n",
    " "
   ]
  },
  {
   "cell_type": "markdown",
   "metadata": {},
   "source": [
    "## Archimedes iterative method based on geometry"
   ]
  },
  {
   "cell_type": "markdown",
   "metadata": {},
   "source": [
    "<img src=\"figures/archimede.jpg\" alt=\"Archimede\" style=\"width: 150px;\"/>\n",
    "  \n",
    ">**Archimedes of Syracuse (287 BC - 212 BC).**\n",
    ">Archimedes was a Greek scientist and mathematician. He proved a wide range of geometrical theorems using for the first time classical notions in modern calculus (area, surface, volume of circles or spheres...). He also applied mathematics to physics, for example to derive the so-called \"archimedes principle\" in hydrostatics."
   ]
  },
  {
   "cell_type": "markdown",
   "metadata": {},
   "source": [
    "An original method was proposed by Archimede to compute the perimeter of a circle of radius one. To do so, he drawed a larger hexagon outside the circle and a smaller one inside the circle. Then, he progressively doubled the number of sides of the polygones and computed the length of their sides. As the number of sides increased, it gave him a better approximation of the perimeter of the circle. "
   ]
  },
  {
   "cell_type": "markdown",
   "metadata": {},
   "source": [
    "The number of sides of the polygons, at step $k$ is equal to $n_k=6\\times 2^k$. We denote by $l_k$ the length of the sides.\n",
    "\n",
    "<img src=\"./figures/ApproxPiNotations.png\" alt=\"ApproxPiNotations\" style=\"width: 400px;\"/>\n",
    " \n",
    "\n",
    "The perimeter of the circumbscribed polygon at step $k$ is equal to \n",
    "$$\n",
    "P_k = n_k \\times l_k = n_k \\times 2\\,\\tan\\left(\\frac{\\pi}{n_k}\\right) = 6\\, 2^k \\times 2\\,\\tan\\left(\\frac{\\pi}{6\\, 2^k}\\right)\n",
    "$$\n",
    "\n",
    "and converges to the perimeter of the circle which is equal to $2\\pi$. We deduce that \n",
    "\n",
    "$$6\\, 2^k t_k \\longrightarrow \\pi \\text{ when } k\\to\\infty, \\quad\\text{where } t_k = \\tan\\left(\\frac{\\pi}{6\\,2^k}\\right)$$\n"
   ]
  },
  {
   "cell_type": "markdown",
   "metadata": {},
   "source": [
    "<div  markdown=1 class=\"DoIt\"> Prove that \n",
    "\n",
    "$$\n",
    "t_{k+1} = \\frac{t_k}{1+\\sqrt{t_k^2+1}}\n",
    "$$\n",
    "\n",
    "and complete the algorithm."
   ]
  },
  {
   "cell_type": "markdown",
   "metadata": {},
   "source": [
    "<div  markdown=1 class=\"Algo\">\n",
    "**Iterative algorithm 1 to compute an approximation of $\\pi$.**\n",
    "\n",
    "\\begin{align}\n",
    "INPUT:&\\quad K\\\\\n",
    "DO:&\\quad t=1/\\sqrt 3\\\\\n",
    "&\\quad \\text{for }k=0\\ldots K\\\\\n",
    "&\\quad \\quad \\quad  \\displaystyle p= ...\\\\\n",
    "&\\quad \\quad \\quad  \\displaystyle t= ...\\\\\n",
    "&\\quad \\text{end for}\\\\\n",
    "RETURN:&\\quad p\\\\\n",
    "\\end{align}"
   ]
  },
  {
   "cell_type": "markdown",
   "metadata": {},
   "source": [
    "This algoritm is implemented and tested in the following code:"
   ]
  },
  {
   "cell_type": "markdown",
   "metadata": {},
   "source": [
    "<div  markdown=1 class=\"DoIt\"> Complete the following function that computes the corresponding approximations and test it."
   ]
  },
  {
   "cell_type": "code",
   "execution_count": null,
   "metadata": {
    "collapsed": true
   },
   "outputs": [],
   "source": [
    "## Function that computes the approximation of pi using archimedes method\n",
    "## input : K = parameter (number of sides of the polygon = 6*2^K )\n",
    "## output : P = vector of length K+1 \n",
    "##              containing the list of approximations from k=0 to k=K\n",
    "##              P(k) approximation using a k-sided polygon\n",
    "\n",
    "def Archimede(K):\n",
    "    # create vector P\n",
    "    P = np.zeros(K+1)\n",
    "    # t_0(x)=1/sqrt(3)\n",
    "    t= 1/sqrt(3)\n",
    "    # computation of P_k for k=0..K\n",
    "    for k in np.arange(K+1):\n",
    "        P[k] = ...\n",
    "        t = ...       \n",
    "    return P\n"
   ]
  },
  {
   "cell_type": "code",
   "execution_count": null,
   "metadata": {},
   "outputs": [],
   "source": [
    "## Test\n",
    "..."
   ]
  },
  {
   "cell_type": "markdown",
   "metadata": {},
   "source": [
    "<div  markdown=1 class=\"DoIt\"> Simply execute the following cell to observe a graphical illustration of the method."
   ]
  },
  {
   "cell_type": "code",
   "execution_count": null,
   "metadata": {},
   "outputs": [],
   "source": [
    "## Graphical illustration of Archimedes method\n",
    "\n",
    "# approximation of pi using Archimedes method\n",
    "k = 0\n",
    "PI = Archimede(k)\n",
    "\n",
    "# points (xC,yC) to plot the circle\n",
    "N = 100\n",
    "thetaC = 2*pi/N\n",
    "tabthetaC = thetaC*np.arange(N+1)\n",
    "tabxC = np.cos(tabthetaC)\n",
    "tabyC = np.sin(tabthetaC)\n",
    "\n",
    "#points (x,y) to plot the polygon\n",
    "Nsides = 6 * 2**k\n",
    "theta = 2*pi/Nsides\n",
    "c = 2*tan(theta/2)\n",
    "l = sqrt((c/2)**2 + 1)\n",
    "tabtheta = theta/2 + theta*np.arange(Nsides+1)\n",
    "tabx = l*np.cos(tabtheta)\n",
    "taby = l*np.sin(tabtheta)\n",
    "\n",
    "#figure\n",
    "fig=plt.figure(figsize=(10, 8))\n",
    "plt.plot(tabxC, tabyC)\n",
    "plt.plot(tabx, taby, marker=\"o\", label='k ='+str(k)+', Polygon with '+str(Nsides)+' sides')\n",
    "plt.legend(loc='upper left', fontsize=15)\n",
    "plt.axes().set_aspect('equal', 'box')\n",
    "plt.text(-0.6, 0.25, '$\\pi$ ='+str(pi),fontsize=18) #writes the exact value of pi\n",
    "plt.text(-0.7, 0, 'approximation ='+str(PI[-1]),fontsize=18) #writes the computed approximation\n",
    "plt.xticks([])\n",
    "plt.yticks([])\n",
    "plt.show()\n"
   ]
  },
  {
   "cell_type": "markdown",
   "metadata": {},
   "source": [
    "<div  markdown=1 class=\"DoIt\"> Prove that we also have\n",
    "\n",
    "$$\n",
    "t_{k+1} = \\frac{\\sqrt{t_k^2+1}-1}{t_k}\n",
    "$$\n",
    "\n",
    "and complete the algorithm."
   ]
  },
  {
   "cell_type": "markdown",
   "metadata": {},
   "source": [
    "<div  markdown=1 class=\"Algo\">\n",
    "**Iterative algorithm 2 to compute an approximation of $\\pi$.**\n",
    "\n",
    "\\begin{align}\n",
    "INPUT:&\\quad K\\\\\n",
    "DO:&\\quad t=1/\\sqrt 3\\\\\n",
    "&\\quad \\text{for }k=0\\ldots K\\\\\n",
    "&\\quad \\quad \\quad  \\displaystyle p= ...\\\\\n",
    "&\\quad \\quad \\quad  \\displaystyle t= ...\\\\\n",
    "&\\quad \\text{end for}\\\\\n",
    "RETURN:&\\quad p\\\\\n",
    "\\end{align}"
   ]
  },
  {
   "cell_type": "markdown",
   "metadata": {},
   "source": [
    "<div  markdown=1 class=\"DoIt\">  Complete the following function that computes the new approximations and test it."
   ]
  },
  {
   "cell_type": "code",
   "execution_count": null,
   "metadata": {
    "collapsed": true
   },
   "outputs": [],
   "source": [
    "## Function that computes the approximation of pi using archimedes method in its second form (algoritm 2)\n",
    "## input : K = parameter (number of sides of the polygon = 6*2^K )\n",
    "## output : P = vector of length K+1 \n",
    "##              containing the list of approximations from k=0 to k=K\n",
    "##              P(k) approximation using a k-sided polygon\n",
    "\n",
    "def Archimede2(K):\n",
    "    # create vector P\n",
    "    P = np.zeros(K+1)\n",
    "    # t_0(x)=1/sqrt(3)\n",
    "    t = 1/sqrt(3)\n",
    "    # computation of P_k for k=0..K\n",
    "    for k in np.arange(K+1):\n",
    "        P[k] = ...        \n",
    "        t = ...\n",
    "    return P\n"
   ]
  },
  {
   "cell_type": "code",
   "execution_count": null,
   "metadata": {},
   "outputs": [],
   "source": [
    "## Test\n",
    "..."
   ]
  },
  {
   "cell_type": "markdown",
   "metadata": {},
   "source": [
    "<div  markdown=1 class=\"DoIt\"> On the same figure, plot the errors for the two algorithsm versus k. Use the log scale for the error."
   ]
  },
  {
   "cell_type": "code",
   "execution_count": null,
   "metadata": {},
   "outputs": [],
   "source": [
    "## Behavior of the error for the two forms of archimedes method\n",
    "\n",
    "# approximation of pi and computation of the corresponding errors\n",
    "k = 20\n",
    "...\n",
    "\n",
    "# plot of the errors versus k\n",
    "fig = plt.figure(figsize=(10, 8))\n",
    "...\n",
    "plt.show()"
   ]
  },
  {
   "cell_type": "markdown",
   "metadata": {},
   "source": [
    "Despite the two formulas are equivalent, the second algorithm do not manage to compute $\\pi$ with accuracy better than $10^{-8}$. This is due to round-off errors: the second formula involves the substraction of two nearly equal numbers (since $t_k$ goes to zero when $k$ goes to infinity)."
   ]
  },
  {
   "cell_type": "markdown",
   "metadata": {},
   "source": [
    "## Appendix"
   ]
  },
  {
   "cell_type": "markdown",
   "metadata": {},
   "source": [
    "### Successive derivatives of arctan"
   ]
  },
  {
   "cell_type": "markdown",
   "metadata": {},
   "source": [
    "<div  markdown=1 class=\"Prop\"> \n",
    "** Successive derivatives of arctan.**\n",
    "\n",
    "Consider $f: x \\rightarrow \\arctan x$. \n",
    "\n",
    "Then, for all $n\\geq 1$ we have\n",
    "\n",
    "$$\n",
    "f^{(n)}(x) = (n-1)!\\, \\cos ^n (f(x))\\, \\sin(nf(x) + n\\pi/2).\n",
    "$$\n",
    "\n",
    "From this, follows immediatly\n",
    "\n",
    "$$\n",
    "f^{(n)}(x) \\leq (n-1)! \\quad \\forall x, \\quad \\forall n\\geq 1\n",
    "$$"
   ]
  },
  {
   "cell_type": "markdown",
   "metadata": {},
   "source": [
    "<div  markdown=1 class=\"DoIt\"> Prove the proposition using induction."
   ]
  },
  {
   "cell_type": "code",
   "execution_count": 4,
   "metadata": {
    "scrolled": true,
    "slideshow": {
     "slide_type": "skip"
    }
   },
   "outputs": [
    {
     "data": {
      "text/html": [
       "<link href='http://fonts.googleapis.com/css?family=Fenix' rel='stylesheet' type='text/css'>\n",
       "<link href='http://fonts.googleapis.com/css?family=Alegreya+Sans:100,300,400,500,700,800,900,100italic,300italic,400italic,500italic,700italic,800italic,900italic' rel='stylesheet' type='text/css'>\n",
       "<link href='http://fonts.googleapis.com/css?family=Source+Code+Pro:300,400' rel='stylesheet' type='text/css'>\n",
       "<link href=\"https://fonts.googleapis.com/css?family=Oswald|Raleway\" rel=\"stylesheet\" type='text/css'> \n",
       "<style>\n",
       ".prompt{\n",
       "    display: none !important;\n",
       "}\n",
       "\n",
       ".rendered_html pre {\n",
       "    border: 1px solid #f0f6f9 !important;\n",
       "}\n",
       "\n",
       ".rendered_html pre, .rendered_html code {\n",
       "    background-color: #d3d8db !important;\n",
       "    padding: 1% !important;\n",
       "    line-height: 200% !important;\n",
       "    border-radius: 10px !important;\n",
       "}\n",
       "\n",
       "div.input_area {\n",
       "    border-radius: 10px !important;\n",
       "    background-color: #e1e1e6 !important;\n",
       "}\n",
       "\n",
       "div.cell{\n",
       "        width:85% !important;\n",
       "        margin-left:5% !important;\n",
       "        /*margin-right:auto;*/\n",
       "    }\n",
       "    h1, h2, h3, h4, h5 {\n",
       "        font-family: 'Oswald', sans-serif; !important;\n",
       "        font-style: oblique !important;\n",
       "    }\n",
       "    div.text_cell_render{\n",
       "        font-family: 'Raleway', sans-serif; !important;\n",
       "        line-height: 135% !important;\n",
       "        font-size: 120% !important;\n",
       "        width:100%;/*600px;*/\n",
       "        /*margin-left:auto;*/\n",
       "        /*margin-right:auto;*/\n",
       "    }\n",
       "    .CodeMirror{\n",
       "            font-family: \"Source Code Pro\" !important;\n",
       "\t\t\tfont-size: 100% !important;\n",
       "    }\n",
       "    .text_cell_render p{\n",
       "        text-align: justify !important;\n",
       "    }\n",
       "    .text_cell_render h1 {\n",
       "        font-weight: 200 !important;\n",
       "\t\tline-height: 100% !important;\n",
       "        color:#47597A !important;\n",
       "        margin-bottom: 10.em !important;\n",
       "        margin-top: 50.em !important;\n",
       "        padding-bottom: 50.em !important;\n",
       "        padding-top: 50.em !important;\n",
       "        display: block !important;\n",
       "        font-size: 300% !important;\n",
       "        text-align: center !important;\n",
       "        border-bottom: 1px solid #47597A !important;\n",
       "        border-top: 1px solid #47597A !important;\n",
       "    }\n",
       "    .text_cell_render h2 {\n",
       "        font-weight: 200 !important;\n",
       "\tline-height: 100% !important;\n",
       "        color:#47597A !important;\n",
       "        margin-bottom: 0.5em !important;\n",
       "        margin-top: 0.5em !important;\n",
       "        display: block !important;\n",
       "        font-size: 200% !important;\n",
       "        border-bottom: 1px solid #47597A !important;\n",
       "    }\n",
       "    .text_cell_render h3 {\n",
       "        font-weight: 200 !important;\n",
       "\tline-height: 100% !important;\n",
       "        color:#47597A !important;\n",
       "        margin-bottom: 0.5em !important;\n",
       "        margin-top: 0.5em !important;\n",
       "        display: block !important;\n",
       "        font-size: 150% !important;\n",
       "    }\n",
       "    .text_cell_render h4 {\n",
       "        font-style: italic !important;\n",
       "        font-weight: bold !important;\n",
       "\tline-height: 100% !important;\n",
       "        color:#47597A !important;\n",
       "        display: block !important;\n",
       "        font-size: 100% !important;\n",
       "    }\n",
       "    .text_cell_render h5 {\n",
       "        font-weight: 200 !important;\n",
       "\tline-height: 100% !important;\n",
       "        color:#47597A !important;\n",
       "        margin-bottom: 0.5em !important;\n",
       "        margin-top: 0.5em !important;\n",
       "        display: block !important;\n",
       "        font-size: 100% !important;\n",
       "    }\n",
       "    .text_cell_render ul {\n",
       "\tlist-style-type: disc !important;\n",
       "\tline-height: 2;\n",
       "\t/*color:#47597A !important;*/\n",
       "    }\n",
       "    .warning{\n",
       "        color: rgb( 240, 20, 20 ) !important;\n",
       "        }\n",
       "    .Abstract {  \n",
       "\ttext-align: justify;\n",
       "\tbackground-color: #d6edf9;\n",
       "\tborder-left: 5px solid #47597A;\n",
       "\tpadding: 0.5em;\n",
       "\tmargin: 0  150px 0 150px;\n",
       "    }\n",
       "    .Def {    \n",
       "\tbackground-color: #d9f7d7;\n",
       "\tborder-left: 5px solid #4a7047;\n",
       "\tpadding: 0.5em;\n",
       "    }\n",
       "    .Def:before {\n",
       "\tcontent: \"Definition.\";\n",
       "\tcolor:#4a7047;\n",
       "\tfont-weight: bold;\n",
       "\tfont-style: normal;\n",
       "    }\n",
       "    .DoIt {    \n",
       "\tbackground-color: #e8cfc9;\n",
       "\tborder-left: 5px solid #a90e05;\n",
       "\tpadding: 0.5em;\n",
       "    }\n",
       "    .DoIt:before {\n",
       "\tcontent: \"Do it yourself.\";\n",
       "\tcolor:#a90e05;\n",
       "\tfont-weight: bold;\n",
       "\tfont-style: normal;\n",
       "    }\n",
       "    .Prop {    \n",
       "\tbackground-color:#f9ecd1;\n",
       "\tborder-left: 5px solid #ba7021;\n",
       "\tpadding: 0.5em;\n",
       "    }\n",
       "   .Prop:before {\n",
       "       content: \"Proposition.\";\n",
       "       color:#ba7021;\n",
       "       font-weight: bold;\n",
       "       font-style: normal;\n",
       "    }\n",
       "   .Thm {    \n",
       "\tbackground-color:#f9ecd1;\n",
       "\tborder-left: 5px solid #ba7021;\n",
       "\tpadding: 0.5em;\n",
       "    }\n",
       "   .Thm:before {\n",
       "       content: \"Theorem.\";\n",
       "       color:#ba7021;\n",
       "       font-weight: bold;\n",
       "       font-style: normal;\n",
       "    } \n",
       "   .Algo {    \n",
       "\tbackground-color:#f9ecd1;\n",
       "\tborder-left: 5px solid #ba7021;\n",
       "\tpadding: 0.5em;\n",
       "    }\n",
       "   .Algo:before {\n",
       "       content: \"Algorithm.\";\n",
       "       color:#ba7021;\n",
       "       font-weight: bold;\n",
       "       font-style: normal;\n",
       "    }\n",
       "    .Rmk {    \n",
       "\tbackground-color: #dbf1fc;\n",
       "\tborder-left: 5px solid #385487;\n",
       "\tpadding: 0.5em;\n",
       "    }\n",
       "    .Rmk:before {\n",
       "\tcontent: \"Remark.\";\n",
       "\tcolor:#385487;\n",
       "\tfont-weight: bold;\n",
       "\tfont-style: normal;\n",
       "    }\n",
       "    .Ex {    \n",
       "\tbackground-color: #dbf1fc;\n",
       "\tborder-left: 5px solid #385487;\n",
       "\tpadding: 0.5em;\n",
       "    }\n",
       "    .Ex:before {\n",
       "\tcontent: \"Example.\";\n",
       "\tcolor:#385487;\n",
       "\tfont-weight: bold;\n",
       "\tfont-style: normal;\n",
       "    }\n",
       "\n",
       "/*    .toc-item-num {\n",
       "#        display: none;\n",
       "#    }\n",
       "*/\n",
       "    .reveal section img{\n",
       "        margin: 0px auto;\n",
       "    }\n",
       "\n",
       "    div.output_area img{\n",
       "        display: block;\n",
       "        margin: 0px auto;\n",
       "    }\n",
       "  \n",
       "</style>\n",
       "\n",
       "<script>\n",
       "MathJax.Hub.Config({\n",
       "TeX: {extensions: [\"AMSmath.js\"] },\n",
       "                tex2jax: {\n",
       "                    inlineMath: [ ['$','$'], [\"\\\\(\",\"\\\\)\"] ],\n",
       "                    displayMath: [ ['$$','$$'], [\"\\\\[\",\"\\\\]\"] ]\n",
       "                },\n",
       "                displayAlign: 'center', // Change this to 'center' to center equations.\n",
       "                \"HTML-CSS\": {\n",
       "                    styles: {'.MathJax_Display': {\"margin\": 4}}\n",
       "                }\n",
       "        });\n",
       "\n",
       "\n",
       "\n",
       "</script>\n"
      ],
      "text/plain": [
       "<IPython.core.display.HTML object>"
      ]
     },
     "execution_count": 4,
     "metadata": {},
     "output_type": "execute_result"
    }
   ],
   "source": [
    "# execute this part to modify the css style\n",
    "from IPython.core.display import HTML\n",
    "def css_styling():\n",
    "    styles = open(\"./style/custom2.css\").read()\n",
    "    return HTML(styles)\n",
    "css_styling()"
   ]
  }
 ],
 "metadata": {
  "kernelspec": {
   "display_name": "Python 3",
   "language": "python",
   "name": "python3"
  },
  "language_info": {
   "codemirror_mode": {
    "name": "ipython",
    "version": 3
   },
   "file_extension": ".py",
   "mimetype": "text/x-python",
   "name": "python",
   "nbconvert_exporter": "python",
   "pygments_lexer": "ipython3",
   "version": "3.6.1"
  },
  "toc": {
   "nav_menu": {},
   "number_sections": true,
   "sideBar": true,
   "skip_h1_title": false,
   "toc_cell": false,
   "toc_position": {},
   "toc_section_display": "block",
   "toc_window_display": true
  }
 },
 "nbformat": 4,
 "nbformat_minor": 1
}
