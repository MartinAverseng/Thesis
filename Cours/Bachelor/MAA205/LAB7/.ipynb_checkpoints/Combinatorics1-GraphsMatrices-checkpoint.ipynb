{
 "cells": [
  {
   "cell_type": "markdown",
   "metadata": {},
   "source": [
    "<img src='./figures/logo-ecole-polytechnique-ve.jpg' style='position:absolute; top:0; right:0;' width='100px' height='' alt='' />\n",
    "\n",
    "<center>**Bachelor of Ecole Polytechnique**</center>\n",
    "<center>Computational Mathematics, year 2, semester 1</center>\n",
    "<center>Lecturer: Lucas Gerin <a href=\"mailto:lucas.gerin@polytechnique.edu\">(send mail)</a></center>\n",
    "\n",
    "# Combinatorics 1: Graphs and their Matrices\n"
   ]
  },
  {
   "cell_type": "markdown",
   "metadata": {},
   "source": [
    "## Table of contents\n",
    "\n",
    "- [Counting paths in graphs](#GraphsMatrices)\n",
    "- [Absorption probabilities](#Escape)"
   ]
  },
  {
   "cell_type": "code",
   "execution_count": 1,
   "metadata": {},
   "outputs": [
    {
     "data": {
      "text/html": [
       "<link href='http://fonts.googleapis.com/css?family=Fenix' rel='stylesheet' type='text/css'>\n",
       "<link href='http://fonts.googleapis.com/css?family=Alegreya+Sans:100,300,400,500,700,800,900,100italic,300italic,400italic,500italic,700italic,800italic,900italic' rel='stylesheet' type='text/css'>\n",
       "<link href='http://fonts.googleapis.com/css?family=Source+Code+Pro:300,400' rel='stylesheet' type='text/css'>\n",
       "<link href=\"https://fonts.googleapis.com/css?family=Oswald|Raleway\" rel=\"stylesheet\" type='text/css'> \n",
       "<style>\n",
       ".prompt{\n",
       "    display: none !important;\n",
       "}\n",
       "\n",
       ".rendered_html pre {\n",
       "    border: 1px solid #f0f6f9 !important;\n",
       "}\n",
       "\n",
       ".rendered_html pre, .rendered_html code {\n",
       "    background-color: #d3d8db !important;\n",
       "    padding: 1% !important;\n",
       "    line-height: 200% !important;\n",
       "    border-radius: 10px !important;\n",
       "}\n",
       "\n",
       "div.input_area {\n",
       "    border-radius: 10px !important;\n",
       "    background-color: #e1e1e6 !important;\n",
       "}\n",
       "\n",
       "div.cell{\n",
       "        width:85% !important;\n",
       "        margin-left:5% !important;\n",
       "        /*margin-right:auto;*/\n",
       "    }\n",
       "    h1, h2, h3, h4, h5 {\n",
       "        font-family: 'Oswald', sans-serif; !important;\n",
       "        font-style: oblique !important;\n",
       "    }\n",
       "    div.text_cell_render{\n",
       "        font-family: 'Raleway', sans-serif; !important;\n",
       "        line-height: 135% !important;\n",
       "        font-size: 120% !important;\n",
       "        width:100%;/*600px;*/\n",
       "        /*margin-left:auto;*/\n",
       "        /*margin-right:auto;*/\n",
       "    }\n",
       "    .CodeMirror{\n",
       "            font-family: \"Source Code Pro\" !important;\n",
       "\t\t\tfont-size: 100% !important;\n",
       "    }\n",
       "    .text_cell_render p{\n",
       "        text-align: justify !important;\n",
       "    }\n",
       "    .text_cell_render h1 {\n",
       "        font-weight: 200 !important;\n",
       "\t\tline-height: 100% !important;\n",
       "        color:#47597A !important;\n",
       "        margin-bottom: 10.em !important;\n",
       "        margin-top: 50.em !important;\n",
       "        padding-bottom: 50.em !important;\n",
       "        padding-top: 50.em !important;\n",
       "        display: block !important;\n",
       "        font-size: 300% !important;\n",
       "        text-align: center !important;\n",
       "        border-bottom: 1px solid #47597A !important;\n",
       "        border-top: 1px solid #47597A !important;\n",
       "    }\n",
       "    .text_cell_render h2 {\n",
       "        font-weight: 200 !important;\n",
       "\tline-height: 100% !important;\n",
       "        color:#47597A !important;\n",
       "        margin-bottom: 0.5em !important;\n",
       "        margin-top: 0.5em !important;\n",
       "        display: block !important;\n",
       "        font-size: 200% !important;\n",
       "        border-bottom: 1px solid #47597A !important;\n",
       "    }\n",
       "    .text_cell_render h3 {\n",
       "        font-weight: 200 !important;\n",
       "\tline-height: 100% !important;\n",
       "        color:#47597A !important;\n",
       "        margin-bottom: 0.5em !important;\n",
       "        margin-top: 0.5em !important;\n",
       "        display: block !important;\n",
       "        font-size: 150% !important;\n",
       "    }\n",
       "    .text_cell_render h4 {\n",
       "        font-style: italic !important;\n",
       "        font-weight: bold !important;\n",
       "\tline-height: 100% !important;\n",
       "        color:#47597A !important;\n",
       "        display: block !important;\n",
       "        font-size: 100% !important;\n",
       "    }\n",
       "    .text_cell_render h5 {\n",
       "        font-weight: 200 !important;\n",
       "\tline-height: 100% !important;\n",
       "        color:#47597A !important;\n",
       "        margin-bottom: 0.5em !important;\n",
       "        margin-top: 0.5em !important;\n",
       "        display: block !important;\n",
       "        font-size: 100% !important;\n",
       "    }\n",
       "    .text_cell_render ul {\n",
       "\tlist-style-type: disc !important;\n",
       "\tline-height: 2;\n",
       "\t/*color:#47597A !important;*/\n",
       "    }\n",
       "    .warning{\n",
       "        color: rgb( 240, 20, 20 ) !important;\n",
       "        }\n",
       "    .Abstract {  \n",
       "\ttext-align: justify;\n",
       "\tbackground-color: #d6edf9;\n",
       "\tborder-left: 5px solid #47597A;\n",
       "\tpadding: 0.5em;\n",
       "\tmargin: 0  150px 0 150px;\n",
       "    }\n",
       "    .Def {    \n",
       "\tbackground-color: #d9f7d7;\n",
       "\tborder-left: 5px solid #4a7047;\n",
       "\tpadding: 0.5em;\n",
       "    }\n",
       "    .Def:before {\n",
       "\tcontent: \"Definition.\";\n",
       "\tcolor:#4a7047;\n",
       "\tfont-weight: bold;\n",
       "\tfont-style: normal;\n",
       "    }\n",
       "    .DoIt {    \n",
       "\tbackground-color: #e8cfc9;\n",
       "\tborder-left: 5px solid #a90e05;\n",
       "\tpadding: 0.5em;\n",
       "    }\n",
       "    .DoIt:before {\n",
       "\tcontent: \"Do it yourself.\";\n",
       "\tcolor:#a90e05;\n",
       "\tfont-weight: bold;\n",
       "\tfont-style: normal;\n",
       "    }\n",
       "    .Answers {    \n",
       "\tbackground-color: #DDA0DD;\n",
       "\tborder-left: 5px solid #9932CC;\n",
       "\tpadding: 0.5em;\n",
       "    }\n",
       "    .Answers:before {\n",
       "\tcontent: \"Answers.\";\n",
       "\tcolor:#682145;\n",
       "\tfont-weight: bold;\n",
       "\tfont-style: normal;\n",
       "    }\n",
       "    .Prop {    \n",
       "\tbackground-color:#f9ecd1;\n",
       "\tborder-left: 5px solid #ba7021;\n",
       "\tpadding: 0.5em;\n",
       "    }\n",
       "   .Prop:before {\n",
       "       content: \"Proposition.\";\n",
       "       color:#ba7021;\n",
       "       font-weight: bold;\n",
       "       font-style: normal;\n",
       "    }\n",
       "   .Thm {    \n",
       "\tbackground-color:#f9ecd1;\n",
       "\tborder-left: 5px solid #ba7021;\n",
       "\tpadding: 0.5em;\n",
       "    }\n",
       "   .Thm:before {\n",
       "       content: \"Theorem.\";\n",
       "       color:#ba7021;\n",
       "       font-weight: bold;\n",
       "       font-style: normal;\n",
       "    } \n",
       "   .Algo {    \n",
       "\tbackground-color:#f9ecd1;\n",
       "\tborder-left: 5px solid #ba7021;\n",
       "\tpadding: 0.5em;\n",
       "    }\n",
       "   .Algo:before {\n",
       "       content: \"Algorithm.\";\n",
       "       color:#ba7021;\n",
       "       font-weight: bold;\n",
       "       font-style: normal;\n",
       "    }\n",
       "    .Rmk {    \n",
       "\tbackground-color: #dbf1fc;\n",
       "\tborder-left: 5px solid #385487;\n",
       "\tpadding: 0.5em;\n",
       "    }\n",
       "    .Rmk:before {\n",
       "\tcontent: \"Remark.\";\n",
       "\tcolor:#385487;\n",
       "\tfont-weight: bold;\n",
       "\tfont-style: normal;\n",
       "    }\n",
       "    .Ex {    \n",
       "\tbackground-color: #dbf1fc;\n",
       "\tborder-left: 5px solid #385487;\n",
       "\tpadding: 0.5em;\n",
       "    }\n",
       "    .Ex:before {\n",
       "\tcontent: \"Example.\";\n",
       "\tcolor:#385487;\n",
       "\tfont-weight: bold;\n",
       "\tfont-style: normal;\n",
       "    }\n",
       "\n",
       "/*    .toc-item-num {\n",
       "#        display: none;\n",
       "#    }\n",
       "*/\n",
       "    .reveal section img{\n",
       "        margin: 0px auto;\n",
       "    }\n",
       "\n",
       "    div.output_area img{\n",
       "        display: block;\n",
       "        margin: 0px auto;\n",
       "    }\n",
       "  \n",
       "</style>\n",
       "\n",
       "<script>\n",
       "MathJax.Hub.Config({\n",
       "TeX: {extensions: [\"AMSmath.js\"] },\n",
       "                tex2jax: {\n",
       "                    inlineMath: [ ['$','$'], [\"\\\\(\",\"\\\\)\"] ],\n",
       "                    displayMath: [ ['$$','$$'], [\"\\\\[\",\"\\\\]\"] ]\n",
       "                },\n",
       "                displayAlign: 'center', // Change this to 'center' to center equations.\n",
       "                \"HTML-CSS\": {\n",
       "                    styles: {'.MathJax_Display': {\"margin\": 4}}\n",
       "                }\n",
       "        });\n",
       "\n",
       "\n",
       "\n",
       "</script>\n"
      ],
      "text/plain": [
       "<IPython.core.display.HTML object>"
      ]
     },
     "execution_count": 1,
     "metadata": {},
     "output_type": "execute_result"
    }
   ],
   "source": [
    "# execute this part to modify the css style\n",
    "from IPython.core.display import HTML\n",
    "def css_styling():\n",
    "    styles = open(\"./style/custom2.css\").read()\n",
    "    return HTML(styles)\n",
    "css_styling()"
   ]
  },
  {
   "cell_type": "code",
   "execution_count": 2,
   "metadata": {},
   "outputs": [],
   "source": [
    "## loading python libraries\n",
    "\n",
    "# necessary to display plots inline:\n",
    "%matplotlib inline   \n",
    "\n",
    "# load the libraries\n",
    "import matplotlib.pyplot as plt # 2D plotting library\n",
    "import numpy as np              # package for scientific computing  \n",
    "\n",
    "from math import *              # package for mathematics (pi, arctan, sqrt, factorial ...)\n",
    "import sympy as sympy             # package for symbolic computation\n",
    "from sympy import *"
   ]
  },
  {
   "cell_type": "markdown",
   "metadata": {},
   "source": [
    "<a id=\"Paths\"></a>\n",
    "## Counting paths in graphs"
   ]
  },
  {
   "cell_type": "markdown",
   "metadata": {},
   "source": [
    "### Exercise 1. A first example\n",
    "Let $G$ be the following graph:\n",
    "<img src=\"figures/GrapheBasique.jpg\" style=\"width: 200px;\"/>\n"
   ]
  },
  {
   "cell_type": "markdown",
   "metadata": {},
   "source": [
    "<div markdown=1 class=\"DoIt\"> Use the adjacency matrix of $G$ to compute the number of paths of length $20$ from $a$ to $b$ in $G$."
   ]
  },
  {
   "cell_type": "markdown",
   "metadata": {},
   "source": [
    "<div markdown=1 class=\"Rmk\"> Here is the Latex code of a matrix that you can copy/paste for further questions:\n",
    "$$\n",
    "M=\n",
    "\\begin{matrix}\n",
    "v_1 \\\\ v_2 \\\\ v_3 \n",
    "\\end{matrix}\n",
    "\\begin{pmatrix}\n",
    "1 & 1 & 0\\\\\n",
    "0 & 0 & 1\\\\\n",
    "0 & 1 & 0\\\\\n",
    "\\end{pmatrix}.\n",
    "$$\n"
   ]
  },
  {
   "cell_type": "markdown",
   "metadata": {},
   "source": [
    "<div markdown=1 class=\"Answers\"> \n",
    "The number of paths is given by the coefficient $(1,2)$ in $A^{20}$, where $A$ is given by\n",
    "$$\n",
    "A=\n",
    "\\begin{matrix}\n",
    "a \\\\ b \\\\ c\\\\ d\n",
    "\\end{matrix}\n",
    "\\begin{pmatrix}\n",
    "0 & 1 & 0 & 0\\\\\n",
    "1 & 0 & 1 & 1\\\\\n",
    "1 & 0 & 0 & 0\\\\\n",
    "1 & 0 & 0 & 0\n",
    "\\end{pmatrix}.\n",
    "$$"
   ]
  },
  {
   "cell_type": "code",
   "execution_count": 4,
   "metadata": {},
   "outputs": [
    {
     "name": "stdout",
     "output_type": "stream",
     "text": [
      "1138 paths of length 20\n"
     ]
    }
   ],
   "source": [
    "AdjacencyMatrix=np.matrix([[0,1,0,0],[1,0,1,1],[1,0,0,0],[1,0,0,0]])\n",
    "B=AdjacencyMatrix**20\n",
    "print(str(B[0,1])+' paths of length 20')"
   ]
  },
  {
   "cell_type": "markdown",
   "metadata": {},
   "source": [
    "### Exercise 2. Enumeration of words"
   ]
  },
  {
   "cell_type": "markdown",
   "metadata": {},
   "source": [
    "<div markdown=1 class=\"DoIt\"> We say that a word $w$ with letters $a,b$ is $b$-<i>short</i> if there are never $4$ consecutive $b$'s in $w$. For instance,\n",
    "$$\n",
    "w_1=aa\\color{green}{b}aaaaaa\\color{green}{bbb}aaa\\color{green}{b}aa\n",
    "$$\n",
    "is $b$-short while\n",
    "$$\n",
    "w_2=aa\\color{green}{b}aa\\color{green}{bb}a\\color{red}{bbbbbb}aa\\color{green}{bb}a\n",
    "$$\n",
    "is not. Let $S_n$ be the number of $b$-short words of length $n$ (the length of a word is the number of letters).\n",
    "\n",
    "1. Write a script which computes $S_1,S_2,\\dots,S_{20}$ using a graph and its adjacency matrix. You can consider the following graph:\n",
    "<img src=\"figures/Graphe_aabbbaab.jpg\" style=\"width: 200px;\"/>\n",
    "\n",
    "To check your result: you should obtain something like\n",
    "```\n",
    "Number of b-short words =[2, 4, 8, 15, 29,...\n",
    "```"
   ]
  },
  {
   "cell_type": "markdown",
   "metadata": {},
   "source": [
    "<div markdown=1 class=\"Answers\"> \n",
    "1. The number $S_n$ corresponds to the number of paths of length $n-1$ in the above graph, beginning by $a$ or $b$. For exemple, the word $abbbaa$ (length $6$) corresponds to $a\\to b\\to b'\\to b''\\to a\\to a$ (length $5$). <br><i>(The vertices $b,b',b''$ ensure that there are never $4$ consecutive $b$'s.)</i>\n",
    "\n",
    "Therefore $S_n$ is the sum of all coefficients in the two first lines of matrix $A^{n-1}$, where\n",
    "$$\n",
    "A=\n",
    "\\begin{matrix}\n",
    "a \\\\ b \\\\ b' \\\\ b''\n",
    "\\end{matrix}\n",
    "\\begin{pmatrix}\n",
    "1 & 1 & 0 & 0\\\\\n",
    "1 & 0 & 1 & 0\\\\\n",
    "1 & 0 & 0 & 1\\\\\n",
    "1 & 0 & 0 & 0\n",
    "\\end{pmatrix}.\n",
    "$$\n"
   ]
  },
  {
   "cell_type": "code",
   "execution_count": 36,
   "metadata": {},
   "outputs": [
    {
     "name": "stdout",
     "output_type": "stream",
     "text": [
      "Adjacency matrix : \n",
      "[[1 1 0 0]\n",
      " [1 0 1 0]\n",
      " [1 0 0 1]\n",
      " [1 0 0 0]]\n",
      "Number of b-short words = [2, 4, 8, 15, 29, 56, 108, 208, 401, 773, 1490, 2872, 5536, 10671, 20569, 39648, 76424, 147312, 283953, 547337]\n"
     ]
    }
   ],
   "source": [
    "# Words in {a,b}^n which avoid bbbb\n",
    "AdjacencyAdmissible=np.matrix([[1,1,0,0],[1,0,1,0],[1,0,0,1],[1,0,0,0]])\n",
    "print('Adjacency matrix : ')\n",
    "print(AdjacencyAdmissible)\n",
    "List=[]\n",
    "for n in range(1,21):\n",
    "    Mat=AdjacencyAdmissible**(n-1)\n",
    "    MatBis=Mat[0:2,]\n",
    "    List.append(np.sum(MatBis))\n",
    "print('Number of b-short words = '+str(List))\n"
   ]
  },
  {
   "cell_type": "markdown",
   "metadata": {},
   "source": [
    "<div markdown=1 class=\"DoIt\"> \n",
    "We say that a word $w$ with letters $a,b$ is $b$-<i>odd</i> if all the maximal sequences of consecutive $b$'s in $w$ have odd lengths.<br>\n",
    "For example\n",
    "$$\n",
    "w_1=a\\color{green}{bbbbb}aaa\\color{green}{b}aaaaa\n",
    "$$\n",
    "is $b$-odd while\n",
    "$$\n",
    "w_2=aaa\\color{green}{bbbbb}aa\\color{red}{bbbb}a\n",
    "$$\n",
    "is not $b$-odd.<br>\n",
    "Let $D_n$ be the number of $b$-odd words of length $n$. For example, $D_2=3$:\n",
    "<br><br>\n",
    "$$\n",
    "aa,\\quad ab,\\quad ba\n",
    "$$\n",
    "<br>\n",
    "and $D_3=6$:\n",
    "<br>\n",
    "$$\n",
    "aaa,\\quad aab, \\quad aba,\\quad baa,\\quad bab,\\quad bbb.\n",
    "$$\n",
    "\n",
    "1. Using a graph and its adjacency matrix, write a script which computes $D_1,D_2,\\dots,D_{20}$.\n",
    "\n",
    "<i>(You must carefully explain which graph you choose, and which are the relevant coefficients for the enumeration of $D_n$.)</i>"
   ]
  },
  {
   "cell_type": "markdown",
   "metadata": {},
   "source": [
    "<div markdown=1 class=\"Answers\"> \n",
    "1. We consider the following graph $G$:\n",
    "\n",
    "<img src=\"figures/Graphe_bOddWords.jpg\" style=\"width: 250px;\"/>\n",
    "\n",
    "<!--This graph $G$ is designed so that a path in $G$ which begins with $a$ or $b$ and which ends with $a,b$ or $b''$ corresponds to a word in which there is never an even sequence of $b$'s.-->\n",
    "\n",
    "The number $D_n$ corresponds to the number of paths of length $n-1$ in the above graph, beginning at $a$ or $b$ and ending at $a,b,b''$ (if the path ends at $b'$ then it ends with an even sequence of $b$'s).<br> \n",
    "For example the word $aab$ corresponds to the path\n",
    "$$\n",
    "a\\to a\\to b\n",
    "$$\n",
    "and the word $baaabbbbb$ corresponds to the path\n",
    "$$\n",
    "b \\to a\\to a \\to a\\to b\\to b'\\to b''\\to b'\\to b''.\n",
    "$$\n",
    "Therefore $D_n$ is the sum of all coefficients indexed by\n",
    "$$\n",
    "(a,a),(a,b),(a,b''),(b,a),(b,b),(b,b'')\n",
    "$$\n",
    "in the matrix $A^{n-1}$, where\n",
    "$$\n",
    "A=\n",
    "\\begin{matrix}\n",
    "a \\\\ b \\\\ b' \\\\ b''\n",
    "\\end{matrix}\n",
    "\\begin{pmatrix}\n",
    "1 & 1 & 0 & 0\\\\\n",
    "1 & 0 & 1 & 0\\\\\n",
    "0 & 0 & 0 & 1\\\\\n",
    "1 & 0 & 1 & 0\n",
    "\\end{pmatrix}.\n",
    "$$\n",
    "For example, for $n=3$, we have\n",
    "$$\n",
    "A^{n-1}=A^2=\n",
    "\\begin{matrix}\n",
    "a \\\\ b \\\\ b' \\\\ b''\n",
    "\\end{matrix}\n",
    "\\begin{pmatrix}\n",
    "\\boxed{2} & \\boxed{1} & 1 & \\boxed{0}\\\\\n",
    "\\boxed{1} & \\boxed{1} & 0 & \\boxed{1}\\\\\n",
    "1 & 0 & 1 & 0\\\\\n",
    "1 & 1 & 0 & 1\n",
    "\\end{pmatrix}.\n",
    "$$\n",
    "<i>(We framed coefficients which count for the $b$-odd paths, we thus recover $D_3=2+1+1+1+1=6$.)</i>"
   ]
  },
  {
   "cell_type": "code",
   "execution_count": 30,
   "metadata": {},
   "outputs": [
    {
     "name": "stdout",
     "output_type": "stream",
     "text": [
      "[[1 1 0 0]\n",
      " [1 0 1 0]\n",
      " [0 0 0 1]\n",
      " [1 0 1 0]]\n",
      "Number of b-odd words =[2, 3, 6, 10, 19, 33, 61, 108, 197, 352, 638, 1145, 2069, 3721, 6714, 12087, 21794, 39254, 70755, 127469]\n"
     ]
    }
   ],
   "source": [
    "# b Odd words \n",
    "AdjacencybOdd=np.matrix([[1,1,0,0],[1,0,1,0],[0,0,0,1],[1,0,1,0]])\n",
    "print(AdjacencybOdd)\n",
    "List=[]\n",
    "for n in range(1,21):\n",
    "    Matb=AdjacencybOdd**(n-1)\n",
    "    MatBis=Matb[0,0]+Matb[0,1]+Matb[0,3]+Matb[1,0]+Matb[1,1]+Matb[1,3]\n",
    "    #print(MatBis)\n",
    "    List.append(np.sum(MatBis))\n",
    "print('Number of b-odd words ='+str(List))\n"
   ]
  },
  {
   "cell_type": "markdown",
   "metadata": {},
   "source": [
    "<a id=\"Escape\"></a>\n",
    "## Absorption probabilities"
   ]
  },
  {
   "cell_type": "markdown",
   "metadata": {},
   "source": [
    "### Exercise 3. Labyrinth.\n",
    "\n",
    "We consider a random robot in the following labyrinth:\n",
    "\n",
    "<img src=\"figures/Labyrinthe.jpg\" style=\"width: 250px;\"/>\n",
    "\n",
    "The robot is initially in room $B$ (time $n=0$). At each time step, it chooses uniformly at random one of the doors of the room in which it is located, and passes through that door.<br> If the robot hits Exit $1$ (resp. $2$) it stays at Exit $1$ (resp. $2$) forever."
   ]
  },
  {
   "cell_type": "markdown",
   "metadata": {},
   "source": [
    "<div markdown=1 class=\"DoIt\"> \n",
    "\n",
    "Let $p(n)$ denote the vector of the probability distribution of the location of the robot at time $n$. More formally,\n",
    "$$\n",
    "p(n)=\\bigg(p_x(n) \\bigg)_{x\\in \\{A,B,C,D,E,F,\\text{Exit }1,\\text{Exit }2\\}},\n",
    "$$\n",
    "where $p_x(n)$ is the probability that the robot is at $x$ at time $n$.\n",
    "\n",
    "1) Use a transition matrix $M$ to compute approximate values of $p(5), p(2000)$. \n",
    "\n",
    "2) Deduce an approximation of the probability that the robot eventually escapes the labyrinth through Exit $1$."
   ]
  },
  {
   "cell_type": "markdown",
   "metadata": {},
   "source": [
    "<div markdown=1 class=\"Answers\"> \n",
    "1. We consider the following transition matrix:\n",
    "\n",
    "$$\n",
    "M= \\begin{matrix}\n",
    "A \\\\ B \\\\ C \\\\ D \\\\ E \\\\ F \\\\ E1 \\\\ E2\n",
    "\\end{matrix}\n",
    "\\begin{pmatrix}\n",
    "0 & 1/2 & 0 & 1/2 & 0 & 0 & 0 & 0\\\\\n",
    "1/3 & 0 & 1/3 & 0 & 1/3 & 0 & 0 & 0\\\\\n",
    "0 & 1/2 & 0 & 0 & 0 & 0 & 1/2 & 0\\\\\n",
    "1/3 & 0 & 0 & 0 & 1/3 & 1/3 & 0 & 0\\\\\n",
    "0 & 1/3 & 0 & 1/3 & 0 & 0 & 0 & 1/3\\\\\n",
    "0 & 0 & 0 & 1 & 0 & 0 & 0 & 0\\\\\n",
    "0 & 0 & 0 & 0 & 0 & 0 & 1 & 0\\\\\n",
    "0 & 0 & 0 & 0 & 0 & 0 & 0 & 1\n",
    "\\end{pmatrix}.\n",
    "$$\n",
    "We have seen in class that the coefficient $(i,j)$ in $M^{n}$ corresponds to the probability that, starting from $i$-th state, the robot is at $j$ at time $n$. Therefore the desired probability distribution is the $2$d line of $M^{n}$.\n"
   ]
  },
  {
   "cell_type": "code",
   "execution_count": 3,
   "metadata": {},
   "outputs": [
    {
     "name": "stdout",
     "output_type": "stream",
     "text": [
      "------- Question 2 -----\n",
      "Probability distributions:\n",
      "p(5) = [[ 0.189  0.     0.092  0.     0.189  0.098  0.241  0.191]]\n",
      "p(2000) = [[ 0.     0.     0.     0.     0.     0.     0.467  0.533]]\n"
     ]
    }
   ],
   "source": [
    "A=np.matrix([\n",
    "[0,0.5,0,0.5,0,0,0,0],\n",
    "[1/3.0,0,1/3.0,0,1/3.0,0,0,0],\n",
    "[0,0.5,0,0,0,0,0.5,0],\n",
    "[1/3.0,0,0,0,1/3.0,1/3.0,0,0],\n",
    "[0,1/3.0,0,1/3.0,0,0,0,1/3.0],\n",
    "[0,0,0,1,0,0,0,0],\n",
    "[0,0,0,0,0,0,1,0],\n",
    "[0,0,0,0,0,0,0,1],    \n",
    "])\n",
    "#print(np.round(A**2000,3))\n",
    "\n",
    "def ProbaDistribution(n):\n",
    "    Power=A**(n)\n",
    "    InitialCondition=[0,1,0,0,0,0,0,0] # easy way to extract the second line\n",
    "    return InitialCondition*Power\n",
    "\n",
    "print('------- Question 2 -----')\n",
    "print('Probability distributions:')\n",
    "print('p(5) = '+str(np.round(ProbaDistribution(5),3)))\n",
    "print('p(2000) = '+str(np.round(ProbaDistribution(2000),3)))\n"
   ]
  },
  {
   "cell_type": "markdown",
   "metadata": {},
   "source": [
    "<div markdown=1 class=\"Answers\"> \n",
    "2) For $n=2000$ we have that the robot is at Exit $1$ with probability $\\approx 0.467$ and at Exit $2$ with probability $0.533$. We see that other coefficients are very close to zero so it is very unlikely that the robot is still in the labyrinth at time $2000$.\n",
    "\n",
    "Therefore the approximation is $0.467$."
   ]
  },
  {
   "cell_type": "markdown",
   "metadata": {},
   "source": [
    "<div markdown=1 class=\"DoIt\">\n",
    "We still assume that the robot starts at $B$.<br>\n",
    "Denote by $L_n$  the event \"The robot is still in the labyrinth at time $n$\" (<i>i.e.</i> it dit not find the exit yet). Use matrix $M$ to plot $n\\mapsto \\mathbb{P}(L_n)$. (Try $1\\leq n\\leq 40$.)<br>\n"
   ]
  },
  {
   "cell_type": "code",
   "execution_count": 32,
   "metadata": {},
   "outputs": [
    {
     "data": {
      "image/png": "[encoded data removed]",
      "text/plain": [
       "<Figure size 432x288 with 1 Axes>"
      ]
     },
     "metadata": {},
     "output_type": "display_data"
    }
   ],
   "source": [
    "def ProbaNoEscape(n):\n",
    "    Distribution=ProbaDistribution(n-1)\n",
    "    return 1-Distribution[0,6]-Distribution[0,7] # returns 1-Proba(Exit 1)-Proba(Exit 2)\n",
    "\n",
    "#print([ProbaNoEscape(n) for n in range(1,8)])\n",
    "\n",
    "plt.plot([ProbaNoEscape(n) for n in range(1,40)])\n",
    "plt.show()\n"
   ]
  },
  {
   "cell_type": "markdown",
   "metadata": {},
   "source": [
    "<div markdown=1 class=\"DoIt\"> Use the method seen in class and the function `solve` from `SymPy` to compute the <i>exact</i> probability that starting from $B$ the robot escapes the labyrinth through Exit $1$.<br>\n",
    "Compare with your approximation obtained previously."
   ]
  },
  {
   "cell_type": "markdown",
   "metadata": {},
   "source": [
    "<div markdown=1 class=\"Answers\"> \n",
    "Let $p_a$ (resp. $p_b,p_c,\\dots$) be the probability that, starting from $A$, the robot escapes at Exit $1$. According the method seen in class, we have that\n",
    "$$\n",
    "\\begin{cases}\n",
    "p_a&=\\frac{1}{2}p_b+\\frac{1}{2}p_d\\\\\n",
    "p_b&=\\frac{1}{3}p_a+\\frac{1}{3}p_c+\\frac{1}{3}p_e\\\\\n",
    "p_c&=\\frac{1}{2}p_b+\\frac{1}{2}\\\\\n",
    "p_d&=\\frac{1}{3}p_a+\\frac{1}{3}p_e+\\frac{1}{3}p_f\\\\\n",
    "p_e&=\\frac{1}{3}p_b+\\frac{1}{3}p_d\\\\\n",
    "p_d&=p_f\\\\\n",
    "\\end{cases}\n",
    "$$\n",
    "We solve this system with the code below and obtain indeed\n",
    "$$\n",
    "p_b=\\frac{7}{15}\\approx 0.4666...\n",
    "$$"
   ]
  },
  {
   "cell_type": "code",
   "execution_count": 7,
   "metadata": {},
   "outputs": [
    {
     "data": {
      "text/plain": [
       "{a: 2/5, b: 7/15, c: 11/15, d: 1/3, e: 4/15, f: 1/3}"
      ]
     },
     "execution_count": 7,
     "metadata": {},
     "output_type": "execute_result"
    }
   ],
   "source": [
    "var('a b c d e f')\n",
    "solve(\n",
    "[\n",
    "2*a-b-d, # equation for p_a\n",
    "3*b-a-c-e, # equation for p_b\n",
    "2*c-b-1,# ...\n",
    "3*d-a-e-f,\n",
    "3*e-b-d,\n",
    "f-d    \n",
    "],\n",
    "[a,b,c,d,e,f]  # unknowns\n",
    ")"
   ]
  },
  {
   "cell_type": "code",
   "execution_count": null,
   "metadata": {},
   "outputs": [],
   "source": []
  },
  {
   "cell_type": "code",
   "execution_count": null,
   "metadata": {},
   "outputs": [],
   "source": []
  }
 ],
 "metadata": {
  "kernelspec": {
   "display_name": "Python 3",
   "language": "python",
   "name": "python3"
  },
  "language_info": {
   "codemirror_mode": {
    "name": "ipython",
    "version": 3
   },
   "file_extension": ".py",
   "mimetype": "text/x-python",
   "name": "python",
   "nbconvert_exporter": "python",
   "pygments_lexer": "ipython3",
   "version": "3.7.0"
  }
 },
 "nbformat": 4,
 "nbformat_minor": 2
}
