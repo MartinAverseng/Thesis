{
 "cells": [
  {
   "cell_type": "markdown",
   "metadata": {},
   "source": [
    "<img src='./figures/logo-ecole-polytechnique-ve.jpg' style='position:absolute; top:0; right:0;' width='100px' height='' alt='' />\n",
    "\n",
    "<center>**Bachelor of Ecole Polytechnique**</center>\n",
    "<center>Computational Mathematics, year 2, semester 1</center>\n",
    "<center>Lecturer: Lucas Gerin <a href=\"mailto:lucas.gerin@polytechnique.edu\">(send mail)</a></center>\n",
    "\n",
    "# Symbolic computing 3: Generating functions\n"
   ]
  },
  {
   "cell_type": "markdown",
   "metadata": {},
   "source": [
    "## Table of contents\n",
    "\n",
    "- [Basics of generating functions](#GeneratingFunctions)\n",
    "- [The towers of Hanoi with GF](#HanoiGF)\n",
    "- [A pair of GF](#Pair)\n",
    "- [GF and Binary Trees](#Catalan)\n",
    "\n",
    "\n"
   ]
  },
  {
   "cell_type": "code",
   "execution_count": 1,
   "metadata": {},
   "outputs": [
    {
     "data": {
      "text/html": [
       "<link href='http://fonts.googleapis.com/css?family=Fenix' rel='stylesheet' type='text/css'>\n",
       "<link href='http://fonts.googleapis.com/css?family=Alegreya+Sans:100,300,400,500,700,800,900,100italic,300italic,400italic,500italic,700italic,800italic,900italic' rel='stylesheet' type='text/css'>\n",
       "<link href='http://fonts.googleapis.com/css?family=Source+Code+Pro:300,400' rel='stylesheet' type='text/css'>\n",
       "<link href=\"https://fonts.googleapis.com/css?family=Oswald|Raleway\" rel=\"stylesheet\" type='text/css'> \n",
       "<style>\n",
       ".prompt{\n",
       "    display: none !important;\n",
       "}\n",
       "\n",
       ".rendered_html pre {\n",
       "    border: 1px solid #f0f6f9 !important;\n",
       "}\n",
       "\n",
       ".rendered_html pre, .rendered_html code {\n",
       "    background-color: #d3d8db !important;\n",
       "    padding: 1% !important;\n",
       "    line-height: 200% !important;\n",
       "    border-radius: 10px !important;\n",
       "}\n",
       "\n",
       "div.input_area {\n",
       "    border-radius: 10px !important;\n",
       "    background-color: #e1e1e6 !important;\n",
       "}\n",
       "\n",
       "div.cell{\n",
       "        width:85% !important;\n",
       "        margin-left:5% !important;\n",
       "        /*margin-right:auto;*/\n",
       "    }\n",
       "    h1, h2, h3, h4, h5 {\n",
       "        font-family: 'Oswald', sans-serif; !important;\n",
       "        font-style: oblique !important;\n",
       "    }\n",
       "    div.text_cell_render{\n",
       "        font-family: 'Raleway', sans-serif; !important;\n",
       "        line-height: 135% !important;\n",
       "        font-size: 120% !important;\n",
       "        width:100%;/*600px;*/\n",
       "        /*margin-left:auto;*/\n",
       "        /*margin-right:auto;*/\n",
       "    }\n",
       "    .CodeMirror{\n",
       "            font-family: \"Source Code Pro\" !important;\n",
       "\t\t\tfont-size: 100% !important;\n",
       "    }\n",
       "    .text_cell_render p{\n",
       "        text-align: justify !important;\n",
       "    }\n",
       "    .text_cell_render h1 {\n",
       "        font-weight: 200 !important;\n",
       "\t\tline-height: 100% !important;\n",
       "        color:#47597A !important;\n",
       "        margin-bottom: 10.em !important;\n",
       "        margin-top: 50.em !important;\n",
       "        padding-bottom: 50.em !important;\n",
       "        padding-top: 50.em !important;\n",
       "        display: block !important;\n",
       "        font-size: 300% !important;\n",
       "        text-align: center !important;\n",
       "        border-bottom: 1px solid #47597A !important;\n",
       "        border-top: 1px solid #47597A !important;\n",
       "    }\n",
       "    .text_cell_render h2 {\n",
       "        font-weight: 200 !important;\n",
       "\tline-height: 100% !important;\n",
       "        color:#47597A !important;\n",
       "        margin-bottom: 0.5em !important;\n",
       "        margin-top: 0.5em !important;\n",
       "        display: block !important;\n",
       "        font-size: 200% !important;\n",
       "        border-bottom: 1px solid #47597A !important;\n",
       "    }\n",
       "    .text_cell_render h3 {\n",
       "        font-weight: 200 !important;\n",
       "\tline-height: 100% !important;\n",
       "        color:#47597A !important;\n",
       "        margin-bottom: 0.5em !important;\n",
       "        margin-top: 0.5em !important;\n",
       "        display: block !important;\n",
       "        font-size: 150% !important;\n",
       "    }\n",
       "    .text_cell_render h4 {\n",
       "        font-style: italic !important;\n",
       "        font-weight: bold !important;\n",
       "\tline-height: 100% !important;\n",
       "        color:#47597A !important;\n",
       "        display: block !important;\n",
       "        font-size: 100% !important;\n",
       "    }\n",
       "    .text_cell_render h5 {\n",
       "        font-weight: 200 !important;\n",
       "\tline-height: 100% !important;\n",
       "        color:#47597A !important;\n",
       "        margin-bottom: 0.5em !important;\n",
       "        margin-top: 0.5em !important;\n",
       "        display: block !important;\n",
       "        font-size: 100% !important;\n",
       "    }\n",
       "    .text_cell_render ul {\n",
       "\tlist-style-type: disc !important;\n",
       "\tline-height: 2;\n",
       "\t/*color:#47597A !important;*/\n",
       "    }\n",
       "    .warning{\n",
       "        color: rgb( 240, 20, 20 ) !important;\n",
       "        }\n",
       "    .Abstract {  \n",
       "\ttext-align: justify;\n",
       "\tbackground-color: #d6edf9;\n",
       "\tborder-left: 5px solid #47597A;\n",
       "\tpadding: 0.5em;\n",
       "\tmargin: 0  150px 0 150px;\n",
       "    }\n",
       "    .Def {    \n",
       "\tbackground-color: #d9f7d7;\n",
       "\tborder-left: 5px solid #4a7047;\n",
       "\tpadding: 0.5em;\n",
       "    }\n",
       "    .Def:before {\n",
       "\tcontent: \"Definition.\";\n",
       "\tcolor:#4a7047;\n",
       "\tfont-weight: bold;\n",
       "\tfont-style: normal;\n",
       "    }\n",
       "    .DoIt {    \n",
       "\tbackground-color: #e8cfc9;\n",
       "\tborder-left: 5px solid #a90e05;\n",
       "\tpadding: 0.5em;\n",
       "    }\n",
       "    .DoIt:before {\n",
       "\tcontent: \"Do it yourself.\";\n",
       "\tcolor:#a90e05;\n",
       "\tfont-weight: bold;\n",
       "\tfont-style: normal;\n",
       "    }\n",
       "    .Answers {    \n",
       "\tbackground-color: #DDA0DD;\n",
       "\tborder-left: 5px solid #9932CC;\n",
       "\tpadding: 0.5em;\n",
       "    }\n",
       "    .Answers:before {\n",
       "\tcontent: \"Answers.\";\n",
       "\tcolor:#682145;\n",
       "\tfont-weight: bold;\n",
       "\tfont-style: normal;\n",
       "    }\n",
       "    .Prop {    \n",
       "\tbackground-color:#f9ecd1;\n",
       "\tborder-left: 5px solid #ba7021;\n",
       "\tpadding: 0.5em;\n",
       "    }\n",
       "   .Prop:before {\n",
       "       content: \"Proposition.\";\n",
       "       color:#ba7021;\n",
       "       font-weight: bold;\n",
       "       font-style: normal;\n",
       "    }\n",
       "   .Thm {    \n",
       "\tbackground-color:#f9ecd1;\n",
       "\tborder-left: 5px solid #ba7021;\n",
       "\tpadding: 0.5em;\n",
       "    }\n",
       "   .Thm:before {\n",
       "       content: \"Theorem.\";\n",
       "       color:#ba7021;\n",
       "       font-weight: bold;\n",
       "       font-style: normal;\n",
       "    } \n",
       "   .Algo {    \n",
       "\tbackground-color:#f9ecd1;\n",
       "\tborder-left: 5px solid #ba7021;\n",
       "\tpadding: 0.5em;\n",
       "    }\n",
       "   .Algo:before {\n",
       "       content: \"Algorithm.\";\n",
       "       color:#ba7021;\n",
       "       font-weight: bold;\n",
       "       font-style: normal;\n",
       "    }\n",
       "    .Rmk {    \n",
       "\tbackground-color: #dbf1fc;\n",
       "\tborder-left: 5px solid #385487;\n",
       "\tpadding: 0.5em;\n",
       "    }\n",
       "    .Rmk:before {\n",
       "\tcontent: \"Remark.\";\n",
       "\tcolor:#385487;\n",
       "\tfont-weight: bold;\n",
       "\tfont-style: normal;\n",
       "    }\n",
       "    .Ex {    \n",
       "\tbackground-color: #dbf1fc;\n",
       "\tborder-left: 5px solid #385487;\n",
       "\tpadding: 0.5em;\n",
       "    }\n",
       "    .Ex:before {\n",
       "\tcontent: \"Example.\";\n",
       "\tcolor:#385487;\n",
       "\tfont-weight: bold;\n",
       "\tfont-style: normal;\n",
       "    }\n",
       "\n",
       "/*    .toc-item-num {\n",
       "#        display: none;\n",
       "#    }\n",
       "*/\n",
       "    .reveal section img{\n",
       "        margin: 0px auto;\n",
       "    }\n",
       "\n",
       "    div.output_area img{\n",
       "        display: block;\n",
       "        margin: 0px auto;\n",
       "    }\n",
       "  \n",
       "</style>\n",
       "\n",
       "<script>\n",
       "MathJax.Hub.Config({\n",
       "TeX: {extensions: [\"AMSmath.js\"] },\n",
       "                tex2jax: {\n",
       "                    inlineMath: [ ['$','$'], [\"\\\\(\",\"\\\\)\"] ],\n",
       "                    displayMath: [ ['$$','$$'], [\"\\\\[\",\"\\\\]\"] ]\n",
       "                },\n",
       "                displayAlign: 'center', // Change this to 'center' to center equations.\n",
       "                \"HTML-CSS\": {\n",
       "                    styles: {'.MathJax_Display': {\"margin\": 4}}\n",
       "                }\n",
       "        });\n",
       "\n",
       "\n",
       "\n",
       "</script>\n"
      ],
      "text/plain": [
       "<IPython.core.display.HTML object>"
      ]
     },
     "execution_count": 1,
     "metadata": {},
     "output_type": "execute_result"
    }
   ],
   "source": [
    "# execute this part to modify the css style\n",
    "from IPython.core.display import HTML\n",
    "def css_styling():\n",
    "    styles = open(\"./style/custom2.css\").read()\n",
    "    return HTML(styles)\n",
    "css_styling()"
   ]
  },
  {
   "cell_type": "code",
   "execution_count": 2,
   "metadata": {},
   "outputs": [],
   "source": [
    "## loading python libraries\n",
    "\n",
    "# necessary to display plots inline:\n",
    "%matplotlib inline   \n",
    "\n",
    "# load the libraries\n",
    "import matplotlib.pyplot as plt # 2D plotting library\n",
    "import numpy as np              # package for scientific computing  \n",
    "from pylab import *\n",
    "\n",
    "from math import *              # package for mathematics (pi, arctan, sqrt, factorial ...)\n",
    "import sympy as sympy             # package for symbolic computation\n",
    "from sympy import *\n"
   ]
  },
  {
   "cell_type": "markdown",
   "metadata": {},
   "source": [
    "<a id=\"GeneratingFunctions\"></a>\n",
    "## Basics of generating functions\n",
    "\n",
    "Let us first explain how we will handle generating functions with `SymPy`. We deal with the example of \n",
    "<br><br>\n",
    "$$\n",
    "f(x)=\\frac{1}{1-2x}=1+2x+4x^2+8x^3+16x^4+ \\dots\n",
    "$$\n",
    "<br>\n",
    "We first introduce variable $x$ and function $f$ as follows:"
   ]
  },
  {
   "cell_type": "code",
   "execution_count": 3,
   "metadata": {},
   "outputs": [
    {
     "name": "stdout",
     "output_type": "stream",
     "text": [
      "f = 1/(-2*x + 1)\n",
      "series expansion of f at 0 and of order 10 is: 1 + 2*x + 4*x**2 + 8*x**3 + 16*x**4 + 32*x**5 + 64*x**6 + 128*x**7 + 256*x**8 + 512*x**9 + O(x**10)\n"
     ]
    }
   ],
   "source": [
    "x=var('x')\n",
    "f=(1/(1-2*x))\n",
    "\n",
    "print('f = '+str(f))\n",
    "print('series expansion of f at 0 and of order 10 is: '+str(f.series(x,0,10)))\n"
   ]
  },
  {
   "cell_type": "markdown",
   "metadata": {},
   "source": [
    "One can extract coefficient $n$ as follows:\n",
    "* $f$ has to be truncated at order $k$ (for some $k>n$) with `f.series(x,0,k)`\n",
    "* the $n$-th coefficient is then extracted by `f.coeff(x**n)`"
   ]
  },
  {
   "cell_type": "code",
   "execution_count": 4,
   "metadata": {},
   "outputs": [
    {
     "name": "stdout",
     "output_type": "stream",
     "text": [
      "Truncation of f is 1 + 2*x + 4*x**2 + 8*x**3 + 16*x**4 + 32*x**5 + 64*x**6 + 128*x**7 + O(x**8)\n",
      "6th coefficient is: 64\n"
     ]
    }
   ],
   "source": [
    "f_truncated = f.series(x,0,8)\n",
    "print('Truncation of f is '+str(f_truncated))\n",
    "n=6\n",
    "nthcoefficient=f_truncated.coeff(x**n)\n",
    "print(str(n)+'th coefficient is: '+str(nthcoefficient))\n"
   ]
  },
  {
   "cell_type": "markdown",
   "metadata": {},
   "source": [
    "### Exercise 1. Fibonacci generating function"
   ]
  },
  {
   "cell_type": "markdown",
   "metadata": {},
   "source": [
    "In class we proved that the generating function of the Fibonacci sequence is given by:\n",
    "$$\n",
    "\\mathrm{Fib}(x)=\\frac{1}{1-x-x^2}.\n",
    "$$"
   ]
  },
  {
   "cell_type": "markdown",
   "metadata": {},
   "source": [
    "<div markdown=1 class=\"DoIt\"> \n",
    "1. Write a recursive function `Fibonacci(n)` which returns the $n$-th Fibonacci number.\n",
    "2. Write another function `FibonacciGF(n)` which also returns the $n$-th Fibonacci number by extracting the $n$-th coefficient in $\\mathrm{Fib}(x)$."
   ]
  },
  {
   "cell_type": "code",
   "execution_count": 5,
   "metadata": {},
   "outputs": [],
   "source": [
    "def Fibonacci(n):\n",
    "    if n==0 or n==1:\n",
    "        return 1\n",
    "    else:\n",
    "        return Fibonacci(n-1)+Fibonacci(n-2)\n",
    "    \n",
    "def FibonacciGF(n):\n",
    "    x=var('x')\n",
    "    f=(1/(1-x-x**2))\n",
    "    f_truncated=f.series(x,0,n+1)\n",
    "    return f_truncated.coeff(x**n)\n"
   ]
  },
  {
   "cell_type": "markdown",
   "metadata": {},
   "source": [
    "<div markdown=1 class=\"DoIt\"> \n",
    "1. Complete the following script (which uses `time.clock()`) to plot the execution times of `Fibonacci(n)`, `FibonacciGF(n)` as a function of $n$ (try with $20\\leq n \\leq 35$).\n",
    "2. What do you observe?"
   ]
  },
  {
   "cell_type": "code",
   "execution_count": 6,
   "metadata": {},
   "outputs": [
    {
     "data": {
      "image/png": "[encoded data removed]",
      "text/plain": [
       "<matplotlib.figure.Figure at 0x64f0f50>"
      ]
     },
     "metadata": {},
     "output_type": "display_data"
    }
   ],
   "source": [
    "import time\n",
    "\n",
    "RunningTimeFibonacci=[]\n",
    "RunningTimeFibonacciGF=[]\n",
    "a=20\n",
    "b=35\n",
    "\n",
    "for n in range(a,b):\n",
    "    time1=time.clock()\n",
    "    Fibonacci(n)\n",
    "    time2=time.clock()\n",
    "    RunningTimeFibonacci.append(time2-time1)\n",
    "\n",
    "for n in range(a,b):\n",
    "    time1=time.clock()\n",
    "    FibonacciGF(n)\n",
    "    time2=time.clock()\n",
    "    RunningTimeFibonacciGF.append(time2-time1)\n",
    "\n",
    "N=range(a,b)    \n",
    "plt.plot(N,RunningTimeFibonacci,'o',label='recursive')\n",
    "plt.plot(N,RunningTimeFibonacciGF,'o',label='GF')\n",
    "plt.legend()\n",
    "plt.show()\n",
    "    "
   ]
  },
  {
   "cell_type": "markdown",
   "metadata": {},
   "source": [
    "<div markdown=1 class=\"Answers\">\n",
    "The running time of the GF-algorithm seems linear while the running time of the recursive functions looks exponential. For $n\\geq 32$ the GF-algorithm is faster."
   ]
  },
  {
   "cell_type": "markdown",
   "metadata": {},
   "source": [
    "<a id=\"HanoiGF\"></a>\n",
    "### Exercise 2. Hanoi with four rods: the generating function approach"
   ]
  },
  {
   "cell_type": "markdown",
   "metadata": {},
   "source": [
    "In the previous lab we saw a strategy for the towers of Hanoi with $4$ rods such that the number $J_n$ of moves for $n$ disks satisfies:\n",
    "\\begin{align}\n",
    "J_1&=1, \\notag\\\\\n",
    "J_2&=3,\\notag\\\\\n",
    "J_n&=2J_{n-2}+3 \\qquad (\\text{ for every }n\\geq 3). \\tag{#}\n",
    "\\end{align}\n"
   ]
  },
  {
   "cell_type": "markdown",
   "metadata": {},
   "source": [
    "<div markdown=1 class=\"DoIt\"> \n",
    "1. Find the expression for the generating function $\\mathcal{J}(x)$ of the $J_n$'s.<br>\n",
    "<i>(Recall that you can ask `SymPy` to solve any equation.)</i>\n",
    "2. Write a function `HanoiGF(n)` which extracts the $n$-th coefficient in $\\mathcal{J}(x)$."
   ]
  },
  {
   "cell_type": "markdown",
   "metadata": {},
   "source": [
    "<div markdown=1 class=\"Answers\">\n",
    "1. We multiply eq.$\\ $(\\#) by $x^n$ and sum the resulting expression for all $n\\geq 3$:\n",
    "\\begin{align*}\n",
    "\\sum_{n\\geq 3} J_n x^n &= 2 \\sum_{n\\geq 3} J_{n-2} x^n + 3\\sum_{n\\geq 3} x^n \\\\\n",
    "\\mathcal{J}(x)-J_1x-J_2x^2 &= 2 \\sum_{p\\geq 1} J_{p} x^{p+2} + 3(x^3+x^4+x^5+\\dots) \\qquad \\text{(we put }n-2=p)\\\\\n",
    "\\mathcal{J}(x)-x-3x^2 &= 2 x^2\\mathcal{J}(x) + 3\\frac{x^3}{1-x}.\n",
    "\\end{align*}"
   ]
  },
  {
   "cell_type": "code",
   "execution_count": 5,
   "metadata": {},
   "outputs": [
    {
     "name": "stdout",
     "output_type": "stream",
     "text": [
      "The solution is: J(x)= \\frac{x \\left(2 x + 1\\right)}{2 x^{3} - 2 x^{2} - x + 1}\n"
     ]
    }
   ],
   "source": [
    "x=symbols('x')\n",
    "j=symbols('j')\n",
    "SeriesJ=solve(j-x-3*x**2-2*x**2*j-3*x**3/(1-x),j)\n",
    "print('The solution is: J(x)= '+str(latex(SeriesJ[0])))\n"
   ]
  },
  {
   "cell_type": "markdown",
   "metadata": {},
   "source": [
    "<div markdown=1 class=\"Answers\">\n",
    "We find\n",
    "$$\n",
    "\\mathcal{J}(x)= \\frac{x \\left(2 x + 1\\right)}{2 x^{3} - 2 x^{2} - x + 1} \n",
    "$$"
   ]
  },
  {
   "cell_type": "code",
   "execution_count": 3,
   "metadata": {},
   "outputs": [
    {
     "name": "stdout",
     "output_type": "stream",
     "text": [
      "[1, 3, 5, 9, 13, 21, 29, 45, 61, 93, 125, 189, 253, 381]\n"
     ]
    }
   ],
   "source": [
    "def HanoiGF(n):\n",
    "    x=symbols('x')\n",
    "    j= Function('j')\n",
    "    j=((x*(2*x+1)/(1-x-2*x**2+2*x**3)))\n",
    "    j_truncated=j.series(x,0,n+1)\n",
    "    return j_truncated.coeff(x**n)\n",
    "\n",
    "print([HanoiGF(n) for n in range(1,15)])\n"
   ]
  },
  {
   "cell_type": "markdown",
   "metadata": {},
   "source": [
    "<div markdown=1 class=\"DoIt\"> \n",
    "1. What is the radius of convergence of $\\mathcal{J}(x)$?\n",
    "2. What does it imply for the asymptotic behaviour of $J_n$? (Apply the \"exponential growth formula\", that we saw in class.)<br>\n",
    "3. Compare your result with the exact formula for $J_n$ that you obtained in the previous Notebook. Is it consistent?"
   ]
  },
  {
   "cell_type": "code",
   "execution_count": 7,
   "metadata": {},
   "outputs": [
    {
     "data": {
      "text/plain": [
       "[1, -sqrt(2)/2, sqrt(2)/2]"
      ]
     },
     "execution_count": 7,
     "metadata": {},
     "output_type": "execute_result"
    }
   ],
   "source": [
    "solve(2*x**3-2*x**2-x+1,x)"
   ]
  },
  {
   "cell_type": "markdown",
   "metadata": {},
   "source": [
    "<div markdown=1 class=\"Answers\"> \n",
    "1. The radius of convergence $\\rho$ of $\\mathcal{J}(x)$ is such that $2 \\rho^{3} - 2 \\rho^{2} - \\rho + 1$, <i>i.e.</i>\n",
    "$$\n",
    "\\rho= \\sqrt{2}/2=1/\\sqrt{2}\n",
    "$$\n",
    "according to the previous script.\n",
    "2. The exponential growth formula says that for every $\\varepsilon$ and for $n$ large enough\n",
    "$$\n",
    "(\\sqrt{2}-\\varepsilon)^n \\leq J_n \\leq (1/\\rho+\\varepsilon)^n =(\\sqrt{2}+\\varepsilon)^n.\n",
    "$$\n",
    "(The exponential growth formula only ensures that the left inequality holds for infinitely many $n$'s.)\n",
    "3. This is consistent with the formula\n",
    "$$\n",
    "2^{\\frac{n}{2} - 1} \\left(2 \\sqrt{2} + 3\\right) + \\left(- \\sqrt{2}\\right)^{n} \\left(- \\sqrt{2} + \\frac{3}{2}\\right) - 3\n",
    "$$\n",
    "of last week. Indeed, this formula shows that $J_n \\approx \\sqrt{2}^n$."
   ]
  },
  {
   "cell_type": "markdown",
   "metadata": {},
   "source": [
    "<a id=\"Pair\"></a>\n",
    "### Exercise 3. A pair of generating functions"
   ]
  },
  {
   "cell_type": "markdown",
   "metadata": {},
   "source": [
    "Let $a_n,b_n$ be defined by $a_1=b_1=1$ and, for every $n\\geq 1$,\n",
    "\\begin{equation}\n",
    "\\begin{cases}\n",
    "a_{n+1}&= a_n +2b_n,\\\\\n",
    "b_{n+1}&= a_n +b_n.\n",
    "\\end{cases}\n",
    "\\tag{&}\n",
    "\\end{equation}\n",
    "<i>(This is our example of Lab 2 and Lab 5: $a_n,b_n$ are defined by $(1+\\sqrt{2})^{n}=a_n+b_n\\sqrt{2}$.</i>"
   ]
  },
  {
   "cell_type": "markdown",
   "metadata": {},
   "source": [
    "<div markdown=1 class=\"DoIt\"> \n",
    "1. Find a $2\\times 2$ system whose solutions are $A(x),B(x)$ , where $A,B$ are the generating functions of sequences $(a_n)_{n\\geq 1},(b_n)_{n\\geq 1}$. <i>(Coefficients of this system should depend on $x$.)</i>\n",
    "2. Solve this system with `solve` and write a script which uses function $A$ to return $a_1,\\dots,a_{20}$."
   ]
  },
  {
   "cell_type": "markdown",
   "metadata": {},
   "source": [
    "<div markdown=1 class=\"Answers\">\n",
    "1. We multiply both terms of both equations in eq.(&) by $x^{n+1}$ and take the sum for $n\\geq 1$. We obtain\n",
    "$$\n",
    "\\begin{cases}\n",
    "\\sum_{n\\geq 1}a_{n+1}x^{n+1}&= \\sum_{n\\geq 1}a_{n}x^{n+1} +2\\sum_{n\\geq 1}b_{n}x^{n+1},\\\\\n",
    "\\sum_{n\\geq 1}b_{n+1}x^{n+1}&= \\sum_{n\\geq 1}a_{n}x^{n+1} +\\sum_{n\\geq 1}b_{n}x^{n+1}.\\\\\n",
    "\\end{cases}\n",
    "$$\n",
    "We find\n",
    "$$\n",
    "\\begin{cases}\n",
    "A(x)-x&= xA(x) +2xB(x),\\\\\n",
    "B(x)-x&= xA(x)+xB(x).\\\\\n",
    "\\end{cases}\n",
    "$$\n",
    "In the above script we solve this sytem of equations."
   ]
  },
  {
   "cell_type": "code",
   "execution_count": 8,
   "metadata": {},
   "outputs": [
    {
     "name": "stdout",
     "output_type": "stream",
     "text": [
      "{B: -x/(x**2 + 2*x - 1), A: -x*(x + 1)/(x**2 + 2*x - 1)}\n",
      "A(x) = x + 3*x**2 + 7*x**3 + 17*x**4 + 41*x**5 + 99*x**6 + 239*x**7 + 577*x**8 + 1393*x**9 + O(x**10)\n",
      "B(x) = x + 2*x**2 + 5*x**3 + 12*x**4 + 29*x**5 + 70*x**6 + 169*x**7 + 408*x**8 + 985*x**9 + O(x**10)\n",
      "[1, 3, 7, 17, 41, 99, 239, 577, 1393, 3363, 8119, 19601, 47321, 114243, 275807, 665857, 1607521, 3880899, 9369319, 22619537]\n"
     ]
    }
   ],
   "source": [
    "#---- Question 2\n",
    "# We solve the system\n",
    "var('A B x')\n",
    "Solutions=solve([A-x-x*A-2*x*B,B-x-x*A-x*B],[A,B])\n",
    "print(Solutions)\n",
    "# We obtain the following expression:\n",
    "FunctionA=-x*(x + 1)/(x**2 + 2*x - 1)\n",
    "FunctionB=-x/(x**2 + 2*x - 1)\n",
    "print(\"A(x) = \"+str(FunctionA.series(x,0,10)))\n",
    "print(\"B(x) = \"+str(FunctionB.series(x,0,10)))\n",
    "\n",
    "# We extract a_1,a_2,...\n",
    "N=20\n",
    "\n",
    "A_truncated = FunctionA.series(x,0,N+2)\n",
    "FirstCoefficients= [A_truncated.coeff(x**n) for n in range(1,N+1)] \n",
    "print(FirstCoefficients)\n"
   ]
  },
  {
   "cell_type": "markdown",
   "metadata": {},
   "source": [
    "<a id=\"Catalan\"></a>\n",
    "### Exercise 4.  Binary trees with generating functions"
   ]
  },
  {
   "cell_type": "markdown",
   "metadata": {},
   "source": [
    "A <i>binary tree</i> is a tree in which every internal node (in grey in above pictures) has exactly two children. Leaves (in green) have no children. The **size** of a binary tree is its number of internal nodes. There is one binary tree of size $1$, and two binary trees of size $2$, five binary trees of size $3$:\n",
    "<br>\n",
    "<img src=\"./figures/BinaryTree.jpg\" alt=\"Roots\" style=\"width: 700px;\"/>\n",
    "\n",
    "Let $t_n$ be the number of ternary trees of size $n$, by convention we put $t_0=1$ (this corresponds to a leaf without any internal node). We will use generating function to compute values of $t_n$, we have\n",
    "$$\n",
    "t_0=1,t_1=1,t_2=2,t_3=5.\n",
    "$$\n",
    "<br>\n",
    "Set\n",
    "$$\n",
    "T(z)=\\sum_{n\\geq 0}t_n z^n.\n",
    "$$"
   ]
  },
  {
   "cell_type": "markdown",
   "metadata": {},
   "source": [
    "<div markdown=1 class=\"DoIt\"> \n",
    "1. Justify that for every $n\\geq 1$\n",
    "$$\n",
    "t_n = \\sum_{\\substack{n_1,n_2 \\geq 0\\\\ n_1+n_2=n-1}} t_{n_1}t_{n_2}.\n",
    "$$\n",
    "<i>For example</i>\n",
    "$$\n",
    "t_3=t_2t_0+t_1t_1+t_0t_2=2\\times 1 + 1\\times 1+ 1\\times 2=5,\n",
    "$$\n",
    "as expected. We already met this recurrence in Lab Arithmetic 2: the $t_n$'s are the Catalan numbers."
   ]
  },
  {
   "cell_type": "markdown",
   "metadata": {},
   "source": [
    "<div markdown=1 class=\"Answers\"> \n",
    "1. If $n\\geq 1$, every binary tree $T$ of size $n$ can be decomposed into two subtrees $T_1,T_2$ (the two trees attached to the root of $T$) of sizes $n_1,n_2$ where $n_1+n_2=n-1$ (the root is not counted). This decomposition is one-to-one, here is an example:\n",
    "\n",
    "<img src=\"./figures/BinaryTreeProof.jpg\" alt=\"Roots\" style=\"width: 700px;\"/>\n",
    "\n",
    "Hence we have a one-to-one mapping\n",
    "$$\n",
    "\\begin{array}{ c c c }\n",
    "\\{\\text{ trees $T$ of size $n$}\\} & \\to & \\{(n_1,n_2,T_1,T_2), \\text{ where }n_1+n_2=n-1\\}.\n",
    "\\end{array}\n",
    "$$\n",
    "<!--2. We have that\n",
    "\\begin{align*}\n",
    "T(z)&= \\sum_{n\\geq 0} t_n z^n\\\\\n",
    "&= 1+ \\sum_{n\\geq 1} t_n z^n\\\\\n",
    "&= 1+ \\sum_{n\\geq 1} \\left(\\sum_{\\substack{n_1,n_2 \\geq 0\\\\ n_1+n_2=n-1}} t_{n_1}t_{n_2} \\right) z^n\\\\\n",
    "&= 1+ \\sum_{n\\geq 1} z\\left(\\sum_{\\substack{n_1,n_2 \\geq 0\\\\ n_1+n_2=n-1}} t_{n_1}z^{n_1}t_{n_2}z^{n_2} \\right)\\qquad (\\text{recall }z^n=z^{n_1+n_2+1})\\\\\n",
    "&= 1+ z \\left(\\sum_{\\ell\\geq 0} t_\\ell z^\\ell\\right)^2=1+zT(z)^2.\n",
    "\\end{align*}-->"
   ]
  },
  {
   "cell_type": "markdown",
   "metadata": {},
   "source": [
    "We have seen in class that $T(z)$ is a solution of the following algebraic equation of degree $2$: \n",
    "\\begin{equation}\n",
    "T(z)=1+zT(z)^2. \\tag{$\\star$} \n",
    "\\end{equation}\n",
    "(In this equation, $T(z)$ is the unknown and $z$ is a parameter.)"
   ]
  },
  {
   "cell_type": "markdown",
   "metadata": {},
   "source": [
    "<div markdown=1 class=\"DoIt\"> \n",
    "1. Use `SymPy` to solve equation ($\\star$), and deduce a formula for $T(z)$. (Export your results in $\\texttt{LateX}$ and explain what your script computes.)<br>\n",
    "2. Write a script which uses the generating function $T$ to compute $t_1,t_2,\\dots,t_{20}$."
   ]
  },
  {
   "cell_type": "code",
   "execution_count": 9,
   "metadata": {},
   "outputs": [
    {
     "name": "stdout",
     "output_type": "stream",
     "text": [
      "The two solutions are: [(-sqrt(-4*z + 1) + 1)/(2*z), (sqrt(-4*z + 1) + 1)/(2*z)]\n",
      "Solution 1= (-sqrt(-4*z + 1) + 1)/(2*z)\n",
      "Solution 2= (sqrt(-4*z + 1) + 1)/(2*z)\n"
     ]
    }
   ],
   "source": [
    "# This scripts finds the 2 solution of Equation \"star\"\n",
    "\n",
    "z=symbols('z')\n",
    "t=symbols('t')\n",
    "#T= Function('T')\n",
    "SeriesT=solve(t-1-z*t**2,t)\n",
    "print('The two solutions are: '+str(SeriesT))\n",
    "\n",
    "Sol1=SeriesT[0]\n",
    "print('Solution 1= '+str(Sol1))\n",
    "Sol2=SeriesT[1]\n",
    "print('Solution 2= '+str(Sol2))\n"
   ]
  },
  {
   "cell_type": "code",
   "execution_count": 10,
   "metadata": {},
   "outputs": [
    {
     "name": "stdout",
     "output_type": "stream",
     "text": [
      "series expansion of Solution 1 at 0 and of order 8 is: 1 + z + 2*z**2 + 5*z**3 + 14*z**4 + O(z**5)\n",
      "series expansion of Solution 2 at 0 and of order 8 is: 1/z - 1 - z - 2*z**2 - 5*z**3 - 14*z**4 + O(z**5)\n"
     ]
    }
   ],
   "source": [
    "# In order to find out which solution is the right one, we compute the first terms\n",
    "\n",
    "print('series expansion of Solution 1 at 0 and of order 8 is: '+str(simplify(Sol1.series(z,0,5))))\n",
    "print('series expansion of Solution 2 at 0 and of order 8 is: '+str(simplify(Sol2.series(z,0,5))))\n",
    "\n",
    "\n",
    "# Only Solution 1 has positive coefficient\n",
    "\n",
    "T=Sol1\n"
   ]
  },
  {
   "cell_type": "markdown",
   "metadata": {},
   "source": [
    "<div markdown=1 class=\"Answers\"> \n",
    "Equation $(\\star)$ has two solutions (denoted by `Sol1` and `Sol2` in the above script). Only `Sol1` has positive coefficients, so the right solution for $T(z)$ is \n",
    "$$\n",
    "\\frac{1-\\sqrt{1-4z}}{2z}.\n",
    "$$"
   ]
  },
  {
   "cell_type": "code",
   "execution_count": 11,
   "metadata": {},
   "outputs": [
    {
     "name": "stdout",
     "output_type": "stream",
     "text": [
      "Truncation of T is 1 + z + 2*z**2 + 5*z**3 + 14*z**4 + 42*z**5 + 132*z**6 + 429*z**7 + 1430*z**8 + 4862*z**9 + 16796*z**10 + 58786*z**11 + 208012*z**12 + 742900*z**13 + 2674440*z**14 + 9694845*z**15 + 35357670*z**16 + 129644790*z**17 + 477638700*z**18 + 1767263190*z**19 + 6564120420*z**20 + 24466267020*z**21 + O(z**22)\n",
      "[1, 2, 5, 14, 42, 132, 429, 1430, 4862, 16796, 58786, 208012, 742900, 2674440, 9694845, 35357670, 129644790, 477638700, 1767263190, 6564120420]\n"
     ]
    }
   ],
   "source": [
    "# We extract coefficient\n",
    "\n",
    "N=20\n",
    "\n",
    "T_truncated = T.series(z,0,N+2)\n",
    "print('Truncation of T is '+str(T_truncated))\n",
    "\n",
    "FirstCoefficients= [T_truncated.coeff(z**n) for n in range(1,N+1)] \n",
    "print(FirstCoefficients)\n"
   ]
  },
  {
   "cell_type": "code",
   "execution_count": null,
   "metadata": {},
   "outputs": [],
   "source": []
  }
 ],
 "metadata": {
  "kernelspec": {
   "display_name": "Python 3",
   "language": "python",
   "name": "python3"
  },
  "language_info": {
   "codemirror_mode": {
    "name": "ipython",
    "version": 3
   },
   "file_extension": ".py",
   "mimetype": "text/x-python",
   "name": "python",
   "nbconvert_exporter": "python",
   "pygments_lexer": "ipython3",
   "version": "3.7.0"
  }
 },
 "nbformat": 4,
 "nbformat_minor": 2
}
