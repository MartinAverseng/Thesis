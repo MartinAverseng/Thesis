{
 "cells": [
  {
   "cell_type": "markdown",
   "metadata": {},
   "source": [
    "<img src='./figures/logo-ecole-polytechnique-ve.jpg' style='position:absolute; top:0; right:0;' width='100px' height='' alt='' />\n",
    "\n",
    "<center>**Bachelor of Ecole Polytechnique**</center>\n",
    "<center>Computational Mathematics, year 2, semester 1</center>\n",
    "<center>Lecturer: Lucas Gerin <a href=\"mailto:lucas.gerin@polytechnique.edu\">(send mail)</a></center>\n",
    "\n",
    "# Combinatorics 2: Combinatorial probabilities\n"
   ]
  },
  {
   "cell_type": "markdown",
   "metadata": {},
   "source": [
    "## Table of contents\n",
    "\n",
    "- [Optimal network](#network)\n",
    "- [The birthday paradox](#birthday)\n",
    "- [Coincidences](#coincidence)\n"
   ]
  },
  {
   "cell_type": "code",
   "execution_count": 2,
   "metadata": {},
   "outputs": [
    {
     "data": {
      "text/html": [
       "<link href='http://fonts.googleapis.com/css?family=Fenix' rel='stylesheet' type='text/css'>\n",
       "<link href='http://fonts.googleapis.com/css?family=Alegreya+Sans:100,300,400,500,700,800,900,100italic,300italic,400italic,500italic,700italic,800italic,900italic' rel='stylesheet' type='text/css'>\n",
       "<link href='http://fonts.googleapis.com/css?family=Source+Code+Pro:300,400' rel='stylesheet' type='text/css'>\n",
       "<link href=\"https://fonts.googleapis.com/css?family=Oswald|Raleway\" rel=\"stylesheet\" type='text/css'> \n",
       "<style>\n",
       ".prompt{\n",
       "    display: none !important;\n",
       "}\n",
       "\n",
       ".rendered_html pre {\n",
       "    border: 1px solid #f0f6f9 !important;\n",
       "}\n",
       "\n",
       ".rendered_html pre, .rendered_html code {\n",
       "    background-color: #d3d8db !important;\n",
       "    padding: 1% !important;\n",
       "    line-height: 200% !important;\n",
       "    border-radius: 10px !important;\n",
       "}\n",
       "\n",
       "div.input_area {\n",
       "    border-radius: 10px !important;\n",
       "    background-color: #e1e1e6 !important;\n",
       "}\n",
       "\n",
       "div.cell{\n",
       "        width:85% !important;\n",
       "        margin-left:5% !important;\n",
       "        /*margin-right:auto;*/\n",
       "    }\n",
       "    h1, h2, h3, h4, h5 {\n",
       "        font-family: 'Oswald', sans-serif; !important;\n",
       "        font-style: oblique !important;\n",
       "    }\n",
       "    div.text_cell_render{\n",
       "        font-family: 'Raleway', sans-serif; !important;\n",
       "        line-height: 135% !important;\n",
       "        font-size: 120% !important;\n",
       "        width:100%;/*600px;*/\n",
       "        /*margin-left:auto;*/\n",
       "        /*margin-right:auto;*/\n",
       "    }\n",
       "    .CodeMirror{\n",
       "            font-family: \"Source Code Pro\" !important;\n",
       "\t\t\tfont-size: 100% !important;\n",
       "    }\n",
       "    .text_cell_render p{\n",
       "        text-align: justify !important;\n",
       "    }\n",
       "    .text_cell_render h1 {\n",
       "        font-weight: 200 !important;\n",
       "\t\tline-height: 100% !important;\n",
       "        color:#47597A !important;\n",
       "        margin-bottom: 10.em !important;\n",
       "        margin-top: 50.em !important;\n",
       "        padding-bottom: 50.em !important;\n",
       "        padding-top: 50.em !important;\n",
       "        display: block !important;\n",
       "        font-size: 300% !important;\n",
       "        text-align: center !important;\n",
       "        border-bottom: 1px solid #47597A !important;\n",
       "        border-top: 1px solid #47597A !important;\n",
       "    }\n",
       "    .text_cell_render h2 {\n",
       "        font-weight: 200 !important;\n",
       "\tline-height: 100% !important;\n",
       "        color:#47597A !important;\n",
       "        margin-bottom: 0.5em !important;\n",
       "        margin-top: 0.5em !important;\n",
       "        display: block !important;\n",
       "        font-size: 200% !important;\n",
       "        border-bottom: 1px solid #47597A !important;\n",
       "    }\n",
       "    .text_cell_render h3 {\n",
       "        font-weight: 200 !important;\n",
       "\tline-height: 100% !important;\n",
       "        color:#47597A !important;\n",
       "        margin-bottom: 0.5em !important;\n",
       "        margin-top: 0.5em !important;\n",
       "        display: block !important;\n",
       "        font-size: 150% !important;\n",
       "    }\n",
       "    .text_cell_render h4 {\n",
       "        font-style: italic !important;\n",
       "        font-weight: bold !important;\n",
       "\tline-height: 100% !important;\n",
       "        color:#47597A !important;\n",
       "        display: block !important;\n",
       "        font-size: 100% !important;\n",
       "    }\n",
       "    .text_cell_render h5 {\n",
       "        font-weight: 200 !important;\n",
       "\tline-height: 100% !important;\n",
       "        color:#47597A !important;\n",
       "        margin-bottom: 0.5em !important;\n",
       "        margin-top: 0.5em !important;\n",
       "        display: block !important;\n",
       "        font-size: 100% !important;\n",
       "    }\n",
       "    .text_cell_render ul {\n",
       "\tlist-style-type: disc !important;\n",
       "\tline-height: 2;\n",
       "\t/*color:#47597A !important;*/\n",
       "    }\n",
       "    .warning{\n",
       "        color: rgb( 240, 20, 20 ) !important;\n",
       "        }\n",
       "    .Abstract {  \n",
       "\ttext-align: justify;\n",
       "\tbackground-color: #d6edf9;\n",
       "\tborder-left: 5px solid #47597A;\n",
       "\tpadding: 0.5em;\n",
       "\tmargin: 0  150px 0 150px;\n",
       "    }\n",
       "    .Def {    \n",
       "\tbackground-color: #d9f7d7;\n",
       "\tborder-left: 5px solid #4a7047;\n",
       "\tpadding: 0.5em;\n",
       "    }\n",
       "    .Def:before {\n",
       "\tcontent: \"Definition.\";\n",
       "\tcolor:#4a7047;\n",
       "\tfont-weight: bold;\n",
       "\tfont-style: normal;\n",
       "    }\n",
       "    .DoIt {    \n",
       "\tbackground-color: #e8cfc9;\n",
       "\tborder-left: 5px solid #a90e05;\n",
       "\tpadding: 0.5em;\n",
       "    }\n",
       "    .DoIt:before {\n",
       "\tcontent: \"Do it yourself.\";\n",
       "\tcolor:#a90e05;\n",
       "\tfont-weight: bold;\n",
       "\tfont-style: normal;\n",
       "    }\n",
       "    .Answers {    \n",
       "\tbackground-color: #DDA0DD;\n",
       "\tborder-left: 5px solid #9932CC;\n",
       "\tpadding: 0.5em;\n",
       "    }\n",
       "    .Answers:before {\n",
       "\tcontent: \"Answers.\";\n",
       "\tcolor:#682145;\n",
       "\tfont-weight: bold;\n",
       "\tfont-style: normal;\n",
       "    }\n",
       "    .Prop {    \n",
       "\tbackground-color:#f9ecd1;\n",
       "\tborder-left: 5px solid #ba7021;\n",
       "\tpadding: 0.5em;\n",
       "    }\n",
       "   .Prop:before {\n",
       "       content: \"Proposition.\";\n",
       "       color:#ba7021;\n",
       "       font-weight: bold;\n",
       "       font-style: normal;\n",
       "    }\n",
       "   .Thm {    \n",
       "\tbackground-color:#f9ecd1;\n",
       "\tborder-left: 5px solid #ba7021;\n",
       "\tpadding: 0.5em;\n",
       "    }\n",
       "   .Thm:before {\n",
       "       content: \"Theorem.\";\n",
       "       color:#ba7021;\n",
       "       font-weight: bold;\n",
       "       font-style: normal;\n",
       "    } \n",
       "   .Algo {    \n",
       "\tbackground-color:#f9ecd1;\n",
       "\tborder-left: 5px solid #ba7021;\n",
       "\tpadding: 0.5em;\n",
       "    }\n",
       "   .Algo:before {\n",
       "       content: \"Algorithm.\";\n",
       "       color:#ba7021;\n",
       "       font-weight: bold;\n",
       "       font-style: normal;\n",
       "    }\n",
       "    .Rmk {    \n",
       "\tbackground-color: #dbf1fc;\n",
       "\tborder-left: 5px solid #385487;\n",
       "\tpadding: 0.5em;\n",
       "    }\n",
       "    .Rmk:before {\n",
       "\tcontent: \"Remark.\";\n",
       "\tcolor:#385487;\n",
       "\tfont-weight: bold;\n",
       "\tfont-style: normal;\n",
       "    }\n",
       "    .Ex {    \n",
       "\tbackground-color: #dbf1fc;\n",
       "\tborder-left: 5px solid #385487;\n",
       "\tpadding: 0.5em;\n",
       "    }\n",
       "    .Ex:before {\n",
       "\tcontent: \"Example.\";\n",
       "\tcolor:#385487;\n",
       "\tfont-weight: bold;\n",
       "\tfont-style: normal;\n",
       "    }\n",
       "\n",
       "/*    .toc-item-num {\n",
       "#        display: none;\n",
       "#    }\n",
       "*/\n",
       "    .reveal section img{\n",
       "        margin: 0px auto;\n",
       "    }\n",
       "\n",
       "    div.output_area img{\n",
       "        display: block;\n",
       "        margin: 0px auto;\n",
       "    }\n",
       "  \n",
       "</style>\n",
       "\n",
       "<script>\n",
       "MathJax.Hub.Config({\n",
       "TeX: {extensions: [\"AMSmath.js\"] },\n",
       "                tex2jax: {\n",
       "                    inlineMath: [ ['$','$'], [\"\\\\(\",\"\\\\)\"] ],\n",
       "                    displayMath: [ ['$$','$$'], [\"\\\\[\",\"\\\\]\"] ]\n",
       "                },\n",
       "                displayAlign: 'center', // Change this to 'center' to center equations.\n",
       "                \"HTML-CSS\": {\n",
       "                    styles: {'.MathJax_Display': {\"margin\": 4}}\n",
       "                }\n",
       "        });\n",
       "\n",
       "\n",
       "\n",
       "</script>\n"
      ],
      "text/plain": [
       "<IPython.core.display.HTML object>"
      ]
     },
     "execution_count": 2,
     "metadata": {},
     "output_type": "execute_result"
    }
   ],
   "source": [
    "# execute this part to modify the css style\n",
    "from IPython.core.display import HTML\n",
    "def css_styling():\n",
    "    styles = open(\"./style/custom2.css\").read()\n",
    "    return HTML(styles)\n",
    "css_styling()"
   ]
  },
  {
   "cell_type": "code",
   "execution_count": 3,
   "metadata": {},
   "outputs": [],
   "source": [
    "## loading python libraries\n",
    "\n",
    "# necessary to display plots inline:\n",
    "%matplotlib inline   \n",
    "\n",
    "# load the libraries\n",
    "import matplotlib.pyplot as plt # 2D plotting library\n",
    "import numpy as np              # package for scientific computing  \n",
    "\n",
    "from math import *              # package for mathematics (pi, arctan, sqrt, factorial ...)"
   ]
  },
  {
   "cell_type": "markdown",
   "metadata": {},
   "source": [
    "<a id=\"network\"></a>\n",
    "### Exercise 1. Optimal network"
   ]
  },
  {
   "cell_type": "markdown",
   "metadata": {},
   "source": [
    "<i>(This exercise is the numerical illustration of an Exercise of \"Discrete Mathematics\" in Bachelor 1.)</i>\n",
    "\n",
    "We study a network of $10$ roads joining cities $A,B,C$. The network $N_k$  ($1\\leq k\\leq 9$) consists of $k$ roads $A\\to B$, and $10-k$ roads $B\\to C$, here is an example for $n=4$: \n",
    "\n",
    "<img src=\"figures/Network_k4.jpg\" style=\"width: 350px;\"/>\n",
    "\n",
    "We assume that in Winter each road is independently closed (blocked by snow) with probability $p$. We ask for the \"optimal\" network, in the following sense: choose $k$ so that\n",
    "$$\n",
    "p\\mapsto g_k(p)=\\mathbb{P}(\\text{ there exists an open path $A\\to B\\to C$ in network }N_k)\n",
    "$$\n",
    "is maximized."
   ]
  },
  {
   "cell_type": "markdown",
   "metadata": {},
   "source": [
    "<div markdown=1 class=\"DoIt\">\n",
    "Find the formula for $\\mathbb{P}(\\text{ there exists an open path }A\\to B)$, and deduce the formula for $g_k(p)$."
   ]
  },
  {
   "cell_type": "markdown",
   "metadata": {},
   "source": [
    "<div markdown=1 class=\"Answers\"> \n",
    "By independence we have\n",
    "$$\n",
    "g_k(p)=\\mathbb{P}(\\text{ there exists an open path }A\\to B) \\times \\mathbb{P}(\\text{ there exists an open path }B\\to C)\n",
    "$$\n",
    "We have $\\{A \\to B\\}$ unless the $k$ paths from $A$ to $B$ are all closed, hence\n",
    "$$\n",
    "\\mathbb{P}(\\text{ there exists an open path }A\\to B)=1-(1-p)^k.\n",
    "$$\n",
    "Finally,\n",
    "$$\n",
    "g_k(p)=(1-(1-p)^k)\\times (1-(1-p)^{10-k}).\n",
    "$$\n",
    "\n",
    "One can check that for every $p$ we have $g_k=g_{10-k}$. (By the way, why is this obvious?)."
   ]
  },
  {
   "cell_type": "markdown",
   "metadata": {},
   "source": [
    "<div markdown=1 class=\"DoIt\"> \n",
    "Write a short program which plots $g_1,g_2,\\dots,g_5$ on the same figure."
   ]
  },
  {
   "cell_type": "code",
   "execution_count": 8,
   "metadata": {},
   "outputs": [
    {
     "data": {
      "image/png": "[encoded data removed]",
      "text/plain": [
       "<Figure size 432x288 with 1 Axes>"
      ]
     },
     "metadata": {},
     "output_type": "display_data"
    }
   ],
   "source": [
    "RangeOf_p=np.arange(0,1,0.01)\n",
    "for k in range(1,6):\n",
    "    g=[(1-(1-p)**k)*(1-(1-p)**(10-k)) for p in RangeOf_p]\n",
    "    plt.plot(RangeOf_p,g,label='$k$='+str(k)+' ')\n",
    "    \n",
    "plt.xlabel('Probability $p$'),plt.ylabel('Probability of being open')\n",
    "plt.legend()\n",
    "plt.title('Reliability of networks')\n",
    "plt.show()"
   ]
  },
  {
   "cell_type": "markdown",
   "metadata": {},
   "source": [
    "<div markdown=1 class=\"DoIt\"> \n",
    "Conclude: for a fixed $p$, what is the most reliable network?"
   ]
  },
  {
   "cell_type": "markdown",
   "metadata": {},
   "source": [
    "<div markdown=1 class=\"Answers\"> According to the above script, $N_5$ is the most reliable network, no matter the value of $p$."
   ]
  },
  {
   "cell_type": "markdown",
   "metadata": {},
   "source": [
    "<a id=\"birthday\"></a>\n",
    "\n",
    "### Exercise 2. The birthday paradox\n",
    "\n",
    "<img src=\"figures/Birthday.png\" alt=\"vanderWaals\" style=\"width: 200px;\"/>\n",
    " "
   ]
  },
  {
   "cell_type": "markdown",
   "metadata": {},
   "source": [
    "We consider the following problem. Consider a group of $n\\geq 2$ people, we assume that their birthdays $X_1,\\dots,X_n$ are uniformly distributed in $\\{1,2,\\dots,k\\}$, with $k=365$. The <i>birthday paradox</i> asks for the probability of the event\n",
    "\n",
    "$$\n",
    "E_{n,k} =\\{ \\text{ there exist }i\\neq j, 1\\leq i,j \\leq n; X_i=X_j\\}.\n",
    "$$\n",
    "\n",
    "Obviously we have that $\\mathbb{P}(E_{n,365})=1$ as soon as $n\\geq 365$. The so-called <i>paradox</i> is that a high probability is reached for quite small values of $n$."
   ]
  },
  {
   "cell_type": "markdown",
   "metadata": {},
   "source": [
    "<div markdown=1 class=\"DoIt\"> Let $F_{n,k}$ be the complementary event of $E_{n,k}$.\n",
    "\n",
    "1. Compute $\\mathbb{P}(F_{1,k})$ and $\\mathbb{P}(F_{2,k})$. (Justify carefully your answer for $F_{2,k}$.)\n",
    "2. Compute\n",
    "$$\n",
    "\\mathbb{P}(F_{n,k}|\\ F_{n-1,k}),\n",
    "$$\n",
    "and deduce the formulas for $\\mathbb{P}(F_{n,k}), \\mathbb{P}(E_{n,k})$."
   ]
  },
  {
   "cell_type": "markdown",
   "metadata": {},
   "source": [
    "<div markdown=1 class=\"Answers\"> \n",
    "1. We obviously have $\\mathbb{P}(F_{1,k})=1$.\n",
    "\n",
    "One writes\n",
    "\\begin{align*}\n",
    "\\mathbb{P}(F_{2,k})&=\\mathbb{P}(X_1\\neq X_2)\\\\\n",
    "&=\\sum_{i=1}^k \\mathbb{P}(X_1=i,X_1\\neq X_2)\\qquad \\text{(law of total probabilities)}\\\\\n",
    "&=\\sum_{i=1}^k \\mathbb{P}(X_1=i,X_2\\neq i)\\\\\n",
    "&=\\sum_{i=1}^k \\mathbb{P}(X_1=i)\\mathbb{P}(X_2\\neq i)\\qquad \\text{(independence)}\\\\\n",
    "&=\\sum_{i=1}^k \\frac{1}{k} \\frac{k-1}{k}=\\frac{k-1}{k}\\qquad \\text{(the sum does not depend on $i$)}.\n",
    "\\end{align*}\n",
    "Therefore $\\mathbb{P}(F_{2,k})=(k-1)/k$.\n",
    "2. If the event $F_{n-1,k}$ occurs then all the $X_i$'s are distinct up to $i=n-1$. Then $F_{n,k}$ occurs if and only if $X_n$ takes one of the $k-(n-1)$ remaining values:\n",
    "$$\n",
    "\\mathbb{P}(F_{n,k}|\\ F_{n-1,k})= \\frac{k-(n-1)}{k}.\n",
    "$$\n",
    "By induction we easily obtain that\n",
    "$$\n",
    "\\mathbb{P}(F_{n,k})=\\frac{k}{k}\\times \\frac{k-1}{k}\\times \\frac{k-2}{k} \\times \\dots \\times \\frac{k-(n-1)}{k}.\n",
    "$$\n",
    "and $\\mathbb{P}(E_{n,k})=1-\\mathbb{P}(F_{n,k})$."
   ]
  },
  {
   "cell_type": "markdown",
   "metadata": {},
   "source": [
    "<div markdown=1 class=\"DoIt\"> Write a function that takes $n,k$ as inputs and returns $\\mathbb{P}(E_{n,k})$."
   ]
  },
  {
   "cell_type": "code",
   "execution_count": 11,
   "metadata": {},
   "outputs": [
    {
     "name": "stdout",
     "output_type": "stream",
     "text": [
      "For n=8, two identical birthdays with probability 0.0743352923517\n"
     ]
    }
   ],
   "source": [
    "def TwoIdenticalBirthdays(n,k):\n",
    "    # returns the probability P(E_{n,k})\n",
    "    Vector=np.arange(k-n+1,k+1) # computes [k-n+1,...,k]\n",
    "    Quotient=Vector/(k+0.0) # '+0.0' forces the float division\n",
    "    Product= np.prod(Quotient)\n",
    "    return 1-Product\n",
    "\n",
    "# Test : (for n=8,k=365 this should return 0.0743...)\n",
    "print('For n=8, two identical birthdays with probability '+str(TwoIdenticalBirthdays(8,365)))\n"
   ]
  },
  {
   "cell_type": "markdown",
   "metadata": {},
   "source": [
    "<div markdown=1 class=\"DoIt\"> \n",
    "1. Plot $n\\mapsto \\mathbb{P}(E_{n,365})$ for $n=2$ to $n=100$.\n",
    "2. Find the smallest $n$ such that $\\mathbb{P}(E_{n,365})\\geq 0.95$."
   ]
  },
  {
   "cell_type": "code",
   "execution_count": 21,
   "metadata": {},
   "outputs": [
    {
     "data": {
      "image/png": "[encoded data removed]",
      "text/plain": [
       "<matplotlib.figure.Figure at 0x5116b10>"
      ]
     },
     "metadata": {},
     "output_type": "display_data"
    },
    {
     "name": "stdout",
     "output_type": "stream",
     "text": [
      "-----------------\n",
      "Question 2\n",
      "For n = 47, more than 0.95% chance\n",
      "-----------------\n"
     ]
    }
   ],
   "source": [
    "# Question 1\n",
    "BirthdayParadox = [TwoIdenticalBirthdays(n,365) for n in range(2,100,3)]\n",
    "plt.plot(range(2,100,3),BirthdayParadox,'o-')\n",
    "plt.xlabel('Size $n$ of the group'),plt.ylabel('Probability')\n",
    "plt.title('Probability in the birthday paradox')\n",
    "plt.show()\n",
    "\n",
    "# Question 2\n",
    "\n",
    "BirthdayParadox = [TwoIdenticalBirthdays(n,365) for n in range(1,100)]\n",
    "i=1\n",
    "while BirthdayParadox[i]<0.95:\n",
    "    i=i+1\n",
    "print('-----------------')\n",
    "print('Question 2')\n",
    "print('For n = '+str(i+1)+', more than 0.95% chance')\n",
    "print('-----------------')\n",
    "\n",
    "\n"
   ]
  },
  {
   "cell_type": "markdown",
   "metadata": {},
   "source": [
    "<a id=\"coincidence\"></a>\n",
    "\n",
    "### Exercise 3. The lottery coincidence\n",
    "\n",
    "<i>(Inspired by <a href=\"https://www4.stat.ncsu.edu/~stefanski/NC%20Lottery%20Coincidence.pdf\">The North-Carolina Lottery Coincidence (Leonard Stefanski)</a>.)</i>\n",
    "\n",
    "<!--<i>(Inspired by <a href=\"http://www.jordanellenberg.com/how-not-to-be-wrong/\">How Not to Be Wrong (Jordan Ellenberg), Penguin Group Press (2014)</a>.)</i>\n",
    "-->\n",
    "\n",
    "On July 9th, 2007, the North Carolina Cash 5 lottery numbers came up $4$, $21$, $23$, $34$, $39$. Two days later (the lottery runs every day), the same five numbers came up again. This seems very unlikely, the aim of this exercise is to show that this is less extraordinary than expected as first sight.\n",
    "\n",
    "The rules of Cash 5 are the following: every day five distinct numbers are picked uniformly (order does not matter) between $1$ and $39$. More formally, at each drawing we are given a random variable $X$ uniform in the set $C_5$, where $C_5$ is the set of all the $\\binom{39}{5}=575757$ combinations.\n",
    "\n",
    "As a warm-up we will first estimate the probability that the same combination is picked twice in two days (instead of twice in three days)."
   ]
  },
  {
   "cell_type": "markdown",
   "metadata": {},
   "source": [
    "<div markdown=1 class=\"DoIt\"> \n",
    "Let $X_1,X_2,\\dots $ be a sequence of independent random variables uniform in $C_5$. \n",
    "Put $k=\\mathrm{card}(C_5)=\\binom{39}{5}$.<br>\n",
    "Let $A_n$ denote the event\n",
    "\n",
    "$$\n",
    "A_n=\\{X_n\\neq X_{n+1}\\}.\n",
    "$$\n",
    "\n",
    "1. Compute $\\mathbb{P}(A_1)$.\n",
    "\n",
    "2. Compute\n",
    "$$\n",
    "\\mathbb{P}\\left(A_{n-1} |\\ A_{1}\\cap A_2\\cap \\dots \\cap A_{n-2}\\right).\n",
    "$$\n",
    "\n",
    "3. Let $n\\geq 2$, compute the probability $p_n$ that in $n$ days there are no two consecutive drawings which are identical.\n"
   ]
  },
  {
   "cell_type": "markdown",
   "metadata": {},
   "source": [
    "<div markdown=1 class=\"Answers\"> \n",
    "1. This is the birthday paradox with $n=1$, $\\mathbb{P}(A_1)=\\frac{k-1}{k}$.\n",
    "2. Assume that the event $A_1,A_2,\\dots,A_{n-2}$ occur. The same reasoning as above shows that, no matter the values of $X_1,\\dots,X_{n-1}$, we have that $A_{n-1}=\\{X_{n-1}\\neq X_n\\}$ with probability $(k-1)/k$.\n",
    "3. We have that\n",
    "$$\n",
    "p_{n}= \\mathbb{P}\\left(A_1 \\text{ and } A_2 \\text{ and } A_3 \\text{ and }  \\dots A_{n-1}\\right).\n",
    "$$\n",
    "By induction\n",
    "$$\n",
    "p_n=\\left((k-1)/k\\right)^{n-1}.\n",
    "$$"
   ]
  },
  {
   "cell_type": "markdown",
   "metadata": {},
   "source": [
    "<div markdown=1 class=\"DoIt\"> \n",
    "\n",
    "In the cell below, write a function `NotTwoConsecutiveIdenticalDrawings(n)` which takes $n$ as input and returns $p_n$."
   ]
  },
  {
   "cell_type": "code",
   "execution_count": 5,
   "metadata": {},
   "outputs": [
    {
     "data": {
      "text/plain": [
       "0.9827832155669857"
      ]
     },
     "execution_count": 5,
     "metadata": {},
     "output_type": "execute_result"
    }
   ],
   "source": [
    "k=575757+0.0 # Number of combinations\n",
    "def NotTwoConsecutiveIdenticalDrawings(n):\n",
    "    # returns the probability p_n\n",
    "    return (1-1/k)**(n-1)\n",
    "\n",
    "# Test: for n=10000 this should return 0.98278...\n",
    "NotTwoConsecutiveIdenticalDrawings(10000)                                        \n",
    "    "
   ]
  },
  {
   "cell_type": "markdown",
   "metadata": {},
   "source": [
    "Fine, this is indeed very small as long as, say, $n\\leq 10000$ (about $10$ years of daily lotteries).\n",
    "\n",
    "We now turn to the actual lottery problem: estimating the probability that there is the same drawing twice in three days.\n"
   ]
  },
  {
   "cell_type": "markdown",
   "metadata": {},
   "source": [
    "<div markdown=1 class=\"DoIt\"> \n",
    "Let $B_n$ denote the event\n",
    "\n",
    "$$\n",
    "B_n=\\{X_n, X_{n+1},X_{n+2}\\text{ are all distinct}\\}.\n",
    "$$\n",
    "\n",
    "1. Write $\\mathbb{P}(B_1)$ in terms of $k=\\binom{39}{5}$.<br>\n",
    "\n",
    "2. Compute \n",
    "$$\n",
    "\\mathbb{P}\\left(B_{n-2} | B_{1}\\cap B_2\\cap \\dots \\cap B_{n-3}\\right).\n",
    "$$\n",
    "3. Deduce from above the probability $q_n$ that, in $n\\geq 3$ days, there are no twice the same drawing in three consecutive days.\n"
   ]
  },
  {
   "cell_type": "markdown",
   "metadata": {},
   "source": [
    "<div markdown=1 class=\"Answers\"> \n",
    "1. This is just the birthday paradox for $n=3$.\n",
    "2. If we know that $B_1,B_2,\\dots,B_{n-3}$ occur then, no matter the values of $X_1,X_2,\\dots,X_{n+1}$, we have that $\\{X_n, X_{n+1},X_{n+2}\\text{ are all distinct}\\}$ with probability $\\frac{k(k-1)(k-2)}{k^3}$ as well.\n",
    "3. By induction one finds\n",
    "$$\n",
    "q_{n}=\\frac{k(k-1)}{k^2}\\left(\\frac{k-2}{k}\\right)^{n-2}.\n",
    "$$"
   ]
  },
  {
   "cell_type": "code",
   "execution_count": 6,
   "metadata": {},
   "outputs": [
    {
     "data": {
      "text/plain": [
       "0.9658644972252401"
      ]
     },
     "execution_count": 6,
     "metadata": {},
     "output_type": "execute_result"
    }
   ],
   "source": [
    "k=575757+0.0\n",
    "def NotTwoIdenticalDrawingsInThreeDays(n):\n",
    "    # returns the probability q_n\n",
    "    return ((k*(k-1))/(k*k))*((k-2)/(k))**(n-2)\n",
    "\n",
    "# Test: for n=50000 this should return 0.840566...\n",
    "NotTwoIdenticalDrawingsInThreeDays(10000)                          \n",
    "    "
   ]
  },
  {
   "cell_type": "markdown",
   "metadata": {},
   "source": [
    "<div markdown=1 class=\"DoIt\"> \n",
    "Assume that lotteries similar to the Cash 5 Lottery take place $1200$ times in five years, in $50$ cities across the US.\n",
    "\n",
    "Compute the probability that for five years there is at least one lottery in which there are twice the same drawing in three consecutive days. Write the answer in terms of `NotTwoIdenticalDrawingsInThreeDays` and compute the numerical value in the cell above."
   ]
  },
  {
   "cell_type": "code",
   "execution_count": 7,
   "metadata": {},
   "outputs": [
    {
     "data": {
      "text/plain": [
       "0.18792379600682985"
      ]
     },
     "execution_count": 7,
     "metadata": {},
     "output_type": "execute_result"
    }
   ],
   "source": [
    "1-NotTwoIdenticalDrawingsInThreeDays(1200)**50                              "
   ]
  }
 ],
 "metadata": {
  "kernelspec": {
   "display_name": "Python 3",
   "language": "python",
   "name": "python3"
  },
  "language_info": {
   "codemirror_mode": {
    "name": "ipython",
    "version": 3
   },
   "file_extension": ".py",
   "mimetype": "text/x-python",
   "name": "python",
   "nbconvert_exporter": "python",
   "pygments_lexer": "ipython3",
   "version": "3.7.0"
  }
 },
 "nbformat": 4,
 "nbformat_minor": 2
}
